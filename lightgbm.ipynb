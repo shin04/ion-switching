{
  "nbformat": 4,
  "nbformat_minor": 0,
  "metadata": {
    "colab": {
      "name": "lightgbm",
      "provenance": [],
      "collapsed_sections": [],
      "machine_shape": "hm",
      "authorship_tag": "ABX9TyOAkZdqbgc4erRjBqsW7zQo",
      "include_colab_link": true
    },
    "kernelspec": {
      "name": "python3",
      "display_name": "Python 3"
    }
  },
  "cells": [
    {
      "cell_type": "markdown",
      "metadata": {
        "id": "view-in-github",
        "colab_type": "text"
      },
      "source": [
        "<a href=\"https://colab.research.google.com/github/shin04/ion-switching/blob/master/lightgbm.ipynb\" target=\"_parent\"><img src=\"https://colab.research.google.com/assets/colab-badge.svg\" alt=\"Open In Colab\"/></a>"
      ]
    },
    {
      "cell_type": "code",
      "metadata": {
        "id": "YJNHw6jrSCvs",
        "colab_type": "code",
        "outputId": "c54b176d-c634-48e1-ff7b-71c480bdd0fd",
        "colab": {
          "base_uri": "https://localhost:8080/",
          "height": 204
        }
      },
      "source": [
        "!pip install kaggle"
      ],
      "execution_count": 1,
      "outputs": [
        {
          "output_type": "stream",
          "text": [
            "Requirement already satisfied: kaggle in /usr/local/lib/python3.6/dist-packages (1.5.6)\n",
            "Requirement already satisfied: requests in /usr/local/lib/python3.6/dist-packages (from kaggle) (2.23.0)\n",
            "Requirement already satisfied: python-slugify in /usr/local/lib/python3.6/dist-packages (from kaggle) (4.0.0)\n",
            "Requirement already satisfied: urllib3<1.25,>=1.21.1 in /usr/local/lib/python3.6/dist-packages (from kaggle) (1.24.3)\n",
            "Requirement already satisfied: python-dateutil in /usr/local/lib/python3.6/dist-packages (from kaggle) (2.8.1)\n",
            "Requirement already satisfied: tqdm in /usr/local/lib/python3.6/dist-packages (from kaggle) (4.41.1)\n",
            "Requirement already satisfied: six>=1.10 in /usr/local/lib/python3.6/dist-packages (from kaggle) (1.12.0)\n",
            "Requirement already satisfied: certifi in /usr/local/lib/python3.6/dist-packages (from kaggle) (2020.4.5.1)\n",
            "Requirement already satisfied: chardet<4,>=3.0.2 in /usr/local/lib/python3.6/dist-packages (from requests->kaggle) (3.0.4)\n",
            "Requirement already satisfied: idna<3,>=2.5 in /usr/local/lib/python3.6/dist-packages (from requests->kaggle) (2.9)\n",
            "Requirement already satisfied: text-unidecode>=1.3 in /usr/local/lib/python3.6/dist-packages (from python-slugify->kaggle) (1.3)\n"
          ],
          "name": "stdout"
        }
      ]
    },
    {
      "cell_type": "code",
      "metadata": {
        "id": "VRVk22KlSPu0",
        "colab_type": "code",
        "outputId": "31c29b6a-dd6f-49c9-aafa-f4af807bc8b2",
        "colab": {
          "base_uri": "https://localhost:8080/",
          "height": 34
        }
      },
      "source": [
        "from googleapiclient.discovery import build\n",
        "import io, os\n",
        "from googleapiclient.http import MediaIoBaseDownload\n",
        "from google.colab import auth\n",
        "\n",
        "auth.authenticate_user()\n",
        "\n",
        "drive_service = build('drive', 'v3')\n",
        "results = drive_service.files().list(\n",
        "        q=\"name = 'kaggle.json'\", fields=\"files(id)\").execute()\n",
        "kaggle_api_key = results.get('files', [])\n",
        "\n",
        "filename = \"/root/.kaggle/kaggle.json\"\n",
        "os.makedirs(os.path.dirname(filename), exist_ok=True)\n",
        "\n",
        "request = drive_service.files().get_media(fileId=kaggle_api_key[0]['id'])\n",
        "fh = io.FileIO(filename, 'wb')\n",
        "downloader = MediaIoBaseDownload(fh, request)\n",
        "done = False\n",
        "while done is False:\n",
        "    status, done = downloader.next_chunk()\n",
        "    print(\"Download %d%%.\" % int(status.progress() * 100))\n",
        "os.chmod(filename, 600)"
      ],
      "execution_count": 2,
      "outputs": [
        {
          "output_type": "stream",
          "text": [
            "Download 100%.\n"
          ],
          "name": "stdout"
        }
      ]
    },
    {
      "cell_type": "code",
      "metadata": {
        "id": "M7oEMFs7SR7M",
        "colab_type": "code",
        "outputId": "4727806d-0d71-4bd3-c553-fe9a4aeb18e1",
        "colab": {
          "base_uri": "https://localhost:8080/",
          "height": 34
        }
      },
      "source": [
        "!kaggle datasets download -d cdeotte/data-without-drift"
      ],
      "execution_count": 3,
      "outputs": [
        {
          "output_type": "stream",
          "text": [
            "data-without-drift.zip: Skipping, found more recently modified local copy (use --force to force download)\n"
          ],
          "name": "stdout"
        }
      ]
    },
    {
      "cell_type": "code",
      "metadata": {
        "id": "UqLv3DkuSkXf",
        "colab_type": "code",
        "outputId": "594b832a-e469-45d1-f8da-e001155fe442",
        "colab": {
          "base_uri": "https://localhost:8080/",
          "height": 34
        }
      },
      "source": [
        "!kaggle datasets download -d sggpls/ion-shifted-rfc-proba"
      ],
      "execution_count": 4,
      "outputs": [
        {
          "output_type": "stream",
          "text": [
            "ion-shifted-rfc-proba.zip: Skipping, found more recently modified local copy (use --force to force download)\n"
          ],
          "name": "stdout"
        }
      ]
    },
    {
      "cell_type": "code",
      "metadata": {
        "id": "QA9CDVT3tAIm",
        "colab_type": "code",
        "outputId": "f9549054-b21b-4429-df54-57204b3dde93",
        "colab": {
          "base_uri": "https://localhost:8080/",
          "height": 34
        }
      },
      "source": [
        "!kaggle datasets download -d ragnar123/clean-kalman"
      ],
      "execution_count": 5,
      "outputs": [
        {
          "output_type": "stream",
          "text": [
            "clean-kalman.zip: Skipping, found more recently modified local copy (use --force to force download)\n"
          ],
          "name": "stdout"
        }
      ]
    },
    {
      "cell_type": "code",
      "metadata": {
        "id": "SpUupDkYSl3M",
        "colab_type": "code",
        "outputId": "6b7c24fa-f0f7-443d-e64c-6f3a11106fb2",
        "colab": {
          "base_uri": "https://localhost:8080/",
          "height": 85
        }
      },
      "source": [
        "!kaggle competitions download -c liverpool-ion-switching"
      ],
      "execution_count": 6,
      "outputs": [
        {
          "output_type": "stream",
          "text": [
            "Warning: Looks like you're using an outdated API Version, please consider updating (server 1.5.6 / client 1.5.4)\n",
            "sample_submission.csv.zip: Skipping, found more recently modified local copy (use --force to force download)\n",
            "test.csv.zip: Skipping, found more recently modified local copy (use --force to force download)\n",
            "train.csv.zip: Skipping, found more recently modified local copy (use --force to force download)\n"
          ],
          "name": "stdout"
        }
      ]
    },
    {
      "cell_type": "code",
      "metadata": {
        "id": "79QyU1isSnZH",
        "colab_type": "code",
        "outputId": "e0c69793-e874-47c0-f962-4c086bc83cc7",
        "colab": {
          "base_uri": "https://localhost:8080/",
          "height": 391
        }
      },
      "source": [
        "!unzip -o '*.zip'"
      ],
      "execution_count": 7,
      "outputs": [
        {
          "output_type": "stream",
          "text": [
            "Archive:  data-without-drift.zip\n",
            "  inflating: test_clean.csv          \n",
            "  inflating: train_clean.csv         \n",
            "\n",
            "Archive:  train.csv.zip\n",
            "  inflating: train.csv               \n",
            "\n",
            "Archive:  ion-shifted-rfc-proba.zip\n",
            "  inflating: Y_test_proba.npy        \n",
            "  inflating: Y_train_proba.npy       \n",
            "\n",
            "Archive:  test.csv.zip\n",
            "  inflating: test.csv                \n",
            "\n",
            "Archive:  clean-kalman.zip\n",
            "  inflating: test_clean_kalman.csv   \n",
            "  inflating: train_clean_kalman.csv  \n",
            "\n",
            "Archive:  sample_submission.csv.zip\n",
            "  inflating: sample_submission.csv   \n",
            "\n",
            "6 archives were successfully processed.\n"
          ],
          "name": "stdout"
        }
      ]
    },
    {
      "cell_type": "code",
      "metadata": {
        "id": "wveF_VMWw8PG",
        "colab_type": "code",
        "outputId": "0715bc2d-1e4a-43a7-e933-41e497e69b5b",
        "colab": {
          "base_uri": "https://localhost:8080/",
          "height": 51
        }
      },
      "source": [
        "!pip install tensorflow_addons"
      ],
      "execution_count": 8,
      "outputs": [
        {
          "output_type": "stream",
          "text": [
            "Requirement already satisfied: tensorflow_addons in /usr/local/lib/python3.6/dist-packages (0.8.3)\n",
            "Requirement already satisfied: typeguard in /usr/local/lib/python3.6/dist-packages (from tensorflow_addons) (2.7.1)\n"
          ],
          "name": "stdout"
        }
      ]
    },
    {
      "cell_type": "code",
      "metadata": {
        "id": "NLiQ1cLhSpr6",
        "colab_type": "code",
        "colab": {}
      },
      "source": [
        "import tensorflow as tf\n",
        "from tensorflow.keras.layers import Conv1D, Input, Dense, Add, Multiply, BatchNormalization, Activation, Dropout\n",
        "import pandas as pd\n",
        "import numpy as np\n",
        "import random\n",
        "from tensorflow.keras.callbacks import Callback, LearningRateScheduler\n",
        "from tensorflow.keras.losses import categorical_crossentropy\n",
        "from tensorflow.keras.optimizers import Adam\n",
        "from tensorflow.keras import backend as K\n",
        "from tensorflow.keras import losses, models, optimizers\n",
        "import tensorflow_addons as tfa\n",
        "import gc\n",
        "from tqdm import tqdm\n",
        "from scipy import signal\n",
        "\n",
        "import lightgbm as lgb\n",
        "\n",
        "from sklearn.model_selection import GroupKFold, StratifiedKFold\n",
        "from sklearn.metrics import f1_score\n",
        "\n",
        "import warnings\n",
        "warnings.simplefilter('ignore')\n",
        "warnings.filterwarnings('ignore')\n",
        "pd.set_option('display.max_columns', 1000)\n",
        "pd.set_option('display.max_rows', 500)\n",
        "\n",
        "import os\n",
        "for dirname, _, filenames in os.walk('/kaggle/input'):\n",
        "    for filename in filenames:\n",
        "        print(os.path.join(dirname, filename))\n",
        "\n",
        "# Any results you write to the current directory are saved as output."
      ],
      "execution_count": 0,
      "outputs": []
    },
    {
      "cell_type": "code",
      "metadata": {
        "id": "UDn2jHk8Svhd",
        "colab_type": "code",
        "colab": {}
      },
      "source": [
        "# configurations and main hyperparammeters\n",
        "EPOCHS = 110\n",
        "NNBATCHSIZE = 16\n",
        "GROUP_BATCH_SIZE = 4000\n",
        "SEED = 321\n",
        "LR = 0.001\n",
        "SPLITS = 5\n",
        "\n",
        "def seed_everything(seed):\n",
        "    random.seed(seed)\n",
        "    np.random.seed(seed)\n",
        "    os.environ['PYTHONHASHSEED'] = str(seed)\n",
        "    tf.random.set_seed(seed)"
      ],
      "execution_count": 0,
      "outputs": []
    },
    {
      "cell_type": "code",
      "metadata": {
        "id": "hd5ZOykHSyC9",
        "colab_type": "code",
        "colab": {}
      },
      "source": [
        "# read data\n",
        "def read_data():\n",
        "\n",
        "    train = pd.read_csv('./train_clean_kalman.csv', dtype={'time': np.float32, 'signal': np.float32, 'open_channels':np.int32})\n",
        "    test  = pd.read_csv('./test_clean_kalman.csv', dtype={'time': np.float32, 'signal': np.float32})\n",
        "    sub  = pd.read_csv('./sample_submission.csv', dtype={'time': np.float32})\n",
        "    \n",
        "    Y_train_proba = np.load(\"./Y_train_proba.npy\")\n",
        "    Y_test_proba = np.load(\"./Y_test_proba.npy\")\n",
        "    \n",
        "    for i in range(11):\n",
        "        train[f\"proba_{i}\"] = Y_train_proba[:, i]\n",
        "        test[f\"proba_{i}\"] = Y_test_proba[:, i]\n",
        "\n",
        "    return train, test, sub"
      ],
      "execution_count": 0,
      "outputs": []
    },
    {
      "cell_type": "code",
      "metadata": {
        "id": "aZTrfQXOLwvM",
        "colab_type": "code",
        "colab": {}
      },
      "source": [
        "def batching_10(train, test):\n",
        "    # concatenate data\n",
        "    # batchを1から10までフル　ややこしい\n",
        "    batch = 50\n",
        "    total_batches = 14\n",
        "    train['set'] = 'train'\n",
        "    test['set'] = 'test'\n",
        "    data = pd.concat([train, test])\n",
        "    for i in range(int(total_batches)):\n",
        "        data.loc[(data['time'] > i * batch) & (data['time'] <= (i + 1) * batch), 'batch'] = i + 1\n",
        "    train = data[data['set'] == 'train']\n",
        "    test = data[data['set'] == 'test']\n",
        "    train.drop(['set'], inplace = True, axis = 1)\n",
        "    test.drop(['set'], inplace = True, axis = 1)\n",
        "    del data\n",
        "    return train, test"
      ],
      "execution_count": 0,
      "outputs": []
    },
    {
      "cell_type": "code",
      "metadata": {
        "id": "e3nWKBrr3LKM",
        "colab_type": "code",
        "colab": {}
      },
      "source": [
        "def create_signal_mod(train):\n",
        "    left = 3641000\n",
        "    right = 3829000\n",
        "    thresh_dict = {\n",
        "        3: [0.1, 2.0],\n",
        "        2: [-1.1, 0.7],\n",
        "        1: [-2.3, -0.6],\n",
        "        0: [-3.8, -2],\n",
        "    }\n",
        "    \n",
        "    # train['signal_mod'] = train['signal'].values\n",
        "    for ch in train[train['batch']==8]['open_channels'].unique():\n",
        "        idxs_noisy = (train['open_channels']==ch) & (left<train.index) & (train.index<right)\n",
        "        idxs_not_noisy = (train['open_channels']==ch) & ~idxs_noisy\n",
        "        mean = train[idxs_not_noisy]['signal'].mean()\n",
        "\n",
        "        idxs_outlier = idxs_noisy & (thresh_dict[ch][1]<train['signal'].values)\n",
        "        train['signal'][idxs_outlier]  = mean\n",
        "        idxs_outlier = idxs_noisy & (train['signal'].values<thresh_dict[ch][0])\n",
        "        train['signal'][idxs_outlier]  = mean\n",
        "    return train"
      ],
      "execution_count": 0,
      "outputs": []
    },
    {
      "cell_type": "code",
      "metadata": {
        "id": "I_pkElMAS8fA",
        "colab_type": "code",
        "colab": {}
      },
      "source": [
        "# create batches of 4000 observations\n",
        "def batching(df, batch_size):\n",
        "    df['group'] = df.groupby(df.index//batch_size, sort=False)['signal'].agg(['ngroup']).values\n",
        "    df['group'] = df['group'].astype(np.uint16)\n",
        "    return df"
      ],
      "execution_count": 0,
      "outputs": []
    },
    {
      "cell_type": "code",
      "metadata": {
        "id": "vzokhYjyS-dU",
        "colab_type": "code",
        "colab": {}
      },
      "source": [
        "# normalize the data (standard scaler). We can also try other scalers for a better score!\n",
        "def normalize(train, test):\n",
        "    train_input_mean = train.signal.mean()\n",
        "    train_input_sigma = train.signal.std()\n",
        "    train['signal'] = (train.signal - train_input_mean) / train_input_sigma\n",
        "    test['signal'] = (test.signal - train_input_mean) / train_input_sigma\n",
        "    \n",
        "    return train, test"
      ],
      "execution_count": 0,
      "outputs": []
    },
    {
      "cell_type": "code",
      "metadata": {
        "id": "Qez_-uQBt-9W",
        "colab_type": "code",
        "colab": {}
      },
      "source": [
        "def add_category(train, test):\n",
        "  train[\"category\"] = 0\n",
        "  test[\"category\"] = 0\n",
        "\n",
        "  # train segments with more then 9 open channels classes\n",
        "  train.loc[2000000:2500000-1, 'category'] = 1\n",
        "  train.loc[4500000:5000000-1, 'category'] = 1\n",
        "\n",
        "  # test segments with more then 9 open channels classes (potentially)\n",
        "  test.loc[500000:600000-1, \"category\"] = 1\n",
        "  test.loc[700000:800000-1, \"category\"] = 1\n",
        "  \n",
        "  return train, test"
      ],
      "execution_count": 0,
      "outputs": []
    },
    {
      "cell_type": "code",
      "metadata": {
        "id": "zi8ajG9drc0f",
        "colab_type": "code",
        "colab": {}
      },
      "source": [
        "# signal processing features\n",
        "def calc_gradients(s, n_grads = 4):\n",
        "    '''\n",
        "    Calculate gradients for a pandas series. Returns the same number of samples\n",
        "    '''\n",
        "    grads = pd.DataFrame()\n",
        "    \n",
        "    g = s.values\n",
        "    for i in range(n_grads):\n",
        "        g = np.gradient(g)\n",
        "        grads['grad_' + str(i+1)] = g\n",
        "        \n",
        "    return grads\n",
        "\n",
        "def calc_low_pass(s, n_filts=10):\n",
        "    '''\n",
        "    Applies low pass filters to the signal. Left delayed and no delayed\n",
        "    '''\n",
        "    wns = np.logspace(-2, -0.3, n_filts)\n",
        "    \n",
        "    low_pass = pd.DataFrame()\n",
        "    x = s.values\n",
        "    for wn in wns:\n",
        "        b, a = signal.butter(1, Wn=wn, btype='low')\n",
        "        zi = signal.lfilter_zi(b, a)\n",
        "        low_pass['lowpass_lf_' + str('%.4f' %wn)] = signal.lfilter(b, a, x, zi=zi*x[0])[0]\n",
        "        low_pass['lowpass_ff_' + str('%.4f' %wn)] = signal.filtfilt(b, a, x)\n",
        "        \n",
        "    return low_pass\n",
        "\n",
        "def calc_high_pass(s, n_filts=10):\n",
        "    '''\n",
        "    Applies high pass filters to the signal. Left delayed and no delayed\n",
        "    '''\n",
        "    wns = np.logspace(-2, -0.1, n_filts)\n",
        "    \n",
        "    high_pass = pd.DataFrame()\n",
        "    x = s.values\n",
        "    for wn in wns:\n",
        "        b, a = signal.butter(1, Wn=wn, btype='high')\n",
        "        zi = signal.lfilter_zi(b, a)\n",
        "        high_pass['highpass_lf_' + str('%.4f' %wn)] = signal.lfilter(b, a, x, zi=zi*x[0])[0]\n",
        "        high_pass['highpass_ff_' + str('%.4f' %wn)] = signal.filtfilt(b, a, x)\n",
        "        \n",
        "    return high_pass\n",
        "\n",
        "def calc_ewm(s, windows=[10, 50, 100, 500, 1000]):\n",
        "    '''\n",
        "    Calculates exponential weighted functions\n",
        "    '''\n",
        "    ewm = pd.DataFrame()\n",
        "    for w in windows:\n",
        "        ewm['ewm_mean_' + str(w)] = s.ewm(span=w, min_periods=1).mean()\n",
        "        ewm['ewm_std_' + str(w)] = s.ewm(span=w, min_periods=1).std()\n",
        "        \n",
        "    # add zeros when na values (std)\n",
        "    ewm = ewm.fillna(value=0)\n",
        "        \n",
        "    return ewm\n",
        "\n",
        "\n",
        "def add_features(s):\n",
        "    '''\n",
        "    All calculations together\n",
        "    '''\n",
        "    \n",
        "    gradients = calc_gradients(s)\n",
        "    low_pass = calc_low_pass(s)\n",
        "    high_pass = calc_high_pass(s)\n",
        "    ewm = calc_ewm(s)\n",
        "    \n",
        "    return pd.concat([s, gradients, low_pass, high_pass, ewm], axis=1)\n",
        "\n",
        "\n",
        "# signal_size を考える\n",
        "# 500000? or 4000?\n",
        "def divide_and_add_features(s, signal_size=500000):\n",
        "    '''\n",
        "    Divide the signal in bags of \"signal_size\".\n",
        "    Normalize the data dividing it by 15.0\n",
        "    '''\n",
        "    # normalize\n",
        "    s = s / 15.0\n",
        "    \n",
        "    ls = []\n",
        "    for i in tqdm(range(int(s.shape[0]/signal_size))):\n",
        "        sig = s[i*signal_size:(i+1)*signal_size].copy().reset_index(drop=True)\n",
        "        sig_featured = add_features(sig)\n",
        "        ls.append(sig_featured)\n",
        "    \n",
        "    return pd.concat(ls, axis=0)"
      ],
      "execution_count": 0,
      "outputs": []
    },
    {
      "cell_type": "code",
      "metadata": {
        "id": "uvqlr0beS_62",
        "colab_type": "code",
        "colab": {}
      },
      "source": [
        "# get lead and lags features\n",
        "def lag_with_pct_change(df, windows):\n",
        "    for window in windows:    \n",
        "        df['signal_shift_pos_' + str(window)] = df.groupby('group')['signal'].shift(window).fillna(0)\n",
        "        df['signal_shift_neg_' + str(window)] = df.groupby('group')['signal'].shift(-1 * window).fillna(0)\n",
        "    return df"
      ],
      "execution_count": 0,
      "outputs": []
    },
    {
      "cell_type": "code",
      "metadata": {
        "id": "aWSG9xWHWlhP",
        "colab_type": "code",
        "colab": {}
      },
      "source": [
        "def calc_roll_stats(df, windows, group='group'):\n",
        "    '''\n",
        "    Calculates rolling stats like mean, std, min, max...\n",
        "    '''\n",
        "    for i, window in enumerate(windows):\n",
        "      df[group + 'roll_mean_' + str(window)] = df.groupby(group)['signal'].rolling(window=window, min_periods=1).mean().fillna(0).values\n",
        "      df[group + 'roll_std_' + str(window)] = df.groupby(group)['signal'].rolling(window=window, min_periods=1).std().fillna(0).values\n",
        "      df[group + 'roll_min_' + str(window)] = df.groupby(group)['signal'].rolling(window=window, min_periods=1).min().fillna(0).values\n",
        "      df[group + 'roll_max_' + str(window)] = df.groupby(group)['signal'].rolling(window=window, min_periods=1).max().fillna(0).values\n",
        "      df[group + 'roll_range' + str(window)] = df[group + 'roll_max_' + str(window)] - df[group + 'roll_min_' + str(window)]\n",
        "\n",
        "      df['roll_q10_' + str(window)] = df.groupby('group')['signal'].rolling(window=window, min_periods=1).quantile(0.10).fillna(0).values\n",
        "      df['roll_q25_' + str(window)] = df.groupby('group')['signal'].rolling(window=window, min_periods=1).quantile(0.25).fillna(0).values\n",
        "      df['roll_q50_' + str(window)] = df.groupby('group')['signal'].rolling(window=window, min_periods=1).quantile(0.50).fillna(0).values\n",
        "      df['roll_q75_' + str(window)] = df.groupby('group')['signal'].rolling(window=window, min_periods=1).quantile(0.75).fillna(0).values\n",
        "      df['roll_q90_' + str(window)] = df.groupby('group')['signal'].rolling(window=window, min_periods=1).quantile(0.90).fillna(0).values\n",
        "             \n",
        "    return df"
      ],
      "execution_count": 0,
      "outputs": []
    },
    {
      "cell_type": "code",
      "metadata": {
        "id": "4sJgvILz6ppL",
        "colab_type": "code",
        "colab": {}
      },
      "source": [
        "def calc_expand_stats(df, group='group'):\n",
        "  df['expanding_mean'] = df.groupby(group)['signal'].expanding().mean().fillna(0).values\n",
        "  df['expanding_std'] = df.groupby(group)['signal'].expanding().std().fillna(0).values\n",
        "  df['expanding_max'] = df.groupby(group)['signal'].expanding().max().fillna(0).values\n",
        "  df['expanding_min'] = df.groupby(group)['signal'].expanding().min().fillna(0).values\n",
        "  df['expanding_range'] = df['expanding_max'] - df['expanding_min']\n",
        "  \n",
        "  return df"
      ],
      "execution_count": 0,
      "outputs": []
    },
    {
      "cell_type": "code",
      "metadata": {
        "id": "abANAaO5T4l6",
        "colab_type": "code",
        "colab": {}
      },
      "source": [
        "# main module to run feature engineering. Here you may want to try and add other features and check if your score imporves :).\n",
        "def run_feat_engineering(df, batch_size):\n",
        "    # create batches\n",
        "    df = batching(df, batch_size = batch_size)\n",
        "\n",
        "    # create leads and lags\n",
        "    df = lag_with_pct_change(df, np.asarray(range(1, 3), dtype=np.int32))\n",
        "\n",
        "    # create rolling stats\n",
        "    df = calc_roll_stats(df, [3, 10, 50, 100, 500, 1000]) # groupごと(4000)\n",
        "    # df = calc_roll_stats(df, [50000, 100000], group='batch') # batchごと(500000)\n",
        "\n",
        "    # create expanding stats\n",
        "    df = calc_expand_stats(df)\n",
        "\n",
        "    # create signal ** 2 (this is the new feature)\n",
        "    df['signal_2'] = df['signal'] ** 2\n",
        "\n",
        "    return df"
      ],
      "execution_count": 0,
      "outputs": []
    },
    {
      "cell_type": "code",
      "metadata": {
        "id": "xkDA5AB3TB13",
        "colab_type": "code",
        "colab": {}
      },
      "source": [
        "# fillna with the mean and select features for training\n",
        "def feature_selection(train, test):\n",
        "    features = [col for col in train.columns if col not in ['index', 'group', 'open_channels', 'time', 'batch', 'train_group', 'test_group']]\n",
        "    train = train.replace([np.inf, -np.inf], np.nan)\n",
        "    test = test.replace([np.inf, -np.inf], np.nan)\n",
        "    for feature in features:\n",
        "        feature_mean = pd.concat([train[feature], test[feature]], axis = 0).mean()\n",
        "        train[feature] = train[feature].fillna(feature_mean)\n",
        "        test[feature] = test[feature].fillna(feature_mean)\n",
        "    return train, test, features"
      ],
      "execution_count": 0,
      "outputs": []
    },
    {
      "cell_type": "code",
      "metadata": {
        "id": "arzvPi4DTJNs",
        "colab_type": "code",
        "colab": {}
      },
      "source": [
        "# main function to perfrom groupkfold cross validation (we have 1000 vectores of 4000 rows and 8 features (columns)). Going to make 5 groups with this subgroups.\n",
        "def run_cv_model_by_batch(train, test, splits, batch_col, feats, sample_submission):\n",
        "    oof_ = np.zeros(len(train))\n",
        "    preds_ = np.zeros(len(test))\n",
        "    target = ['open_channels']\n",
        "    group = train['group']\n",
        "    # kf = GroupKFold(n_splits=5)\n",
        "    kf = StratifiedKFold(n_splits = 5, shuffle = True, random_state = 42)\n",
        "\n",
        "    for n_fold, (tr_idx, val_idx) in enumerate(kf.split(train, train[target], groups=group)):\n",
        "        train_x, train_y = train.iloc[tr_idx], train[target].iloc[tr_idx]\n",
        "        valid_x, valid_y = train.iloc[val_idx], train[target].iloc[val_idx]\n",
        "        print(f'Our training dataset shape is {train_x.shape}')\n",
        "        print(f'Our validation dataset shape is {valid_x.shape}')\n",
        "\n",
        "        gc.collect()\n",
        "\n",
        "        train_set = lgb.Dataset(train_x[feats], train_y)\n",
        "        val_set = lgb.Dataset(valid_x[feats], valid_y)\n",
        "\n",
        "        params = {'boosting_type': 'gbdt',\n",
        "                'metric': 'rmse',\n",
        "                'objective': 'regression',\n",
        "                'n_jobs': -1,\n",
        "                'seed': 236,\n",
        "                'num_leaves': 280,\n",
        "                'learning_rate': 0.026623466966581126,\n",
        "                'max_depth': 73,\n",
        "                'lambda_l1': 2.959759088169741,\n",
        "                'lambda_l2': 1.331172832164913,\n",
        "                'bagging_fraction': 0.9655406551472153,\n",
        "                'bagging_freq': 9,\n",
        "                'colsample_bytree': 0.6867118652742716}\n",
        "        \n",
        "        lgb_model = lgb.train(\n",
        "            params, \n",
        "            train_set, num_boost_round = 10000, \n",
        "            early_stopping_rounds = 50, \n",
        "            valid_sets = [train_set, val_set], \n",
        "            valid_names = ['train', 'eval'],\n",
        "            verbose_eval = 100,)\n",
        "\n",
        "        preds_f = lgb_model.predict(valid_x[feats])\n",
        "        f1_score_ = f1_score(valid_y,  np.round(np.clip(preds_f, 0, 10)).astype(int), average = 'macro')\n",
        "        print(f'Training fold {n_fold + 1} completed. macro f1 score : {f1_score_ :1.5f}')\n",
        "        oof_[val_idx] += preds_f\n",
        "        te_preds = lgb_model.predict(test[feats])\n",
        "        preds_ += te_preds / SPLITS\n",
        "\n",
        "    return preds_, oof_\n",
        "\n",
        "    # f1_score_ = f1_score(train[target],  np.round(np.clip(oof_, 0, 10)).astype(int), average = 'macro')\n",
        "    # print(f'Training completed. oof macro f1 score : {f1_score_:1.5f}')\n",
        "    # sample_submission['open_channels'] = np.round(np.clip(preds_, 0, 10)).astype(int)\n",
        "    # sample_submission.to_csv('lgb_submission.csv', index=False, float_format='%.4f')"
      ],
      "execution_count": 0,
      "outputs": []
    },
    {
      "cell_type": "code",
      "metadata": {
        "id": "hOM_WZ_5ZiYM",
        "colab_type": "code",
        "colab": {}
      },
      "source": [
        "def reduce_mem_usage(df, verbose=True):\n",
        "    numerics = ['int16', 'int32', 'int64', 'float16', 'float32', 'float64']\n",
        "    start_mem = df.memory_usage().sum() / 1024**2    \n",
        "    for col in df.columns:\n",
        "        if col!='open_channels':\n",
        "            col_type = df[col].dtypes\n",
        "            if col_type in numerics:\n",
        "                c_min = df[col].min()\n",
        "                c_max = df[col].max()\n",
        "                if str(col_type)[:3] == 'int':\n",
        "                    if c_min > np.iinfo(np.int8).min and c_max < np.iinfo(np.int8).max:\n",
        "                        df[col] = df[col].astype(np.int8)\n",
        "                    elif c_min > np.iinfo(np.int16).min and c_max < np.iinfo(np.int16).max:\n",
        "                        df[col] = df[col].astype(np.int16)\n",
        "                    elif c_min > np.iinfo(np.int32).min and c_max < np.iinfo(np.int32).max:\n",
        "                        df[col] = df[col].astype(np.int32)\n",
        "                    elif c_min > np.iinfo(np.int64).min and c_max < np.iinfo(np.int64).max:\n",
        "                        df[col] = df[col].astype(np.int64)  \n",
        "                else:\n",
        "                    if c_min > np.finfo(np.float16).min and c_max < np.finfo(np.float16).max:\n",
        "                        df[col] = df[col].astype(np.float16)\n",
        "                    elif c_min > np.finfo(np.float32).min and c_max < np.finfo(np.float32).max:\n",
        "                        df[col] = df[col].astype(np.float32)\n",
        "                    else:\n",
        "                        df[col] = df[col].astype(np.float64)    \n",
        "    end_mem = df.memory_usage().sum() / 1024**2\n",
        "    if verbose: print('Mem. usage decreased to {:5.2f} Mb ({:.1f}% reduction)'.format(end_mem, 100 * (start_mem - end_mem) / start_mem))\n",
        "    return df"
      ],
      "execution_count": 0,
      "outputs": []
    },
    {
      "cell_type": "code",
      "metadata": {
        "id": "esUCbE6mTLxE",
        "colab_type": "code",
        "outputId": "38e2070a-ddee-43ff-d40c-2891726b751d",
        "colab": {
          "base_uri": "https://localhost:8080/",
          "height": 51
        }
      },
      "source": [
        "print('Reading Data Started...')\n",
        "train, test, sample_submission = read_data()\n",
        "train, test = batching_10(train, test)\n",
        "train = create_signal_mod(train)\n",
        "train, test = normalize(train, test)\n",
        "print('Reading and Normalizing Data Completed')"
      ],
      "execution_count": 25,
      "outputs": [
        {
          "output_type": "stream",
          "text": [
            "Reading Data Started...\n",
            "Reading and Normalizing Data Completed\n"
          ],
          "name": "stdout"
        }
      ]
    },
    {
      "cell_type": "code",
      "metadata": {
        "id": "sYu0glRGTPu2",
        "colab_type": "code",
        "outputId": "47e0089b-811d-4a27-c087-254a1f0faf73",
        "colab": {
          "base_uri": "https://localhost:8080/",
          "height": 102
        }
      },
      "source": [
        "print('Creating Features')\n",
        "print('Feature Engineering Started...')\n",
        "\n",
        "train, test = add_category(train, test)\n",
        "\n",
        "# train, test = batching_10(train, test)\n",
        "\n",
        "train = run_feat_engineering(train, batch_size = GROUP_BATCH_SIZE)\n",
        "test = run_feat_engineering(test, batch_size = GROUP_BATCH_SIZE)\n",
        "\n",
        "tr_clean = pd.read_csv('./train_clean.csv', dtype={'time': np.float32, 'signal': np.float32, 'open_channels':np.int32})\n",
        "ts_clean = pd.read_csv('./test_clean.csv', dtype={'time': np.float32, 'signal': np.float32})\n",
        "pre_train = divide_and_add_features(tr_clean.signal, signal_size=500000)\n",
        "pre_test = divide_and_add_features(ts_clean.signal, signal_size=500000)\n",
        "pre_train.drop('signal', axis=1, inplace=True)\n",
        "pre_test.drop('signal', axis=1, inplace=True)\n",
        "pre_train.reset_index(inplace = True, drop = True)\n",
        "pre_test.reset_index(inplace = True, drop = True)\n",
        "train = pd.concat([train, pre_train], axis=1)\n",
        "test = pd.concat([test, pre_test], axis=1)\n",
        "\n",
        "del pre_train, pre_test, tr_clean, ts_clean\n",
        "gc.collect\n",
        "\n",
        "train, test, features = feature_selection(train, test)\n",
        "print('Feature Engineering Completed...')"
      ],
      "execution_count": 26,
      "outputs": [
        {
          "output_type": "stream",
          "text": [
            "Creating Features\n",
            "Feature Engineering Started...\n"
          ],
          "name": "stdout"
        },
        {
          "output_type": "stream",
          "text": [
            "100%|██████████| 10/10 [00:08<00:00,  1.19it/s]\n",
            "100%|██████████| 4/4 [00:03<00:00,  1.18it/s]\n"
          ],
          "name": "stderr"
        },
        {
          "output_type": "stream",
          "text": [
            "Feature Engineering Completed...\n"
          ],
          "name": "stdout"
        }
      ]
    },
    {
      "cell_type": "code",
      "metadata": {
        "id": "h448uvloaCSb",
        "colab_type": "code",
        "outputId": "b16a3728-85c1-489a-cfcf-21fa2e300843",
        "colab": {
          "base_uri": "https://localhost:8080/",
          "height": 68
        }
      },
      "source": [
        "print('Reduce memory usage...')\n",
        "train = reduce_mem_usage(train)\n",
        "test = reduce_mem_usage(test)"
      ],
      "execution_count": 27,
      "outputs": [
        {
          "output_type": "stream",
          "text": [
            "Reduce memory usage...\n",
            "Mem. usage decreased to 1566.67 Mb (71.7% reduction)\n",
            "Mem. usage decreased to 642.67 Mb (71.2% reduction)\n"
          ],
          "name": "stdout"
        }
      ]
    },
    {
      "cell_type": "code",
      "metadata": {
        "id": "MGptgjoR9m_q",
        "colab_type": "code",
        "colab": {}
      },
      "source": [
        "def train_grouping(train, test):\n",
        "  train.loc[0:1000000, 'train_group'] = 0          # batch 0 and 1\n",
        "  train.loc[1000000:1500000, 'train_group'] = 1  # batch 2\n",
        "  train.loc[1500000:2000000, 'train_group'] = 2  # batch 3\n",
        "  train.loc[2000000:2500000, 'train_group'] = 3  # batch 4\n",
        "  train.loc[2500000:3000000, 'train_group'] = 4  # batch 5\n",
        "  train.loc[3000000:3500000, 'train_group'] = 1  # batch 6\n",
        "  train.loc[3500000:4000000, 'train_group'] = 2  # batch 7\n",
        "  train.loc[4000000:4500000, 'train_group'] = 4  # batch 8\n",
        "  train.loc[4500000:5000001, 'train_group'] = 3  # batch 9\n",
        "\n",
        "  test.loc[0:100000, 'test_group'] = 0\n",
        "  test.loc[100000:200000, 'test_group'] = 2\n",
        "  test.loc[200000:300000, 'test_group'] = 4\n",
        "  test.loc[300000:400000, 'test_group'] = 0\n",
        "  test.loc[400000:500000, 'test_group'] = 1\n",
        "  test.loc[500000:600000, 'test_group'] = 3\n",
        "  test.loc[600000:700000, 'test_group'] = 4\n",
        "  test.loc[700000:800000, 'test_group'] = 3\n",
        "  test.loc[800000:900000, 'test_group'] = 0\n",
        "  test.loc[900000:1000000, 'test_group'] = 2\n",
        "  test.loc[1000000:, 'test_group'] = 0\n",
        "\n",
        "  return train, test"
      ],
      "execution_count": 0,
      "outputs": []
    },
    {
      "cell_type": "code",
      "metadata": {
        "id": "PEzL3Kv5Tviy",
        "colab_type": "code",
        "outputId": "c762220b-7ad6-474e-f139-9733e9a9c6ff",
        "colab": {
          "base_uri": "https://localhost:8080/",
          "height": 1000
        }
      },
      "source": [
        "# print(f'Training lgb model with {SPLITS} folds of GroupKFold Started...')\n",
        "# run_cv_model_by_batch(train, test, SPLITS, 'group', features, sample_submission)\n",
        "# print('Training completed...')\n",
        "\n",
        "train. test = train_grouping(train, test)\n",
        "preds = []\n",
        "oofs = []\n",
        "print('Training started')\n",
        "for i in range(5):\n",
        "  print(f'Training train_group {i+1} started...')\n",
        "  group_train = train[train['train_group'] == i]\n",
        "  group_test = test[test['test_group'] == i]\n",
        "  pred, oof = run_cv_model_by_batch(group_train, group_test, SPLITS, 'group', features, sample_submission)\n",
        "  # preds += pred.tolist()\n",
        "  # oofs += oof.tolist()\n",
        "  preds.append(pred)\n",
        "  oofs.append(oof)\n",
        "  print(f'Training train_group {i+1} completed...')\n",
        "print('Training completed...')"
      ],
      "execution_count": 29,
      "outputs": [
        {
          "output_type": "stream",
          "text": [
            "Training started\n",
            "Training train_group 1 started...\n",
            "Our training dataset shape is (800000, 142)\n",
            "Our validation dataset shape is (200000, 142)\n",
            "Training until validation scores don't improve for 50 rounds.\n",
            "[100]\ttrain's rmse: 0.0193012\teval's rmse: 0.0209929\n",
            "[200]\ttrain's rmse: 0.0128185\teval's rmse: 0.016768\n",
            "[300]\ttrain's rmse: 0.0108188\teval's rmse: 0.0167373\n",
            "Early stopping, best iteration is:\n",
            "[270]\ttrain's rmse: 0.0113301\teval's rmse: 0.0167119\n",
            "Training fold 1 completed. macro f1 score : 0.99720\n",
            "Our training dataset shape is (800000, 142)\n",
            "Our validation dataset shape is (200000, 142)\n",
            "Training until validation scores don't improve for 50 rounds.\n",
            "[100]\ttrain's rmse: 0.0193654\teval's rmse: 0.0205834\n",
            "[200]\ttrain's rmse: 0.0129963\teval's rmse: 0.0163768\n",
            "Early stopping, best iteration is:\n",
            "[215]\ttrain's rmse: 0.0126609\teval's rmse: 0.0163447\n",
            "Training fold 2 completed. macro f1 score : 0.99739\n",
            "Our training dataset shape is (800000, 142)\n",
            "Our validation dataset shape is (200000, 142)\n",
            "Training until validation scores don't improve for 50 rounds.\n",
            "[100]\ttrain's rmse: 0.019314\teval's rmse: 0.0205587\n",
            "[200]\ttrain's rmse: 0.0128864\teval's rmse: 0.0163705\n",
            "Early stopping, best iteration is:\n",
            "[193]\ttrain's rmse: 0.0130585\teval's rmse: 0.0163613\n",
            "Training fold 3 completed. macro f1 score : 0.99757\n",
            "Our training dataset shape is (800000, 142)\n",
            "Our validation dataset shape is (200000, 142)\n",
            "Training until validation scores don't improve for 50 rounds.\n",
            "[100]\ttrain's rmse: 0.0191412\teval's rmse: 0.0214067\n",
            "[200]\ttrain's rmse: 0.0128112\teval's rmse: 0.0173348\n",
            "[300]\ttrain's rmse: 0.0107847\teval's rmse: 0.0172764\n",
            "Early stopping, best iteration is:\n",
            "[256]\ttrain's rmse: 0.0116127\teval's rmse: 0.0172653\n",
            "Training fold 4 completed. macro f1 score : 0.99709\n",
            "Our training dataset shape is (800000, 142)\n",
            "Our validation dataset shape is (200000, 142)\n",
            "Training until validation scores don't improve for 50 rounds.\n",
            "[100]\ttrain's rmse: 0.0192687\teval's rmse: 0.0205405\n",
            "[200]\ttrain's rmse: 0.0127331\teval's rmse: 0.0165146\n",
            "Early stopping, best iteration is:\n",
            "[191]\ttrain's rmse: 0.0129794\teval's rmse: 0.0165013\n",
            "Training fold 5 completed. macro f1 score : 0.99750\n",
            "Training train_group 1 completed...\n",
            "Training train_group 2 started...\n",
            "Our training dataset shape is (800000, 142)\n",
            "Our validation dataset shape is (200000, 142)\n",
            "Training until validation scores don't improve for 50 rounds.\n",
            "[100]\ttrain's rmse: 0.0478276\teval's rmse: 0.0509905\n",
            "[200]\ttrain's rmse: 0.0337604\teval's rmse: 0.0419672\n",
            "Early stopping, best iteration is:\n",
            "[232]\ttrain's rmse: 0.0316842\teval's rmse: 0.0419461\n",
            "Training fold 1 completed. macro f1 score : 0.99685\n",
            "Our training dataset shape is (800000, 142)\n",
            "Our validation dataset shape is (200000, 142)\n",
            "Training until validation scores don't improve for 50 rounds.\n",
            "[100]\ttrain's rmse: 0.0475492\teval's rmse: 0.0511763\n",
            "[200]\ttrain's rmse: 0.0333506\teval's rmse: 0.0421782\n",
            "Early stopping, best iteration is:\n",
            "[243]\ttrain's rmse: 0.0306092\teval's rmse: 0.042078\n",
            "Training fold 2 completed. macro f1 score : 0.99707\n",
            "Our training dataset shape is (800000, 142)\n",
            "Our validation dataset shape is (200000, 142)\n",
            "Training until validation scores don't improve for 50 rounds.\n",
            "[100]\ttrain's rmse: 0.047584\teval's rmse: 0.0504787\n",
            "[200]\ttrain's rmse: 0.0336398\teval's rmse: 0.0411119\n",
            "[300]\ttrain's rmse: 0.0278019\teval's rmse: 0.0410344\n",
            "Early stopping, best iteration is:\n",
            "[260]\ttrain's rmse: 0.0299263\teval's rmse: 0.0410041\n",
            "Training fold 3 completed. macro f1 score : 0.99702\n",
            "Our training dataset shape is (800000, 142)\n",
            "Our validation dataset shape is (200000, 142)\n",
            "Training until validation scores don't improve for 50 rounds.\n",
            "[100]\ttrain's rmse: 0.0477781\teval's rmse: 0.0500024\n",
            "[200]\ttrain's rmse: 0.0337573\teval's rmse: 0.0408384\n",
            "[300]\ttrain's rmse: 0.0277298\teval's rmse: 0.0408199\n",
            "Early stopping, best iteration is:\n",
            "[264]\ttrain's rmse: 0.0297063\teval's rmse: 0.0407867\n",
            "Training fold 4 completed. macro f1 score : 0.99721\n",
            "Our training dataset shape is (800000, 142)\n",
            "Our validation dataset shape is (200000, 142)\n",
            "Training until validation scores don't improve for 50 rounds.\n",
            "[100]\ttrain's rmse: 0.0472888\teval's rmse: 0.0515011\n",
            "[200]\ttrain's rmse: 0.0333917\teval's rmse: 0.0425823\n",
            "Early stopping, best iteration is:\n",
            "[218]\ttrain's rmse: 0.0321694\teval's rmse: 0.0425345\n",
            "Training fold 5 completed. macro f1 score : 0.99689\n",
            "Training train_group 2 completed...\n",
            "Training train_group 3 started...\n",
            "Our training dataset shape is (800000, 142)\n",
            "Our validation dataset shape is (200000, 142)\n",
            "Training until validation scores don't improve for 50 rounds.\n",
            "[100]\ttrain's rmse: 0.108693\teval's rmse: 0.115581\n",
            "[200]\ttrain's rmse: 0.0878803\teval's rmse: 0.102297\n",
            "[300]\ttrain's rmse: 0.0829542\teval's rmse: 0.102091\n",
            "[400]\ttrain's rmse: 0.0792965\teval's rmse: 0.101983\n",
            "[500]\ttrain's rmse: 0.0761584\teval's rmse: 0.101942\n",
            "[600]\ttrain's rmse: 0.0733278\teval's rmse: 0.101901\n",
            "Early stopping, best iteration is:\n",
            "[594]\ttrain's rmse: 0.0735028\teval's rmse: 0.101898\n",
            "Training fold 1 completed. macro f1 score : 0.98349\n",
            "Our training dataset shape is (800000, 142)\n",
            "Our validation dataset shape is (200000, 142)\n",
            "Training until validation scores don't improve for 50 rounds.\n",
            "[100]\ttrain's rmse: 0.108607\teval's rmse: 0.116062\n",
            "[200]\ttrain's rmse: 0.0878465\teval's rmse: 0.102827\n",
            "[300]\ttrain's rmse: 0.0829443\teval's rmse: 0.102623\n",
            "[400]\ttrain's rmse: 0.0792182\teval's rmse: 0.102536\n",
            "[500]\ttrain's rmse: 0.0760462\teval's rmse: 0.102463\n",
            "[600]\ttrain's rmse: 0.0732043\teval's rmse: 0.102416\n",
            "[700]\ttrain's rmse: 0.0706081\teval's rmse: 0.102366\n",
            "Early stopping, best iteration is:\n",
            "[681]\ttrain's rmse: 0.0711212\teval's rmse: 0.102356\n",
            "Training fold 2 completed. macro f1 score : 0.98378\n",
            "Our training dataset shape is (800000, 142)\n",
            "Our validation dataset shape is (200000, 142)\n",
            "Training until validation scores don't improve for 50 rounds.\n",
            "[100]\ttrain's rmse: 0.108681\teval's rmse: 0.115669\n",
            "[200]\ttrain's rmse: 0.0880316\teval's rmse: 0.102434\n",
            "[300]\ttrain's rmse: 0.0831725\teval's rmse: 0.102232\n",
            "[400]\ttrain's rmse: 0.0794269\teval's rmse: 0.102154\n",
            "[500]\ttrain's rmse: 0.0762048\teval's rmse: 0.102128\n",
            "[600]\ttrain's rmse: 0.0732929\teval's rmse: 0.10211\n",
            "Early stopping, best iteration is:\n",
            "[646]\ttrain's rmse: 0.0720507\teval's rmse: 0.102105\n",
            "Training fold 3 completed. macro f1 score : 0.98301\n",
            "Our training dataset shape is (800000, 142)\n",
            "Our validation dataset shape is (200000, 142)\n",
            "Training until validation scores don't improve for 50 rounds.\n",
            "[100]\ttrain's rmse: 0.108543\teval's rmse: 0.116241\n",
            "[200]\ttrain's rmse: 0.0877893\teval's rmse: 0.1031\n",
            "[300]\ttrain's rmse: 0.0828837\teval's rmse: 0.102859\n",
            "[400]\ttrain's rmse: 0.0792435\teval's rmse: 0.10274\n",
            "[500]\ttrain's rmse: 0.0760851\teval's rmse: 0.102668\n",
            "[600]\ttrain's rmse: 0.0732177\teval's rmse: 0.102613\n",
            "[700]\ttrain's rmse: 0.0705715\teval's rmse: 0.102568\n",
            "[800]\ttrain's rmse: 0.0681135\teval's rmse: 0.102536\n",
            "[900]\ttrain's rmse: 0.0658858\teval's rmse: 0.102522\n",
            "Early stopping, best iteration is:\n",
            "[922]\ttrain's rmse: 0.0654302\teval's rmse: 0.102513\n",
            "Training fold 4 completed. macro f1 score : 0.98352\n",
            "Our training dataset shape is (800000, 142)\n",
            "Our validation dataset shape is (200000, 142)\n",
            "Training until validation scores don't improve for 50 rounds.\n",
            "[100]\ttrain's rmse: 0.108761\teval's rmse: 0.115393\n",
            "[200]\ttrain's rmse: 0.088002\teval's rmse: 0.102183\n",
            "[300]\ttrain's rmse: 0.083109\teval's rmse: 0.101972\n",
            "[400]\ttrain's rmse: 0.0793498\teval's rmse: 0.101865\n",
            "[500]\ttrain's rmse: 0.0761104\teval's rmse: 0.101774\n",
            "[600]\ttrain's rmse: 0.0732521\teval's rmse: 0.101717\n",
            "Early stopping, best iteration is:\n",
            "[632]\ttrain's rmse: 0.0724139\teval's rmse: 0.101704\n",
            "Training fold 5 completed. macro f1 score : 0.98378\n",
            "Training train_group 3 completed...\n",
            "Training train_group 4 started...\n",
            "Our training dataset shape is (800000, 142)\n",
            "Our validation dataset shape is (200000, 142)\n",
            "Training until validation scores don't improve for 50 rounds.\n",
            "[100]\ttrain's rmse: 0.297707\teval's rmse: 0.301995\n",
            "[200]\ttrain's rmse: 0.276981\teval's rmse: 0.28621\n",
            "[300]\ttrain's rmse: 0.273312\teval's rmse: 0.285851\n",
            "[400]\ttrain's rmse: 0.270328\teval's rmse: 0.285582\n",
            "[500]\ttrain's rmse: 0.267677\teval's rmse: 0.285457\n",
            "[600]\ttrain's rmse: 0.265034\teval's rmse: 0.285342\n",
            "[700]\ttrain's rmse: 0.262445\teval's rmse: 0.285228\n",
            "[800]\ttrain's rmse: 0.259926\teval's rmse: 0.285154\n",
            "[900]\ttrain's rmse: 0.257526\teval's rmse: 0.285105\n",
            "[1000]\ttrain's rmse: 0.255161\teval's rmse: 0.285061\n",
            "[1100]\ttrain's rmse: 0.252858\teval's rmse: 0.285024\n",
            "[1200]\ttrain's rmse: 0.250627\teval's rmse: 0.28501\n",
            "[1300]\ttrain's rmse: 0.248425\teval's rmse: 0.284963\n",
            "[1400]\ttrain's rmse: 0.246321\teval's rmse: 0.28494\n",
            "[1500]\ttrain's rmse: 0.244297\teval's rmse: 0.28493\n",
            "Early stopping, best iteration is:\n",
            "[1457]\ttrain's rmse: 0.245116\teval's rmse: 0.284925\n",
            "Training fold 1 completed. macro f1 score : 0.87379\n",
            "Our training dataset shape is (800000, 142)\n",
            "Our validation dataset shape is (200000, 142)\n",
            "Training until validation scores don't improve for 50 rounds.\n",
            "[100]\ttrain's rmse: 0.29747\teval's rmse: 0.302914\n",
            "[200]\ttrain's rmse: 0.276677\teval's rmse: 0.287303\n",
            "[300]\ttrain's rmse: 0.272904\teval's rmse: 0.287009\n",
            "[400]\ttrain's rmse: 0.269947\teval's rmse: 0.286762\n",
            "[500]\ttrain's rmse: 0.267317\teval's rmse: 0.286618\n",
            "[600]\ttrain's rmse: 0.264757\teval's rmse: 0.286484\n",
            "[700]\ttrain's rmse: 0.262198\teval's rmse: 0.28642\n",
            "[800]\ttrain's rmse: 0.259682\teval's rmse: 0.286351\n",
            "[900]\ttrain's rmse: 0.257344\teval's rmse: 0.286292\n",
            "[1000]\ttrain's rmse: 0.255022\teval's rmse: 0.286274\n",
            "[1100]\ttrain's rmse: 0.252667\teval's rmse: 0.286247\n",
            "[1200]\ttrain's rmse: 0.250463\teval's rmse: 0.286206\n",
            "[1300]\ttrain's rmse: 0.248296\teval's rmse: 0.28618\n",
            "[1400]\ttrain's rmse: 0.246028\teval's rmse: 0.286168\n",
            "[1500]\ttrain's rmse: 0.243936\teval's rmse: 0.286161\n",
            "Early stopping, best iteration is:\n",
            "[1450]\ttrain's rmse: 0.244987\teval's rmse: 0.286158\n",
            "Training fold 2 completed. macro f1 score : 0.87119\n",
            "Our training dataset shape is (800000, 142)\n",
            "Our validation dataset shape is (200000, 142)\n",
            "Training until validation scores don't improve for 50 rounds.\n",
            "[100]\ttrain's rmse: 0.29731\teval's rmse: 0.303499\n",
            "[200]\ttrain's rmse: 0.276539\teval's rmse: 0.288026\n",
            "[300]\ttrain's rmse: 0.272816\teval's rmse: 0.287686\n",
            "[400]\ttrain's rmse: 0.269859\teval's rmse: 0.287453\n",
            "[500]\ttrain's rmse: 0.26705\teval's rmse: 0.287271\n",
            "[600]\ttrain's rmse: 0.264314\teval's rmse: 0.287139\n",
            "[700]\ttrain's rmse: 0.261732\teval's rmse: 0.287065\n",
            "[800]\ttrain's rmse: 0.259276\teval's rmse: 0.287024\n",
            "[900]\ttrain's rmse: 0.256829\teval's rmse: 0.286973\n",
            "[1000]\ttrain's rmse: 0.254446\teval's rmse: 0.286932\n",
            "[1100]\ttrain's rmse: 0.252229\teval's rmse: 0.286899\n",
            "[1200]\ttrain's rmse: 0.249937\teval's rmse: 0.286851\n",
            "[1300]\ttrain's rmse: 0.247725\teval's rmse: 0.286833\n",
            "[1400]\ttrain's rmse: 0.245587\teval's rmse: 0.286832\n",
            "[1500]\ttrain's rmse: 0.243414\teval's rmse: 0.286819\n",
            "[1600]\ttrain's rmse: 0.241335\teval's rmse: 0.286798\n",
            "Early stopping, best iteration is:\n",
            "[1590]\ttrain's rmse: 0.241537\teval's rmse: 0.286795\n",
            "Training fold 3 completed. macro f1 score : 0.87659\n",
            "Our training dataset shape is (800000, 142)\n",
            "Our validation dataset shape is (200000, 142)\n",
            "Training until validation scores don't improve for 50 rounds.\n",
            "[100]\ttrain's rmse: 0.297773\teval's rmse: 0.301532\n",
            "[200]\ttrain's rmse: 0.277019\teval's rmse: 0.285978\n",
            "[300]\ttrain's rmse: 0.273265\teval's rmse: 0.285676\n",
            "[400]\ttrain's rmse: 0.270286\teval's rmse: 0.285441\n",
            "[500]\ttrain's rmse: 0.267565\teval's rmse: 0.285314\n",
            "[600]\ttrain's rmse: 0.26494\teval's rmse: 0.285214\n",
            "[700]\ttrain's rmse: 0.262361\teval's rmse: 0.285149\n",
            "[800]\ttrain's rmse: 0.259924\teval's rmse: 0.285087\n",
            "[900]\ttrain's rmse: 0.257467\teval's rmse: 0.285033\n",
            "[1000]\ttrain's rmse: 0.255093\teval's rmse: 0.284968\n",
            "[1100]\ttrain's rmse: 0.252831\teval's rmse: 0.284923\n",
            "Early stopping, best iteration is:\n",
            "[1115]\ttrain's rmse: 0.252462\teval's rmse: 0.284917\n",
            "Training fold 4 completed. macro f1 score : 0.78345\n",
            "Our training dataset shape is (800000, 142)\n",
            "Our validation dataset shape is (200000, 142)\n",
            "Training until validation scores don't improve for 50 rounds.\n",
            "[100]\ttrain's rmse: 0.297776\teval's rmse: 0.301914\n",
            "[200]\ttrain's rmse: 0.277018\teval's rmse: 0.285929\n",
            "[300]\ttrain's rmse: 0.273289\teval's rmse: 0.285546\n",
            "[400]\ttrain's rmse: 0.270381\teval's rmse: 0.285362\n",
            "[500]\ttrain's rmse: 0.267665\teval's rmse: 0.285239\n",
            "[600]\ttrain's rmse: 0.264949\teval's rmse: 0.285139\n",
            "[700]\ttrain's rmse: 0.262413\teval's rmse: 0.285047\n",
            "[800]\ttrain's rmse: 0.259866\teval's rmse: 0.28496\n",
            "[900]\ttrain's rmse: 0.257407\teval's rmse: 0.284925\n",
            "[1000]\ttrain's rmse: 0.254943\teval's rmse: 0.284875\n",
            "[1100]\ttrain's rmse: 0.252659\teval's rmse: 0.284851\n",
            "Early stopping, best iteration is:\n",
            "[1124]\ttrain's rmse: 0.252104\teval's rmse: 0.284836\n",
            "Training fold 5 completed. macro f1 score : 0.79054\n",
            "Training train_group 4 completed...\n",
            "Training train_group 5 started...\n",
            "Our training dataset shape is (800000, 142)\n",
            "Our validation dataset shape is (200000, 142)\n",
            "Training until validation scores don't improve for 50 rounds.\n",
            "[100]\ttrain's rmse: 0.140286\teval's rmse: 0.145985\n",
            "[200]\ttrain's rmse: 0.116349\teval's rmse: 0.12893\n",
            "[300]\ttrain's rmse: 0.111884\teval's rmse: 0.128728\n",
            "[400]\ttrain's rmse: 0.108301\teval's rmse: 0.128614\n",
            "[500]\ttrain's rmse: 0.105272\teval's rmse: 0.12857\n",
            "Early stopping, best iteration is:\n",
            "[531]\ttrain's rmse: 0.104313\teval's rmse: 0.128549\n",
            "Training fold 1 completed. macro f1 score : 0.97452\n",
            "Our training dataset shape is (800000, 142)\n",
            "Our validation dataset shape is (200000, 142)\n",
            "Training until validation scores don't improve for 50 rounds.\n",
            "[100]\ttrain's rmse: 0.140504\teval's rmse: 0.145032\n",
            "[200]\ttrain's rmse: 0.116523\teval's rmse: 0.128033\n",
            "[300]\ttrain's rmse: 0.112037\teval's rmse: 0.127864\n",
            "[400]\ttrain's rmse: 0.108492\teval's rmse: 0.127754\n",
            "[500]\ttrain's rmse: 0.10532\teval's rmse: 0.127732\n",
            "Early stopping, best iteration is:\n",
            "[501]\ttrain's rmse: 0.105291\teval's rmse: 0.127731\n",
            "Training fold 2 completed. macro f1 score : 0.97335\n",
            "Our training dataset shape is (800000, 142)\n",
            "Our validation dataset shape is (200000, 142)\n",
            "Training until validation scores don't improve for 50 rounds.\n",
            "[100]\ttrain's rmse: 0.140075\teval's rmse: 0.14677\n",
            "[200]\ttrain's rmse: 0.116059\teval's rmse: 0.1299\n",
            "[300]\ttrain's rmse: 0.111519\teval's rmse: 0.129699\n",
            "[400]\ttrain's rmse: 0.107943\teval's rmse: 0.129626\n",
            "[500]\ttrain's rmse: 0.104907\teval's rmse: 0.129605\n",
            "Early stopping, best iteration is:\n",
            "[472]\ttrain's rmse: 0.105673\teval's rmse: 0.129596\n",
            "Training fold 3 completed. macro f1 score : 0.97042\n",
            "Our training dataset shape is (800000, 142)\n",
            "Our validation dataset shape is (200000, 142)\n",
            "Training until validation scores don't improve for 50 rounds.\n",
            "[100]\ttrain's rmse: 0.140245\teval's rmse: 0.146342\n",
            "[200]\ttrain's rmse: 0.116193\teval's rmse: 0.129662\n",
            "[300]\ttrain's rmse: 0.111774\teval's rmse: 0.129479\n",
            "[400]\ttrain's rmse: 0.108222\teval's rmse: 0.129374\n",
            "[500]\ttrain's rmse: 0.105216\teval's rmse: 0.129312\n",
            "[600]\ttrain's rmse: 0.102448\teval's rmse: 0.129239\n",
            "[700]\ttrain's rmse: 0.0999486\teval's rmse: 0.129217\n",
            "Early stopping, best iteration is:\n",
            "[667]\ttrain's rmse: 0.100775\teval's rmse: 0.129212\n",
            "Training fold 4 completed. macro f1 score : 0.97186\n",
            "Our training dataset shape is (800000, 142)\n",
            "Our validation dataset shape is (200000, 142)\n",
            "Training until validation scores don't improve for 50 rounds.\n",
            "[100]\ttrain's rmse: 0.140095\teval's rmse: 0.146632\n",
            "[200]\ttrain's rmse: 0.116044\teval's rmse: 0.129846\n",
            "[300]\ttrain's rmse: 0.111532\teval's rmse: 0.129642\n",
            "[400]\ttrain's rmse: 0.108058\teval's rmse: 0.12958\n",
            "Early stopping, best iteration is:\n",
            "[437]\ttrain's rmse: 0.106894\teval's rmse: 0.129541\n",
            "Training fold 5 completed. macro f1 score : 0.97262\n",
            "Training train_group 5 completed...\n",
            "Training completed...\n"
          ],
          "name": "stdout"
        }
      ]
    },
    {
      "cell_type": "code",
      "metadata": {
        "id": "wCog4u03y50S",
        "colab_type": "code",
        "colab": {}
      },
      "source": [
        "def sort_oof_data(arr):\n",
        "  arr_ = []\n",
        "  arr_ += arr[0][0:].tolist()\n",
        "  arr_ += arr[1][0:500000].tolist()\n",
        "  arr_ += arr[2][0:500000].tolist()\n",
        "  arr_ += arr[3][0:500000].tolist()\n",
        "  arr_ += arr[4][0:500000].tolist()\n",
        "  arr_ += arr[1][500000:].tolist()\n",
        "  arr_ += arr[2][500000:].tolist()\n",
        "  arr_ += arr[4][500000:].tolist()\n",
        "  arr_ += arr[3][500000:].tolist()\n",
        "  return arr_\n",
        "\n",
        "full_oof = sort_oof_data(oofs)"
      ],
      "execution_count": 0,
      "outputs": []
    },
    {
      "cell_type": "code",
      "metadata": {
        "id": "eg8cGTBpy76J",
        "colab_type": "code",
        "colab": {}
      },
      "source": [
        "def sort_pred_data(arr):\n",
        "  arr_ = []\n",
        "  arr_ += arr[0][0:100000].tolist()\n",
        "  arr_ += arr[2][0:100000].tolist()\n",
        "  arr_ += arr[4][0:100000].tolist()\n",
        "  arr_ += arr[0][100000:200000].tolist()\n",
        "  arr_ += arr[1][0:100000].tolist()\n",
        "  arr_ += arr[3][0:100000].tolist()\n",
        "  arr_ += arr[4][100000:].tolist()\n",
        "  arr_ += arr[3][100000:].tolist()\n",
        "  arr_ += arr[0][200000:300000].tolist()\n",
        "  arr_ += arr[2][100000:].tolist()\n",
        "  arr_ += arr[0][300000:].tolist()\n",
        "  return arr_\n",
        "\n",
        "full_pred = sort_pred_data(preds)"
      ],
      "execution_count": 0,
      "outputs": []
    },
    {
      "cell_type": "code",
      "metadata": {
        "id": "Q8LawFfpy9uw",
        "colab_type": "code",
        "outputId": "49b0b23b-0f38-4e6b-a44d-57e31a63ad88",
        "colab": {
          "base_uri": "https://localhost:8080/",
          "height": 34
        }
      },
      "source": [
        "f1_score_ = f1_score(train.open_channels,  np.round(np.clip(full_oof, 0, 10)).astype(int), average = 'macro')\n",
        "print(f'Training completed. oof macro f1 score : {f1_score_:1.5f}')\n",
        "sample_submission['open_channels'] = np.round(np.clip(full_pred, 0, 10)).astype(int)\n",
        "sample_submission.to_csv('lgb_submission.csv', index=False, float_format='%.4f')"
      ],
      "execution_count": 35,
      "outputs": [
        {
          "output_type": "stream",
          "text": [
            "Training completed. oof macro f1 score : 0.94027\n"
          ],
          "name": "stdout"
        }
      ]
    },
    {
      "cell_type": "code",
      "metadata": {
        "id": "j8N2QuObT6Rf",
        "colab_type": "code",
        "outputId": "c3de554e-6939-4a88-8f74-67acdfdead18",
        "colab": {
          "base_uri": "https://localhost:8080/",
          "height": 68
        }
      },
      "source": [
        "!kaggle competitions submit -f './lgb_submission.csv' -m 'lgb' liverpool-ion-switching"
      ],
      "execution_count": 36,
      "outputs": [
        {
          "output_type": "stream",
          "text": [
            "Warning: Looks like you're using an outdated API Version, please consider updating (server 1.5.6 / client 1.5.4)\n",
            "100% 21.0M/21.0M [00:08<00:00, 2.59MB/s]\n",
            "Successfully submitted to University of Liverpool - Ion Switching"
          ],
          "name": "stdout"
        }
      ]
    },
    {
      "cell_type": "markdown",
      "metadata": {
        "id": "fwmBMaXEmdGW",
        "colab_type": "text"
      },
      "source": [
        "training with clean_kalman\n",
        "> Training completed. oof macro f1 score : 0.93940  \n",
        "> LB : 0.940  \n",
        "\n",
        "clean_kalman  \n",
        "add category  \n",
        "add 20shifted\n",
        "> Training completed. oof macro f1 score : 0.93941  \n",
        "> LB : 0.940\n",
        "\n",
        "clean_kalman  \n",
        "add category  \n",
        "add 20shifted  \n",
        "add target encoding(group)\n",
        "> Training completed. oof macro f1 score : 0.93880  \n",
        "> LB : 0.653\n",
        "\n",
        "clean_kalman + add category + add 20shifted\n",
        "> Training completed. oof macro f1 score : 0.93953  \n",
        "> LB : 0.942  \n",
        "\n",
        "clean_kalman + add category + add 20shifted + target encording(category)  \n",
        ">　Training completed. oof macro f1 score : 0.93842  \n",
        ">　LB : 0.941"
      ]
    },
    {
      "cell_type": "code",
      "metadata": {
        "id": "caPUEw17moRo",
        "colab_type": "code",
        "colab": {}
      },
      "source": [
        ""
      ],
      "execution_count": 0,
      "outputs": []
    }
  ]
}