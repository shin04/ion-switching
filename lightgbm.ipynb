{
  "nbformat": 4,
  "nbformat_minor": 0,
  "metadata": {
    "colab": {
      "name": "lightgbm",
      "provenance": [],
      "collapsed_sections": [],
      "machine_shape": "hm",
      "authorship_tag": "ABX9TyMAwucDMenkvzVM18/mRHY9",
      "include_colab_link": true
    },
    "kernelspec": {
      "name": "python3",
      "display_name": "Python 3"
    }
  },
  "cells": [
    {
      "cell_type": "markdown",
      "metadata": {
        "id": "view-in-github",
        "colab_type": "text"
      },
      "source": [
        "<a href=\"https://colab.research.google.com/github/shin04/ion-switching/blob/master/lightgbm.ipynb\" target=\"_parent\"><img src=\"https://colab.research.google.com/assets/colab-badge.svg\" alt=\"Open In Colab\"/></a>"
      ]
    },
    {
      "cell_type": "code",
      "metadata": {
        "id": "YJNHw6jrSCvs",
        "colab_type": "code",
        "colab": {
          "base_uri": "https://localhost:8080/",
          "height": 204
        },
        "outputId": "e68383ad-1eaf-4cd8-bb42-f9c963a074ff"
      },
      "source": [
        "!pip install kaggle"
      ],
      "execution_count": 3,
      "outputs": [
        {
          "output_type": "stream",
          "text": [
            "Requirement already satisfied: kaggle in /usr/local/lib/python3.6/dist-packages (1.5.6)\n",
            "Requirement already satisfied: certifi in /usr/local/lib/python3.6/dist-packages (from kaggle) (2020.4.5.1)\n",
            "Requirement already satisfied: python-slugify in /usr/local/lib/python3.6/dist-packages (from kaggle) (4.0.0)\n",
            "Requirement already satisfied: requests in /usr/local/lib/python3.6/dist-packages (from kaggle) (2.23.0)\n",
            "Requirement already satisfied: tqdm in /usr/local/lib/python3.6/dist-packages (from kaggle) (4.41.1)\n",
            "Requirement already satisfied: six>=1.10 in /usr/local/lib/python3.6/dist-packages (from kaggle) (1.12.0)\n",
            "Requirement already satisfied: urllib3<1.25,>=1.21.1 in /usr/local/lib/python3.6/dist-packages (from kaggle) (1.24.3)\n",
            "Requirement already satisfied: python-dateutil in /usr/local/lib/python3.6/dist-packages (from kaggle) (2.8.1)\n",
            "Requirement already satisfied: text-unidecode>=1.3 in /usr/local/lib/python3.6/dist-packages (from python-slugify->kaggle) (1.3)\n",
            "Requirement already satisfied: chardet<4,>=3.0.2 in /usr/local/lib/python3.6/dist-packages (from requests->kaggle) (3.0.4)\n",
            "Requirement already satisfied: idna<3,>=2.5 in /usr/local/lib/python3.6/dist-packages (from requests->kaggle) (2.9)\n"
          ],
          "name": "stdout"
        }
      ]
    },
    {
      "cell_type": "code",
      "metadata": {
        "id": "VRVk22KlSPu0",
        "colab_type": "code",
        "colab": {
          "base_uri": "https://localhost:8080/",
          "height": 34
        },
        "outputId": "b6c36b0e-0b46-4ab0-e5ca-8dd2d29885fe"
      },
      "source": [
        "from googleapiclient.discovery import build\n",
        "import io, os\n",
        "from googleapiclient.http import MediaIoBaseDownload\n",
        "from google.colab import auth\n",
        "\n",
        "auth.authenticate_user()\n",
        "\n",
        "drive_service = build('drive', 'v3')\n",
        "results = drive_service.files().list(\n",
        "        q=\"name = 'kaggle.json'\", fields=\"files(id)\").execute()\n",
        "kaggle_api_key = results.get('files', [])\n",
        "\n",
        "filename = \"/root/.kaggle/kaggle.json\"\n",
        "os.makedirs(os.path.dirname(filename), exist_ok=True)\n",
        "\n",
        "request = drive_service.files().get_media(fileId=kaggle_api_key[0]['id'])\n",
        "fh = io.FileIO(filename, 'wb')\n",
        "downloader = MediaIoBaseDownload(fh, request)\n",
        "done = False\n",
        "while done is False:\n",
        "    status, done = downloader.next_chunk()\n",
        "    print(\"Download %d%%.\" % int(status.progress() * 100))\n",
        "os.chmod(filename, 600)"
      ],
      "execution_count": 4,
      "outputs": [
        {
          "output_type": "stream",
          "text": [
            "Download 100%.\n"
          ],
          "name": "stdout"
        }
      ]
    },
    {
      "cell_type": "code",
      "metadata": {
        "id": "M7oEMFs7SR7M",
        "colab_type": "code",
        "outputId": "25c6fa45-d665-4527-ea62-d0dd2689b537",
        "colab": {
          "base_uri": "https://localhost:8080/",
          "height": 68
        }
      },
      "source": [
        "!kaggle datasets download -d cdeotte/data-without-drift"
      ],
      "execution_count": 5,
      "outputs": [
        {
          "output_type": "stream",
          "text": [
            "Downloading data-without-drift.zip to /content\n",
            " 71% 39.0M/55.0M [00:01<00:00, 20.1MB/s]\n",
            "100% 55.0M/55.0M [00:01<00:00, 47.4MB/s]\n"
          ],
          "name": "stdout"
        }
      ]
    },
    {
      "cell_type": "code",
      "metadata": {
        "id": "UqLv3DkuSkXf",
        "colab_type": "code",
        "outputId": "62e43df2-251e-4b75-be05-41da137b3b09",
        "colab": {
          "base_uri": "https://localhost:8080/",
          "height": 68
        }
      },
      "source": [
        "!kaggle datasets download -d sggpls/ion-shifted-rfc-proba"
      ],
      "execution_count": 6,
      "outputs": [
        {
          "output_type": "stream",
          "text": [
            "Downloading ion-shifted-rfc-proba.zip to /content\n",
            " 99% 221M/222M [00:06<00:00, 19.1MB/s]\n",
            "100% 222M/222M [00:06<00:00, 38.0MB/s]\n"
          ],
          "name": "stdout"
        }
      ]
    },
    {
      "cell_type": "code",
      "metadata": {
        "id": "QA9CDVT3tAIm",
        "colab_type": "code",
        "outputId": "ffcb5b9a-ec03-4e7d-b7cf-002c2dc409be",
        "colab": {
          "base_uri": "https://localhost:8080/",
          "height": 68
        }
      },
      "source": [
        "!kaggle datasets download -d ragnar123/clean-kalman"
      ],
      "execution_count": 7,
      "outputs": [
        {
          "output_type": "stream",
          "text": [
            "Downloading clean-kalman.zip to /content\n",
            " 92% 73.0M/79.0M [00:01<00:00, 35.0MB/s]\n",
            "100% 79.0M/79.0M [00:01<00:00, 45.5MB/s]\n"
          ],
          "name": "stdout"
        }
      ]
    },
    {
      "cell_type": "code",
      "metadata": {
        "id": "SpUupDkYSl3M",
        "colab_type": "code",
        "outputId": "4600e7d0-d3cd-41e1-84d8-f01b48d2441f",
        "colab": {
          "base_uri": "https://localhost:8080/",
          "height": 187
        }
      },
      "source": [
        "!kaggle competitions download -c liverpool-ion-switching"
      ],
      "execution_count": 8,
      "outputs": [
        {
          "output_type": "stream",
          "text": [
            "Warning: Looks like you're using an outdated API Version, please consider updating (server 1.5.6 / client 1.5.4)\n",
            "Downloading test.csv.zip to /content\n",
            " 50% 5.00M/9.91M [00:00<00:00, 14.8MB/s]\n",
            "100% 9.91M/9.91M [00:00<00:00, 25.1MB/s]\n",
            "Downloading train.csv.zip to /content\n",
            " 34% 9.00M/26.6M [00:00<00:01, 16.3MB/s]\n",
            "100% 26.6M/26.6M [00:00<00:00, 41.9MB/s]\n",
            "Downloading sample_submission.csv.zip to /content\n",
            "100% 4.27M/4.27M [00:00<00:00, 23.9MB/s]\n",
            "\n"
          ],
          "name": "stdout"
        }
      ]
    },
    {
      "cell_type": "code",
      "metadata": {
        "id": "79QyU1isSnZH",
        "colab_type": "code",
        "outputId": "73326a01-dbda-492b-c471-86269529f845",
        "colab": {
          "base_uri": "https://localhost:8080/",
          "height": 391
        }
      },
      "source": [
        "!unzip -o '*.zip'"
      ],
      "execution_count": 9,
      "outputs": [
        {
          "output_type": "stream",
          "text": [
            "Archive:  clean-kalman.zip\n",
            "  inflating: test_clean_kalman.csv   \n",
            "  inflating: train_clean_kalman.csv  \n",
            "\n",
            "Archive:  data-without-drift.zip\n",
            "  inflating: test_clean.csv          \n",
            "  inflating: train_clean.csv         \n",
            "\n",
            "Archive:  train.csv.zip\n",
            "  inflating: train.csv               \n",
            "\n",
            "Archive:  test.csv.zip\n",
            "  inflating: test.csv                \n",
            "\n",
            "Archive:  ion-shifted-rfc-proba.zip\n",
            "  inflating: Y_test_proba.npy        \n",
            "  inflating: Y_train_proba.npy       \n",
            "\n",
            "Archive:  sample_submission.csv.zip\n",
            "  inflating: sample_submission.csv   \n",
            "\n",
            "6 archives were successfully processed.\n"
          ],
          "name": "stdout"
        }
      ]
    },
    {
      "cell_type": "code",
      "metadata": {
        "id": "wveF_VMWw8PG",
        "colab_type": "code",
        "outputId": "bd1a0bcf-e73e-4a75-ee0b-4348db9dc47f",
        "colab": {
          "base_uri": "https://localhost:8080/",
          "height": 51
        }
      },
      "source": [
        "!pip install tensorflow_addons"
      ],
      "execution_count": 10,
      "outputs": [
        {
          "output_type": "stream",
          "text": [
            "Requirement already satisfied: tensorflow_addons in /usr/local/lib/python3.6/dist-packages (0.8.3)\n",
            "Requirement already satisfied: typeguard in /usr/local/lib/python3.6/dist-packages (from tensorflow_addons) (2.7.1)\n"
          ],
          "name": "stdout"
        }
      ]
    },
    {
      "cell_type": "code",
      "metadata": {
        "id": "NLiQ1cLhSpr6",
        "colab_type": "code",
        "colab": {}
      },
      "source": [
        "import tensorflow as tf\n",
        "from tensorflow.keras.layers import Conv1D, Input, Dense, Add, Multiply, BatchNormalization, Activation, Dropout\n",
        "import pandas as pd\n",
        "import numpy as np\n",
        "import random\n",
        "from tensorflow.keras.callbacks import Callback, LearningRateScheduler\n",
        "from tensorflow.keras.losses import categorical_crossentropy\n",
        "from tensorflow.keras.optimizers import Adam\n",
        "from tensorflow.keras import backend as K\n",
        "from tensorflow.keras import losses, models, optimizers\n",
        "import tensorflow_addons as tfa\n",
        "import gc\n",
        "from tqdm import tqdm\n",
        "from scipy import signal\n",
        "\n",
        "import lightgbm as lgb\n",
        "\n",
        "from sklearn.model_selection import GroupKFold, StratifiedKFold\n",
        "from sklearn.metrics import f1_score\n",
        "\n",
        "import warnings\n",
        "warnings.simplefilter('ignore')\n",
        "warnings.filterwarnings('ignore')\n",
        "pd.set_option('display.max_columns', 1000)\n",
        "pd.set_option('display.max_rows', 500)\n",
        "\n",
        "import os\n",
        "for dirname, _, filenames in os.walk('/kaggle/input'):\n",
        "    for filename in filenames:\n",
        "        print(os.path.join(dirname, filename))\n",
        "\n",
        "# Any results you write to the current directory are saved as output."
      ],
      "execution_count": 0,
      "outputs": []
    },
    {
      "cell_type": "code",
      "metadata": {
        "id": "UDn2jHk8Svhd",
        "colab_type": "code",
        "colab": {}
      },
      "source": [
        "# configurations and main hyperparammeters\n",
        "EPOCHS = 110\n",
        "NNBATCHSIZE = 16\n",
        "GROUP_BATCH_SIZE = 4000\n",
        "SEED = 321\n",
        "LR = 0.001\n",
        "SPLITS = 5\n",
        "\n",
        "def seed_everything(seed):\n",
        "    random.seed(seed)\n",
        "    np.random.seed(seed)\n",
        "    os.environ['PYTHONHASHSEED'] = str(seed)\n",
        "    tf.random.set_seed(seed)"
      ],
      "execution_count": 0,
      "outputs": []
    },
    {
      "cell_type": "code",
      "metadata": {
        "id": "hd5ZOykHSyC9",
        "colab_type": "code",
        "colab": {}
      },
      "source": [
        "# read data\n",
        "def read_data():\n",
        "\n",
        "    train = pd.read_csv('./train_clean_kalman.csv', dtype={'time': np.float32, 'signal': np.float32, 'open_channels':np.int32})\n",
        "    test  = pd.read_csv('./test_clean_kalman.csv', dtype={'time': np.float32, 'signal': np.float32})\n",
        "    sub  = pd.read_csv('./sample_submission.csv', dtype={'time': np.float32})\n",
        "    \n",
        "    Y_train_proba = np.load(\"./Y_train_proba.npy\")\n",
        "    Y_test_proba = np.load(\"./Y_test_proba.npy\")\n",
        "    \n",
        "    for i in range(11):\n",
        "        train[f\"proba_{i}\"] = Y_train_proba[:, i]\n",
        "        test[f\"proba_{i}\"] = Y_test_proba[:, i]\n",
        "\n",
        "    return train, test, sub"
      ],
      "execution_count": 0,
      "outputs": []
    },
    {
      "cell_type": "code",
      "metadata": {
        "id": "aZTrfQXOLwvM",
        "colab_type": "code",
        "colab": {}
      },
      "source": [
        "# def batching_10(train, test):\n",
        "#     # concatenate data\n",
        "#     batch = 50\n",
        "#     total_batches = 14\n",
        "#     train['set'] = 'train'\n",
        "#     test['set'] = 'test'\n",
        "#     data = pd.concat([train, test])\n",
        "#     for i in range(int(total_batches)):\n",
        "#         data.loc[(data['time'] > i * batch) & (data['time'] <= (i + 1) * batch), 'batch'] = i + 1\n",
        "#     train = data[data['set'] == 'train']\n",
        "#     test = data[data['set'] == 'test']\n",
        "#     train.drop(['set'], inplace = True, axis = 1)\n",
        "#     test.drop(['set'], inplace = True, axis = 1)\n",
        "#     del data\n",
        "#     return train, test"
      ],
      "execution_count": 0,
      "outputs": []
    },
    {
      "cell_type": "code",
      "metadata": {
        "id": "I_pkElMAS8fA",
        "colab_type": "code",
        "colab": {}
      },
      "source": [
        "# create batches of 4000 observations\n",
        "def batching(df, batch_size):\n",
        "    df['group'] = df.groupby(df.index//batch_size, sort=False)['signal'].agg(['ngroup']).values\n",
        "    df['group'] = df['group'].astype(np.uint16)\n",
        "    return df"
      ],
      "execution_count": 0,
      "outputs": []
    },
    {
      "cell_type": "code",
      "metadata": {
        "id": "vzokhYjyS-dU",
        "colab_type": "code",
        "colab": {}
      },
      "source": [
        "# normalize the data (standard scaler). We can also try other scalers for a better score!\n",
        "def normalize(train, test):\n",
        "    train_input_mean = train.signal.mean()\n",
        "    train_input_sigma = train.signal.std()\n",
        "    train['signal'] = (train.signal - train_input_mean) / train_input_sigma\n",
        "    test['signal'] = (test.signal - train_input_mean) / train_input_sigma\n",
        "    \n",
        "    return train, test"
      ],
      "execution_count": 0,
      "outputs": []
    },
    {
      "cell_type": "code",
      "metadata": {
        "id": "Qez_-uQBt-9W",
        "colab_type": "code",
        "colab": {}
      },
      "source": [
        "def add_category(train, test):\n",
        "  train[\"category\"] = 0\n",
        "  test[\"category\"] = 0\n",
        "\n",
        "  # train segments with more then 9 open channels classes\n",
        "  train.loc[2000000:2500000-1, 'category'] = 1\n",
        "  train.loc[4500000:5000000-1, 'category'] = 1\n",
        "\n",
        "  # test segments with more then 9 open channels classes (potentially)\n",
        "  test.loc[500000:600000-1, \"category\"] = 1\n",
        "  test.loc[700000:800000-1, \"category\"] = 1\n",
        "  \n",
        "  return train, test"
      ],
      "execution_count": 0,
      "outputs": []
    },
    {
      "cell_type": "code",
      "metadata": {
        "id": "zi8ajG9drc0f",
        "colab_type": "code",
        "colab": {}
      },
      "source": [
        "# signal processing features\n",
        "def calc_gradients(s, n_grads = 4):\n",
        "    '''\n",
        "    Calculate gradients for a pandas series. Returns the same number of samples\n",
        "    '''\n",
        "    grads = pd.DataFrame()\n",
        "    \n",
        "    g = s.values\n",
        "    for i in range(n_grads):\n",
        "        g = np.gradient(g)\n",
        "        grads['grad_' + str(i+1)] = g\n",
        "        \n",
        "    return grads\n",
        "\n",
        "def calc_low_pass(s, n_filts=10):\n",
        "    '''\n",
        "    Applies low pass filters to the signal. Left delayed and no delayed\n",
        "    '''\n",
        "    wns = np.logspace(-2, -0.3, n_filts)\n",
        "    \n",
        "    low_pass = pd.DataFrame()\n",
        "    x = s.values\n",
        "    for wn in wns:\n",
        "        b, a = signal.butter(1, Wn=wn, btype='low')\n",
        "        zi = signal.lfilter_zi(b, a)\n",
        "        low_pass['lowpass_lf_' + str('%.4f' %wn)] = signal.lfilter(b, a, x, zi=zi*x[0])[0]\n",
        "        low_pass['lowpass_ff_' + str('%.4f' %wn)] = signal.filtfilt(b, a, x)\n",
        "        \n",
        "    return low_pass\n",
        "\n",
        "def calc_high_pass(s, n_filts=10):\n",
        "    '''\n",
        "    Applies high pass filters to the signal. Left delayed and no delayed\n",
        "    '''\n",
        "    wns = np.logspace(-2, -0.1, n_filts)\n",
        "    \n",
        "    high_pass = pd.DataFrame()\n",
        "    x = s.values\n",
        "    for wn in wns:\n",
        "        b, a = signal.butter(1, Wn=wn, btype='high')\n",
        "        zi = signal.lfilter_zi(b, a)\n",
        "        high_pass['highpass_lf_' + str('%.4f' %wn)] = signal.lfilter(b, a, x, zi=zi*x[0])[0]\n",
        "        high_pass['highpass_ff_' + str('%.4f' %wn)] = signal.filtfilt(b, a, x)\n",
        "        \n",
        "    return high_pass\n",
        "\n",
        "def calc_ewm(s, windows=[10, 50, 100, 500, 1000]):\n",
        "    '''\n",
        "    Calculates exponential weighted functions\n",
        "    '''\n",
        "    ewm = pd.DataFrame()\n",
        "    for w in windows:\n",
        "        ewm['ewm_mean_' + str(w)] = s.ewm(span=w, min_periods=1).mean()\n",
        "        ewm['ewm_std_' + str(w)] = s.ewm(span=w, min_periods=1).std()\n",
        "        \n",
        "    # add zeros when na values (std)\n",
        "    ewm = ewm.fillna(value=0)\n",
        "        \n",
        "    return ewm\n",
        "\n",
        "\n",
        "def add_features(s):\n",
        "    '''\n",
        "    All calculations together\n",
        "    '''\n",
        "    \n",
        "    gradients = calc_gradients(s)\n",
        "    low_pass = calc_low_pass(s)\n",
        "    high_pass = calc_high_pass(s)\n",
        "    ewm = calc_ewm(s)\n",
        "    \n",
        "    return pd.concat([s, gradients, low_pass, high_pass, ewm], axis=1)\n",
        "\n",
        "\n",
        "# signal_size を考える\n",
        "# 500000? or 4000?\n",
        "def divide_and_add_features(s, signal_size=500000):\n",
        "    '''\n",
        "    Divide the signal in bags of \"signal_size\".\n",
        "    Normalize the data dividing it by 15.0\n",
        "    '''\n",
        "    # normalize\n",
        "    s = s / 15.0\n",
        "    \n",
        "    ls = []\n",
        "    for i in tqdm(range(int(s.shape[0]/signal_size))):\n",
        "        sig = s[i*signal_size:(i+1)*signal_size].copy().reset_index(drop=True)\n",
        "        sig_featured = add_features(sig)\n",
        "        ls.append(sig_featured)\n",
        "    \n",
        "    return pd.concat(ls, axis=0)"
      ],
      "execution_count": 0,
      "outputs": []
    },
    {
      "cell_type": "code",
      "metadata": {
        "id": "uvqlr0beS_62",
        "colab_type": "code",
        "colab": {}
      },
      "source": [
        "# get lead and lags features\n",
        "def lag_with_pct_change(df, windows):\n",
        "    for window in windows:    \n",
        "        df['signal_shift_pos_' + str(window)] = df.groupby('group')['signal'].shift(window).fillna(0)\n",
        "        df['signal_shift_neg_' + str(window)] = df.groupby('group')['signal'].shift(-1 * window).fillna(0)\n",
        "    return df"
      ],
      "execution_count": 0,
      "outputs": []
    },
    {
      "cell_type": "code",
      "metadata": {
        "id": "aWSG9xWHWlhP",
        "colab_type": "code",
        "colab": {}
      },
      "source": [
        "def calc_roll_stats(df, windows, group='group'):\n",
        "    '''\n",
        "    Calculates rolling stats like mean, std, min, max...\n",
        "    '''\n",
        "    for i, window in enumerate(windows):\n",
        "      df[group + 'roll_mean_' + str(window)] = df.groupby(group)['signal'].rolling(window=window, min_periods=window).mean().fillna(0).values\n",
        "      df[group + 'roll_std_' + str(window)] = df.groupby(group)['signal'].rolling(window=window, min_periods=window).std().fillna(0).values\n",
        "      df[group + 'roll_min_' + str(window)] = df.groupby(group)['signal'].rolling(window=window, min_periods=window).min().fillna(0).values\n",
        "      df[group + 'roll_max_' + str(window)] = df.groupby(group)['signal'].rolling(window=window, min_periods=window).max().fillna(0).values\n",
        "      df[group + 'roll_range' + str(window)] = df[group + 'roll_max_' + str(window)] - df[group + 'roll_min_' + str(window)]\n",
        "\n",
        "      df['roll_q10_' + str(window)] = df.groupby('group')['signal'].rolling(window=window, min_periods=1).quantile(0.10).fillna(0).values\n",
        "      df['roll_q25_' + str(window)] = df.groupby('group')['signal'].rolling(window=window, min_periods=1).quantile(0.25).fillna(0).values\n",
        "      df['roll_q50_' + str(window)] = df.groupby('group')['signal'].rolling(window=window, min_periods=1).quantile(0.50).fillna(0).values\n",
        "      df['roll_q75_' + str(window)] = df.groupby('group')['signal'].rolling(window=window, min_periods=1).quantile(0.75).fillna(0).values\n",
        "      df['roll_q90_' + str(window)] = df.groupby('group')['signal'].rolling(window=window, min_periods=1).quantile(0.90).fillna(0).values\n",
        "             \n",
        "    return df"
      ],
      "execution_count": 0,
      "outputs": []
    },
    {
      "cell_type": "code",
      "metadata": {
        "id": "4sJgvILz6ppL",
        "colab_type": "code",
        "colab": {}
      },
      "source": [
        "def calc_expand_stats(df, group='group'):\n",
        "  df['expanding_mean'] = df.groupby(group)['signal'].expanding().mean().fillna(0).values\n",
        "  df['expanding_std'] = df.groupby(group)['signal'].expanding().std().fillna(0).values\n",
        "  df['expanding_max'] = df.groupby(group)['signal'].expanding().max().fillna(0).values\n",
        "  df['expanding_min'] = df.groupby(group)['signal'].expanding().min().fillna(0).values\n",
        "  df['expanding_range'] = df['expanding_max'] - df['expanding_min']\n",
        "  \n",
        "  return df"
      ],
      "execution_count": 0,
      "outputs": []
    },
    {
      "cell_type": "code",
      "metadata": {
        "id": "abANAaO5T4l6",
        "colab_type": "code",
        "colab": {}
      },
      "source": [
        "# main module to run feature engineering. Here you may want to try and add other features and check if your score imporves :).\n",
        "def run_feat_engineering(df, batch_size):\n",
        "    # create batches\n",
        "    df = batching(df, batch_size = batch_size)\n",
        "\n",
        "    # create leads and lags\n",
        "    df = lag_with_pct_change(df, np.asarray(range(1, 3), dtype=np.int32))\n",
        "\n",
        "    # create rolling stats\n",
        "    df = calc_roll_stats(df, [3, 10, 50, 100, 500, 1000]) # groupごと(4000)\n",
        "    # df = calc_roll_stats(df, [50000, 100000], group='batch') # batchごと(500000)\n",
        "\n",
        "    # create signal ** 2 (this is the new feature)\n",
        "    df['signal_2'] = df['signal'] ** 2\n",
        "\n",
        "    return df"
      ],
      "execution_count": 0,
      "outputs": []
    },
    {
      "cell_type": "code",
      "metadata": {
        "id": "xkDA5AB3TB13",
        "colab_type": "code",
        "colab": {}
      },
      "source": [
        "# fillna with the mean and select features for training\n",
        "def feature_selection(train, test):\n",
        "    features = [col for col in train.columns if col not in ['index', 'group', 'open_channels', 'time', 'batch', 'train_group', 'test_group']]\n",
        "    train = train.replace([np.inf, -np.inf], np.nan)\n",
        "    test = test.replace([np.inf, -np.inf], np.nan)\n",
        "    for feature in features:\n",
        "        feature_mean = pd.concat([train[feature], test[feature]], axis = 0).mean()\n",
        "        train[feature] = train[feature].fillna(feature_mean)\n",
        "        test[feature] = test[feature].fillna(feature_mean)\n",
        "    return train, test, features"
      ],
      "execution_count": 0,
      "outputs": []
    },
    {
      "cell_type": "code",
      "metadata": {
        "id": "arzvPi4DTJNs",
        "colab_type": "code",
        "colab": {}
      },
      "source": [
        "# main function to perfrom groupkfold cross validation (we have 1000 vectores of 4000 rows and 8 features (columns)). Going to make 5 groups with this subgroups.\n",
        "def run_cv_model_by_batch(train, test, splits, batch_col, feats, sample_submission):\n",
        "    oof_ = np.zeros(len(train))\n",
        "    preds_ = np.zeros(len(test))\n",
        "    target = ['open_channels']\n",
        "    group = train['group']\n",
        "    # kf = GroupKFold(n_splits=5)\n",
        "    kf = StratifiedKFold(n_splits = 5, shuffle = True, random_state = 42)\n",
        "\n",
        "    for n_fold, (tr_idx, val_idx) in enumerate(kf.split(train, train[target], groups=group)):\n",
        "        train_x, train_y = train.iloc[tr_idx], train[target].iloc[tr_idx]\n",
        "        valid_x, valid_y = train.iloc[val_idx], train[target].iloc[val_idx]\n",
        "        print(f'Our training dataset shape is {train_x.shape}')\n",
        "        print(f'Our validation dataset shape is {valid_x.shape}')\n",
        "\n",
        "        gc.collect()\n",
        "\n",
        "        train_set = lgb.Dataset(train_x[feats], train_y)\n",
        "        val_set = lgb.Dataset(valid_x[feats], valid_y)\n",
        "\n",
        "        params = {'boosting_type': 'gbdt',\n",
        "                'metric': 'rmse',\n",
        "                'objective': 'regression',\n",
        "                'n_jobs': -1,\n",
        "                'seed': 236,\n",
        "                'num_leaves': 280,\n",
        "                'learning_rate': 0.026623466966581126,\n",
        "                'max_depth': 73,\n",
        "                'lambda_l1': 2.959759088169741,\n",
        "                'lambda_l2': 1.331172832164913,\n",
        "                'bagging_fraction': 0.9655406551472153,\n",
        "                'bagging_freq': 9,\n",
        "                'colsample_bytree': 0.6867118652742716}\n",
        "        \n",
        "        lgb_model = lgb.train(\n",
        "            params, \n",
        "            train_set, num_boost_round = 10000, \n",
        "            early_stopping_rounds = 50, \n",
        "            valid_sets = [train_set, val_set], \n",
        "            valid_names = ['train', 'eval'],\n",
        "            verbose_eval = 100,)\n",
        "\n",
        "        preds_f = lgb_model.predict(valid_x[feats])\n",
        "        f1_score_ = f1_score(valid_y,  np.round(np.clip(preds_f, 0, 10)).astype(int), average = 'macro')\n",
        "        print(f'Training fold {n_fold + 1} completed. macro f1 score : {f1_score_ :1.5f}')\n",
        "        oof_[val_idx] += preds_f\n",
        "        te_preds = lgb_model.predict(test[feats])\n",
        "        preds_ += te_preds / SPLITS\n",
        "\n",
        "    return preds_, oof_\n",
        "\n",
        "    # f1_score_ = f1_score(train[target],  np.round(np.clip(oof_, 0, 10)).astype(int), average = 'macro')\n",
        "    # print(f'Training completed. oof macro f1 score : {f1_score_:1.5f}')\n",
        "    # sample_submission['open_channels'] = np.round(np.clip(preds_, 0, 10)).astype(int)\n",
        "    # sample_submission.to_csv('lgb_submission.csv', index=False, float_format='%.4f')"
      ],
      "execution_count": 0,
      "outputs": []
    },
    {
      "cell_type": "code",
      "metadata": {
        "id": "hOM_WZ_5ZiYM",
        "colab_type": "code",
        "colab": {}
      },
      "source": [
        "def reduce_mem_usage(df, verbose=True):\n",
        "    numerics = ['int16', 'int32', 'int64', 'float16', 'float32', 'float64']\n",
        "    start_mem = df.memory_usage().sum() / 1024**2    \n",
        "    for col in df.columns:\n",
        "        if col!='open_channels':\n",
        "            col_type = df[col].dtypes\n",
        "            if col_type in numerics:\n",
        "                c_min = df[col].min()\n",
        "                c_max = df[col].max()\n",
        "                if str(col_type)[:3] == 'int':\n",
        "                    if c_min > np.iinfo(np.int8).min and c_max < np.iinfo(np.int8).max:\n",
        "                        df[col] = df[col].astype(np.int8)\n",
        "                    elif c_min > np.iinfo(np.int16).min and c_max < np.iinfo(np.int16).max:\n",
        "                        df[col] = df[col].astype(np.int16)\n",
        "                    elif c_min > np.iinfo(np.int32).min and c_max < np.iinfo(np.int32).max:\n",
        "                        df[col] = df[col].astype(np.int32)\n",
        "                    elif c_min > np.iinfo(np.int64).min and c_max < np.iinfo(np.int64).max:\n",
        "                        df[col] = df[col].astype(np.int64)  \n",
        "                else:\n",
        "                    if c_min > np.finfo(np.float16).min and c_max < np.finfo(np.float16).max:\n",
        "                        df[col] = df[col].astype(np.float16)\n",
        "                    elif c_min > np.finfo(np.float32).min and c_max < np.finfo(np.float32).max:\n",
        "                        df[col] = df[col].astype(np.float32)\n",
        "                    else:\n",
        "                        df[col] = df[col].astype(np.float64)    \n",
        "    end_mem = df.memory_usage().sum() / 1024**2\n",
        "    if verbose: print('Mem. usage decreased to {:5.2f} Mb ({:.1f}% reduction)'.format(end_mem, 100 * (start_mem - end_mem) / start_mem))\n",
        "    return df"
      ],
      "execution_count": 0,
      "outputs": []
    },
    {
      "cell_type": "code",
      "metadata": {
        "id": "esUCbE6mTLxE",
        "colab_type": "code",
        "outputId": "391ea7ff-e46a-4105-9c04-f12a4a9fad75",
        "colab": {
          "base_uri": "https://localhost:8080/",
          "height": 51
        }
      },
      "source": [
        "print('Reading Data Started...')\n",
        "train, test, sample_submission = read_data()\n",
        "train, test = normalize(train, test)\n",
        "print('Reading and Normalizing Data Completed')"
      ],
      "execution_count": 26,
      "outputs": [
        {
          "output_type": "stream",
          "text": [
            "Reading Data Started...\n",
            "Reading and Normalizing Data Completed\n"
          ],
          "name": "stdout"
        }
      ]
    },
    {
      "cell_type": "code",
      "metadata": {
        "id": "sYu0glRGTPu2",
        "colab_type": "code",
        "outputId": "6f6fe34d-6f36-4e02-c018-25f370714d80",
        "colab": {
          "base_uri": "https://localhost:8080/",
          "height": 102
        }
      },
      "source": [
        "print('Creating Features')\n",
        "print('Feature Engineering Started...')\n",
        "\n",
        "train, test = add_category(train, test)\n",
        "\n",
        "# train, test = batching_10(train, test)\n",
        "\n",
        "train = run_feat_engineering(train, batch_size = GROUP_BATCH_SIZE)\n",
        "test = run_feat_engineering(test, batch_size = GROUP_BATCH_SIZE)\n",
        "\n",
        "tr_clean = pd.read_csv('./train_clean.csv', dtype={'time': np.float32, 'signal': np.float32, 'open_channels':np.int32})\n",
        "ts_clean = pd.read_csv('./test_clean.csv', dtype={'time': np.float32, 'signal': np.float32})\n",
        "pre_train = divide_and_add_features(tr_clean.signal, signal_size=500000)\n",
        "pre_test = divide_and_add_features(ts_clean.signal, signal_size=500000)\n",
        "pre_train.drop('signal', axis=1, inplace=True)\n",
        "pre_test.drop('signal', axis=1, inplace=True)\n",
        "pre_train.reset_index(inplace = True, drop = True)\n",
        "pre_test.reset_index(inplace = True, drop = True)\n",
        "train = pd.concat([train, pre_train], axis=1)\n",
        "test = pd.concat([test, pre_test], axis=1)\n",
        "\n",
        "del pre_train, pre_test, tr_clean, ts_clean\n",
        "gc.collect\n",
        "\n",
        "train, test, features = feature_selection(train, test)\n",
        "print('Feature Engineering Completed...')"
      ],
      "execution_count": 27,
      "outputs": [
        {
          "output_type": "stream",
          "text": [
            "Creating Features\n",
            "Feature Engineering Started...\n"
          ],
          "name": "stdout"
        },
        {
          "output_type": "stream",
          "text": [
            "100%|██████████| 10/10 [00:08<00:00,  1.19it/s]\n",
            "100%|██████████| 4/4 [00:03<00:00,  1.15it/s]\n"
          ],
          "name": "stderr"
        },
        {
          "output_type": "stream",
          "text": [
            "Feature Engineering Completed...\n"
          ],
          "name": "stdout"
        }
      ]
    },
    {
      "cell_type": "code",
      "metadata": {
        "id": "h448uvloaCSb",
        "colab_type": "code",
        "outputId": "60cd78cc-108b-4846-eec9-6795eee9e417",
        "colab": {
          "base_uri": "https://localhost:8080/",
          "height": 68
        }
      },
      "source": [
        "print('Reduce memory usage...')\n",
        "train = reduce_mem_usage(train)\n",
        "test = reduce_mem_usage(test)"
      ],
      "execution_count": 28,
      "outputs": [
        {
          "output_type": "stream",
          "text": [
            "Reduce memory usage...\n",
            "Mem. usage decreased to 1292.23 Mb (74.6% reduction)\n",
            "Mem. usage decreased to 509.26 Mb (74.9% reduction)\n"
          ],
          "name": "stdout"
        }
      ]
    },
    {
      "cell_type": "code",
      "metadata": {
        "id": "MGptgjoR9m_q",
        "colab_type": "code",
        "colab": {}
      },
      "source": [
        "def train_grouping(train, test):\n",
        "  train.loc[0:1000000, 'train_group'] = 0          # batch 0 and 1\n",
        "  train.loc[1000000:1500000, 'train_group'] = 1  # batch 2\n",
        "  train.loc[1500000:2000000, 'train_group'] = 2  # batch 3\n",
        "  train.loc[2000000:2500000, 'train_group'] = 3  # batch 4\n",
        "  train.loc[2500000:3000000, 'train_group'] = 4  # batch 5\n",
        "  train.loc[3000000:3500000, 'train_group'] = 1  # batch 6\n",
        "  train.loc[3500000:4000000, 'train_group'] = 2  # batch 7\n",
        "  train.loc[4000000:4500000, 'train_group'] = 4  # batch 8\n",
        "  train.loc[4500000:5000001, 'train_group'] = 3  # batch 9\n",
        "\n",
        "  test.loc[0:100000, 'test_group'] = 0\n",
        "  test.loc[100000:200000, 'test_group'] = 2\n",
        "  test.loc[200000:300000, 'test_group'] = 4\n",
        "  test.loc[300000:400000, 'test_group'] = 0\n",
        "  test.loc[400000:500000, 'test_group'] = 1\n",
        "  test.loc[500000:600000, 'test_group'] = 3\n",
        "  test.loc[600000:700000, 'test_group'] = 4\n",
        "  test.loc[700000:800000, 'test_group'] = 3\n",
        "  test.loc[800000:900000, 'test_group'] = 0\n",
        "  test.loc[900000:1000000, 'test_group'] = 2\n",
        "  test.loc[1000000:, 'test_group'] = 0\n",
        "\n",
        "  return train, test"
      ],
      "execution_count": 0,
      "outputs": []
    },
    {
      "cell_type": "code",
      "metadata": {
        "id": "PEzL3Kv5Tviy",
        "colab_type": "code",
        "outputId": "914f596a-6694-4e90-ccd8-883eb634a596",
        "colab": {
          "base_uri": "https://localhost:8080/",
          "height": 1000
        }
      },
      "source": [
        "# print(f'Training lgb model with {SPLITS} folds of GroupKFold Started...')\n",
        "# run_cv_model_by_batch(train, test, SPLITS, 'group', features, sample_submission)\n",
        "# print('Training completed...')\n",
        "\n",
        "train. test = train_grouping(train, test)\n",
        "preds = []\n",
        "oofs = []\n",
        "print('Training started')\n",
        "for i in range(5):\n",
        "  print(f'Training train_group {i+1} started...')\n",
        "  group_train = train[train['train_group'] == i]\n",
        "  group_test = test[test['test_group'] == i]\n",
        "  pred, oof = run_cv_model_by_batch(group_train, group_test, SPLITS, 'group', features, sample_submission)\n",
        "  # preds += pred.tolist()\n",
        "  # oofs += oof.tolist()\n",
        "  preds.append(pred)\n",
        "  oofs.append(oof)\n",
        "  print(f'Training train_group {i+1} completed...')\n",
        "print('Training completed...')"
      ],
      "execution_count": 30,
      "outputs": [
        {
          "output_type": "stream",
          "text": [
            "Training started\n",
            "Training train_group 1 started...\n",
            "Our training dataset shape is (800000, 136)\n",
            "Our validation dataset shape is (200000, 136)\n",
            "Training until validation scores don't improve for 50 rounds.\n",
            "[100]\ttrain's rmse: 0.0193266\teval's rmse: 0.0209715\n",
            "[200]\ttrain's rmse: 0.0128926\teval's rmse: 0.0167169\n",
            "[300]\ttrain's rmse: 0.0109174\teval's rmse: 0.0166179\n",
            "Early stopping, best iteration is:\n",
            "[287]\ttrain's rmse: 0.0111401\teval's rmse: 0.0166131\n",
            "Training fold 1 completed. macro f1 score : 0.99735\n",
            "Our training dataset shape is (800000, 136)\n",
            "Our validation dataset shape is (200000, 136)\n",
            "Training until validation scores don't improve for 50 rounds.\n",
            "[100]\ttrain's rmse: 0.0193807\teval's rmse: 0.0206345\n",
            "[200]\ttrain's rmse: 0.013047\teval's rmse: 0.0164768\n",
            "Early stopping, best iteration is:\n",
            "[216]\ttrain's rmse: 0.0126946\teval's rmse: 0.0164315\n",
            "Training fold 2 completed. macro f1 score : 0.99724\n",
            "Our training dataset shape is (800000, 136)\n",
            "Our validation dataset shape is (200000, 136)\n",
            "Training until validation scores don't improve for 50 rounds.\n",
            "[100]\ttrain's rmse: 0.0193445\teval's rmse: 0.0204876\n",
            "[200]\ttrain's rmse: 0.0128896\teval's rmse: 0.0162164\n",
            "Early stopping, best iteration is:\n",
            "[234]\ttrain's rmse: 0.0121572\teval's rmse: 0.0161859\n",
            "Training fold 3 completed. macro f1 score : 0.99757\n",
            "Our training dataset shape is (800000, 136)\n",
            "Our validation dataset shape is (200000, 136)\n",
            "Training until validation scores don't improve for 50 rounds.\n",
            "[100]\ttrain's rmse: 0.0191831\teval's rmse: 0.0213802\n",
            "[200]\ttrain's rmse: 0.012972\teval's rmse: 0.0173562\n",
            "Early stopping, best iteration is:\n",
            "[242]\ttrain's rmse: 0.0120234\teval's rmse: 0.0172804\n",
            "Training fold 4 completed. macro f1 score : 0.99728\n",
            "Our training dataset shape is (800000, 136)\n",
            "Our validation dataset shape is (200000, 136)\n",
            "Training until validation scores don't improve for 50 rounds.\n",
            "[100]\ttrain's rmse: 0.0193197\teval's rmse: 0.0205359\n",
            "[200]\ttrain's rmse: 0.013059\teval's rmse: 0.0165255\n",
            "Early stopping, best iteration is:\n",
            "[188]\ttrain's rmse: 0.0133367\teval's rmse: 0.0165014\n",
            "Training fold 5 completed. macro f1 score : 0.99750\n",
            "Training train_group 1 completed...\n",
            "Training train_group 2 started...\n",
            "Our training dataset shape is (800000, 136)\n",
            "Our validation dataset shape is (200000, 136)\n",
            "Training until validation scores don't improve for 50 rounds.\n",
            "[100]\ttrain's rmse: 0.0480138\teval's rmse: 0.0510719\n",
            "[200]\ttrain's rmse: 0.034065\teval's rmse: 0.0419935\n",
            "Early stopping, best iteration is:\n",
            "[217]\ttrain's rmse: 0.0329743\teval's rmse: 0.0419716\n",
            "Training fold 1 completed. macro f1 score : 0.99689\n",
            "Our training dataset shape is (800000, 136)\n",
            "Our validation dataset shape is (200000, 136)\n",
            "Training until validation scores don't improve for 50 rounds.\n",
            "[100]\ttrain's rmse: 0.0477147\teval's rmse: 0.0513326\n",
            "[200]\ttrain's rmse: 0.0336789\teval's rmse: 0.0423728\n",
            "[300]\ttrain's rmse: 0.0277799\teval's rmse: 0.0423121\n",
            "Early stopping, best iteration is:\n",
            "[277]\ttrain's rmse: 0.0289983\teval's rmse: 0.0422769\n",
            "Training fold 2 completed. macro f1 score : 0.99703\n",
            "Our training dataset shape is (800000, 136)\n",
            "Our validation dataset shape is (200000, 136)\n",
            "Training until validation scores don't improve for 50 rounds.\n",
            "[100]\ttrain's rmse: 0.0478566\teval's rmse: 0.050496\n",
            "[200]\ttrain's rmse: 0.0339542\teval's rmse: 0.0411487\n",
            "[300]\ttrain's rmse: 0.0280861\teval's rmse: 0.0411064\n",
            "Early stopping, best iteration is:\n",
            "[252]\ttrain's rmse: 0.0307314\teval's rmse: 0.0410435\n",
            "Training fold 3 completed. macro f1 score : 0.99696\n",
            "Our training dataset shape is (800000, 136)\n",
            "Our validation dataset shape is (200000, 136)\n",
            "Training until validation scores don't improve for 50 rounds.\n",
            "[100]\ttrain's rmse: 0.0478396\teval's rmse: 0.050038\n",
            "[200]\ttrain's rmse: 0.0339088\teval's rmse: 0.0409004\n",
            "Early stopping, best iteration is:\n",
            "[202]\ttrain's rmse: 0.0337897\teval's rmse: 0.0408906\n",
            "Training fold 4 completed. macro f1 score : 0.99714\n",
            "Our training dataset shape is (800000, 136)\n",
            "Our validation dataset shape is (200000, 136)\n",
            "Training until validation scores don't improve for 50 rounds.\n",
            "[100]\ttrain's rmse: 0.0475517\teval's rmse: 0.0514679\n",
            "[200]\ttrain's rmse: 0.033587\teval's rmse: 0.0425425\n",
            "Early stopping, best iteration is:\n",
            "[214]\ttrain's rmse: 0.0326829\teval's rmse: 0.0425283\n",
            "Training fold 5 completed. macro f1 score : 0.99687\n",
            "Training train_group 2 completed...\n",
            "Training train_group 3 started...\n",
            "Our training dataset shape is (800000, 136)\n",
            "Our validation dataset shape is (200000, 136)\n",
            "Training until validation scores don't improve for 50 rounds.\n",
            "[100]\ttrain's rmse: 0.13125\teval's rmse: 0.142482\n",
            "[200]\ttrain's rmse: 0.110782\teval's rmse: 0.130721\n",
            "[300]\ttrain's rmse: 0.104951\teval's rmse: 0.129787\n",
            "[400]\ttrain's rmse: 0.100715\teval's rmse: 0.129136\n",
            "[500]\ttrain's rmse: 0.0969407\teval's rmse: 0.128748\n",
            "[600]\ttrain's rmse: 0.0936357\teval's rmse: 0.128535\n",
            "[700]\ttrain's rmse: 0.0907142\teval's rmse: 0.128321\n",
            "[800]\ttrain's rmse: 0.0880634\teval's rmse: 0.128204\n",
            "[900]\ttrain's rmse: 0.0855441\teval's rmse: 0.128096\n",
            "[1000]\ttrain's rmse: 0.0830998\teval's rmse: 0.128012\n",
            "[1100]\ttrain's rmse: 0.080813\teval's rmse: 0.12796\n",
            "[1200]\ttrain's rmse: 0.0786276\teval's rmse: 0.127922\n",
            "[1300]\ttrain's rmse: 0.076585\teval's rmse: 0.127903\n",
            "[1400]\ttrain's rmse: 0.0745773\teval's rmse: 0.127886\n",
            "Early stopping, best iteration is:\n",
            "[1353]\ttrain's rmse: 0.0754892\teval's rmse: 0.127881\n",
            "Training fold 1 completed. macro f1 score : 0.97538\n",
            "Our training dataset shape is (800000, 136)\n",
            "Our validation dataset shape is (200000, 136)\n",
            "Training until validation scores don't improve for 50 rounds.\n",
            "[100]\ttrain's rmse: 0.13154\teval's rmse: 0.141677\n",
            "[200]\ttrain's rmse: 0.111039\teval's rmse: 0.129863\n",
            "[300]\ttrain's rmse: 0.105159\teval's rmse: 0.129025\n",
            "[400]\ttrain's rmse: 0.100805\teval's rmse: 0.128346\n",
            "[500]\ttrain's rmse: 0.0971052\teval's rmse: 0.127961\n",
            "[600]\ttrain's rmse: 0.0938059\teval's rmse: 0.127718\n",
            "[700]\ttrain's rmse: 0.0908508\teval's rmse: 0.127509\n",
            "[800]\ttrain's rmse: 0.088065\teval's rmse: 0.127406\n",
            "[900]\ttrain's rmse: 0.0855595\teval's rmse: 0.1273\n",
            "[1000]\ttrain's rmse: 0.083131\teval's rmse: 0.127252\n",
            "[1100]\ttrain's rmse: 0.0807848\teval's rmse: 0.127223\n",
            "[1200]\ttrain's rmse: 0.0787022\teval's rmse: 0.12718\n",
            "Early stopping, best iteration is:\n",
            "[1192]\ttrain's rmse: 0.0788498\teval's rmse: 0.127177\n",
            "Training fold 2 completed. macro f1 score : 0.97605\n",
            "Our training dataset shape is (800000, 136)\n",
            "Our validation dataset shape is (200000, 136)\n",
            "Training until validation scores don't improve for 50 rounds.\n",
            "[100]\ttrain's rmse: 0.131345\teval's rmse: 0.142871\n",
            "[200]\ttrain's rmse: 0.110811\teval's rmse: 0.131096\n",
            "[300]\ttrain's rmse: 0.104934\teval's rmse: 0.130199\n",
            "[400]\ttrain's rmse: 0.100635\teval's rmse: 0.129606\n",
            "[500]\ttrain's rmse: 0.0970326\teval's rmse: 0.129213\n",
            "[600]\ttrain's rmse: 0.0936749\teval's rmse: 0.128901\n",
            "[700]\ttrain's rmse: 0.0907113\teval's rmse: 0.128732\n",
            "[800]\ttrain's rmse: 0.0878862\teval's rmse: 0.12863\n",
            "[900]\ttrain's rmse: 0.0853389\teval's rmse: 0.128551\n",
            "[1000]\ttrain's rmse: 0.0829302\teval's rmse: 0.128494\n",
            "[1100]\ttrain's rmse: 0.0807569\teval's rmse: 0.128439\n",
            "[1200]\ttrain's rmse: 0.0786692\teval's rmse: 0.128401\n",
            "[1300]\ttrain's rmse: 0.0767827\teval's rmse: 0.128368\n",
            "[1400]\ttrain's rmse: 0.0746486\teval's rmse: 0.128337\n",
            "Early stopping, best iteration is:\n",
            "[1444]\ttrain's rmse: 0.0738857\teval's rmse: 0.128325\n",
            "Training fold 3 completed. macro f1 score : 0.97533\n",
            "Our training dataset shape is (800000, 136)\n",
            "Our validation dataset shape is (200000, 136)\n",
            "Training until validation scores don't improve for 50 rounds.\n",
            "[100]\ttrain's rmse: 0.131307\teval's rmse: 0.14281\n",
            "[200]\ttrain's rmse: 0.110733\teval's rmse: 0.130945\n",
            "[300]\ttrain's rmse: 0.104848\teval's rmse: 0.130146\n",
            "[400]\ttrain's rmse: 0.100502\teval's rmse: 0.129487\n",
            "[500]\ttrain's rmse: 0.0969001\teval's rmse: 0.129088\n",
            "[600]\ttrain's rmse: 0.0937573\teval's rmse: 0.128836\n",
            "[700]\ttrain's rmse: 0.0906437\teval's rmse: 0.128671\n",
            "[800]\ttrain's rmse: 0.0878999\teval's rmse: 0.128534\n",
            "[900]\ttrain's rmse: 0.0854224\teval's rmse: 0.128449\n",
            "[1000]\ttrain's rmse: 0.0830599\teval's rmse: 0.128343\n",
            "[1100]\ttrain's rmse: 0.0807632\teval's rmse: 0.128298\n",
            "[1200]\ttrain's rmse: 0.0785694\teval's rmse: 0.128276\n",
            "Early stopping, best iteration is:\n",
            "[1150]\ttrain's rmse: 0.0796612\teval's rmse: 0.128273\n",
            "Training fold 4 completed. macro f1 score : 0.97507\n",
            "Our training dataset shape is (800000, 136)\n",
            "Our validation dataset shape is (200000, 136)\n",
            "Training until validation scores don't improve for 50 rounds.\n",
            "[100]\ttrain's rmse: 0.131478\teval's rmse: 0.142471\n",
            "[200]\ttrain's rmse: 0.110987\teval's rmse: 0.13054\n",
            "[300]\ttrain's rmse: 0.10511\teval's rmse: 0.129562\n",
            "[400]\ttrain's rmse: 0.100819\teval's rmse: 0.128931\n",
            "[500]\ttrain's rmse: 0.0970581\teval's rmse: 0.128511\n",
            "[600]\ttrain's rmse: 0.0937856\teval's rmse: 0.128237\n",
            "[700]\ttrain's rmse: 0.0907923\teval's rmse: 0.128023\n",
            "[800]\ttrain's rmse: 0.0881098\teval's rmse: 0.127883\n",
            "[900]\ttrain's rmse: 0.0854875\teval's rmse: 0.127803\n",
            "[1000]\ttrain's rmse: 0.0831645\teval's rmse: 0.127706\n",
            "[1100]\ttrain's rmse: 0.0808417\teval's rmse: 0.127621\n",
            "[1200]\ttrain's rmse: 0.0786838\teval's rmse: 0.127578\n",
            "[1300]\ttrain's rmse: 0.0767337\teval's rmse: 0.127535\n",
            "[1400]\ttrain's rmse: 0.0747357\teval's rmse: 0.127495\n",
            "Early stopping, best iteration is:\n",
            "[1406]\ttrain's rmse: 0.0746259\teval's rmse: 0.127486\n",
            "Training fold 5 completed. macro f1 score : 0.97497\n",
            "Training train_group 3 completed...\n",
            "Training train_group 4 started...\n",
            "Our training dataset shape is (800000, 136)\n",
            "Our validation dataset shape is (200000, 136)\n",
            "Training until validation scores don't improve for 50 rounds.\n",
            "[100]\ttrain's rmse: 0.297777\teval's rmse: 0.301964\n",
            "[200]\ttrain's rmse: 0.277127\teval's rmse: 0.286209\n",
            "[300]\ttrain's rmse: 0.273479\teval's rmse: 0.285892\n",
            "[400]\ttrain's rmse: 0.270522\teval's rmse: 0.285692\n",
            "[500]\ttrain's rmse: 0.267869\teval's rmse: 0.285577\n",
            "[600]\ttrain's rmse: 0.265277\teval's rmse: 0.285463\n",
            "[700]\ttrain's rmse: 0.262701\teval's rmse: 0.285378\n",
            "[800]\ttrain's rmse: 0.260161\teval's rmse: 0.285309\n",
            "[900]\ttrain's rmse: 0.257796\teval's rmse: 0.285248\n",
            "[1000]\ttrain's rmse: 0.255459\teval's rmse: 0.285219\n",
            "Early stopping, best iteration is:\n",
            "[973]\ttrain's rmse: 0.256036\teval's rmse: 0.285208\n",
            "Training fold 1 completed. macro f1 score : 0.87460\n",
            "Our training dataset shape is (800000, 136)\n",
            "Our validation dataset shape is (200000, 136)\n",
            "Training until validation scores don't improve for 50 rounds.\n",
            "[100]\ttrain's rmse: 0.297546\teval's rmse: 0.302892\n",
            "[200]\ttrain's rmse: 0.276863\teval's rmse: 0.287303\n",
            "[300]\ttrain's rmse: 0.273165\teval's rmse: 0.286999\n",
            "[400]\ttrain's rmse: 0.270244\teval's rmse: 0.286802\n",
            "[500]\ttrain's rmse: 0.267626\teval's rmse: 0.286672\n",
            "[600]\ttrain's rmse: 0.265078\teval's rmse: 0.286544\n",
            "[700]\ttrain's rmse: 0.26253\teval's rmse: 0.286473\n",
            "[800]\ttrain's rmse: 0.260021\teval's rmse: 0.286429\n",
            "[900]\ttrain's rmse: 0.257692\teval's rmse: 0.286363\n",
            "[1000]\ttrain's rmse: 0.255348\teval's rmse: 0.286321\n",
            "[1100]\ttrain's rmse: 0.253045\teval's rmse: 0.286307\n",
            "[1200]\ttrain's rmse: 0.250764\teval's rmse: 0.286286\n",
            "Early stopping, best iteration is:\n",
            "[1238]\ttrain's rmse: 0.24989\teval's rmse: 0.28627\n",
            "Training fold 2 completed. macro f1 score : 0.87162\n",
            "Our training dataset shape is (800000, 136)\n",
            "Our validation dataset shape is (200000, 136)\n",
            "Training until validation scores don't improve for 50 rounds.\n",
            "[100]\ttrain's rmse: 0.297355\teval's rmse: 0.303537\n",
            "[200]\ttrain's rmse: 0.276712\teval's rmse: 0.288063\n",
            "[300]\ttrain's rmse: 0.273044\teval's rmse: 0.287765\n",
            "[400]\ttrain's rmse: 0.270158\teval's rmse: 0.287553\n",
            "[500]\ttrain's rmse: 0.26735\teval's rmse: 0.287408\n",
            "[600]\ttrain's rmse: 0.264733\teval's rmse: 0.287326\n",
            "[700]\ttrain's rmse: 0.262208\teval's rmse: 0.287271\n",
            "Early stopping, best iteration is:\n",
            "[681]\ttrain's rmse: 0.262703\teval's rmse: 0.287267\n",
            "Training fold 3 completed. macro f1 score : 0.87363\n",
            "Our training dataset shape is (800000, 136)\n",
            "Our validation dataset shape is (200000, 136)\n",
            "Training until validation scores don't improve for 50 rounds.\n",
            "[100]\ttrain's rmse: 0.297853\teval's rmse: 0.30159\n",
            "[200]\ttrain's rmse: 0.27717\teval's rmse: 0.286136\n",
            "[300]\ttrain's rmse: 0.273475\teval's rmse: 0.285828\n",
            "[400]\ttrain's rmse: 0.270545\teval's rmse: 0.285629\n",
            "[500]\ttrain's rmse: 0.267792\teval's rmse: 0.285522\n",
            "[600]\ttrain's rmse: 0.265165\teval's rmse: 0.285406\n",
            "[700]\ttrain's rmse: 0.262649\teval's rmse: 0.285326\n",
            "[800]\ttrain's rmse: 0.260212\teval's rmse: 0.285276\n",
            "[900]\ttrain's rmse: 0.257824\teval's rmse: 0.285217\n",
            "[1000]\ttrain's rmse: 0.255393\teval's rmse: 0.285181\n",
            "[1100]\ttrain's rmse: 0.253022\teval's rmse: 0.285142\n",
            "Early stopping, best iteration is:\n",
            "[1116]\ttrain's rmse: 0.25264\teval's rmse: 0.285135\n",
            "Training fold 4 completed. macro f1 score : 0.78442\n",
            "Our training dataset shape is (800000, 136)\n",
            "Our validation dataset shape is (200000, 136)\n",
            "Training until validation scores don't improve for 50 rounds.\n",
            "[100]\ttrain's rmse: 0.297842\teval's rmse: 0.301871\n",
            "[200]\ttrain's rmse: 0.277125\teval's rmse: 0.285883\n",
            "[300]\ttrain's rmse: 0.273494\teval's rmse: 0.28557\n",
            "[400]\ttrain's rmse: 0.270599\teval's rmse: 0.285402\n",
            "[500]\ttrain's rmse: 0.267914\teval's rmse: 0.28528\n",
            "[600]\ttrain's rmse: 0.265312\teval's rmse: 0.285199\n",
            "[700]\ttrain's rmse: 0.262794\teval's rmse: 0.285112\n",
            "[800]\ttrain's rmse: 0.26034\teval's rmse: 0.285089\n",
            "[900]\ttrain's rmse: 0.257867\teval's rmse: 0.285043\n",
            "[1000]\ttrain's rmse: 0.255453\teval's rmse: 0.284997\n",
            "[1100]\ttrain's rmse: 0.253255\teval's rmse: 0.284954\n",
            "Early stopping, best iteration is:\n",
            "[1126]\ttrain's rmse: 0.25265\teval's rmse: 0.284941\n",
            "Training fold 5 completed. macro f1 score : 0.79249\n",
            "Training train_group 4 completed...\n",
            "Training train_group 5 started...\n",
            "Our training dataset shape is (800000, 136)\n",
            "Our validation dataset shape is (200000, 136)\n",
            "Training until validation scores don't improve for 50 rounds.\n",
            "[100]\ttrain's rmse: 0.140388\teval's rmse: 0.146065\n",
            "[200]\ttrain's rmse: 0.116482\teval's rmse: 0.128998\n",
            "[300]\ttrain's rmse: 0.11207\teval's rmse: 0.128786\n",
            "[400]\ttrain's rmse: 0.108596\teval's rmse: 0.128692\n",
            "[500]\ttrain's rmse: 0.105559\teval's rmse: 0.128671\n",
            "Early stopping, best iteration is:\n",
            "[512]\ttrain's rmse: 0.105206\teval's rmse: 0.128661\n",
            "Training fold 1 completed. macro f1 score : 0.97420\n",
            "Our training dataset shape is (800000, 136)\n",
            "Our validation dataset shape is (200000, 136)\n",
            "Training until validation scores don't improve for 50 rounds.\n",
            "[100]\ttrain's rmse: 0.140487\teval's rmse: 0.145099\n",
            "[200]\ttrain's rmse: 0.116679\teval's rmse: 0.128048\n",
            "[300]\ttrain's rmse: 0.112267\teval's rmse: 0.127841\n",
            "[400]\ttrain's rmse: 0.108805\teval's rmse: 0.127761\n",
            "[500]\ttrain's rmse: 0.10568\teval's rmse: 0.127726\n",
            "[600]\ttrain's rmse: 0.102858\teval's rmse: 0.12771\n",
            "[700]\ttrain's rmse: 0.100353\teval's rmse: 0.127673\n",
            "Early stopping, best iteration is:\n",
            "[673]\ttrain's rmse: 0.101008\teval's rmse: 0.127666\n",
            "Training fold 2 completed. macro f1 score : 0.97276\n",
            "Our training dataset shape is (800000, 136)\n",
            "Our validation dataset shape is (200000, 136)\n",
            "Training until validation scores don't improve for 50 rounds.\n",
            "[100]\ttrain's rmse: 0.140116\teval's rmse: 0.146703\n",
            "[200]\ttrain's rmse: 0.116156\teval's rmse: 0.129823\n",
            "[300]\ttrain's rmse: 0.111662\teval's rmse: 0.129665\n",
            "[400]\ttrain's rmse: 0.108163\teval's rmse: 0.129593\n",
            "Early stopping, best iteration is:\n",
            "[394]\ttrain's rmse: 0.10835\teval's rmse: 0.129591\n",
            "Training fold 3 completed. macro f1 score : 0.96900\n",
            "Our training dataset shape is (800000, 136)\n",
            "Our validation dataset shape is (200000, 136)\n",
            "Training until validation scores don't improve for 50 rounds.\n",
            "[100]\ttrain's rmse: 0.140269\teval's rmse: 0.146384\n",
            "[200]\ttrain's rmse: 0.116343\teval's rmse: 0.129688\n",
            "[300]\ttrain's rmse: 0.111876\teval's rmse: 0.129525\n",
            "[400]\ttrain's rmse: 0.108382\teval's rmse: 0.129439\n",
            "[500]\ttrain's rmse: 0.105408\teval's rmse: 0.129425\n",
            "[600]\ttrain's rmse: 0.102606\teval's rmse: 0.129408\n",
            "Early stopping, best iteration is:\n",
            "[601]\ttrain's rmse: 0.102585\teval's rmse: 0.129406\n",
            "Training fold 4 completed. macro f1 score : 0.97161\n",
            "Our training dataset shape is (800000, 136)\n",
            "Our validation dataset shape is (200000, 136)\n",
            "Training until validation scores don't improve for 50 rounds.\n",
            "[100]\ttrain's rmse: 0.140141\teval's rmse: 0.146643\n",
            "[200]\ttrain's rmse: 0.11618\teval's rmse: 0.129866\n",
            "[300]\ttrain's rmse: 0.111738\teval's rmse: 0.129653\n",
            "[400]\ttrain's rmse: 0.108312\teval's rmse: 0.129571\n",
            "[500]\ttrain's rmse: 0.105319\teval's rmse: 0.129513\n",
            "[600]\ttrain's rmse: 0.102601\teval's rmse: 0.129486\n",
            "Early stopping, best iteration is:\n",
            "[551]\ttrain's rmse: 0.103853\teval's rmse: 0.129476\n",
            "Training fold 5 completed. macro f1 score : 0.97207\n",
            "Training train_group 5 completed...\n",
            "Training completed...\n"
          ],
          "name": "stdout"
        }
      ]
    },
    {
      "cell_type": "code",
      "metadata": {
        "id": "Uq9lRsBJQTB3",
        "colab_type": "code",
        "colab": {}
      },
      "source": [
        "def sort_oof_data(arr):\n",
        "  arr_ = []\n",
        "  arr_ += arr[0][0:].tolist()\n",
        "  arr_ += arr[1][0:500000].tolist()\n",
        "  arr_ += arr[2][0:500000].tolist()\n",
        "  arr_ += arr[3][0:500000].tolist()\n",
        "  arr_ += arr[4][0:500000].tolist()\n",
        "  arr_ += arr[1][500000:].tolist()\n",
        "  arr_ += arr[2][500000:].tolist()\n",
        "  arr_ += arr[4][500000:].tolist()\n",
        "  arr_ += arr[3][500000:].tolist()\n",
        "  return arr_\n",
        "\n",
        "full_oof = sort_oof_data(oofs)"
      ],
      "execution_count": 0,
      "outputs": []
    },
    {
      "cell_type": "code",
      "metadata": {
        "id": "1jitPoNdFECH",
        "colab_type": "code",
        "colab": {}
      },
      "source": [
        "def sort_pred_data(arr):\n",
        "  arr_ = []\n",
        "  arr_ += arr[0][0:100000].tolist()\n",
        "  arr_ += arr[2][0:100000].tolist()\n",
        "  arr_ += arr[4][0:100000].tolist()\n",
        "  arr_ += arr[0][100000:200000].tolist()\n",
        "  arr_ += arr[1][0:100000].tolist()\n",
        "  arr_ += arr[3][0:100000].tolist()\n",
        "  arr_ += arr[4][100000:].tolist()\n",
        "  arr_ += arr[3][100000:].tolist()\n",
        "  arr_ += arr[0][200000:300000].tolist()\n",
        "  arr_ += arr[2][100000:].tolist()\n",
        "  arr_ += arr[0][300000:].tolist()\n",
        "  return arr_\n",
        "\n",
        "full_pred = sort_pred_data(preds)"
      ],
      "execution_count": 0,
      "outputs": []
    },
    {
      "cell_type": "code",
      "metadata": {
        "id": "18hs2gRG9GMA",
        "colab_type": "code",
        "outputId": "44134a6e-ffd3-422e-b7a9-e2ab13132133",
        "colab": {
          "base_uri": "https://localhost:8080/",
          "height": 34
        }
      },
      "source": [
        "f1_score_ = f1_score(train.open_channels,  np.round(np.clip(full_oof, 0, 10)).astype(int), average = 'macro')\n",
        "print(f'Training completed. oof macro f1 score : {f1_score_:1.5f}')\n",
        "sample_submission['open_channels'] = np.round(np.clip(full_pred, 0, 10)).astype(int)\n",
        "sample_submission.to_csv('lgb_submission.csv', index=False, float_format='%.4f')"
      ],
      "execution_count": 33,
      "outputs": [
        {
          "output_type": "stream",
          "text": [
            "Training completed. oof macro f1 score : 0.93921\n"
          ],
          "name": "stdout"
        }
      ]
    },
    {
      "cell_type": "code",
      "metadata": {
        "id": "j8N2QuObT6Rf",
        "colab_type": "code",
        "outputId": "a0752fea-3c48-4a96-f122-52aac92700c1",
        "colab": {
          "base_uri": "https://localhost:8080/",
          "height": 68
        }
      },
      "source": [
        "!kaggle competitions submit -f './lgb_submission.csv' -m 'lgb' liverpool-ion-switching"
      ],
      "execution_count": 34,
      "outputs": [
        {
          "output_type": "stream",
          "text": [
            "Warning: Looks like you're using an outdated API Version, please consider updating (server 1.5.6 / client 1.5.4)\n",
            "100% 21.0M/21.0M [00:07<00:00, 3.11MB/s]\n",
            "Successfully submitted to University of Liverpool - Ion Switching"
          ],
          "name": "stdout"
        }
      ]
    },
    {
      "cell_type": "markdown",
      "metadata": {
        "id": "fwmBMaXEmdGW",
        "colab_type": "text"
      },
      "source": [
        "training with clean_kalman\n",
        "> Training completed. oof macro f1 score : 0.93940  \n",
        "> LB : 0.940  \n",
        "\n",
        "clean_kalman  \n",
        "add category  \n",
        "add 20shifted\n",
        "> Training completed. oof macro f1 score : 0.93941  \n",
        "> LB : 0.940\n",
        "\n",
        "clean_kalman  \n",
        "add category  \n",
        "add 20shifted  \n",
        "add target encoding(group)\n",
        "> Training completed. oof macro f1 score : 0.93880  \n",
        "> LB : 0.653\n",
        "\n",
        "clean_kalman + add category + add 20shifted\n",
        "> Training completed. oof macro f1 score : 0.93953  \n",
        "> LB : 0.942  \n",
        "\n",
        "clean_kalman + add category + add 20shifted + target encording(category)  \n",
        ">　Training completed. oof macro f1 score : 0.93842  \n",
        ">　LB : 0.941"
      ]
    },
    {
      "cell_type": "code",
      "metadata": {
        "id": "caPUEw17moRo",
        "colab_type": "code",
        "colab": {}
      },
      "source": [
        ""
      ],
      "execution_count": 0,
      "outputs": []
    }
  ]
}