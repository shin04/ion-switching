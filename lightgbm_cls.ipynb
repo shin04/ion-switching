{
  "nbformat": 4,
  "nbformat_minor": 0,
  "metadata": {
    "colab": {
      "name": "lightgbm-cls",
      "provenance": [],
      "collapsed_sections": [],
      "machine_shape": "hm",
      "authorship_tag": "ABX9TyM2VB/toBFwV1XLZwQwS93J",
      "include_colab_link": true
    },
    "kernelspec": {
      "name": "python3",
      "display_name": "Python 3"
    }
  },
  "cells": [
    {
      "cell_type": "markdown",
      "metadata": {
        "id": "view-in-github",
        "colab_type": "text"
      },
      "source": [
        "<a href=\"https://colab.research.google.com/github/shin04/ion-switching/blob/master/lightgbm_cls.ipynb\" target=\"_parent\"><img src=\"https://colab.research.google.com/assets/colab-badge.svg\" alt=\"Open In Colab\"/></a>"
      ]
    },
    {
      "cell_type": "code",
      "metadata": {
        "id": "YJNHw6jrSCvs",
        "colab_type": "code",
        "outputId": "15cf7f02-e26a-4f5c-fa41-199f83ff4907",
        "colab": {
          "base_uri": "https://localhost:8080/",
          "height": 204
        }
      },
      "source": [
        "!pip install kaggle"
      ],
      "execution_count": 1,
      "outputs": [
        {
          "output_type": "stream",
          "text": [
            "Requirement already satisfied: kaggle in /usr/local/lib/python3.6/dist-packages (1.5.6)\n",
            "Requirement already satisfied: urllib3<1.25,>=1.21.1 in /usr/local/lib/python3.6/dist-packages (from kaggle) (1.24.3)\n",
            "Requirement already satisfied: python-slugify in /usr/local/lib/python3.6/dist-packages (from kaggle) (4.0.0)\n",
            "Requirement already satisfied: python-dateutil in /usr/local/lib/python3.6/dist-packages (from kaggle) (2.8.1)\n",
            "Requirement already satisfied: tqdm in /usr/local/lib/python3.6/dist-packages (from kaggle) (4.41.1)\n",
            "Requirement already satisfied: certifi in /usr/local/lib/python3.6/dist-packages (from kaggle) (2020.4.5.1)\n",
            "Requirement already satisfied: requests in /usr/local/lib/python3.6/dist-packages (from kaggle) (2.23.0)\n",
            "Requirement already satisfied: six>=1.10 in /usr/local/lib/python3.6/dist-packages (from kaggle) (1.12.0)\n",
            "Requirement already satisfied: text-unidecode>=1.3 in /usr/local/lib/python3.6/dist-packages (from python-slugify->kaggle) (1.3)\n",
            "Requirement already satisfied: chardet<4,>=3.0.2 in /usr/local/lib/python3.6/dist-packages (from requests->kaggle) (3.0.4)\n",
            "Requirement already satisfied: idna<3,>=2.5 in /usr/local/lib/python3.6/dist-packages (from requests->kaggle) (2.9)\n"
          ],
          "name": "stdout"
        }
      ]
    },
    {
      "cell_type": "code",
      "metadata": {
        "id": "VRVk22KlSPu0",
        "colab_type": "code",
        "outputId": "e83bef85-9fbc-4b75-8089-806ae3899520",
        "colab": {
          "base_uri": "https://localhost:8080/",
          "height": 34
        }
      },
      "source": [
        "from googleapiclient.discovery import build\n",
        "import io, os\n",
        "from googleapiclient.http import MediaIoBaseDownload\n",
        "from google.colab import auth\n",
        "\n",
        "auth.authenticate_user()\n",
        "\n",
        "drive_service = build('drive', 'v3')\n",
        "results = drive_service.files().list(\n",
        "        q=\"name = 'kaggle.json'\", fields=\"files(id)\").execute()\n",
        "kaggle_api_key = results.get('files', [])\n",
        "\n",
        "filename = \"/root/.kaggle/kaggle.json\"\n",
        "os.makedirs(os.path.dirname(filename), exist_ok=True)\n",
        "\n",
        "request = drive_service.files().get_media(fileId=kaggle_api_key[0]['id'])\n",
        "fh = io.FileIO(filename, 'wb')\n",
        "downloader = MediaIoBaseDownload(fh, request)\n",
        "done = False\n",
        "while done is False:\n",
        "    status, done = downloader.next_chunk()\n",
        "    print(\"Download %d%%.\" % int(status.progress() * 100))\n",
        "os.chmod(filename, 600)"
      ],
      "execution_count": 2,
      "outputs": [
        {
          "output_type": "stream",
          "text": [
            "Download 100%.\n"
          ],
          "name": "stdout"
        }
      ]
    },
    {
      "cell_type": "code",
      "metadata": {
        "id": "M7oEMFs7SR7M",
        "colab_type": "code",
        "outputId": "11a0c35a-1d41-4c21-fe30-6040ff485c0c",
        "colab": {
          "base_uri": "https://localhost:8080/",
          "height": 68
        }
      },
      "source": [
        "!kaggle datasets download -d cdeotte/data-without-drift"
      ],
      "execution_count": 3,
      "outputs": [
        {
          "output_type": "stream",
          "text": [
            "Downloading data-without-drift.zip to /content\n",
            " 75% 41.0M/55.0M [00:00<00:00, 28.6MB/s]\n",
            "100% 55.0M/55.0M [00:00<00:00, 59.6MB/s]\n"
          ],
          "name": "stdout"
        }
      ]
    },
    {
      "cell_type": "code",
      "metadata": {
        "id": "UqLv3DkuSkXf",
        "colab_type": "code",
        "outputId": "698856fb-acc1-4e6f-8409-965109462358",
        "colab": {
          "base_uri": "https://localhost:8080/",
          "height": 68
        }
      },
      "source": [
        "!kaggle datasets download -d sggpls/ion-shifted-rfc-proba"
      ],
      "execution_count": 4,
      "outputs": [
        {
          "output_type": "stream",
          "text": [
            "Downloading ion-shifted-rfc-proba.zip to /content\n",
            " 98% 217M/222M [00:03<00:00, 63.9MB/s]\n",
            "100% 222M/222M [00:03<00:00, 64.3MB/s]\n"
          ],
          "name": "stdout"
        }
      ]
    },
    {
      "cell_type": "code",
      "metadata": {
        "id": "QA9CDVT3tAIm",
        "colab_type": "code",
        "outputId": "5934b5d6-253c-421e-b932-9d77fb36a1fb",
        "colab": {
          "base_uri": "https://localhost:8080/",
          "height": 68
        }
      },
      "source": [
        "!kaggle datasets download -d ragnar123/clean-kalman"
      ],
      "execution_count": 5,
      "outputs": [
        {
          "output_type": "stream",
          "text": [
            "Downloading clean-kalman.zip to /content\n",
            " 82% 65.0M/79.0M [00:01<00:00, 34.2MB/s]\n",
            "100% 79.0M/79.0M [00:01<00:00, 60.6MB/s]\n"
          ],
          "name": "stdout"
        }
      ]
    },
    {
      "cell_type": "code",
      "metadata": {
        "id": "SpUupDkYSl3M",
        "colab_type": "code",
        "outputId": "f6d3064b-eacd-498a-c1b4-39d61881aab9",
        "colab": {
          "base_uri": "https://localhost:8080/",
          "height": 187
        }
      },
      "source": [
        "!kaggle competitions download -c liverpool-ion-switching"
      ],
      "execution_count": 6,
      "outputs": [
        {
          "output_type": "stream",
          "text": [
            "Warning: Looks like you're using an outdated API Version, please consider updating (server 1.5.6 / client 1.5.4)\n",
            "Downloading sample_submission.csv.zip to /content\n",
            "100% 4.27M/4.27M [00:00<00:00, 39.9MB/s]\n",
            "\n",
            "Downloading train.csv.zip to /content\n",
            " 34% 9.00M/26.6M [00:00<00:00, 21.9MB/s]\n",
            "100% 26.6M/26.6M [00:00<00:00, 49.3MB/s]\n",
            "Downloading test.csv.zip to /content\n",
            " 50% 5.00M/9.91M [00:00<00:00, 15.9MB/s]\n",
            "100% 9.91M/9.91M [00:00<00:00, 28.5MB/s]\n"
          ],
          "name": "stdout"
        }
      ]
    },
    {
      "cell_type": "code",
      "metadata": {
        "id": "79QyU1isSnZH",
        "colab_type": "code",
        "outputId": "a4e68286-97f0-4094-aa86-b9b51d92342a",
        "colab": {
          "base_uri": "https://localhost:8080/",
          "height": 391
        }
      },
      "source": [
        "!unzip -o '*.zip'"
      ],
      "execution_count": 7,
      "outputs": [
        {
          "output_type": "stream",
          "text": [
            "Archive:  test.csv.zip\n",
            "  inflating: test.csv                \n",
            "\n",
            "Archive:  train.csv.zip\n",
            "  inflating: train.csv               \n",
            "\n",
            "Archive:  sample_submission.csv.zip\n",
            "  inflating: sample_submission.csv   \n",
            "\n",
            "Archive:  ion-shifted-rfc-proba.zip\n",
            "  inflating: Y_test_proba.npy        \n",
            "  inflating: Y_train_proba.npy       \n",
            "\n",
            "Archive:  data-without-drift.zip\n",
            "  inflating: test_clean.csv          \n",
            "  inflating: train_clean.csv         \n",
            "\n",
            "Archive:  clean-kalman.zip\n",
            "  inflating: test_clean_kalman.csv   \n",
            "  inflating: train_clean_kalman.csv  \n",
            "\n",
            "6 archives were successfully processed.\n"
          ],
          "name": "stdout"
        }
      ]
    },
    {
      "cell_type": "code",
      "metadata": {
        "id": "wveF_VMWw8PG",
        "colab_type": "code",
        "outputId": "f3fce2c0-768c-44f3-acbe-fc837c05fa8c",
        "colab": {
          "base_uri": "https://localhost:8080/",
          "height": 51
        }
      },
      "source": [
        "!pip install tensorflow_addons"
      ],
      "execution_count": 8,
      "outputs": [
        {
          "output_type": "stream",
          "text": [
            "Requirement already satisfied: tensorflow_addons in /usr/local/lib/python3.6/dist-packages (0.8.3)\n",
            "Requirement already satisfied: typeguard in /usr/local/lib/python3.6/dist-packages (from tensorflow_addons) (2.7.1)\n"
          ],
          "name": "stdout"
        }
      ]
    },
    {
      "cell_type": "code",
      "metadata": {
        "id": "NLiQ1cLhSpr6",
        "colab_type": "code",
        "colab": {}
      },
      "source": [
        "import tensorflow as tf\n",
        "from tensorflow.keras.layers import Conv1D, Input, Dense, Add, Multiply, BatchNormalization, Activation, Dropout\n",
        "import pandas as pd\n",
        "import numpy as np\n",
        "import random\n",
        "from tensorflow.keras.callbacks import Callback, LearningRateScheduler\n",
        "from tensorflow.keras.losses import categorical_crossentropy\n",
        "from tensorflow.keras.optimizers import Adam\n",
        "from tensorflow.keras import backend as K\n",
        "from tensorflow.keras import losses, models, optimizers\n",
        "import tensorflow_addons as tfa\n",
        "import gc\n",
        "from tqdm import tqdm\n",
        "from scipy import signal\n",
        "\n",
        "import lightgbm as lgb\n",
        "\n",
        "from sklearn.model_selection import GroupKFold, StratifiedKFold\n",
        "from sklearn.metrics import f1_score\n",
        "\n",
        "import warnings\n",
        "warnings.simplefilter('ignore')\n",
        "warnings.filterwarnings('ignore')\n",
        "pd.set_option('display.max_columns', 1000)\n",
        "pd.set_option('display.max_rows', 500)\n",
        "\n",
        "import os\n",
        "for dirname, _, filenames in os.walk('/kaggle/input'):\n",
        "    for filename in filenames:\n",
        "        print(os.path.join(dirname, filename))\n",
        "\n",
        "# Any results you write to the current directory are saved as output."
      ],
      "execution_count": 0,
      "outputs": []
    },
    {
      "cell_type": "code",
      "metadata": {
        "id": "UDn2jHk8Svhd",
        "colab_type": "code",
        "colab": {}
      },
      "source": [
        "# configurations and main hyperparammeters\n",
        "EPOCHS = 110\n",
        "NNBATCHSIZE = 16\n",
        "GROUP_BATCH_SIZE = 4000\n",
        "SEED = 321\n",
        "LR = 0.001\n",
        "SPLITS = 5\n",
        "\n",
        "def seed_everything(seed):\n",
        "    random.seed(seed)\n",
        "    np.random.seed(seed)\n",
        "    os.environ['PYTHONHASHSEED'] = str(seed)\n",
        "    tf.random.set_seed(seed)"
      ],
      "execution_count": 0,
      "outputs": []
    },
    {
      "cell_type": "code",
      "metadata": {
        "id": "hd5ZOykHSyC9",
        "colab_type": "code",
        "colab": {}
      },
      "source": [
        "# read data\n",
        "def read_data():\n",
        "\n",
        "    train = pd.read_csv('./train_clean_kalman.csv', dtype={'time': np.float32, 'signal': np.float32, 'open_channels':np.int32})\n",
        "    test  = pd.read_csv('./test_clean_kalman.csv', dtype={'time': np.float32, 'signal': np.float32})\n",
        "    sub  = pd.read_csv('./sample_submission.csv', dtype={'time': np.float32})\n",
        "    \n",
        "    Y_train_proba = np.load(\"./Y_train_proba.npy\")\n",
        "    Y_test_proba = np.load(\"./Y_test_proba.npy\")\n",
        "    \n",
        "    for i in range(11):\n",
        "        train[f\"proba_{i}\"] = Y_train_proba[:, i]\n",
        "        test[f\"proba_{i}\"] = Y_test_proba[:, i]\n",
        "\n",
        "    return train, test, sub"
      ],
      "execution_count": 0,
      "outputs": []
    },
    {
      "cell_type": "code",
      "metadata": {
        "id": "aZTrfQXOLwvM",
        "colab_type": "code",
        "colab": {}
      },
      "source": [
        "def batching_10(train, test):\n",
        "    # concatenate data\n",
        "    # batchを1から10までフル　ややこしい\n",
        "    batch = 50\n",
        "    total_batches = 14\n",
        "    train['set'] = 'train'\n",
        "    test['set'] = 'test'\n",
        "    data = pd.concat([train, test])\n",
        "    for i in range(int(total_batches)):\n",
        "        data.loc[(data['time'] > i * batch) & (data['time'] <= (i + 1) * batch), 'batch'] = i + 1\n",
        "    train = data[data['set'] == 'train']\n",
        "    test = data[data['set'] == 'test']\n",
        "    train.drop(['set'], inplace = True, axis = 1)\n",
        "    test.drop(['set'], inplace = True, axis = 1)\n",
        "    del data\n",
        "    return train, test"
      ],
      "execution_count": 0,
      "outputs": []
    },
    {
      "cell_type": "code",
      "metadata": {
        "id": "e3nWKBrr3LKM",
        "colab_type": "code",
        "colab": {}
      },
      "source": [
        "def create_signal_mod(train):\n",
        "    left = 3641000\n",
        "    right = 3829000\n",
        "    thresh_dict = {\n",
        "        3: [0.1, 2.0],\n",
        "        2: [-1.1, 0.7],\n",
        "        1: [-2.3, -0.6],\n",
        "        0: [-3.8, -2],\n",
        "    }\n",
        "    \n",
        "    # train['signal_mod'] = train['signal'].values\n",
        "    for ch in train[train['batch']==8]['open_channels'].unique():\n",
        "        idxs_noisy = (train['open_channels']==ch) & (left<train.index) & (train.index<right)\n",
        "        idxs_not_noisy = (train['open_channels']==ch) & ~idxs_noisy\n",
        "        mean = train[idxs_not_noisy]['signal'].mean()\n",
        "\n",
        "        idxs_outlier = idxs_noisy & (thresh_dict[ch][1]<train['signal'].values)\n",
        "        train['signal'][idxs_outlier]  = mean\n",
        "        idxs_outlier = idxs_noisy & (train['signal'].values<thresh_dict[ch][0])\n",
        "        train['signal'][idxs_outlier]  = mean\n",
        "    return train"
      ],
      "execution_count": 0,
      "outputs": []
    },
    {
      "cell_type": "code",
      "metadata": {
        "id": "81-K4Yfki71w",
        "colab_type": "code",
        "colab": {}
      },
      "source": [
        "# !pip install pykalman"
      ],
      "execution_count": 0,
      "outputs": []
    },
    {
      "cell_type": "code",
      "metadata": {
        "id": "9QWS9pipiY3y",
        "colab_type": "code",
        "colab": {}
      },
      "source": [
        "# from pykalman import KalmanFilter\n",
        "\n",
        "# def Kalman1D(observations, damping=1):\n",
        "#     # To return the smoothed time series data\n",
        "#     observation_covariance = damping\n",
        "#     initial_value_guess = observations[0]\n",
        "#     transition_matrix = 1\n",
        "#     transition_covariance = 0.1\n",
        "#     initial_value_guess\n",
        "#     kf = KalmanFilter(\n",
        "#             initial_state_mean=initial_value_guess,\n",
        "#             initial_state_covariance=observation_covariance,\n",
        "#             observation_covariance=observation_covariance,\n",
        "#             transition_covariance=transition_covariance,\n",
        "#             transition_matrices=transition_matrix\n",
        "#         )\n",
        "#     pred_state, state_cov = kf.smooth(observations)\n",
        "#     return pred_state"
      ],
      "execution_count": 0,
      "outputs": []
    },
    {
      "cell_type": "code",
      "metadata": {
        "id": "I_pkElMAS8fA",
        "colab_type": "code",
        "colab": {}
      },
      "source": [
        "# create batches of 4000 observations\n",
        "def batching(df, batch_size):\n",
        "    df['group'] = df.groupby(df.index//batch_size, sort=False)['signal'].agg(['ngroup']).values\n",
        "    df['group'] = df['group'].astype(np.uint16)\n",
        "    return df"
      ],
      "execution_count": 0,
      "outputs": []
    },
    {
      "cell_type": "code",
      "metadata": {
        "id": "vzokhYjyS-dU",
        "colab_type": "code",
        "colab": {}
      },
      "source": [
        "# normalize the data (standard scaler). We can also try other scalers for a better score!\n",
        "def normalize(train, test):\n",
        "    train_input_mean = train.signal.mean()\n",
        "    train_input_sigma = train.signal.std()\n",
        "    train['signal'] = (train.signal - train_input_mean) / train_input_sigma\n",
        "    test['signal'] = (test.signal - train_input_mean) / train_input_sigma\n",
        "    \n",
        "    return train, test"
      ],
      "execution_count": 0,
      "outputs": []
    },
    {
      "cell_type": "code",
      "metadata": {
        "id": "Qez_-uQBt-9W",
        "colab_type": "code",
        "colab": {}
      },
      "source": [
        "def add_category(train, test):\n",
        "  train[\"category\"] = 0\n",
        "  test[\"category\"] = 0\n",
        "\n",
        "  # train segments with more then 9 open channels classes\n",
        "  train.loc[2000000:2500000-1, 'category'] = 1\n",
        "  train.loc[4500000:5000000-1, 'category'] = 1\n",
        "\n",
        "  # test segments with more then 9 open channels classes (potentially)\n",
        "  test.loc[500000:600000-1, \"category\"] = 1\n",
        "  test.loc[700000:800000-1, \"category\"] = 1\n",
        "  \n",
        "  return train, test"
      ],
      "execution_count": 0,
      "outputs": []
    },
    {
      "cell_type": "code",
      "metadata": {
        "id": "zi8ajG9drc0f",
        "colab_type": "code",
        "colab": {}
      },
      "source": [
        "# signal processing features\n",
        "def calc_gradients(s, n_grads = 4):\n",
        "    '''\n",
        "    Calculate gradients for a pandas series. Returns the same number of samples\n",
        "    '''\n",
        "    grads = pd.DataFrame()\n",
        "    \n",
        "    g = s.values\n",
        "    for i in range(n_grads):\n",
        "        g = np.gradient(g)\n",
        "        grads['grad_' + str(i+1)] = g\n",
        "        \n",
        "    return grads\n",
        "\n",
        "def calc_low_pass(s, n_filts=10):\n",
        "    '''\n",
        "    Applies low pass filters to the signal. Left delayed and no delayed\n",
        "    '''\n",
        "    wns = np.logspace(-2, -0.3, n_filts)\n",
        "    \n",
        "    low_pass = pd.DataFrame()\n",
        "    x = s.values\n",
        "    for wn in wns:\n",
        "        b, a = signal.butter(1, Wn=wn, btype='low')\n",
        "        zi = signal.lfilter_zi(b, a)\n",
        "        low_pass['lowpass_lf_' + str('%.4f' %wn)] = signal.lfilter(b, a, x, zi=zi*x[0])[0]\n",
        "        low_pass['lowpass_ff_' + str('%.4f' %wn)] = signal.filtfilt(b, a, x)\n",
        "        \n",
        "    return low_pass\n",
        "\n",
        "def calc_high_pass(s, n_filts=10):\n",
        "    '''\n",
        "    Applies high pass filters to the signal. Left delayed and no delayed\n",
        "    '''\n",
        "    wns = np.logspace(-2, -0.1, n_filts)\n",
        "    \n",
        "    high_pass = pd.DataFrame()\n",
        "    x = s.values\n",
        "    for wn in wns:\n",
        "        b, a = signal.butter(1, Wn=wn, btype='high')\n",
        "        zi = signal.lfilter_zi(b, a)\n",
        "        high_pass['highpass_lf_' + str('%.4f' %wn)] = signal.lfilter(b, a, x, zi=zi*x[0])[0]\n",
        "        high_pass['highpass_ff_' + str('%.4f' %wn)] = signal.filtfilt(b, a, x)\n",
        "        \n",
        "    return high_pass\n",
        "\n",
        "def calc_ewm(s, windows=[10, 50, 100, 500, 1000]):\n",
        "    '''\n",
        "    Calculates exponential weighted functions\n",
        "    '''\n",
        "    ewm = pd.DataFrame()\n",
        "    for w in windows:\n",
        "        ewm['ewm_mean_' + str(w)] = s.ewm(span=w, min_periods=1).mean()\n",
        "        ewm['ewm_std_' + str(w)] = s.ewm(span=w, min_periods=1).std()\n",
        "        \n",
        "    # add zeros when na values (std)\n",
        "    ewm = ewm.fillna(value=0)\n",
        "        \n",
        "    return ewm\n",
        "\n",
        "\n",
        "def add_features(s):\n",
        "    '''\n",
        "    All calculations together\n",
        "    '''\n",
        "    \n",
        "    gradients = calc_gradients(s)\n",
        "    low_pass = calc_low_pass(s)\n",
        "    high_pass = calc_high_pass(s)\n",
        "    ewm = calc_ewm(s)\n",
        "    \n",
        "    return pd.concat([s, gradients, low_pass, high_pass, ewm], axis=1)\n",
        "\n",
        "\n",
        "# signal_size を考える\n",
        "# 500000? or 4000?\n",
        "def divide_and_add_features(s, signal_size=500000):\n",
        "    '''\n",
        "    Divide the signal in bags of \"signal_size\".\n",
        "    Normalize the data dividing it by 15.0\n",
        "    '''\n",
        "    # normalize\n",
        "    s = s / 15.0\n",
        "    \n",
        "    ls = []\n",
        "    for i in tqdm(range(int(s.shape[0]/signal_size))):\n",
        "        sig = s[i*signal_size:(i+1)*signal_size].copy().reset_index(drop=True)\n",
        "        sig_featured = add_features(sig)\n",
        "        ls.append(sig_featured)\n",
        "    \n",
        "    return pd.concat(ls, axis=0)"
      ],
      "execution_count": 0,
      "outputs": []
    },
    {
      "cell_type": "code",
      "metadata": {
        "id": "uvqlr0beS_62",
        "colab_type": "code",
        "colab": {}
      },
      "source": [
        "# get lead and lags features\n",
        "def lag_with_pct_change(df, windows):\n",
        "    for window in windows:    \n",
        "        df['signal_shift_pos_' + str(window)] = df.groupby('group')['signal'].shift(window).fillna(0)\n",
        "        df['signal_shift_neg_' + str(window)] = df.groupby('group')['signal'].shift(-1 * window).fillna(0)\n",
        "    return df"
      ],
      "execution_count": 0,
      "outputs": []
    },
    {
      "cell_type": "code",
      "metadata": {
        "id": "aWSG9xWHWlhP",
        "colab_type": "code",
        "colab": {}
      },
      "source": [
        "def calc_roll_stats(df, windows, group='group'):\n",
        "    '''\n",
        "    Calculates rolling stats like mean, std, min, max...\n",
        "    '''\n",
        "    for i, window in enumerate(windows):\n",
        "      df[group + 'roll_mean_' + str(window)] = df.groupby(group)['signal'].rolling(window=window, min_periods=window).mean().values\n",
        "      df[group + 'roll_std_' + str(window)] = df.groupby(group)['signal'].rolling(window=window, min_periods=window).std().values\n",
        "      df[group + 'roll_min_' + str(window)] = df.groupby(group)['signal'].rolling(window=window, min_periods=window).min().values\n",
        "      df[group + 'roll_max_' + str(window)] = df.groupby(group)['signal'].rolling(window=window, min_periods=window).max().values\n",
        "      df[group + 'roll_range' + str(window)] = df[group + 'roll_max_' + str(window)] - df[group + 'roll_min_' + str(window)]\n",
        "\n",
        "      df['roll_q10_' + str(window)] = df.groupby('group')['signal'].rolling(window=window, min_periods=window).quantile(0.10).values\n",
        "      df['roll_q25_' + str(window)] = df.groupby('group')['signal'].rolling(window=window, min_periods=window).quantile(0.25).values\n",
        "      df['roll_q50_' + str(window)] = df.groupby('group')['signal'].rolling(window=window, min_periods=window).quantile(0.50).values\n",
        "      df['roll_q75_' + str(window)] = df.groupby('group')['signal'].rolling(window=window, min_periods=window).quantile(0.75).values\n",
        "      df['roll_q90_' + str(window)] = df.groupby('group')['signal'].rolling(window=window, min_periods=window).quantile(0.90).values\n",
        "             \n",
        "    return df"
      ],
      "execution_count": 0,
      "outputs": []
    },
    {
      "cell_type": "code",
      "metadata": {
        "id": "4sJgvILz6ppL",
        "colab_type": "code",
        "colab": {}
      },
      "source": [
        "def calc_expand_stats(df, group='group'):\n",
        "  df['expanding_mean'] = df.groupby(group)['signal'].expanding().mean().fillna(0).values\n",
        "  df['expanding_std'] = df.groupby(group)['signal'].expanding().std().fillna(0).values\n",
        "  df['expanding_max'] = df.groupby(group)['signal'].expanding().max().fillna(0).values\n",
        "  df['expanding_min'] = df.groupby(group)['signal'].expanding().min().fillna(0).values\n",
        "  df['expanding_range'] = df['expanding_max'] - df['expanding_min']\n",
        "  \n",
        "  return df"
      ],
      "execution_count": 0,
      "outputs": []
    },
    {
      "cell_type": "code",
      "metadata": {
        "id": "abANAaO5T4l6",
        "colab_type": "code",
        "colab": {}
      },
      "source": [
        "# main module to run feature engineering. Here you may want to try and add other features and check if your score imporves :).\n",
        "def run_feat_engineering(df, batch_size):\n",
        "    # create batches\n",
        "    df = batching(df, batch_size = batch_size)\n",
        "\n",
        "    # create leads and lags\n",
        "    df = lag_with_pct_change(df, np.asarray(range(1, 3), dtype=np.int32))\n",
        "\n",
        "    # create rolling stats\n",
        "    # df = calc_roll_stats(df, [3, 10, 50, 100, 500, 1000]) # groupごと(4000)\n",
        "    df = calc_roll_stats(df, [100, 1000])\n",
        "    # df = calc_roll_stats(df, [50000, 100000], group='batch') # batchごと(500000)\n",
        "\n",
        "    # create expanding stats\n",
        "    # df = calc_expand_stats(df)\n",
        "\n",
        "    # create signal ** 2 (this is the new feature)\n",
        "    df['signal_2'] = df['signal'] ** 2\n",
        "\n",
        "    return df"
      ],
      "execution_count": 0,
      "outputs": []
    },
    {
      "cell_type": "code",
      "metadata": {
        "id": "xkDA5AB3TB13",
        "colab_type": "code",
        "colab": {}
      },
      "source": [
        "# fillna with the mean and select features for training\n",
        "def feature_selection(train, test):\n",
        "    features = [col for col in train.columns if col not in ['index', 'group', 'open_channels', 'time', 'batch', 'train_group', 'test_group']]\n",
        "    train = train.replace([np.inf, -np.inf], np.nan)\n",
        "    test = test.replace([np.inf, -np.inf], np.nan)\n",
        "    for feature in features:\n",
        "        feature_mean = pd.concat([train[feature], test[feature]], axis = 0).mean()\n",
        "        train[feature] = train[feature].fillna(feature_mean)\n",
        "        test[feature] = test[feature].fillna(feature_mean)\n",
        "    return train, test, features"
      ],
      "execution_count": 0,
      "outputs": []
    },
    {
      "cell_type": "code",
      "metadata": {
        "id": "VBDhfByvRp89",
        "colab_type": "code",
        "colab": {}
      },
      "source": [
        "def get_class_weight(classes, exp=1):\n",
        "    '''\n",
        "    Weight of the class is inversely proportional to the population of the class.\n",
        "    There is an exponent for adding more weight.\n",
        "    '''\n",
        "    hist, _ = np.histogram(classes, bins=np.arange(12)-0.5)\n",
        "    class_weight = hist.sum()/np.power(hist, exp)\n",
        "    \n",
        "    return class_weight"
      ],
      "execution_count": 0,
      "outputs": []
    },
    {
      "cell_type": "code",
      "metadata": {
        "id": "ukeaTjmH8L2a",
        "colab_type": "code",
        "colab": {}
      },
      "source": [
        "def lgb_Metric(preds, dtrain):\n",
        "    labels = dtrain.get_label()\n",
        "    num_labels = 11\n",
        "    preds = preds.reshape(num_labels, len(preds)//num_labels)\n",
        "    preds = np.argmax(preds, axis=0)\n",
        "    score = f1_score(labels, preds, average=\"macro\")\n",
        "    return ('KaggleMetric', score, True)"
      ],
      "execution_count": 0,
      "outputs": []
    },
    {
      "cell_type": "code",
      "metadata": {
        "id": "arzvPi4DTJNs",
        "colab_type": "code",
        "colab": {}
      },
      "source": [
        "# main function to perfrom groupkfold cross validation (we have 1000 vectores of 4000 rows and 8 features (columns)). Going to make 5 groups with this subgroups.\n",
        "def run_cv_model_by_batch(train, test, splits, batch_col, feats, sample_submission):\n",
        "    oof_ = np.zeros(len(train))\n",
        "    preds_ = np.zeros(len(test))\n",
        "    target = ['open_channels']\n",
        "    group = train['group']\n",
        "    # kf = GroupKFold(n_splits=5)\n",
        "    kf = StratifiedKFold(n_splits = 5, shuffle = True, random_state = 42)\n",
        "\n",
        "    for n_fold, (tr_idx, val_idx) in enumerate(kf.split(train, train[target], groups=group)):\n",
        "        train_x, train_y = train.iloc[tr_idx], train[target].iloc[tr_idx]\n",
        "        valid_x, valid_y = train.iloc[val_idx], train[target].iloc[val_idx]\n",
        "        print(f'Our training dataset shape is {train_x.shape}')\n",
        "        print(f'Our validation dataset shape is {valid_x.shape}')\n",
        "\n",
        "        gc.collect()\n",
        "\n",
        "        train_set = lgb.Dataset(train_x[feats], train_y)\n",
        "        val_set = lgb.Dataset(valid_x[feats], valid_y)\n",
        "\n",
        "        params = {\n",
        "            'objective': 'multiclass',\n",
        "            'num_class': 11,\n",
        "            'metric': 'multi_logloss',\n",
        "            'learning_rate': 0.00987173774816051,\n",
        "            'lambda_l1': 0.00031963798315506463,\n",
        "            'lambda_l2': 0.18977456778807847,\n",
        "            'num_leaves': 171, \n",
        "            'feature_fraction': 0.58733782457345, \n",
        "            'bagging_fraction': 0.7057826081907392, \n",
        "            'bagging_freq': 4\n",
        "        }\n",
        "        \n",
        "        lgb_model = lgb.train(\n",
        "            params, \n",
        "            train_set, num_boost_round = 10000, \n",
        "            early_stopping_rounds = 50, \n",
        "            valid_sets = [train_set, val_set], \n",
        "            valid_names = ['train', 'eval'],\n",
        "            feval=lgb_Metric,\n",
        "            verbose_eval = 100,)\n",
        "\n",
        "        preds_f = lgb_model.predict(valid_x[feats])\n",
        "        f1_score_ = f1_score(valid_y, np.argmax(preds_f, axis=1), average = 'macro')\n",
        "        print(f'Training fold {n_fold + 1} completed. macro f1 score : {f1_score_ :1.5f}')\n",
        "        oof_[val_idx] += np.argmax(preds_f, axis=1)\n",
        "        te_preds = lgb_model.predict(test[feats])\n",
        "        preds_ += np.argmax(te_preds, axis=1) / SPLITS\n",
        "\n",
        "    return preds_, oof_\n",
        "\n",
        "    # f1_score_ = f1_score(train[target],  np.round(np.clip(oof_, 0, 10)).astype(int), average = 'macro')\n",
        "    # print(f'Training completed. oof macro f1 score : {f1_score_:1.5f}')\n",
        "    # sample_submission['open_channels'] = np.round(np.clip(preds_, 0, 10)).astype(int)\n",
        "    # sample_submission.to_csv('lgb_submission.csv', index=False, float_format='%.4f')"
      ],
      "execution_count": 0,
      "outputs": []
    },
    {
      "cell_type": "code",
      "metadata": {
        "id": "hOM_WZ_5ZiYM",
        "colab_type": "code",
        "colab": {}
      },
      "source": [
        "def reduce_mem_usage(df, verbose=True):\n",
        "    numerics = ['int16', 'int32', 'int64', 'float16', 'float32', 'float64']\n",
        "    start_mem = df.memory_usage().sum() / 1024**2    \n",
        "    for col in df.columns:\n",
        "        if col!='open_channels':\n",
        "            col_type = df[col].dtypes\n",
        "            if col_type in numerics:\n",
        "                c_min = df[col].min()\n",
        "                c_max = df[col].max()\n",
        "                if str(col_type)[:3] == 'int':\n",
        "                    if c_min > np.iinfo(np.int8).min and c_max < np.iinfo(np.int8).max:\n",
        "                        df[col] = df[col].astype(np.int8)\n",
        "                    elif c_min > np.iinfo(np.int16).min and c_max < np.iinfo(np.int16).max:\n",
        "                        df[col] = df[col].astype(np.int16)\n",
        "                    elif c_min > np.iinfo(np.int32).min and c_max < np.iinfo(np.int32).max:\n",
        "                        df[col] = df[col].astype(np.int32)\n",
        "                    elif c_min > np.iinfo(np.int64).min and c_max < np.iinfo(np.int64).max:\n",
        "                        df[col] = df[col].astype(np.int64)  \n",
        "                else:\n",
        "                    if c_min > np.finfo(np.float16).min and c_max < np.finfo(np.float16).max:\n",
        "                        df[col] = df[col].astype(np.float16)\n",
        "                    elif c_min > np.finfo(np.float32).min and c_max < np.finfo(np.float32).max:\n",
        "                        df[col] = df[col].astype(np.float32)\n",
        "                    else:\n",
        "                        df[col] = df[col].astype(np.float64)    \n",
        "    end_mem = df.memory_usage().sum() / 1024**2\n",
        "    if verbose: print('Mem. usage decreased to {:5.2f} Mb ({:.1f}% reduction)'.format(end_mem, 100 * (start_mem - end_mem) / start_mem))\n",
        "    return df"
      ],
      "execution_count": 0,
      "outputs": []
    },
    {
      "cell_type": "code",
      "metadata": {
        "id": "esUCbE6mTLxE",
        "colab_type": "code",
        "outputId": "5649c2d7-a9d2-4be2-c99f-d7207c373cfa",
        "colab": {
          "base_uri": "https://localhost:8080/",
          "height": 51
        }
      },
      "source": [
        "print('Reading Data Started...')\n",
        "train, test, sample_submission = read_data()\n",
        "train, test = batching_10(train, test)\n",
        "train = create_signal_mod(train)\n",
        "\n",
        "# # Kalman Filter\n",
        "# observation_covariance = .0015\n",
        "# train['signal'] = Kalman1D(train.signal.values,observation_covariance)\n",
        "# test['signal'] = Kalman1D(test.signal.values,observation_covariance)\n",
        "\n",
        "train, test = normalize(train, test)\n",
        "print('Reading and Normalizing Data Completed')"
      ],
      "execution_count": 29,
      "outputs": [
        {
          "output_type": "stream",
          "text": [
            "Reading Data Started...\n",
            "Reading and Normalizing Data Completed\n"
          ],
          "name": "stdout"
        }
      ]
    },
    {
      "cell_type": "code",
      "metadata": {
        "id": "sYu0glRGTPu2",
        "colab_type": "code",
        "outputId": "ab6ee927-cdcf-4f9a-e6b7-cf041ff314a7",
        "colab": {
          "base_uri": "https://localhost:8080/",
          "height": 204
        }
      },
      "source": [
        "print('Creating Features')\n",
        "print('Feature Engineering Started...')\n",
        "\n",
        "train, test = add_category(train, test)\n",
        "\n",
        "# train, test = batching_10(train, test)\n",
        "\n",
        "train = run_feat_engineering(train, batch_size = GROUP_BATCH_SIZE)\n",
        "test = run_feat_engineering(test, batch_size = GROUP_BATCH_SIZE)\n",
        "\n",
        "print('Reduce memory usage...')\n",
        "train = reduce_mem_usage(train)\n",
        "test = reduce_mem_usage(test)\n",
        "\n",
        "tr_clean = pd.read_csv('./train_clean.csv', dtype={'time': np.float32, 'signal': np.float32, 'open_channels':np.int32})\n",
        "ts_clean = pd.read_csv('./test_clean.csv', dtype={'time': np.float32, 'signal': np.float32})\n",
        "pre_train = divide_and_add_features(tr_clean.signal, signal_size=500000)\n",
        "pre_test = divide_and_add_features(ts_clean.signal, signal_size=500000)\n",
        "pre_train.drop('signal', axis=1, inplace=True)\n",
        "pre_test.drop('signal', axis=1, inplace=True)\n",
        "pre_train.reset_index(inplace = True, drop = True)\n",
        "pre_test.reset_index(inplace = True, drop = True)\n",
        "train = pd.concat([train, pre_train], axis=1)\n",
        "test = pd.concat([test, pre_test], axis=1)\n",
        "\n",
        "del pre_train, pre_test, tr_clean, ts_clean\n",
        "gc.collect\n",
        "\n",
        "print('Reduce memory usage...')\n",
        "train = reduce_mem_usage(train)\n",
        "test = reduce_mem_usage(test)\n",
        "\n",
        "train, test, features = feature_selection(train, test)\n",
        "print('Feature Engineering Completed...')"
      ],
      "execution_count": 30,
      "outputs": [
        {
          "output_type": "stream",
          "text": [
            "Creating Features\n",
            "Feature Engineering Started...\n",
            "Reduce memory usage...\n",
            "Mem. usage decreased to 622.53 Mb (64.5% reduction)\n",
            "Mem. usage decreased to 265.01 Mb (63.0% reduction)\n"
          ],
          "name": "stdout"
        },
        {
          "output_type": "stream",
          "text": [
            "100%|██████████| 10/10 [00:08<00:00,  1.16it/s]\n",
            "100%|██████████| 4/4 [00:03<00:00,  1.16it/s]\n"
          ],
          "name": "stderr"
        },
        {
          "output_type": "stream",
          "text": [
            "Reduce memory usage...\n",
            "Mem. usage decreased to 1137.52 Mb (57.6% reduction)\n",
            "Mem. usage decreased to 471.01 Mb (56.7% reduction)\n",
            "Feature Engineering Completed...\n"
          ],
          "name": "stdout"
        }
      ]
    },
    {
      "cell_type": "code",
      "metadata": {
        "id": "h448uvloaCSb",
        "colab_type": "code",
        "outputId": "ed09384e-deac-4dac-dae4-2ab0b35b223f",
        "colab": {
          "base_uri": "https://localhost:8080/",
          "height": 68
        }
      },
      "source": [
        "print('Reduce memory usage...')\n",
        "train = reduce_mem_usage(train)\n",
        "test = reduce_mem_usage(test)"
      ],
      "execution_count": 31,
      "outputs": [
        {
          "output_type": "stream",
          "text": [
            "Reduce memory usage...\n",
            "Mem. usage decreased to 1137.52 Mb (0.0% reduction)\n",
            "Mem. usage decreased to 471.01 Mb (0.0% reduction)\n"
          ],
          "name": "stdout"
        }
      ]
    },
    {
      "cell_type": "code",
      "metadata": {
        "id": "MGptgjoR9m_q",
        "colab_type": "code",
        "colab": {}
      },
      "source": [
        "def train_grouping(train, test):\n",
        "  train.loc[0:1000000, 'train_group'] = 0          # batch 0 and 1\n",
        "  train.loc[1000000:1500000, 'train_group'] = 1  # batch 2\n",
        "  train.loc[1500000:2000000, 'train_group'] = 2  # batch 3\n",
        "  train.loc[2000000:2500000, 'train_group'] = 3  # batch 4\n",
        "  train.loc[2500000:3000000, 'train_group'] = 4  # batch 5\n",
        "  train.loc[3000000:3500000, 'train_group'] = 1  # batch 6\n",
        "  train.loc[3500000:4000000, 'train_group'] = 2  # batch 7\n",
        "  train.loc[4000000:4500000, 'train_group'] = 4  # batch 8\n",
        "  train.loc[4500000:5000001, 'train_group'] = 3  # batch 9\n",
        "\n",
        "  test.loc[0:100000, 'test_group'] = 0\n",
        "  test.loc[100000:200000, 'test_group'] = 2\n",
        "  test.loc[200000:300000, 'test_group'] = 4\n",
        "  test.loc[300000:400000, 'test_group'] = 0\n",
        "  test.loc[400000:500000, 'test_group'] = 1\n",
        "  test.loc[500000:600000, 'test_group'] = 3\n",
        "  test.loc[600000:700000, 'test_group'] = 4\n",
        "  test.loc[700000:800000, 'test_group'] = 3\n",
        "  test.loc[800000:900000, 'test_group'] = 0\n",
        "  test.loc[900000:1000000, 'test_group'] = 2\n",
        "  test.loc[1000000:, 'test_group'] = 0\n",
        "\n",
        "  return train, test"
      ],
      "execution_count": 0,
      "outputs": []
    },
    {
      "cell_type": "code",
      "metadata": {
        "id": "PEzL3Kv5Tviy",
        "colab_type": "code",
        "outputId": "b9f4c9d9-f65f-4b32-c10b-ce93064f2e36",
        "colab": {
          "base_uri": "https://localhost:8080/",
          "height": 1000
        }
      },
      "source": [
        "# print(f'Training lgb model with {SPLITS} folds of GroupKFold Started...')\n",
        "# run_cv_model_by_batch(train, test, SPLITS, 'group', features, sample_submission)\n",
        "# print('Training completed...')\n",
        "\n",
        "train. test = train_grouping(train, test)\n",
        "preds = []\n",
        "oofs = []\n",
        "print('Training started')\n",
        "for i in range(5):\n",
        "  print(f'Training train_group {i+1} started...')\n",
        "  group_train = train[train['train_group'] == i]\n",
        "  group_test = test[test['test_group'] == i]\n",
        "  pred, oof = run_cv_model_by_batch(group_train, group_test, SPLITS, 'group', features, sample_submission)\n",
        "  # preds += pred.tolist()\n",
        "  # oofs += oof.tolist()\n",
        "  preds.append(pred)\n",
        "  oofs.append(oof)\n",
        "  print(f'Training train_group {i+1} completed...')\n",
        "print('Training completed...')"
      ],
      "execution_count": 33,
      "outputs": [
        {
          "output_type": "stream",
          "text": [
            "Training started\n",
            "Training train_group 1 started...\n",
            "Our training dataset shape is (800000, 97)\n",
            "Our validation dataset shape is (200000, 97)\n",
            "Training until validation scores don't improve for 50 rounds.\n",
            "Early stopping, best iteration is:\n",
            "[1]\ttrain's multi_logloss: 0.142655\ttrain's KaggleMetric: 0.491041\teval's multi_logloss: 0.142649\teval's KaggleMetric: 0.491042\n",
            "Training fold 1 completed. macro f1 score : 0.49104\n",
            "Our training dataset shape is (800000, 97)\n",
            "Our validation dataset shape is (200000, 97)\n",
            "Training until validation scores don't improve for 50 rounds.\n",
            "Early stopping, best iteration is:\n",
            "[1]\ttrain's multi_logloss: 0.142665\ttrain's KaggleMetric: 0.491041\teval's multi_logloss: 0.142676\teval's KaggleMetric: 0.491041\n",
            "Training fold 2 completed. macro f1 score : 0.49104\n",
            "Our training dataset shape is (800000, 97)\n",
            "Our validation dataset shape is (200000, 97)\n",
            "Training until validation scores don't improve for 50 rounds.\n",
            "Early stopping, best iteration is:\n",
            "[1]\ttrain's multi_logloss: 0.142656\ttrain's KaggleMetric: 0.491041\teval's multi_logloss: 0.142654\teval's KaggleMetric: 0.491041\n",
            "Training fold 3 completed. macro f1 score : 0.49104\n",
            "Our training dataset shape is (800000, 97)\n",
            "Our validation dataset shape is (200000, 97)\n",
            "Training until validation scores don't improve for 50 rounds.\n",
            "Early stopping, best iteration is:\n",
            "[1]\ttrain's multi_logloss: 0.142651\ttrain's KaggleMetric: 0.491041\teval's multi_logloss: 0.142673\teval's KaggleMetric: 0.491041\n",
            "Training fold 4 completed. macro f1 score : 0.49104\n",
            "Our training dataset shape is (800000, 97)\n",
            "Our validation dataset shape is (200000, 97)\n",
            "Training until validation scores don't improve for 50 rounds.\n",
            "Early stopping, best iteration is:\n",
            "[1]\ttrain's multi_logloss: 0.142658\ttrain's KaggleMetric: 0.491041\teval's multi_logloss: 0.142664\teval's KaggleMetric: 0.491041\n",
            "Training fold 5 completed. macro f1 score : 0.49104\n",
            "Training train_group 1 completed...\n",
            "Training train_group 2 started...\n",
            "Our training dataset shape is (800000, 97)\n",
            "Our validation dataset shape is (200000, 97)\n",
            "Training until validation scores don't improve for 50 rounds.\n",
            "[100]\ttrain's multi_logloss: 0.157272\ttrain's KaggleMetric: 0.99777\teval's multi_logloss: 0.158153\teval's KaggleMetric: 0.996904\n",
            "[200]\ttrain's multi_logloss: 0.0570291\ttrain's KaggleMetric: 0.998288\teval's multi_logloss: 0.058727\teval's KaggleMetric: 0.996946\n",
            "Early stopping, best iteration is:\n",
            "[171]\ttrain's multi_logloss: 0.0756892\ttrain's KaggleMetric: 0.998152\teval's multi_logloss: 0.0771492\teval's KaggleMetric: 0.996979\n",
            "Training fold 1 completed. macro f1 score : 0.99698\n",
            "Our training dataset shape is (800000, 97)\n",
            "Our validation dataset shape is (200000, 97)\n",
            "Training until validation scores don't improve for 50 rounds.\n",
            "[100]\ttrain's multi_logloss: 0.157243\ttrain's KaggleMetric: 0.9978\teval's multi_logloss: 0.15821\teval's KaggleMetric: 0.996783\n",
            "[200]\ttrain's multi_logloss: 0.0569685\ttrain's KaggleMetric: 0.998339\teval's multi_logloss: 0.0588218\teval's KaggleMetric: 0.996993\n",
            "[300]\ttrain's multi_logloss: 0.0226723\ttrain's KaggleMetric: 0.998742\teval's multi_logloss: 0.0254137\teval's KaggleMetric: 0.99706\n",
            "Early stopping, best iteration is:\n",
            "[288]\ttrain's multi_logloss: 0.025205\ttrain's KaggleMetric: 0.998702\teval's multi_logloss: 0.0278402\teval's KaggleMetric: 0.997073\n",
            "Training fold 2 completed. macro f1 score : 0.99707\n",
            "Our training dataset shape is (800000, 97)\n",
            "Our validation dataset shape is (200000, 97)\n",
            "Training until validation scores don't improve for 50 rounds.\n",
            "[100]\ttrain's multi_logloss: 0.157285\ttrain's KaggleMetric: 0.997693\teval's multi_logloss: 0.158157\teval's KaggleMetric: 0.996796\n",
            "[200]\ttrain's multi_logloss: 0.0570334\ttrain's KaggleMetric: 0.998276\teval's multi_logloss: 0.058649\teval's KaggleMetric: 0.996952\n",
            "[300]\ttrain's multi_logloss: 0.0227484\ttrain's KaggleMetric: 0.998639\teval's multi_logloss: 0.0251268\teval's KaggleMetric: 0.997026\n",
            "Early stopping, best iteration is:\n",
            "[317]\ttrain's multi_logloss: 0.019636\ttrain's KaggleMetric: 0.998701\teval's multi_logloss: 0.0221416\teval's KaggleMetric: 0.997066\n",
            "Training fold 3 completed. macro f1 score : 0.99707\n",
            "Our training dataset shape is (800000, 97)\n",
            "Our validation dataset shape is (200000, 97)\n",
            "Training until validation scores don't improve for 50 rounds.\n",
            "[100]\ttrain's multi_logloss: 0.157299\ttrain's KaggleMetric: 0.997693\teval's multi_logloss: 0.157985\teval's KaggleMetric: 0.997024\n",
            "[200]\ttrain's multi_logloss: 0.0570517\ttrain's KaggleMetric: 0.998259\teval's multi_logloss: 0.0584807\teval's KaggleMetric: 0.997092\n",
            "Early stopping, best iteration is:\n",
            "[196]\ttrain's multi_logloss: 0.0592956\ttrain's KaggleMetric: 0.998236\teval's multi_logloss: 0.0606919\teval's KaggleMetric: 0.997112\n",
            "Training fold 4 completed. macro f1 score : 0.99711\n",
            "Our training dataset shape is (800000, 97)\n",
            "Our validation dataset shape is (200000, 97)\n",
            "Training until validation scores don't improve for 50 rounds.\n",
            "[100]\ttrain's multi_logloss: 0.157228\ttrain's KaggleMetric: 0.997806\teval's multi_logloss: 0.158319\teval's KaggleMetric: 0.996689\n",
            "[200]\ttrain's multi_logloss: 0.0569558\ttrain's KaggleMetric: 0.998334\teval's multi_logloss: 0.0589607\teval's KaggleMetric: 0.996872\n",
            "Early stopping, best iteration is:\n",
            "[170]\ttrain's multi_logloss: 0.0763743\ttrain's KaggleMetric: 0.998205\teval's multi_logloss: 0.0781034\teval's KaggleMetric: 0.996898\n",
            "Training fold 5 completed. macro f1 score : 0.99690\n",
            "Training train_group 2 completed...\n",
            "Training train_group 3 started...\n",
            "Our training dataset shape is (800000, 97)\n",
            "Our validation dataset shape is (200000, 97)\n",
            "Training until validation scores don't improve for 50 rounds.\n",
            "[100]\ttrain's multi_logloss: 0.355067\ttrain's KaggleMetric: 0.986106\teval's multi_logloss: 0.35771\teval's KaggleMetric: 0.982548\n",
            "[200]\ttrain's multi_logloss: 0.145752\ttrain's KaggleMetric: 0.987905\teval's multi_logloss: 0.150608\teval's KaggleMetric: 0.982958\n",
            "[300]\ttrain's multi_logloss: 0.0722354\ttrain's KaggleMetric: 0.98922\teval's multi_logloss: 0.0794773\teval's KaggleMetric: 0.983063\n",
            "Early stopping, best iteration is:\n",
            "[338]\ttrain's multi_logloss: 0.0584255\ttrain's KaggleMetric: 0.989608\teval's multi_logloss: 0.0666273\teval's KaggleMetric: 0.983205\n",
            "Training fold 1 completed. macro f1 score : 0.98320\n",
            "Our training dataset shape is (800000, 97)\n",
            "Our validation dataset shape is (200000, 97)\n",
            "Training until validation scores don't improve for 50 rounds.\n",
            "[100]\ttrain's multi_logloss: 0.354989\ttrain's KaggleMetric: 0.986045\teval's multi_logloss: 0.357776\teval's KaggleMetric: 0.98322\n",
            "[200]\ttrain's multi_logloss: 0.145649\ttrain's KaggleMetric: 0.987972\teval's multi_logloss: 0.150796\teval's KaggleMetric: 0.983591\n",
            "[300]\ttrain's multi_logloss: 0.0721383\ttrain's KaggleMetric: 0.989234\teval's multi_logloss: 0.0797805\teval's KaggleMetric: 0.983846\n",
            "Early stopping, best iteration is:\n",
            "[295]\ttrain's multi_logloss: 0.0743633\ttrain's KaggleMetric: 0.989184\teval's multi_logloss: 0.0818741\teval's KaggleMetric: 0.983908\n",
            "Training fold 2 completed. macro f1 score : 0.98391\n",
            "Our training dataset shape is (800000, 97)\n",
            "Our validation dataset shape is (200000, 97)\n",
            "Training until validation scores don't improve for 50 rounds.\n",
            "[100]\ttrain's multi_logloss: 0.355013\ttrain's KaggleMetric: 0.986129\teval's multi_logloss: 0.357783\teval's KaggleMetric: 0.982832\n",
            "Early stopping, best iteration is:\n",
            "[135]\ttrain's multi_logloss: 0.25464\ttrain's KaggleMetric: 0.987138\teval's multi_logloss: 0.258216\teval's KaggleMetric: 0.983294\n",
            "Training fold 3 completed. macro f1 score : 0.98329\n",
            "Our training dataset shape is (800000, 97)\n",
            "Our validation dataset shape is (200000, 97)\n",
            "Training until validation scores don't improve for 50 rounds.\n",
            "[100]\ttrain's multi_logloss: 0.354942\ttrain's KaggleMetric: 0.98612\teval's multi_logloss: 0.357944\teval's KaggleMetric: 0.98268\n",
            "[200]\ttrain's multi_logloss: 0.145639\ttrain's KaggleMetric: 0.988178\teval's multi_logloss: 0.151049\teval's KaggleMetric: 0.983271\n",
            "[300]\ttrain's multi_logloss: 0.0721566\ttrain's KaggleMetric: 0.989375\teval's multi_logloss: 0.0800356\teval's KaggleMetric: 0.983364\n",
            "Early stopping, best iteration is:\n",
            "[266]\ttrain's multi_logloss: 0.0896001\ttrain's KaggleMetric: 0.988969\teval's multi_logloss: 0.0966127\teval's KaggleMetric: 0.983456\n",
            "Training fold 4 completed. macro f1 score : 0.98346\n",
            "Our training dataset shape is (800000, 97)\n",
            "Our validation dataset shape is (200000, 97)\n",
            "Training until validation scores don't improve for 50 rounds.\n",
            "[100]\ttrain's multi_logloss: 0.355073\ttrain's KaggleMetric: 0.98581\teval's multi_logloss: 0.357615\teval's KaggleMetric: 0.982213\n",
            "[200]\ttrain's multi_logloss: 0.145783\ttrain's KaggleMetric: 0.988256\teval's multi_logloss: 0.150516\teval's KaggleMetric: 0.983319\n",
            "[300]\ttrain's multi_logloss: 0.0722849\ttrain's KaggleMetric: 0.989378\teval's multi_logloss: 0.0794258\teval's KaggleMetric: 0.983426\n",
            "Early stopping, best iteration is:\n",
            "[294]\ttrain's multi_logloss: 0.0749671\ttrain's KaggleMetric: 0.989315\teval's multi_logloss: 0.081958\teval's KaggleMetric: 0.983447\n",
            "Training fold 5 completed. macro f1 score : 0.98345\n",
            "Training train_group 3 completed...\n",
            "Training train_group 4 started...\n",
            "Our training dataset shape is (800000, 97)\n",
            "Our validation dataset shape is (200000, 97)\n",
            "Training until validation scores don't improve for 50 rounds.\n",
            "[100]\ttrain's multi_logloss: 0.700838\ttrain's KaggleMetric: 0.808003\teval's multi_logloss: 0.711931\teval's KaggleMetric: 0.849442\n",
            "[200]\ttrain's multi_logloss: 0.427266\ttrain's KaggleMetric: 0.823416\teval's multi_logloss: 0.446034\teval's KaggleMetric: 0.860449\n",
            "Early stopping, best iteration is:\n",
            "[173]\ttrain's multi_logloss: 0.475472\ttrain's KaggleMetric: 0.820788\teval's multi_logloss: 0.492224\teval's KaggleMetric: 0.861055\n",
            "Training fold 1 completed. macro f1 score : 0.86105\n",
            "Our training dataset shape is (800000, 97)\n",
            "Our validation dataset shape is (200000, 97)\n",
            "Training until validation scores don't improve for 50 rounds.\n",
            "[100]\ttrain's multi_logloss: 0.70051\ttrain's KaggleMetric: 0.810435\teval's multi_logloss: 0.713063\teval's KaggleMetric: 0.860668\n",
            "[200]\ttrain's multi_logloss: 0.426858\ttrain's KaggleMetric: 0.824304\teval's multi_logloss: 0.447787\teval's KaggleMetric: 0.864602\n",
            "[300]\ttrain's multi_logloss: 0.325678\ttrain's KaggleMetric: 0.833929\teval's multi_logloss: 0.35468\teval's KaggleMetric: 0.865275\n",
            "[400]\ttrain's multi_logloss: 0.281101\ttrain's KaggleMetric: 0.840782\teval's multi_logloss: 0.318245\teval's KaggleMetric: 0.865483\n",
            "Early stopping, best iteration is:\n",
            "[387]\ttrain's multi_logloss: 0.285318\ttrain's KaggleMetric: 0.840155\teval's multi_logloss: 0.321414\teval's KaggleMetric: 0.865799\n",
            "Training fold 2 completed. macro f1 score : 0.86580\n",
            "Our training dataset shape is (800000, 97)\n",
            "Our validation dataset shape is (200000, 97)\n",
            "Training until validation scores don't improve for 50 rounds.\n",
            "[100]\ttrain's multi_logloss: 0.700175\ttrain's KaggleMetric: 0.810374\teval's multi_logloss: 0.713717\teval's KaggleMetric: 0.870866\n",
            "Early stopping, best iteration is:\n",
            "[107]\ttrain's multi_logloss: 0.669783\ttrain's KaggleMetric: 0.811137\teval's multi_logloss: 0.68399\teval's KaggleMetric: 0.871372\n",
            "Training fold 3 completed. macro f1 score : 0.87137\n",
            "Our training dataset shape is (800000, 97)\n",
            "Our validation dataset shape is (200000, 97)\n",
            "Training until validation scores don't improve for 50 rounds.\n",
            "[100]\ttrain's multi_logloss: 0.700972\ttrain's KaggleMetric: 0.811563\teval's multi_logloss: 0.711886\teval's KaggleMetric: 0.779578\n",
            "[200]\ttrain's multi_logloss: 0.427368\ttrain's KaggleMetric: 0.82319\teval's multi_logloss: 0.445794\teval's KaggleMetric: 0.781618\n",
            "[300]\ttrain's multi_logloss: 0.326177\ttrain's KaggleMetric: 0.833074\teval's multi_logloss: 0.352158\teval's KaggleMetric: 0.783691\n",
            "Early stopping, best iteration is:\n",
            "[263]\ttrain's multi_logloss: 0.353566\ttrain's KaggleMetric: 0.829871\teval's multi_logloss: 0.37672\teval's KaggleMetric: 0.783724\n",
            "Training fold 4 completed. macro f1 score : 0.78372\n",
            "Our training dataset shape is (800000, 97)\n",
            "Our validation dataset shape is (200000, 97)\n",
            "Training until validation scores don't improve for 50 rounds.\n",
            "[100]\ttrain's multi_logloss: 0.700953\ttrain's KaggleMetric: 0.809037\teval's multi_logloss: 0.711778\teval's KaggleMetric: 0.787113\n",
            "[200]\ttrain's multi_logloss: 0.427329\ttrain's KaggleMetric: 0.82329\teval's multi_logloss: 0.445887\teval's KaggleMetric: 0.788251\n",
            "[300]\ttrain's multi_logloss: 0.326093\ttrain's KaggleMetric: 0.833264\teval's multi_logloss: 0.352502\teval's KaggleMetric: 0.788909\n",
            "[400]\ttrain's multi_logloss: 0.281527\ttrain's KaggleMetric: 0.840337\teval's multi_logloss: 0.316022\teval's KaggleMetric: 0.789365\n",
            "Early stopping, best iteration is:\n",
            "[351]\ttrain's multi_logloss: 0.29947\ttrain's KaggleMetric: 0.837395\teval's multi_logloss: 0.329992\teval's KaggleMetric: 0.789553\n",
            "Training fold 5 completed. macro f1 score : 0.78955\n",
            "Training train_group 4 completed...\n",
            "Training train_group 5 started...\n",
            "Our training dataset shape is (800000, 97)\n",
            "Our validation dataset shape is (200000, 97)\n",
            "Training until validation scores don't improve for 50 rounds.\n",
            "[100]\ttrain's multi_logloss: 0.444116\ttrain's KaggleMetric: 0.975868\teval's multi_logloss: 0.448281\teval's KaggleMetric: 0.972838\n",
            "[200]\ttrain's multi_logloss: 0.190341\ttrain's KaggleMetric: 0.980568\teval's multi_logloss: 0.197983\teval's KaggleMetric: 0.975391\n",
            "Early stopping, best iteration is:\n",
            "[232]\ttrain's multi_logloss: 0.151606\ttrain's KaggleMetric: 0.98115\teval's multi_logloss: 0.160363\teval's KaggleMetric: 0.97543\n",
            "Training fold 1 completed. macro f1 score : 0.97543\n",
            "Our training dataset shape is (800000, 97)\n",
            "Our validation dataset shape is (200000, 97)\n",
            "Training until validation scores don't improve for 50 rounds.\n",
            "[100]\ttrain's multi_logloss: 0.444225\ttrain's KaggleMetric: 0.977635\teval's multi_logloss: 0.448195\teval's KaggleMetric: 0.970625\n",
            "[200]\ttrain's multi_logloss: 0.190465\ttrain's KaggleMetric: 0.980816\teval's multi_logloss: 0.197654\teval's KaggleMetric: 0.972597\n",
            "Early stopping, best iteration is:\n",
            "[209]\ttrain's multi_logloss: 0.178298\ttrain's KaggleMetric: 0.981072\teval's multi_logloss: 0.185767\teval's KaggleMetric: 0.972905\n",
            "Training fold 2 completed. macro f1 score : 0.97291\n",
            "Our training dataset shape is (800000, 97)\n",
            "Our validation dataset shape is (200000, 97)\n",
            "Training until validation scores don't improve for 50 rounds.\n",
            "[100]\ttrain's multi_logloss: 0.443989\ttrain's KaggleMetric: 0.978206\teval's multi_logloss: 0.448903\teval's KaggleMetric: 0.967845\n",
            "[200]\ttrain's multi_logloss: 0.190204\ttrain's KaggleMetric: 0.981022\teval's multi_logloss: 0.198791\teval's KaggleMetric: 0.968914\n",
            "[300]\ttrain's multi_logloss: 0.100498\ttrain's KaggleMetric: 0.983092\teval's multi_logloss: 0.112798\teval's KaggleMetric: 0.969008\n",
            "Early stopping, best iteration is:\n",
            "[267]\ttrain's multi_logloss: 0.121102\ttrain's KaggleMetric: 0.982506\teval's multi_logloss: 0.132143\teval's KaggleMetric: 0.969263\n",
            "Training fold 3 completed. macro f1 score : 0.96926\n",
            "Our training dataset shape is (800000, 97)\n",
            "Our validation dataset shape is (200000, 97)\n",
            "Training until validation scores don't improve for 50 rounds.\n",
            "[100]\ttrain's multi_logloss: 0.443982\ttrain's KaggleMetric: 0.978109\teval's multi_logloss: 0.448642\teval's KaggleMetric: 0.970213\n",
            "[200]\ttrain's multi_logloss: 0.190138\ttrain's KaggleMetric: 0.980897\teval's multi_logloss: 0.198615\teval's KaggleMetric: 0.971301\n",
            "Early stopping, best iteration is:\n",
            "[214]\ttrain's multi_logloss: 0.171652\ttrain's KaggleMetric: 0.981523\teval's multi_logloss: 0.180659\teval's KaggleMetric: 0.971815\n",
            "Training fold 4 completed. macro f1 score : 0.97181\n",
            "Our training dataset shape is (800000, 97)\n",
            "Our validation dataset shape is (200000, 97)\n",
            "Training until validation scores don't improve for 50 rounds.\n",
            "[100]\ttrain's multi_logloss: 0.443957\ttrain's KaggleMetric: 0.977073\teval's multi_logloss: 0.448682\teval's KaggleMetric: 0.970001\n",
            "[200]\ttrain's multi_logloss: 0.19011\ttrain's KaggleMetric: 0.980433\teval's multi_logloss: 0.198672\teval's KaggleMetric: 0.972037\n",
            "[300]\ttrain's multi_logloss: 0.100376\ttrain's KaggleMetric: 0.982916\teval's multi_logloss: 0.112761\teval's KaggleMetric: 0.971904\n",
            "[400]\ttrain's multi_logloss: 0.065344\ttrain's KaggleMetric: 0.985157\teval's multi_logloss: 0.0816828\teval's KaggleMetric: 0.972439\n",
            "Early stopping, best iteration is:\n",
            "[353]\ttrain's multi_logloss: 0.0780651\ttrain's KaggleMetric: 0.984338\teval's multi_logloss: 0.0925353\teval's KaggleMetric: 0.972603\n",
            "Training fold 5 completed. macro f1 score : 0.97260\n",
            "Training train_group 5 completed...\n",
            "Training completed...\n"
          ],
          "name": "stdout"
        }
      ]
    },
    {
      "cell_type": "code",
      "metadata": {
        "id": "wCog4u03y50S",
        "colab_type": "code",
        "colab": {}
      },
      "source": [
        "def sort_oof_data(arr):\n",
        "  arr_ = []\n",
        "  arr_ += arr[0][0:].tolist()\n",
        "  arr_ += arr[1][0:500000].tolist()\n",
        "  arr_ += arr[2][0:500000].tolist()\n",
        "  arr_ += arr[3][0:500000].tolist()\n",
        "  arr_ += arr[4][0:500000].tolist()\n",
        "  arr_ += arr[1][500000:].tolist()\n",
        "  arr_ += arr[2][500000:].tolist()\n",
        "  arr_ += arr[4][500000:].tolist()\n",
        "  arr_ += arr[3][500000:].tolist()\n",
        "  return arr_\n",
        "\n",
        "full_oof = sort_oof_data(oofs)"
      ],
      "execution_count": 0,
      "outputs": []
    },
    {
      "cell_type": "code",
      "metadata": {
        "id": "eg8cGTBpy76J",
        "colab_type": "code",
        "colab": {}
      },
      "source": [
        "def sort_pred_data(arr):\n",
        "  arr_ = []\n",
        "  arr_ += arr[0][0:100000].tolist()\n",
        "  arr_ += arr[2][0:100000].tolist()\n",
        "  arr_ += arr[4][0:100000].tolist()\n",
        "  arr_ += arr[0][100000:200000].tolist()\n",
        "  arr_ += arr[1][0:100000].tolist()\n",
        "  arr_ += arr[3][0:100000].tolist()\n",
        "  arr_ += arr[4][100000:].tolist()\n",
        "  arr_ += arr[3][100000:].tolist()\n",
        "  arr_ += arr[0][200000:300000].tolist()\n",
        "  arr_ += arr[2][100000:].tolist()\n",
        "  arr_ += arr[0][300000:].tolist()\n",
        "  return arr_\n",
        "\n",
        "full_pred = sort_pred_data(preds)"
      ],
      "execution_count": 0,
      "outputs": []
    },
    {
      "cell_type": "code",
      "metadata": {
        "id": "Q8LawFfpy9uw",
        "colab_type": "code",
        "outputId": "51ec3922-457b-477a-8a07-b47697cb3b9b",
        "colab": {
          "base_uri": "https://localhost:8080/",
          "height": 34
        }
      },
      "source": [
        "f1_score_ = f1_score(train.open_channels,  np.round(np.clip(full_oof, 0, 10)).astype(int), average = 'macro')\n",
        "print(f'Training completed. oof macro f1 score : {f1_score_:1.5f}')\n",
        "sample_submission['open_channels'] = np.round(np.clip(full_pred, 0, 10)).astype(int)\n",
        "sample_submission.to_csv('lgb_submission.csv', index=False, float_format='%.4f')"
      ],
      "execution_count": 36,
      "outputs": [
        {
          "output_type": "stream",
          "text": [
            "Training completed. oof macro f1 score : 0.93652\n"
          ],
          "name": "stdout"
        }
      ]
    },
    {
      "cell_type": "code",
      "metadata": {
        "id": "j8N2QuObT6Rf",
        "colab_type": "code",
        "outputId": "2900d141-a0f1-448c-d060-9fa0ecdddb7b",
        "colab": {
          "base_uri": "https://localhost:8080/",
          "height": 68
        }
      },
      "source": [
        "!kaggle competitions submit -f './lgb_submission.csv' -m 'lgb' liverpool-ion-switching"
      ],
      "execution_count": 37,
      "outputs": [
        {
          "output_type": "stream",
          "text": [
            "Warning: Looks like you're using an outdated API Version, please consider updating (server 1.5.6 / client 1.5.4)\n",
            "100% 21.0M/21.0M [00:03<00:00, 6.16MB/s]\n",
            "Successfully submitted to University of Liverpool - Ion Switching"
          ],
          "name": "stdout"
        }
      ]
    },
    {
      "cell_type": "markdown",
      "metadata": {
        "id": "fwmBMaXEmdGW",
        "colab_type": "text"
      },
      "source": [
        "training with clean_kalman\n",
        "> Training completed. oof macro f1 score : 0.93940  \n",
        "> LB : 0.940  \n",
        "\n",
        "clean_kalman  \n",
        "add category  \n",
        "add 20shifted\n",
        "> Training completed. oof macro f1 score : 0.93941  \n",
        "> LB : 0.940\n",
        "\n",
        "clean_kalman  \n",
        "add category  \n",
        "add 20shifted  \n",
        "add target encoding(group)\n",
        "> Training completed. oof macro f1 score : 0.93880  \n",
        "> LB : 0.653\n",
        "\n",
        "clean_kalman + add category + add 20shifted\n",
        "> Training completed. oof macro f1 score : 0.93953  \n",
        "> LB : 0.942  \n",
        "\n",
        "clean_kalman + add category + add 20shifted + target encording(category)  \n",
        ">　Training completed. oof macro f1 score : 0.93842  \n",
        ">　LB : 0.941"
      ]
    },
    {
      "cell_type": "code",
      "metadata": {
        "id": "caPUEw17moRo",
        "colab_type": "code",
        "colab": {}
      },
      "source": [
        ""
      ],
      "execution_count": 0,
      "outputs": []
    }
  ]
}