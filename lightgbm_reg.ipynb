{
  "nbformat": 4,
  "nbformat_minor": 0,
  "metadata": {
    "colab": {
      "name": "lightgbm-reg",
      "provenance": [],
      "collapsed_sections": [],
      "machine_shape": "hm",
      "authorship_tag": "ABX9TyNIJRGcPe5tsBz3tmT9wIqQ",
      "include_colab_link": true
    },
    "kernelspec": {
      "name": "python3",
      "display_name": "Python 3"
    }
  },
  "cells": [
    {
      "cell_type": "markdown",
      "metadata": {
        "id": "view-in-github",
        "colab_type": "text"
      },
      "source": [
        "<a href=\"https://colab.research.google.com/github/shin04/ion-switching/blob/master/lightgbm_reg.ipynb\" target=\"_parent\"><img src=\"https://colab.research.google.com/assets/colab-badge.svg\" alt=\"Open In Colab\"/></a>"
      ]
    },
    {
      "cell_type": "code",
      "metadata": {
        "id": "YJNHw6jrSCvs",
        "colab_type": "code",
        "outputId": "9f599e2f-681b-4293-f0c3-7622e64075e0",
        "colab": {
          "base_uri": "https://localhost:8080/",
          "height": 204
        }
      },
      "source": [
        "!pip install kaggle"
      ],
      "execution_count": 1,
      "outputs": [
        {
          "output_type": "stream",
          "text": [
            "Requirement already satisfied: kaggle in /usr/local/lib/python3.6/dist-packages (1.5.6)\n",
            "Requirement already satisfied: python-slugify in /usr/local/lib/python3.6/dist-packages (from kaggle) (4.0.0)\n",
            "Requirement already satisfied: requests in /usr/local/lib/python3.6/dist-packages (from kaggle) (2.23.0)\n",
            "Requirement already satisfied: python-dateutil in /usr/local/lib/python3.6/dist-packages (from kaggle) (2.8.1)\n",
            "Requirement already satisfied: urllib3<1.25,>=1.21.1 in /usr/local/lib/python3.6/dist-packages (from kaggle) (1.24.3)\n",
            "Requirement already satisfied: certifi in /usr/local/lib/python3.6/dist-packages (from kaggle) (2020.4.5.1)\n",
            "Requirement already satisfied: six>=1.10 in /usr/local/lib/python3.6/dist-packages (from kaggle) (1.12.0)\n",
            "Requirement already satisfied: tqdm in /usr/local/lib/python3.6/dist-packages (from kaggle) (4.41.1)\n",
            "Requirement already satisfied: text-unidecode>=1.3 in /usr/local/lib/python3.6/dist-packages (from python-slugify->kaggle) (1.3)\n",
            "Requirement already satisfied: idna<3,>=2.5 in /usr/local/lib/python3.6/dist-packages (from requests->kaggle) (2.9)\n",
            "Requirement already satisfied: chardet<4,>=3.0.2 in /usr/local/lib/python3.6/dist-packages (from requests->kaggle) (3.0.4)\n"
          ],
          "name": "stdout"
        }
      ]
    },
    {
      "cell_type": "code",
      "metadata": {
        "id": "VRVk22KlSPu0",
        "colab_type": "code",
        "outputId": "c603de97-3c13-461f-9ce1-73e369d62f5f",
        "colab": {
          "base_uri": "https://localhost:8080/",
          "height": 34
        }
      },
      "source": [
        "from googleapiclient.discovery import build\n",
        "import io, os\n",
        "from googleapiclient.http import MediaIoBaseDownload\n",
        "from google.colab import auth\n",
        "\n",
        "auth.authenticate_user()\n",
        "\n",
        "drive_service = build('drive', 'v3')\n",
        "results = drive_service.files().list(\n",
        "        q=\"name = 'kaggle.json'\", fields=\"files(id)\").execute()\n",
        "kaggle_api_key = results.get('files', [])\n",
        "\n",
        "filename = \"/root/.kaggle/kaggle.json\"\n",
        "os.makedirs(os.path.dirname(filename), exist_ok=True)\n",
        "\n",
        "request = drive_service.files().get_media(fileId=kaggle_api_key[0]['id'])\n",
        "fh = io.FileIO(filename, 'wb')\n",
        "downloader = MediaIoBaseDownload(fh, request)\n",
        "done = False\n",
        "while done is False:\n",
        "    status, done = downloader.next_chunk()\n",
        "    print(\"Download %d%%.\" % int(status.progress() * 100))\n",
        "os.chmod(filename, 600)"
      ],
      "execution_count": 2,
      "outputs": [
        {
          "output_type": "stream",
          "text": [
            "Download 100%.\n"
          ],
          "name": "stdout"
        }
      ]
    },
    {
      "cell_type": "code",
      "metadata": {
        "id": "M7oEMFs7SR7M",
        "colab_type": "code",
        "outputId": "13427585-6373-4029-f967-e8dcf5de9da0",
        "colab": {
          "base_uri": "https://localhost:8080/",
          "height": 34
        }
      },
      "source": [
        "!kaggle datasets download -d cdeotte/data-without-drift"
      ],
      "execution_count": 3,
      "outputs": [
        {
          "output_type": "stream",
          "text": [
            "data-without-drift.zip: Skipping, found more recently modified local copy (use --force to force download)\n"
          ],
          "name": "stdout"
        }
      ]
    },
    {
      "cell_type": "code",
      "metadata": {
        "id": "UqLv3DkuSkXf",
        "colab_type": "code",
        "outputId": "1068d846-5537-4f19-9dcf-330aaa85ba08",
        "colab": {
          "base_uri": "https://localhost:8080/",
          "height": 34
        }
      },
      "source": [
        "!kaggle datasets download -d sggpls/ion-shifted-rfc-proba"
      ],
      "execution_count": 4,
      "outputs": [
        {
          "output_type": "stream",
          "text": [
            "ion-shifted-rfc-proba.zip: Skipping, found more recently modified local copy (use --force to force download)\n"
          ],
          "name": "stdout"
        }
      ]
    },
    {
      "cell_type": "code",
      "metadata": {
        "id": "QA9CDVT3tAIm",
        "colab_type": "code",
        "outputId": "9051eb79-c782-4fb2-8603-d5d3f54559fd",
        "colab": {
          "base_uri": "https://localhost:8080/",
          "height": 34
        }
      },
      "source": [
        "!kaggle datasets download -d ragnar123/clean-kalman"
      ],
      "execution_count": 5,
      "outputs": [
        {
          "output_type": "stream",
          "text": [
            "clean-kalman.zip: Skipping, found more recently modified local copy (use --force to force download)\n"
          ],
          "name": "stdout"
        }
      ]
    },
    {
      "cell_type": "code",
      "metadata": {
        "id": "SpUupDkYSl3M",
        "colab_type": "code",
        "outputId": "0a3c81bb-441f-4d48-8328-7caebb3441b8",
        "colab": {
          "base_uri": "https://localhost:8080/",
          "height": 85
        }
      },
      "source": [
        "!kaggle competitions download -c liverpool-ion-switching"
      ],
      "execution_count": 6,
      "outputs": [
        {
          "output_type": "stream",
          "text": [
            "Warning: Looks like you're using an outdated API Version, please consider updating (server 1.5.6 / client 1.5.4)\n",
            "sample_submission.csv.zip: Skipping, found more recently modified local copy (use --force to force download)\n",
            "train.csv.zip: Skipping, found more recently modified local copy (use --force to force download)\n",
            "test.csv.zip: Skipping, found more recently modified local copy (use --force to force download)\n"
          ],
          "name": "stdout"
        }
      ]
    },
    {
      "cell_type": "code",
      "metadata": {
        "id": "79QyU1isSnZH",
        "colab_type": "code",
        "outputId": "10771d7d-46ad-42a9-fac4-61ab725e818e",
        "colab": {
          "base_uri": "https://localhost:8080/",
          "height": 391
        }
      },
      "source": [
        "!unzip -o '*.zip'"
      ],
      "execution_count": 7,
      "outputs": [
        {
          "output_type": "stream",
          "text": [
            "Archive:  test.csv.zip\n",
            "  inflating: test.csv                \n",
            "\n",
            "Archive:  ion-shifted-rfc-proba.zip\n",
            "  inflating: Y_test_proba.npy        \n",
            "  inflating: Y_train_proba.npy       \n",
            "\n",
            "Archive:  sample_submission.csv.zip\n",
            "  inflating: sample_submission.csv   \n",
            "\n",
            "Archive:  train.csv.zip\n",
            "  inflating: train.csv               \n",
            "\n",
            "Archive:  clean-kalman.zip\n",
            "  inflating: test_clean_kalman.csv   \n",
            "  inflating: train_clean_kalman.csv  \n",
            "\n",
            "Archive:  data-without-drift.zip\n",
            "  inflating: test_clean.csv          \n",
            "  inflating: train_clean.csv         \n",
            "\n",
            "6 archives were successfully processed.\n"
          ],
          "name": "stdout"
        }
      ]
    },
    {
      "cell_type": "code",
      "metadata": {
        "id": "wveF_VMWw8PG",
        "colab_type": "code",
        "outputId": "e7eab5db-5ad6-418e-a274-c584d6fb4aa6",
        "colab": {
          "base_uri": "https://localhost:8080/",
          "height": 51
        }
      },
      "source": [
        "!pip install tensorflow_addons"
      ],
      "execution_count": 8,
      "outputs": [
        {
          "output_type": "stream",
          "text": [
            "Requirement already satisfied: tensorflow_addons in /usr/local/lib/python3.6/dist-packages (0.8.3)\n",
            "Requirement already satisfied: typeguard in /usr/local/lib/python3.6/dist-packages (from tensorflow_addons) (2.7.1)\n"
          ],
          "name": "stdout"
        }
      ]
    },
    {
      "cell_type": "code",
      "metadata": {
        "id": "NLiQ1cLhSpr6",
        "colab_type": "code",
        "colab": {}
      },
      "source": [
        "import tensorflow as tf\n",
        "from tensorflow.keras.layers import Conv1D, Input, Dense, Add, Multiply, BatchNormalization, Activation, Dropout\n",
        "import pandas as pd\n",
        "import numpy as np\n",
        "import random\n",
        "from tensorflow.keras.callbacks import Callback, LearningRateScheduler\n",
        "from tensorflow.keras.losses import categorical_crossentropy\n",
        "from tensorflow.keras.optimizers import Adam\n",
        "from tensorflow.keras import backend as K\n",
        "from tensorflow.keras import losses, models, optimizers\n",
        "import tensorflow_addons as tfa\n",
        "import gc\n",
        "from tqdm import tqdm\n",
        "from scipy import signal\n",
        "\n",
        "import lightgbm as lgb\n",
        "\n",
        "from sklearn.model_selection import GroupKFold, StratifiedKFold\n",
        "from sklearn.metrics import f1_score\n",
        "\n",
        "from collections import Counter, defaultdict\n",
        "import random\n",
        "\n",
        "import warnings\n",
        "warnings.simplefilter('ignore')\n",
        "warnings.filterwarnings('ignore')\n",
        "pd.set_option('display.max_columns', 1000)\n",
        "pd.set_option('display.max_rows', 500)\n",
        "\n",
        "import os\n",
        "for dirname, _, filenames in os.walk('/kaggle/input'):\n",
        "    for filename in filenames:\n",
        "        print(os.path.join(dirname, filename))\n",
        "\n",
        "# Any results you write to the current directory are saved as output."
      ],
      "execution_count": 0,
      "outputs": []
    },
    {
      "cell_type": "code",
      "metadata": {
        "id": "UDn2jHk8Svhd",
        "colab_type": "code",
        "colab": {}
      },
      "source": [
        "# configurations and main hyperparammeters\n",
        "EPOCHS = 110\n",
        "NNBATCHSIZE = 16\n",
        "GROUP_BATCH_SIZE = 4000\n",
        "SEED = 321\n",
        "LR = 0.001\n",
        "SPLITS = 5\n",
        "\n",
        "def seed_everything(seed):\n",
        "    random.seed(seed)\n",
        "    np.random.seed(seed)\n",
        "    os.environ['PYTHONHASHSEED'] = str(seed)\n",
        "    tf.random.set_seed(seed)"
      ],
      "execution_count": 0,
      "outputs": []
    },
    {
      "cell_type": "code",
      "metadata": {
        "id": "hd5ZOykHSyC9",
        "colab_type": "code",
        "colab": {}
      },
      "source": [
        "# read data\n",
        "def read_data():\n",
        "\n",
        "    train = pd.read_csv('./train_clean_kalman.csv', dtype={'time': np.float32, 'signal': np.float32, 'open_channels':np.int32})\n",
        "    test  = pd.read_csv('./test_clean_kalman.csv', dtype={'time': np.float32, 'signal': np.float32})\n",
        "    sub  = pd.read_csv('./sample_submission.csv', dtype={'time': np.float32})\n",
        "    \n",
        "    Y_train_proba = np.load(\"./Y_train_proba.npy\")\n",
        "    Y_test_proba = np.load(\"./Y_test_proba.npy\")\n",
        "    \n",
        "    for i in range(11):\n",
        "        train[f\"proba_{i}\"] = Y_train_proba[:, i]\n",
        "        test[f\"proba_{i}\"] = Y_test_proba[:, i]\n",
        "\n",
        "    return train, test, sub"
      ],
      "execution_count": 0,
      "outputs": []
    },
    {
      "cell_type": "code",
      "metadata": {
        "id": "aZTrfQXOLwvM",
        "colab_type": "code",
        "colab": {}
      },
      "source": [
        "def batching_10(train, test):\n",
        "    # concatenate data\n",
        "    # batchを1から10までフル　ややこしい\n",
        "    batch = 50\n",
        "    total_batches = 14\n",
        "    train['set'] = 'train'\n",
        "    test['set'] = 'test'\n",
        "    data = pd.concat([train, test])\n",
        "    for i in range(int(total_batches)):\n",
        "        data.loc[(data['time'] > i * batch) & (data['time'] <= (i + 1) * batch), 'batch'] = i + 1\n",
        "    train = data[data['set'] == 'train']\n",
        "    test = data[data['set'] == 'test']\n",
        "    train.drop(['set'], inplace = True, axis = 1)\n",
        "    test.drop(['set'], inplace = True, axis = 1)\n",
        "    del data\n",
        "    return train, test"
      ],
      "execution_count": 0,
      "outputs": []
    },
    {
      "cell_type": "code",
      "metadata": {
        "id": "e3nWKBrr3LKM",
        "colab_type": "code",
        "colab": {}
      },
      "source": [
        "def create_signal_mod(train):\n",
        "    left = 3641000\n",
        "    right = 3829000\n",
        "    thresh_dict = {\n",
        "        3: [0.1, 2.0],\n",
        "        2: [-1.1, 0.7],\n",
        "        1: [-2.3, -0.6],\n",
        "        0: [-3.8, -2],\n",
        "    }\n",
        "    \n",
        "    # train['signal_mod'] = train['signal'].values\n",
        "    for ch in train[train['batch']==8]['open_channels'].unique():\n",
        "        idxs_noisy = (train['open_channels']==ch) & (left<train.index) & (train.index<right)\n",
        "        idxs_not_noisy = (train['open_channels']==ch) & ~idxs_noisy\n",
        "        mean = train[idxs_not_noisy]['signal'].mean()\n",
        "\n",
        "        idxs_outlier = idxs_noisy & (thresh_dict[ch][1]<train['signal'].values)\n",
        "        train['signal'][idxs_outlier]  = mean\n",
        "        idxs_outlier = idxs_noisy & (train['signal'].values<thresh_dict[ch][0])\n",
        "        train['signal'][idxs_outlier]  = mean\n",
        "    return train"
      ],
      "execution_count": 0,
      "outputs": []
    },
    {
      "cell_type": "code",
      "metadata": {
        "id": "81-K4Yfki71w",
        "colab_type": "code",
        "colab": {}
      },
      "source": [
        "# !pip install pykalman"
      ],
      "execution_count": 0,
      "outputs": []
    },
    {
      "cell_type": "code",
      "metadata": {
        "id": "9QWS9pipiY3y",
        "colab_type": "code",
        "colab": {}
      },
      "source": [
        "# from pykalman import KalmanFilter\n",
        "\n",
        "# def Kalman1D(observations, damping=1):\n",
        "#     # To return the smoothed time series data\n",
        "#     observation_covariance = damping\n",
        "#     initial_value_guess = observations[0]\n",
        "#     transition_matrix = 1\n",
        "#     transition_covariance = 0.1\n",
        "#     initial_value_guess\n",
        "#     kf = KalmanFilter(\n",
        "#             initial_state_mean=initial_value_guess,\n",
        "#             initial_state_covariance=observation_covariance,\n",
        "#             observation_covariance=observation_covariance,\n",
        "#             transition_covariance=transition_covariance,\n",
        "#             transition_matrices=transition_matrix\n",
        "#         )\n",
        "#     pred_state, state_cov = kf.smooth(observations)\n",
        "#     return pred_state"
      ],
      "execution_count": 0,
      "outputs": []
    },
    {
      "cell_type": "code",
      "metadata": {
        "id": "I_pkElMAS8fA",
        "colab_type": "code",
        "colab": {}
      },
      "source": [
        "# create batches of 4000 observations\n",
        "def batching(df, batch_size):\n",
        "    df['group'] = df.groupby(df.index//batch_size, sort=False)['signal'].agg(['ngroup']).values\n",
        "    df['group'] = df['group'].astype(np.uint16)\n",
        "    return df"
      ],
      "execution_count": 0,
      "outputs": []
    },
    {
      "cell_type": "code",
      "metadata": {
        "id": "vzokhYjyS-dU",
        "colab_type": "code",
        "colab": {}
      },
      "source": [
        "# normalize the data (standard scaler). We can also try other scalers for a better score!\n",
        "def normalize(train, test):\n",
        "    train_input_mean = train.signal.mean()\n",
        "    train_input_sigma = train.signal.std()\n",
        "    train['signal'] = (train.signal - train_input_mean) / train_input_sigma\n",
        "    test['signal'] = (test.signal - train_input_mean) / train_input_sigma\n",
        "    \n",
        "    return train, test"
      ],
      "execution_count": 0,
      "outputs": []
    },
    {
      "cell_type": "code",
      "metadata": {
        "id": "Qez_-uQBt-9W",
        "colab_type": "code",
        "colab": {}
      },
      "source": [
        "def add_category(train, test):\n",
        "  train[\"category\"] = 0\n",
        "  test[\"category\"] = 0\n",
        "\n",
        "  # train segments with more then 9 open channels classes\n",
        "  train.loc[2000000:2500000-1, 'category'] = 1\n",
        "  train.loc[4500000:5000000-1, 'category'] = 1\n",
        "\n",
        "  # test segments with more then 9 open channels classes (potentially)\n",
        "  test.loc[500000:600000-1, \"category\"] = 1\n",
        "  test.loc[700000:800000-1, \"category\"] = 1\n",
        "  \n",
        "  return train, test"
      ],
      "execution_count": 0,
      "outputs": []
    },
    {
      "cell_type": "code",
      "metadata": {
        "id": "zi8ajG9drc0f",
        "colab_type": "code",
        "colab": {}
      },
      "source": [
        "# signal processing features\n",
        "def calc_gradients(s, n_grads = 4):\n",
        "    '''\n",
        "    Calculate gradients for a pandas series. Returns the same number of samples\n",
        "    '''\n",
        "    grads = pd.DataFrame()\n",
        "    \n",
        "    g = s.values\n",
        "    for i in range(n_grads):\n",
        "        g = np.gradient(g)\n",
        "        grads['grad_' + str(i+1)] = g\n",
        "        \n",
        "    return grads\n",
        "\n",
        "def calc_low_pass(s, n_filts=10):\n",
        "    '''\n",
        "    Applies low pass filters to the signal. Left delayed and no delayed\n",
        "    '''\n",
        "    wns = np.logspace(-2, -0.3, n_filts)\n",
        "    \n",
        "    low_pass = pd.DataFrame()\n",
        "    x = s.values\n",
        "    for wn in wns:\n",
        "        b, a = signal.butter(1, Wn=wn, btype='low')\n",
        "        zi = signal.lfilter_zi(b, a)\n",
        "        low_pass['lowpass_lf_' + str('%.4f' %wn)] = signal.lfilter(b, a, x, zi=zi*x[0])[0]\n",
        "        low_pass['lowpass_ff_' + str('%.4f' %wn)] = signal.filtfilt(b, a, x)\n",
        "        \n",
        "    return low_pass\n",
        "\n",
        "def calc_high_pass(s, n_filts=10):\n",
        "    '''\n",
        "    Applies high pass filters to the signal. Left delayed and no delayed\n",
        "    '''\n",
        "    wns = np.logspace(-2, -0.1, n_filts)\n",
        "    \n",
        "    high_pass = pd.DataFrame()\n",
        "    x = s.values\n",
        "    for wn in wns:\n",
        "        b, a = signal.butter(1, Wn=wn, btype='high')\n",
        "        zi = signal.lfilter_zi(b, a)\n",
        "        high_pass['highpass_lf_' + str('%.4f' %wn)] = signal.lfilter(b, a, x, zi=zi*x[0])[0]\n",
        "        high_pass['highpass_ff_' + str('%.4f' %wn)] = signal.filtfilt(b, a, x)\n",
        "        \n",
        "    return high_pass\n",
        "\n",
        "def calc_ewm(s, windows=[10, 50, 100, 500, 1000]):\n",
        "    '''\n",
        "    Calculates exponential weighted functions\n",
        "    '''\n",
        "    ewm = pd.DataFrame()\n",
        "    for w in windows:\n",
        "        ewm['ewm_mean_' + str(w)] = s.ewm(span=w, min_periods=1).mean()\n",
        "        ewm['ewm_std_' + str(w)] = s.ewm(span=w, min_periods=1).std()\n",
        "        \n",
        "    # add zeros when na values (std)\n",
        "    ewm = ewm.fillna(value=0)\n",
        "        \n",
        "    return ewm\n",
        "\n",
        "\n",
        "def add_features(s):\n",
        "    '''\n",
        "    All calculations together\n",
        "    '''\n",
        "    \n",
        "    gradients = calc_gradients(s)\n",
        "    low_pass = calc_low_pass(s)\n",
        "    high_pass = calc_high_pass(s)\n",
        "    ewm = calc_ewm(s)\n",
        "    \n",
        "    return pd.concat([s, gradients, low_pass, high_pass, ewm], axis=1)\n",
        "\n",
        "\n",
        "# signal_size を考える\n",
        "# 500000? or 4000?\n",
        "def divide_and_add_features(s, signal_size=500000):\n",
        "    '''\n",
        "    Divide the signal in bags of \"signal_size\".\n",
        "    Normalize the data dividing it by 15.0\n",
        "    '''\n",
        "    # normalize\n",
        "    s = s / 15.0\n",
        "    \n",
        "    ls = []\n",
        "    for i in tqdm(range(int(s.shape[0]/signal_size))):\n",
        "        sig = s[i*signal_size:(i+1)*signal_size].copy().reset_index(drop=True)\n",
        "        sig_featured = add_features(sig)\n",
        "        ls.append(sig_featured)\n",
        "    \n",
        "    return pd.concat(ls, axis=0)"
      ],
      "execution_count": 0,
      "outputs": []
    },
    {
      "cell_type": "code",
      "metadata": {
        "id": "uvqlr0beS_62",
        "colab_type": "code",
        "colab": {}
      },
      "source": [
        "# get lead and lags features\n",
        "def lag_with_pct_change(df, windows, group='group'):\n",
        "    for window in windows:    \n",
        "        df['signal_shift_pos_' + str(window)] = df.groupby(group)['signal'].shift(window).fillna(0)\n",
        "        df['signal_shift_neg_' + str(window)] = df.groupby(group)['signal'].shift(-1 * window).fillna(0)\n",
        "    return df"
      ],
      "execution_count": 0,
      "outputs": []
    },
    {
      "cell_type": "code",
      "metadata": {
        "id": "aWSG9xWHWlhP",
        "colab_type": "code",
        "colab": {}
      },
      "source": [
        "def calc_roll_stats(df, windows, group='group'):\n",
        "    '''\n",
        "    Calculates rolling stats like mean, std, min, max...\n",
        "    '''\n",
        "    for i, window in enumerate(windows):\n",
        "      df[group + 'roll_mean_' + str(window)] = df.groupby(group)['signal'].rolling(window=window, min_periods=1).mean().values\n",
        "      df[group + 'roll_std_' + str(window)] = df.groupby(group)['signal'].rolling(window=window, min_periods=1).std().values\n",
        "      df[group + 'roll_min_' + str(window)] = df.groupby(group)['signal'].rolling(window=window, min_periods=1).min().values\n",
        "      df[group + 'roll_max_' + str(window)] = df.groupby(group)['signal'].rolling(window=window, min_periods=1).max().values\n",
        "      df[group + 'roll_range' + str(window)] = df[group + 'roll_max_' + str(window)] - df[group + 'roll_min_' + str(window)]\n",
        "\n",
        "      # df[group + 'roll_mean_' + str(window) + 'sift'] = df.groupby(group)[group + 'roll_mean_' + str(window)].shift(window).fillna(0)\n",
        "      # df[group + 'roll_std_' + str(window) + 'sift'] = df.groupby(group)[group + 'roll_std_' + str(window)].shift(window).fillna(0)\n",
        "      # df[group + 'roll_min_' + str(window) + 'sift'] = df.groupby(group)[group + 'roll_min_' + str(window)].shift(window).fillna(0)\n",
        "      # df[group + 'roll_max_' + str(window) + 'sift'] = df.groupby(group)[group + 'roll_max_' + str(window)].shift(window).fillna(0)\n",
        "      # df[group + 'roll_range' + str(window) + 'sift'] = df.groupby(group)[group + 'roll_range' + str(window)].shift(window).fillna(0)\n",
        "\n",
        "      df['roll_q10_' + str(window)] = df.groupby(group)['signal'].rolling(window=window, min_periods=1).quantile(0.10).values\n",
        "      df['roll_q25_' + str(window)] = df.groupby(group)['signal'].rolling(window=window, min_periods=1).quantile(0.25).values\n",
        "      df['roll_q50_' + str(window)] = df.groupby(group)['signal'].rolling(window=window, min_periods=1).quantile(0.50).values\n",
        "      df['roll_q75_' + str(window)] = df.groupby(group)['signal'].rolling(window=window, min_periods=1).quantile(0.75).values\n",
        "      df['roll_q90_' + str(window)] = df.groupby(group)['signal'].rolling(window=window, min_periods=1).quantile(0.90).values\n",
        "             \n",
        "    return df"
      ],
      "execution_count": 0,
      "outputs": []
    },
    {
      "cell_type": "code",
      "metadata": {
        "id": "4sJgvILz6ppL",
        "colab_type": "code",
        "colab": {}
      },
      "source": [
        "def calc_expand_stats(df, group='group'):\n",
        "  df['expanding_mean'] = df.groupby(group)['signal'].expanding().mean().fillna(0).values\n",
        "  df['expanding_std'] = df.groupby(group)['signal'].expanding().std().fillna(0).values\n",
        "  df['expanding_max'] = df.groupby(group)['signal'].expanding().max().fillna(0).values\n",
        "  df['expanding_min'] = df.groupby(group)['signal'].expanding().min().fillna(0).values\n",
        "  df['expanding_range'] = df['expanding_max'] - df['expanding_min']\n",
        "  \n",
        "  return df"
      ],
      "execution_count": 0,
      "outputs": []
    },
    {
      "cell_type": "code",
      "metadata": {
        "id": "abANAaO5T4l6",
        "colab_type": "code",
        "colab": {}
      },
      "source": [
        "# main module to run feature engineering. Here you may want to try and add other features and check if your score imporves :).\n",
        "def run_feat_engineering(df, batch_size):\n",
        "    # create batches\n",
        "    df = batching(df, batch_size = batch_size)\n",
        "\n",
        "    # create leads and lags\n",
        "    df = lag_with_pct_change(df, np.asarray(range(1, 3), dtype=np.int32), 'group')\n",
        "    df = lag_with_pct_change(df, np.asarray(range(1, 3), dtype=np.int32), 'batch')\n",
        "\n",
        "    # create rolling stats\n",
        "    # df = calc_roll_stats(df, [3, 10, 50, 100, 500, 1000]) # groupごと(4000)\n",
        "    df = calc_roll_stats(df, [100], 'group')\n",
        "    # df = calc_roll_stats(df, [500, 1000, 5000, 10000, 50000, 100000], 'batch')\n",
        "    # df = calc_roll_stats(df, [50000, 100000], group='batch') # batchごと(500000)\n",
        "\n",
        "    # create expanding stats\n",
        "    # df = calc_expand_stats(df)\n",
        "\n",
        "    # create signal ** 2 (this is the new feature)\n",
        "    df['signal_2'] = df['signal'] ** 2\n",
        "\n",
        "    return df"
      ],
      "execution_count": 0,
      "outputs": []
    },
    {
      "cell_type": "code",
      "metadata": {
        "id": "xkDA5AB3TB13",
        "colab_type": "code",
        "colab": {}
      },
      "source": [
        "# fillna with the mean and select features for training\n",
        "def feature_selection(train, test):\n",
        "    features = [col for col in train.columns if col not in ['index', 'group', 'open_channels', 'time', 'batch', 'train_group', 'test_group']]\n",
        "    train = train.replace([np.inf, -np.inf], np.nan)\n",
        "    test = test.replace([np.inf, -np.inf], np.nan)\n",
        "    for feature in features:\n",
        "        feature_mean = pd.concat([train[feature], test[feature]], axis = 0).mean()\n",
        "        train[feature] = train[feature].fillna(feature_mean)\n",
        "        test[feature] = test[feature].fillna(feature_mean)\n",
        "    return train, test, features"
      ],
      "execution_count": 0,
      "outputs": []
    },
    {
      "cell_type": "code",
      "metadata": {
        "id": "hbv2BOnVMq6v",
        "colab_type": "code",
        "colab": {}
      },
      "source": [
        "def stratified_group_k_fold(X, y, groups, k, seed=None):\n",
        "    labels_num = int(np.max(y) + 1)\n",
        "    y_counts_per_group = defaultdict(lambda: np.zeros(labels_num))\n",
        "    y_distr = Counter()\n",
        "    for label, g in zip(y, groups):\n",
        "        y_counts_per_group[int(g)][int(label)] += 1\n",
        "        y_distr[label] += 1\n",
        "\n",
        "    y_counts_per_fold = defaultdict(lambda: np.zeros(labels_num))\n",
        "    groups_per_fold = defaultdict(set)\n",
        "\n",
        "    def eval_y_counts_per_fold(y_counts, fold):\n",
        "        y_counts_per_fold[fold] += y_counts\n",
        "        std_per_label = []\n",
        "        for label in range(labels_num):\n",
        "            label_std = np.std([y_counts_per_fold[i][label] / y_distr[label] for i in range(k)])\n",
        "            std_per_label.append(label_std)\n",
        "        y_counts_per_fold[fold] -= y_counts\n",
        "        return np.mean(std_per_label)\n",
        "    \n",
        "    groups_and_y_counts = list(y_counts_per_group.items())\n",
        "    random.Random(seed).shuffle(groups_and_y_counts)\n",
        "\n",
        "    for g, y_counts in sorted(groups_and_y_counts, key=lambda x: -np.std(x[1])):\n",
        "        best_fold = None\n",
        "        min_eval = None\n",
        "        for i in range(k):\n",
        "            fold_eval = eval_y_counts_per_fold(y_counts, i)\n",
        "            if min_eval is None or fold_eval < min_eval:\n",
        "                min_eval = fold_eval\n",
        "                best_fold = i\n",
        "        y_counts_per_fold[best_fold] += y_counts\n",
        "        groups_per_fold[best_fold].add(g)\n",
        "\n",
        "    all_groups = set(groups)\n",
        "    for i in range(k):\n",
        "        train_groups = all_groups - groups_per_fold[i]\n",
        "        test_groups = groups_per_fold[i]\n",
        "\n",
        "        train_indices = [i for i, g in enumerate(groups) if g in train_groups]\n",
        "        test_indices = [i for i, g in enumerate(groups) if g in test_groups]\n",
        "\n",
        "        yield train_indices, test_indices"
      ],
      "execution_count": 0,
      "outputs": []
    },
    {
      "cell_type": "code",
      "metadata": {
        "id": "arzvPi4DTJNs",
        "colab_type": "code",
        "colab": {}
      },
      "source": [
        "# main function to perfrom groupkfold cross validation (we have 1000 vectores of 4000 rows and 8 features (columns)). Going to make 5 groups with this subgroups.\n",
        "def run_cv_model_by_batch(train, test, splits, batch_col, feats, sample_submission, params):\n",
        "    oof_ = np.zeros(len(train))\n",
        "    preds_ = np.zeros(len(test))\n",
        "    feature_importance = np.zeros(len(features))\n",
        "    target = ['open_channels']\n",
        "    group = train['group']\n",
        "\n",
        "    # kf = GroupKFold(n_splits=5)\n",
        "    kf = StratifiedKFold(n_splits = 5, shuffle = True, random_state = 42)\n",
        "\n",
        "    # for n_fold, (tr_idx, val_idx) in enumerate(kf.split(train, train[target], groups=group)):\n",
        "    for n_fold, (tr_idx, val_idx) in enumerate(kf.split(train, train[target])):\n",
        "    # for n_fold, (tr_idx, val_idx) in enumerate(stratified_group_k_fold(train, train.open_channels, group, k=5, seed=42)):\n",
        "        train_x, train_y = train.iloc[tr_idx], train[target].iloc[tr_idx]\n",
        "        valid_x, valid_y = train.iloc[val_idx], train[target].iloc[val_idx]\n",
        "        print(f'Our training dataset shape is {train_x.shape}')\n",
        "        print(f'Our validation dataset shape is {valid_x.shape}')\n",
        "\n",
        "        gc.collect()\n",
        "\n",
        "        train_set = lgb.Dataset(train_x[feats], train_y)\n",
        "        val_set = lgb.Dataset(valid_x[feats], valid_y)\n",
        "\n",
        "        # params = {'boosting_type': 'gbdt',\n",
        "        #         'metric': 'rmse',\n",
        "        #         'objective': 'regression',\n",
        "        #         'n_jobs': -1,\n",
        "        #         'seed': 236,\n",
        "        #         'num_leaves': 280,\n",
        "        #         'learning_rate': 0.026623466966581126,\n",
        "        #         'max_depth': 73,\n",
        "        #         'lambda_l1': 2.959759088169741,\n",
        "        #         'lambda_l2': 1.331172832164913,\n",
        "        #         'bagging_fraction': 0.9655406551472153,\n",
        "        #         'bagging_freq': 9,\n",
        "        #         'colsample_bytree': 0.6867118652742716}\n",
        "        \n",
        "        lgb_model = lgb.train(\n",
        "            params, \n",
        "            train_set, num_boost_round = 10000, \n",
        "            early_stopping_rounds = 50, \n",
        "            valid_sets = [train_set, val_set], \n",
        "            valid_names = ['train', 'eval'],\n",
        "            verbose_eval = 100,)\n",
        "\n",
        "        preds_f = lgb_model.predict(valid_x[feats])\n",
        "        f1_score_ = f1_score(valid_y,  np.round(np.clip(preds_f, 0, 10)).astype(int), average = 'macro')\n",
        "        print(f'Training fold {n_fold + 1} completed. macro f1 score : {f1_score_ :1.5f}')\n",
        "        oof_[val_idx] += preds_f\n",
        "        te_preds = lgb_model.predict(test[feats])\n",
        "        preds_ += te_preds / SPLITS\n",
        "\n",
        "        feature_importance += lgb_model.feature_importance() /SPLITS\n",
        "\n",
        "    return preds_, oof_, feature_importance\n",
        "\n",
        "    # f1_score_ = f1_score(train[target],  np.round(np.clip(oof_, 0, 10)).astype(int), average = 'macro')\n",
        "    # print(f'Training completed. oof macro f1 score : {f1_score_:1.5f}')\n",
        "    # sample_submission['open_channels'] = np.round(np.clip(preds_, 0, 10)).astype(int)\n",
        "    # sample_submission.to_csv('lgb_submission.csv', index=False, float_format='%.4f')"
      ],
      "execution_count": 0,
      "outputs": []
    },
    {
      "cell_type": "code",
      "metadata": {
        "id": "hOM_WZ_5ZiYM",
        "colab_type": "code",
        "colab": {}
      },
      "source": [
        "def reduce_mem_usage(df, verbose=True):\n",
        "    numerics = ['int16', 'int32', 'int64', 'float16', 'float32', 'float64']\n",
        "    start_mem = df.memory_usage().sum() / 1024**2    \n",
        "    for col in df.columns:\n",
        "        if col!='open_channels':\n",
        "            col_type = df[col].dtypes\n",
        "            if col_type in numerics:\n",
        "                c_min = df[col].min()\n",
        "                c_max = df[col].max()\n",
        "                if str(col_type)[:3] == 'int':\n",
        "                    if c_min > np.iinfo(np.int8).min and c_max < np.iinfo(np.int8).max:\n",
        "                        df[col] = df[col].astype(np.int8)\n",
        "                    elif c_min > np.iinfo(np.int16).min and c_max < np.iinfo(np.int16).max:\n",
        "                        df[col] = df[col].astype(np.int16)\n",
        "                    elif c_min > np.iinfo(np.int32).min and c_max < np.iinfo(np.int32).max:\n",
        "                        df[col] = df[col].astype(np.int32)\n",
        "                    elif c_min > np.iinfo(np.int64).min and c_max < np.iinfo(np.int64).max:\n",
        "                        df[col] = df[col].astype(np.int64)  \n",
        "                else:\n",
        "                    if c_min > np.finfo(np.float16).min and c_max < np.finfo(np.float16).max:\n",
        "                        df[col] = df[col].astype(np.float16)\n",
        "                    elif c_min > np.finfo(np.float32).min and c_max < np.finfo(np.float32).max:\n",
        "                        df[col] = df[col].astype(np.float32)\n",
        "                    else:\n",
        "                        df[col] = df[col].astype(np.float64)    \n",
        "    end_mem = df.memory_usage().sum() / 1024**2\n",
        "    if verbose: print('Mem. usage decreased to {:5.2f} Mb ({:.1f}% reduction)'.format(end_mem, 100 * (start_mem - end_mem) / start_mem))\n",
        "    return df"
      ],
      "execution_count": 0,
      "outputs": []
    },
    {
      "cell_type": "code",
      "metadata": {
        "id": "esUCbE6mTLxE",
        "colab_type": "code",
        "outputId": "53236e79-6be3-4cc2-a059-6ba141eb429d",
        "colab": {
          "base_uri": "https://localhost:8080/",
          "height": 51
        }
      },
      "source": [
        "print('Reading Data Started...')\n",
        "train, test, sample_submission = read_data()\n",
        "train, test = batching_10(train, test)\n",
        "train = create_signal_mod(train)\n",
        "\n",
        "# # Kalman Filter\n",
        "# observation_covariance = .0015\n",
        "# train['signal'] = Kalman1D(train.signal.values,observation_covariance)\n",
        "# test['signal'] = Kalman1D(test.signal.values,observation_covariance)\n",
        "\n",
        "train, test = normalize(train, test)\n",
        "print('Reading and Normalizing Data Completed')"
      ],
      "execution_count": 28,
      "outputs": [
        {
          "output_type": "stream",
          "text": [
            "Reading Data Started...\n",
            "Reading and Normalizing Data Completed\n"
          ],
          "name": "stdout"
        }
      ]
    },
    {
      "cell_type": "code",
      "metadata": {
        "id": "sYu0glRGTPu2",
        "colab_type": "code",
        "outputId": "f2b94085-7c57-466f-df12-4b48a8d2854e",
        "colab": {
          "base_uri": "https://localhost:8080/",
          "height": 204
        }
      },
      "source": [
        "print('Creating Features')\n",
        "print('Feature Engineering Started...')\n",
        "\n",
        "train, test = add_category(train, test)\n",
        "\n",
        "# train, test = batching_10(train, test)\n",
        "\n",
        "train = run_feat_engineering(train, batch_size = GROUP_BATCH_SIZE)\n",
        "test = run_feat_engineering(test, batch_size = GROUP_BATCH_SIZE)\n",
        "\n",
        "print('Reduce memory usage...')\n",
        "train = reduce_mem_usage(train)\n",
        "test = reduce_mem_usage(test)\n",
        "\n",
        "tr_clean = pd.read_csv('./train_clean.csv', dtype={'time': np.float32, 'signal': np.float32, 'open_channels':np.int32})\n",
        "ts_clean = pd.read_csv('./test_clean.csv', dtype={'time': np.float32, 'signal': np.float32})\n",
        "tr_clean, rs_clean = batching_10(tr_clean, ts_clean)\n",
        "tr_clean = create_signal_mod(tr_clean)\n",
        "pre_train = divide_and_add_features(tr_clean.signal, signal_size=500000)\n",
        "pre_test = divide_and_add_features(ts_clean.signal, signal_size=500000)\n",
        "pre_train.drop('signal', axis=1, inplace=True)\n",
        "pre_test.drop('signal', axis=1, inplace=True)\n",
        "pre_train.reset_index(inplace = True, drop = True)\n",
        "pre_test.reset_index(inplace = True, drop = True)\n",
        "train = pd.concat([train, pre_train], axis=1)\n",
        "test = pd.concat([test, pre_test], axis=1)\n",
        "\n",
        "# del pre_train, pre_test, tr_clean, ts_clean\n",
        "del pre_train, pre_test\n",
        "gc.collect\n",
        "\n",
        "print('Reduce memory usage...')\n",
        "train = reduce_mem_usage(train)\n",
        "test = reduce_mem_usage(test)\n",
        "\n",
        "train, test, features = feature_selection(train, test)\n",
        "print('Feature Engineering Completed...')"
      ],
      "execution_count": 29,
      "outputs": [
        {
          "output_type": "stream",
          "text": [
            "Creating Features\n",
            "Feature Engineering Started...\n",
            "Reduce memory usage...\n",
            "Mem. usage decreased to 527.16 Mb (61.6% reduction)\n",
            "Mem. usage decreased to 226.87 Mb (59.8% reduction)\n"
          ],
          "name": "stdout"
        },
        {
          "output_type": "stream",
          "text": [
            "100%|██████████| 10/10 [00:08<00:00,  1.22it/s]\n",
            "100%|██████████| 4/4 [00:03<00:00,  1.19it/s]\n"
          ],
          "name": "stderr"
        },
        {
          "output_type": "stream",
          "text": [
            "Reduce memory usage...\n",
            "Mem. usage decreased to 1042.15 Mb (59.7% reduction)\n",
            "Mem. usage decreased to 432.86 Mb (58.8% reduction)\n",
            "Feature Engineering Completed...\n"
          ],
          "name": "stdout"
        }
      ]
    },
    {
      "cell_type": "code",
      "metadata": {
        "id": "h448uvloaCSb",
        "colab_type": "code",
        "outputId": "61c6c89e-9945-4228-cdfa-a2ef2f531eb6",
        "colab": {
          "base_uri": "https://localhost:8080/",
          "height": 68
        }
      },
      "source": [
        "print('Reduce memory usage...')\n",
        "train = reduce_mem_usage(train)\n",
        "test = reduce_mem_usage(test)"
      ],
      "execution_count": 30,
      "outputs": [
        {
          "output_type": "stream",
          "text": [
            "Reduce memory usage...\n",
            "Mem. usage decreased to 1042.15 Mb (0.0% reduction)\n",
            "Mem. usage decreased to 432.86 Mb (0.0% reduction)\n"
          ],
          "name": "stdout"
        }
      ]
    },
    {
      "cell_type": "code",
      "metadata": {
        "id": "MGptgjoR9m_q",
        "colab_type": "code",
        "colab": {}
      },
      "source": [
        "def train_grouping(train, test):\n",
        "  train.loc[0:1000000, 'train_group'] = 0          # batch 0 and 1\n",
        "  train.loc[1000000:1500000, 'train_group'] = 1  # batch 2\n",
        "  train.loc[1500000:2000000, 'train_group'] = 2  # batch 3\n",
        "  train.loc[2000000:2500000, 'train_group'] = 3  # batch 4\n",
        "  train.loc[2500000:3000000, 'train_group'] = 4  # batch 5\n",
        "  train.loc[3000000:3500000, 'train_group'] = 1  # batch 6\n",
        "  train.loc[3500000:4000000, 'train_group'] = 2  # batch 7\n",
        "  train.loc[4000000:4500000, 'train_group'] = 4  # batch 8\n",
        "  train.loc[4500000:5000001, 'train_group'] = 3  # batch 9\n",
        "\n",
        "  test.loc[0:100000, 'test_group'] = 0\n",
        "  test.loc[100000:200000, 'test_group'] = 2\n",
        "  test.loc[200000:300000, 'test_group'] = 4\n",
        "  test.loc[300000:400000, 'test_group'] = 0\n",
        "  test.loc[400000:500000, 'test_group'] = 1\n",
        "  test.loc[500000:600000, 'test_group'] = 3\n",
        "  test.loc[600000:700000, 'test_group'] = 4\n",
        "  test.loc[700000:800000, 'test_group'] = 3\n",
        "  test.loc[800000:900000, 'test_group'] = 0\n",
        "  test.loc[900000:1000000, 'test_group'] = 2\n",
        "  test.loc[1000000:, 'test_group'] = 0\n",
        "\n",
        "  return train, test"
      ],
      "execution_count": 0,
      "outputs": []
    },
    {
      "cell_type": "code",
      "metadata": {
        "id": "IvPbNmVy3Lpu",
        "colab_type": "code",
        "colab": {}
      },
      "source": [
        "params = [\n",
        "          {'bagging_fraction': 0.5649142525049168,\n",
        "           'bagging_freq': 7,\n",
        "           'boosting_type': 'gbdt',\n",
        "           'feature_fraction': 0.44800000000000006,\n",
        "           'lambda_l1': 5.816931890177201,\n",
        "           'lambda_l2': 1.1923179634757165e-05,\n",
        "           'learning_rate': 0.026623466966581126,\n",
        "           'max_depth': 73,\n",
        "           'metric': 'rmse',\n",
        "           'min_child_samples': 25,\n",
        "           'n_jobs': -1,\n",
        "           'num_leaves': 280,\n",
        "           'objective': 'regression',\n",
        "           'seed': 236},\n",
        "          {'bagging_fraction': 0.7573649057562992,\n",
        "           'bagging_freq': 2,\n",
        "            'boosting_type': 'gbdt',\n",
        "            'feature_fraction': 0.5,\n",
        "            'lambda_l1': 2.959759088169741,\n",
        "            'lambda_l2': 1.331172832164913,\n",
        "            'learning_rate': 0.026623466966581126,\n",
        "            'max_depth': 73,\n",
        "            'metric': 'rmse',\n",
        "            'min_child_samples': 100,\n",
        "            'n_jobs': -1,\n",
        "            'num_leaves': 280,\n",
        "            'objective': 'regression',\n",
        "            'seed': 236},\n",
        "          {'bagging_fraction': 0.8459704744771926,\n",
        "            'bagging_freq': 4,\n",
        "            'boosting_type': 'gbdt',\n",
        "            'feature_fraction': 0.4,\n",
        "            'lambda_l1': 2.959759088169741,\n",
        "            'lambda_l2': 1.331172832164913,\n",
        "            'learning_rate': 0.026623466966581126,\n",
        "            'max_depth': 73,\n",
        "            'metric': 'rmse',\n",
        "            'min_child_samples': 20,\n",
        "            'n_jobs': -1,\n",
        "            'num_leaves': 280,\n",
        "            'objective': 'regression',\n",
        "            'seed': 236},\n",
        "          {'bagging_fraction': 0.9655406551472153,\n",
        "            'bagging_freq': 9,\n",
        "            'boosting_type': 'gbdt',\n",
        "            'feature_fraction': 0.5,\n",
        "            'lambda_l1': 2.959759088169741,\n",
        "            'lambda_l2': 1.331172832164913,\n",
        "            'learning_rate': 0.026623466966581126,\n",
        "            'max_depth': 73,\n",
        "            'metric': 'rmse',\n",
        "            'min_child_samples': 20,\n",
        "            'n_jobs': -1,\n",
        "            'num_leaves': 280,\n",
        "            'objective': 'regression',\n",
        "            'seed': 236},\n",
        "          {'bagging_fraction': 0.9540142607778367,\n",
        "            'bagging_freq': 5,\n",
        "            'boosting_type': 'gbdt',\n",
        "            'feature_fraction': 0.4,\n",
        "            'lambda_l1': 2.1528149384141247e-06,\n",
        "            'lambda_l2': 5.432857492151158,\n",
        "            'learning_rate': 0.026623466966581126,\n",
        "            'max_depth': 73,\n",
        "            'metric': 'rmse',\n",
        "            'min_child_samples': 20,\n",
        "            'n_jobs': -1,\n",
        "            'num_leaves': 280,\n",
        "            'objective': 'regression',\n",
        "            'seed': 236}]"
      ],
      "execution_count": 0,
      "outputs": []
    },
    {
      "cell_type": "code",
      "metadata": {
        "id": "PEzL3Kv5Tviy",
        "colab_type": "code",
        "outputId": "de3dba5e-9fc0-46ab-939b-9935916889b6",
        "colab": {
          "base_uri": "https://localhost:8080/",
          "height": 1000
        }
      },
      "source": [
        "# print(f'Training lgb model with {SPLITS} folds of GroupKFold Started...')\n",
        "# run_cv_model_by_batch(train, test, SPLITS, 'group', features, sample_submission)\n",
        "# print('Training completed...')\n",
        "\n",
        "train. test = train_grouping(train, test)\n",
        "preds = []\n",
        "oofs = []\n",
        "feature_importances = []\n",
        "print('Training started')\n",
        "for i in range(5):\n",
        "  print(f'Training train_group {i+1} started...')\n",
        "  group_train = train[train['train_group'] == i]\n",
        "  group_test = test[test['test_group'] == i]\n",
        "  pred, oof, feature_importance = run_cv_model_by_batch(group_train, group_test, SPLITS, 'group', features, sample_submission, params[i])\n",
        "  # preds += pred.tolist()\n",
        "  # oofs += oof.tolist()\n",
        "  preds.append(pred)\n",
        "  oofs.append(oof)\n",
        "  feature_importances.append(feature_importance)\n",
        "  print(f'Training train_group {i+1} completed...')\n",
        "print('Training completed...')"
      ],
      "execution_count": 33,
      "outputs": [
        {
          "output_type": "stream",
          "text": [
            "Training started\n",
            "Training train_group 1 started...\n",
            "Our training dataset shape is (800000, 87)\n",
            "Our validation dataset shape is (200000, 87)\n",
            "Training until validation scores don't improve for 50 rounds.\n",
            "[100]\ttrain's rmse: 0.0203056\teval's rmse: 0.0212734\n",
            "[200]\ttrain's rmse: 0.0155396\teval's rmse: 0.017118\n",
            "[300]\ttrain's rmse: 0.014909\teval's rmse: 0.0169629\n",
            "[400]\ttrain's rmse: 0.0143388\teval's rmse: 0.0169097\n",
            "[500]\ttrain's rmse: 0.0139597\teval's rmse: 0.0168662\n",
            "Early stopping, best iteration is:\n",
            "[538]\ttrain's rmse: 0.0138304\teval's rmse: 0.016854\n",
            "Training fold 1 completed. macro f1 score : 0.99717\n",
            "Our training dataset shape is (800000, 87)\n",
            "Our validation dataset shape is (200000, 87)\n",
            "Training until validation scores don't improve for 50 rounds.\n",
            "[100]\ttrain's rmse: 0.0203969\teval's rmse: 0.0207575\n",
            "[200]\ttrain's rmse: 0.0156946\teval's rmse: 0.0165298\n",
            "Early stopping, best iteration is:\n",
            "[210]\ttrain's rmse: 0.0156354\teval's rmse: 0.0165128\n",
            "Training fold 2 completed. macro f1 score : 0.99739\n",
            "Our training dataset shape is (800000, 87)\n",
            "Our validation dataset shape is (200000, 87)\n",
            "Training until validation scores don't improve for 50 rounds.\n",
            "[100]\ttrain's rmse: 0.0205195\teval's rmse: 0.0203845\n",
            "[200]\ttrain's rmse: 0.0157681\teval's rmse: 0.0160585\n",
            "Early stopping, best iteration is:\n",
            "[211]\ttrain's rmse: 0.0156878\teval's rmse: 0.016041\n",
            "Training fold 3 completed. macro f1 score : 0.99746\n",
            "Our training dataset shape is (800000, 87)\n",
            "Our validation dataset shape is (200000, 87)\n",
            "Training until validation scores don't improve for 50 rounds.\n",
            "[100]\ttrain's rmse: 0.020232\teval's rmse: 0.021582\n",
            "[200]\ttrain's rmse: 0.0154884\teval's rmse: 0.0175155\n",
            "[300]\ttrain's rmse: 0.0148629\teval's rmse: 0.0173978\n",
            "[400]\ttrain's rmse: 0.0143465\teval's rmse: 0.0173714\n",
            "Early stopping, best iteration is:\n",
            "[398]\ttrain's rmse: 0.0143602\teval's rmse: 0.0173666\n",
            "Training fold 4 completed. macro f1 score : 0.99713\n",
            "Our training dataset shape is (800000, 87)\n",
            "Our validation dataset shape is (200000, 87)\n",
            "Training until validation scores don't improve for 50 rounds.\n",
            "[100]\ttrain's rmse: 0.0204229\teval's rmse: 0.0206378\n",
            "[200]\ttrain's rmse: 0.0156139\teval's rmse: 0.0164167\n",
            "Early stopping, best iteration is:\n",
            "[219]\ttrain's rmse: 0.0154739\teval's rmse: 0.0163963\n",
            "Training fold 5 completed. macro f1 score : 0.99742\n",
            "Training train_group 1 completed...\n",
            "Training train_group 2 started...\n",
            "Our training dataset shape is (800000, 87)\n",
            "Our validation dataset shape is (200000, 87)\n",
            "Training until validation scores don't improve for 50 rounds.\n",
            "[100]\ttrain's rmse: 0.0501662\teval's rmse: 0.0509785\n",
            "[200]\ttrain's rmse: 0.0395126\teval's rmse: 0.0419085\n",
            "Early stopping, best iteration is:\n",
            "[224]\ttrain's rmse: 0.0390183\teval's rmse: 0.0418839\n",
            "Training fold 1 completed. macro f1 score : 0.99695\n",
            "Our training dataset shape is (800000, 87)\n",
            "Our validation dataset shape is (200000, 87)\n",
            "Training until validation scores don't improve for 50 rounds.\n",
            "[100]\ttrain's rmse: 0.0499673\teval's rmse: 0.0512669\n",
            "[200]\ttrain's rmse: 0.0393225\teval's rmse: 0.0422272\n",
            "[300]\ttrain's rmse: 0.037247\teval's rmse: 0.0421308\n",
            "Early stopping, best iteration is:\n",
            "[293]\ttrain's rmse: 0.0373987\teval's rmse: 0.0421237\n",
            "Training fold 2 completed. macro f1 score : 0.99703\n",
            "Our training dataset shape is (800000, 87)\n",
            "Our validation dataset shape is (200000, 87)\n",
            "Training until validation scores don't improve for 50 rounds.\n",
            "[100]\ttrain's rmse: 0.0501951\teval's rmse: 0.0504779\n",
            "[200]\ttrain's rmse: 0.0396138\teval's rmse: 0.0410605\n",
            "[300]\ttrain's rmse: 0.0374832\teval's rmse: 0.04099\n",
            "Early stopping, best iteration is:\n",
            "[250]\ttrain's rmse: 0.0385472\teval's rmse: 0.0409892\n",
            "Training fold 3 completed. macro f1 score : 0.99708\n",
            "Our training dataset shape is (800000, 87)\n",
            "Our validation dataset shape is (200000, 87)\n",
            "Training until validation scores don't improve for 50 rounds.\n",
            "[100]\ttrain's rmse: 0.0502453\teval's rmse: 0.0498653\n",
            "[200]\ttrain's rmse: 0.0396349\teval's rmse: 0.0404398\n",
            "[300]\ttrain's rmse: 0.0375274\teval's rmse: 0.0403665\n",
            "Early stopping, best iteration is:\n",
            "[282]\ttrain's rmse: 0.0379234\teval's rmse: 0.0403544\n",
            "Training fold 4 completed. macro f1 score : 0.99720\n",
            "Our training dataset shape is (800000, 87)\n",
            "Our validation dataset shape is (200000, 87)\n",
            "Training until validation scores don't improve for 50 rounds.\n",
            "[100]\ttrain's rmse: 0.0499309\teval's rmse: 0.0515602\n",
            "[200]\ttrain's rmse: 0.0393026\teval's rmse: 0.0425883\n",
            "Early stopping, best iteration is:\n",
            "[210]\ttrain's rmse: 0.0390897\teval's rmse: 0.0425745\n",
            "Training fold 5 completed. macro f1 score : 0.99688\n",
            "Training train_group 2 completed...\n",
            "Training train_group 3 started...\n",
            "Our training dataset shape is (800000, 87)\n",
            "Our validation dataset shape is (200000, 87)\n",
            "Training until validation scores don't improve for 50 rounds.\n",
            "[100]\ttrain's rmse: 0.11069\teval's rmse: 0.116105\n",
            "[200]\ttrain's rmse: 0.0914654\teval's rmse: 0.102852\n",
            "[300]\ttrain's rmse: 0.0872738\teval's rmse: 0.102669\n",
            "Early stopping, best iteration is:\n",
            "[349]\ttrain's rmse: 0.0857174\teval's rmse: 0.102634\n",
            "Training fold 1 completed. macro f1 score : 0.98326\n",
            "Our training dataset shape is (800000, 87)\n",
            "Our validation dataset shape is (200000, 87)\n",
            "Training until validation scores don't improve for 50 rounds.\n",
            "[100]\ttrain's rmse: 0.11055\teval's rmse: 0.116248\n",
            "[200]\ttrain's rmse: 0.0912628\teval's rmse: 0.102999\n",
            "[300]\ttrain's rmse: 0.0871472\teval's rmse: 0.102809\n",
            "Early stopping, best iteration is:\n",
            "[325]\ttrain's rmse: 0.0863322\teval's rmse: 0.102783\n",
            "Training fold 2 completed. macro f1 score : 0.98348\n",
            "Our training dataset shape is (800000, 87)\n",
            "Our validation dataset shape is (200000, 87)\n",
            "Training until validation scores don't improve for 50 rounds.\n",
            "[100]\ttrain's rmse: 0.110695\teval's rmse: 0.116121\n",
            "[200]\ttrain's rmse: 0.0914854\teval's rmse: 0.103032\n",
            "[300]\ttrain's rmse: 0.0873371\teval's rmse: 0.102803\n",
            "[400]\ttrain's rmse: 0.0842349\teval's rmse: 0.102765\n",
            "[500]\ttrain's rmse: 0.0815887\teval's rmse: 0.102751\n",
            "Early stopping, best iteration is:\n",
            "[519]\ttrain's rmse: 0.0810835\teval's rmse: 0.102746\n",
            "Training fold 3 completed. macro f1 score : 0.98311\n",
            "Our training dataset shape is (800000, 87)\n",
            "Our validation dataset shape is (200000, 87)\n",
            "Training until validation scores don't improve for 50 rounds.\n",
            "[100]\ttrain's rmse: 0.11054\teval's rmse: 0.1167\n",
            "[200]\ttrain's rmse: 0.0912913\teval's rmse: 0.103705\n",
            "[300]\ttrain's rmse: 0.0872197\teval's rmse: 0.103527\n",
            "[400]\ttrain's rmse: 0.0841113\teval's rmse: 0.103507\n",
            "Early stopping, best iteration is:\n",
            "[373]\ttrain's rmse: 0.0849127\teval's rmse: 0.103493\n",
            "Training fold 4 completed. macro f1 score : 0.98318\n",
            "Our training dataset shape is (800000, 87)\n",
            "Our validation dataset shape is (200000, 87)\n",
            "Training until validation scores don't improve for 50 rounds.\n",
            "[100]\ttrain's rmse: 0.110786\teval's rmse: 0.115524\n",
            "[200]\ttrain's rmse: 0.0916126\teval's rmse: 0.102262\n",
            "[300]\ttrain's rmse: 0.0873963\teval's rmse: 0.102049\n",
            "[400]\ttrain's rmse: 0.0843166\teval's rmse: 0.102026\n",
            "Early stopping, best iteration is:\n",
            "[387]\ttrain's rmse: 0.0846741\teval's rmse: 0.102017\n",
            "Training fold 5 completed. macro f1 score : 0.98364\n",
            "Training train_group 3 completed...\n",
            "Training train_group 4 started...\n",
            "Our training dataset shape is (800000, 87)\n",
            "Our validation dataset shape is (200000, 87)\n",
            "Training until validation scores don't improve for 50 rounds.\n",
            "[100]\ttrain's rmse: 0.298418\teval's rmse: 0.302008\n",
            "[200]\ttrain's rmse: 0.278506\teval's rmse: 0.286297\n",
            "[300]\ttrain's rmse: 0.275414\teval's rmse: 0.28611\n",
            "[400]\ttrain's rmse: 0.272905\teval's rmse: 0.286054\n",
            "[500]\ttrain's rmse: 0.270563\teval's rmse: 0.286008\n",
            "Early stopping, best iteration is:\n",
            "[536]\ttrain's rmse: 0.269762\teval's rmse: 0.285984\n",
            "Training fold 1 completed. macro f1 score : 0.87335\n",
            "Our training dataset shape is (800000, 87)\n",
            "Our validation dataset shape is (200000, 87)\n",
            "Training until validation scores don't improve for 50 rounds.\n",
            "[100]\ttrain's rmse: 0.298145\teval's rmse: 0.302979\n",
            "[200]\ttrain's rmse: 0.27816\teval's rmse: 0.287383\n",
            "[300]\ttrain's rmse: 0.274953\teval's rmse: 0.28724\n",
            "[400]\ttrain's rmse: 0.272502\teval's rmse: 0.287195\n",
            "[500]\ttrain's rmse: 0.27021\teval's rmse: 0.287162\n",
            "[600]\ttrain's rmse: 0.268003\teval's rmse: 0.287127\n",
            "Early stopping, best iteration is:\n",
            "[629]\ttrain's rmse: 0.267367\teval's rmse: 0.287122\n",
            "Training fold 2 completed. macro f1 score : 0.87187\n",
            "Our training dataset shape is (800000, 87)\n",
            "Our validation dataset shape is (200000, 87)\n",
            "Training until validation scores don't improve for 50 rounds.\n",
            "[100]\ttrain's rmse: 0.298015\teval's rmse: 0.303497\n",
            "[200]\ttrain's rmse: 0.278037\teval's rmse: 0.288047\n",
            "[300]\ttrain's rmse: 0.274907\teval's rmse: 0.287935\n",
            "[400]\ttrain's rmse: 0.27247\teval's rmse: 0.287891\n",
            "[500]\ttrain's rmse: 0.270128\teval's rmse: 0.287854\n",
            "[600]\ttrain's rmse: 0.267831\teval's rmse: 0.287815\n",
            "Early stopping, best iteration is:\n",
            "[595]\ttrain's rmse: 0.267935\teval's rmse: 0.287812\n",
            "Training fold 3 completed. macro f1 score : 0.87433\n",
            "Our training dataset shape is (800000, 87)\n",
            "Our validation dataset shape is (200000, 87)\n",
            "Training until validation scores don't improve for 50 rounds.\n",
            "[100]\ttrain's rmse: 0.298487\teval's rmse: 0.301616\n",
            "[200]\ttrain's rmse: 0.278514\teval's rmse: 0.286177\n",
            "[300]\ttrain's rmse: 0.275387\teval's rmse: 0.28604\n",
            "[400]\ttrain's rmse: 0.272966\teval's rmse: 0.285997\n",
            "[500]\ttrain's rmse: 0.270642\teval's rmse: 0.285993\n",
            "[600]\ttrain's rmse: 0.268412\teval's rmse: 0.285965\n",
            "Early stopping, best iteration is:\n",
            "[622]\ttrain's rmse: 0.267928\teval's rmse: 0.285953\n",
            "Training fold 4 completed. macro f1 score : 0.78457\n",
            "Our training dataset shape is (800000, 87)\n",
            "Our validation dataset shape is (200000, 87)\n",
            "Training until validation scores don't improve for 50 rounds.\n",
            "[100]\ttrain's rmse: 0.298463\teval's rmse: 0.302007\n",
            "[200]\ttrain's rmse: 0.278446\teval's rmse: 0.286042\n",
            "[300]\ttrain's rmse: 0.27528\teval's rmse: 0.285873\n",
            "[400]\ttrain's rmse: 0.272796\teval's rmse: 0.285826\n",
            "[500]\ttrain's rmse: 0.270455\teval's rmse: 0.285827\n",
            "Early stopping, best iteration is:\n",
            "[451]\ttrain's rmse: 0.271554\teval's rmse: 0.285817\n",
            "Training fold 5 completed. macro f1 score : 0.79162\n",
            "Training train_group 4 completed...\n",
            "Training train_group 5 started...\n",
            "Our training dataset shape is (800000, 87)\n",
            "Our validation dataset shape is (200000, 87)\n",
            "Training until validation scores don't improve for 50 rounds.\n",
            "[100]\ttrain's rmse: 0.139206\teval's rmse: 0.146336\n",
            "[200]\ttrain's rmse: 0.115292\teval's rmse: 0.129336\n",
            "[300]\ttrain's rmse: 0.11164\teval's rmse: 0.129192\n",
            "[400]\ttrain's rmse: 0.108864\teval's rmse: 0.129193\n",
            "Early stopping, best iteration is:\n",
            "[365]\ttrain's rmse: 0.109809\teval's rmse: 0.129181\n",
            "Training fold 1 completed. macro f1 score : 0.97506\n",
            "Our training dataset shape is (800000, 87)\n",
            "Our validation dataset shape is (200000, 87)\n",
            "Training until validation scores don't improve for 50 rounds.\n",
            "[100]\ttrain's rmse: 0.139347\teval's rmse: 0.145392\n",
            "[200]\ttrain's rmse: 0.115375\teval's rmse: 0.128517\n",
            "[300]\ttrain's rmse: 0.111619\teval's rmse: 0.128378\n",
            "Early stopping, best iteration is:\n",
            "[327]\ttrain's rmse: 0.110831\teval's rmse: 0.128373\n",
            "Training fold 2 completed. macro f1 score : 0.97290\n",
            "Our training dataset shape is (800000, 87)\n",
            "Our validation dataset shape is (200000, 87)\n",
            "Training until validation scores don't improve for 50 rounds.\n",
            "[100]\ttrain's rmse: 0.138983\teval's rmse: 0.146925\n",
            "[200]\ttrain's rmse: 0.11489\teval's rmse: 0.130095\n",
            "Early stopping, best iteration is:\n",
            "[249]\ttrain's rmse: 0.112772\teval's rmse: 0.129989\n",
            "Training fold 3 completed. macro f1 score : 0.96956\n",
            "Our training dataset shape is (800000, 87)\n",
            "Our validation dataset shape is (200000, 87)\n",
            "Training until validation scores don't improve for 50 rounds.\n",
            "[100]\ttrain's rmse: 0.139037\teval's rmse: 0.146656\n",
            "[200]\ttrain's rmse: 0.115008\teval's rmse: 0.129953\n",
            "[300]\ttrain's rmse: 0.11122\teval's rmse: 0.129867\n",
            "Early stopping, best iteration is:\n",
            "[264]\ttrain's rmse: 0.112366\teval's rmse: 0.129863\n",
            "Training fold 4 completed. macro f1 score : 0.97184\n",
            "Our training dataset shape is (800000, 87)\n",
            "Our validation dataset shape is (200000, 87)\n",
            "Training until validation scores don't improve for 50 rounds.\n",
            "[100]\ttrain's rmse: 0.13901\teval's rmse: 0.146965\n",
            "[200]\ttrain's rmse: 0.114955\teval's rmse: 0.130223\n",
            "[300]\ttrain's rmse: 0.111261\teval's rmse: 0.130091\n",
            "Early stopping, best iteration is:\n",
            "[335]\ttrain's rmse: 0.11033\teval's rmse: 0.130084\n",
            "Training fold 5 completed. macro f1 score : 0.97221\n",
            "Training train_group 5 completed...\n",
            "Training completed...\n"
          ],
          "name": "stdout"
        }
      ]
    },
    {
      "cell_type": "code",
      "metadata": {
        "id": "wCog4u03y50S",
        "colab_type": "code",
        "colab": {}
      },
      "source": [
        "def sort_oof_data(arr):\n",
        "  arr_ = []\n",
        "  arr_ += arr[0][0:].tolist()\n",
        "  arr_ += arr[1][0:500000].tolist()\n",
        "  arr_ += arr[2][0:500000].tolist()\n",
        "  arr_ += arr[3][0:500000].tolist()\n",
        "  arr_ += arr[4][0:500000].tolist()\n",
        "  arr_ += arr[1][500000:].tolist()\n",
        "  arr_ += arr[2][500000:].tolist()\n",
        "  arr_ += arr[4][500000:].tolist()\n",
        "  arr_ += arr[3][500000:].tolist()\n",
        "  return arr_\n",
        "\n",
        "full_oof = sort_oof_data(oofs)"
      ],
      "execution_count": 0,
      "outputs": []
    },
    {
      "cell_type": "code",
      "metadata": {
        "id": "eg8cGTBpy76J",
        "colab_type": "code",
        "colab": {}
      },
      "source": [
        "def sort_pred_data(arr):\n",
        "  arr_ = []\n",
        "  arr_ += arr[0][0:100000].tolist()\n",
        "  arr_ += arr[2][0:100000].tolist()\n",
        "  arr_ += arr[4][0:100000].tolist()\n",
        "  arr_ += arr[0][100000:200000].tolist()\n",
        "  arr_ += arr[1][0:100000].tolist()\n",
        "  arr_ += arr[3][0:100000].tolist()\n",
        "  arr_ += arr[4][100000:].tolist()\n",
        "  arr_ += arr[3][100000:].tolist()\n",
        "  arr_ += arr[0][200000:300000].tolist()\n",
        "  arr_ += arr[2][100000:].tolist()\n",
        "  arr_ += arr[0][300000:].tolist()\n",
        "  return arr_\n",
        "\n",
        "full_pred = sort_pred_data(preds)"
      ],
      "execution_count": 0,
      "outputs": []
    },
    {
      "cell_type": "code",
      "metadata": {
        "id": "Q8LawFfpy9uw",
        "colab_type": "code",
        "outputId": "87956012-2390-4314-d4c4-b8aae8c2651b",
        "colab": {
          "base_uri": "https://localhost:8080/",
          "height": 34
        }
      },
      "source": [
        "f1_score_ = f1_score(train.open_channels,  np.round(np.clip(full_oof, 0, 10)).astype(int), average = 'macro')\n",
        "print(f'Training completed. oof macro f1 score : {f1_score_:1.5f}')\n",
        "sample_submission['open_channels'] = np.round(np.clip(full_pred, 0, 10)).astype(int)\n",
        "sample_submission.to_csv('lgb_submission.csv', index=False, float_format='%.4f')"
      ],
      "execution_count": 36,
      "outputs": [
        {
          "output_type": "stream",
          "text": [
            "Training completed. oof macro f1 score : 0.93976\n"
          ],
          "name": "stdout"
        }
      ]
    },
    {
      "cell_type": "code",
      "metadata": {
        "id": "j8N2QuObT6Rf",
        "colab_type": "code",
        "outputId": "2e73d0d1-4ee1-4e8f-eb8d-d177dbd61e5f",
        "colab": {
          "base_uri": "https://localhost:8080/",
          "height": 68
        }
      },
      "source": [
        "!kaggle competitions submit -f './lgb_submission.csv' -m 'lgb' liverpool-ion-switching"
      ],
      "execution_count": 37,
      "outputs": [
        {
          "output_type": "stream",
          "text": [
            "Warning: Looks like you're using an outdated API Version, please consider updating (server 1.5.6 / client 1.5.4)\n",
            "100% 21.0M/21.0M [00:03<00:00, 6.07MB/s]\n",
            "Successfully submitted to University of Liverpool - Ion Switching"
          ],
          "name": "stdout"
        }
      ]
    },
    {
      "cell_type": "code",
      "metadata": {
        "id": "vzQ2de2_HR1i",
        "colab_type": "code",
        "colab": {}
      },
      "source": [
        ""
      ],
      "execution_count": 0,
      "outputs": []
    },
    {
      "cell_type": "markdown",
      "metadata": {
        "id": "fwmBMaXEmdGW",
        "colab_type": "text"
      },
      "source": [
        "training with clean_kalman\n",
        "> Training completed. oof macro f1 score : 0.93940  \n",
        "> LB : 0.940  \n",
        "\n",
        "clean_kalman  \n",
        "add category  \n",
        "add 20shifted\n",
        "> Training completed. oof macro f1 score : 0.93941  \n",
        "> LB : 0.940\n",
        "\n",
        "clean_kalman  \n",
        "add category  \n",
        "add 20shifted  \n",
        "add target encoding(group)\n",
        "> Training completed. oof macro f1 score : 0.93880  \n",
        "> LB : 0.653\n",
        "\n",
        "clean_kalman + add category + add 20shifted\n",
        "> Training completed. oof macro f1 score : 0.93953  \n",
        "> LB : 0.942  \n",
        "\n",
        "clean_kalman + add category + add 20shifted + target encording(category)  \n",
        ">　Training completed. oof macro f1 score : 0.93842  \n",
        ">　LB : 0.941"
      ]
    },
    {
      "cell_type": "code",
      "metadata": {
        "id": "caPUEw17moRo",
        "colab_type": "code",
        "colab": {}
      },
      "source": [
        ""
      ],
      "execution_count": 0,
      "outputs": []
    }
  ]
}