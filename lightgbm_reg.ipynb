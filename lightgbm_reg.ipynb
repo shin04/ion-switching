{
  "nbformat": 4,
  "nbformat_minor": 0,
  "metadata": {
    "colab": {
      "name": "lightgbm-reg",
      "provenance": [],
      "collapsed_sections": [],
      "machine_shape": "hm",
      "authorship_tag": "ABX9TyOlHaO/ns4lsCMEkjIWTutn",
      "include_colab_link": true
    },
    "kernelspec": {
      "name": "python3",
      "display_name": "Python 3"
    }
  },
  "cells": [
    {
      "cell_type": "markdown",
      "metadata": {
        "id": "view-in-github",
        "colab_type": "text"
      },
      "source": [
        "<a href=\"https://colab.research.google.com/github/shin04/ion-switching/blob/master/lightgbm_reg.ipynb\" target=\"_parent\"><img src=\"https://colab.research.google.com/assets/colab-badge.svg\" alt=\"Open In Colab\"/></a>"
      ]
    },
    {
      "cell_type": "code",
      "metadata": {
        "id": "YJNHw6jrSCvs",
        "colab_type": "code",
        "outputId": "cb456ed1-f47e-4c7c-def6-dde56ae9a98d",
        "colab": {
          "base_uri": "https://localhost:8080/",
          "height": 204
        }
      },
      "source": [
        "!pip install kaggle"
      ],
      "execution_count": 36,
      "outputs": [
        {
          "output_type": "stream",
          "text": [
            "Requirement already satisfied: kaggle in /usr/local/lib/python3.6/dist-packages (1.5.6)\n",
            "Requirement already satisfied: tqdm in /usr/local/lib/python3.6/dist-packages (from kaggle) (4.41.1)\n",
            "Requirement already satisfied: certifi in /usr/local/lib/python3.6/dist-packages (from kaggle) (2020.4.5.1)\n",
            "Requirement already satisfied: urllib3<1.25,>=1.21.1 in /usr/local/lib/python3.6/dist-packages (from kaggle) (1.24.3)\n",
            "Requirement already satisfied: six>=1.10 in /usr/local/lib/python3.6/dist-packages (from kaggle) (1.12.0)\n",
            "Requirement already satisfied: python-slugify in /usr/local/lib/python3.6/dist-packages (from kaggle) (4.0.0)\n",
            "Requirement already satisfied: requests in /usr/local/lib/python3.6/dist-packages (from kaggle) (2.23.0)\n",
            "Requirement already satisfied: python-dateutil in /usr/local/lib/python3.6/dist-packages (from kaggle) (2.8.1)\n",
            "Requirement already satisfied: text-unidecode>=1.3 in /usr/local/lib/python3.6/dist-packages (from python-slugify->kaggle) (1.3)\n",
            "Requirement already satisfied: chardet<4,>=3.0.2 in /usr/local/lib/python3.6/dist-packages (from requests->kaggle) (3.0.4)\n",
            "Requirement already satisfied: idna<3,>=2.5 in /usr/local/lib/python3.6/dist-packages (from requests->kaggle) (2.9)\n"
          ],
          "name": "stdout"
        }
      ]
    },
    {
      "cell_type": "code",
      "metadata": {
        "id": "VRVk22KlSPu0",
        "colab_type": "code",
        "outputId": "448182a2-61b3-45de-d3d0-9b830355846a",
        "colab": {
          "base_uri": "https://localhost:8080/",
          "height": 34
        }
      },
      "source": [
        "from googleapiclient.discovery import build\n",
        "import io, os\n",
        "from googleapiclient.http import MediaIoBaseDownload\n",
        "from google.colab import auth\n",
        "\n",
        "auth.authenticate_user()\n",
        "\n",
        "drive_service = build('drive', 'v3')\n",
        "results = drive_service.files().list(\n",
        "        q=\"name = 'kaggle.json'\", fields=\"files(id)\").execute()\n",
        "kaggle_api_key = results.get('files', [])\n",
        "\n",
        "filename = \"/root/.kaggle/kaggle.json\"\n",
        "os.makedirs(os.path.dirname(filename), exist_ok=True)\n",
        "\n",
        "request = drive_service.files().get_media(fileId=kaggle_api_key[0]['id'])\n",
        "fh = io.FileIO(filename, 'wb')\n",
        "downloader = MediaIoBaseDownload(fh, request)\n",
        "done = False\n",
        "while done is False:\n",
        "    status, done = downloader.next_chunk()\n",
        "    print(\"Download %d%%.\" % int(status.progress() * 100))\n",
        "os.chmod(filename, 600)"
      ],
      "execution_count": 37,
      "outputs": [
        {
          "output_type": "stream",
          "text": [
            "Download 100%.\n"
          ],
          "name": "stdout"
        }
      ]
    },
    {
      "cell_type": "code",
      "metadata": {
        "id": "M7oEMFs7SR7M",
        "colab_type": "code",
        "outputId": "a11b0f69-ec9b-4afd-9fa2-c6bde9d92ed6",
        "colab": {
          "base_uri": "https://localhost:8080/",
          "height": 34
        }
      },
      "source": [
        "!kaggle datasets download -d cdeotte/data-without-drift"
      ],
      "execution_count": 38,
      "outputs": [
        {
          "output_type": "stream",
          "text": [
            "data-without-drift.zip: Skipping, found more recently modified local copy (use --force to force download)\n"
          ],
          "name": "stdout"
        }
      ]
    },
    {
      "cell_type": "code",
      "metadata": {
        "id": "UqLv3DkuSkXf",
        "colab_type": "code",
        "outputId": "f5470df9-41f8-47e7-eb51-7959b40a4312",
        "colab": {
          "base_uri": "https://localhost:8080/",
          "height": 34
        }
      },
      "source": [
        "!kaggle datasets download -d sggpls/ion-shifted-rfc-proba"
      ],
      "execution_count": 39,
      "outputs": [
        {
          "output_type": "stream",
          "text": [
            "ion-shifted-rfc-proba.zip: Skipping, found more recently modified local copy (use --force to force download)\n"
          ],
          "name": "stdout"
        }
      ]
    },
    {
      "cell_type": "code",
      "metadata": {
        "id": "QA9CDVT3tAIm",
        "colab_type": "code",
        "outputId": "8e66f079-2ece-4f5f-97e8-6df6584704d7",
        "colab": {
          "base_uri": "https://localhost:8080/",
          "height": 34
        }
      },
      "source": [
        "!kaggle datasets download -d ragnar123/clean-kalman"
      ],
      "execution_count": 40,
      "outputs": [
        {
          "output_type": "stream",
          "text": [
            "clean-kalman.zip: Skipping, found more recently modified local copy (use --force to force download)\n"
          ],
          "name": "stdout"
        }
      ]
    },
    {
      "cell_type": "code",
      "metadata": {
        "id": "SpUupDkYSl3M",
        "colab_type": "code",
        "outputId": "35bcc1a0-3afe-4f1f-b92a-dd23f53da24c",
        "colab": {
          "base_uri": "https://localhost:8080/",
          "height": 85
        }
      },
      "source": [
        "!kaggle competitions download -c liverpool-ion-switching"
      ],
      "execution_count": 41,
      "outputs": [
        {
          "output_type": "stream",
          "text": [
            "Warning: Looks like you're using an outdated API Version, please consider updating (server 1.5.6 / client 1.5.4)\n",
            "test.csv.zip: Skipping, found more recently modified local copy (use --force to force download)\n",
            "sample_submission.csv.zip: Skipping, found more recently modified local copy (use --force to force download)\n",
            "train.csv.zip: Skipping, found more recently modified local copy (use --force to force download)\n"
          ],
          "name": "stdout"
        }
      ]
    },
    {
      "cell_type": "code",
      "metadata": {
        "id": "79QyU1isSnZH",
        "colab_type": "code",
        "outputId": "a76f80ed-ba92-496e-bead-893a41c51b14",
        "colab": {
          "base_uri": "https://localhost:8080/",
          "height": 391
        }
      },
      "source": [
        "!unzip -o '*.zip'"
      ],
      "execution_count": 42,
      "outputs": [
        {
          "output_type": "stream",
          "text": [
            "Archive:  data-without-drift.zip\n",
            "  inflating: test_clean.csv          \n",
            "  inflating: train_clean.csv         \n",
            "\n",
            "Archive:  test.csv.zip\n",
            "  inflating: test.csv                \n",
            "\n",
            "Archive:  clean-kalman.zip\n",
            "  inflating: test_clean_kalman.csv   \n",
            "  inflating: train_clean_kalman.csv  \n",
            "\n",
            "Archive:  sample_submission.csv.zip\n",
            "  inflating: sample_submission.csv   \n",
            "\n",
            "Archive:  ion-shifted-rfc-proba.zip\n",
            "  inflating: Y_test_proba.npy        \n",
            "  inflating: Y_train_proba.npy       \n",
            "\n",
            "Archive:  train.csv.zip\n",
            "  inflating: train.csv               \n",
            "\n",
            "6 archives were successfully processed.\n"
          ],
          "name": "stdout"
        }
      ]
    },
    {
      "cell_type": "code",
      "metadata": {
        "id": "wveF_VMWw8PG",
        "colab_type": "code",
        "outputId": "f257db5d-8144-4c91-8c33-331cb7e02341",
        "colab": {
          "base_uri": "https://localhost:8080/",
          "height": 51
        }
      },
      "source": [
        "!pip install tensorflow_addons"
      ],
      "execution_count": 43,
      "outputs": [
        {
          "output_type": "stream",
          "text": [
            "Requirement already satisfied: tensorflow_addons in /usr/local/lib/python3.6/dist-packages (0.8.3)\n",
            "Requirement already satisfied: typeguard in /usr/local/lib/python3.6/dist-packages (from tensorflow_addons) (2.7.1)\n"
          ],
          "name": "stdout"
        }
      ]
    },
    {
      "cell_type": "code",
      "metadata": {
        "id": "NLiQ1cLhSpr6",
        "colab_type": "code",
        "colab": {}
      },
      "source": [
        "import tensorflow as tf\n",
        "from tensorflow.keras.layers import Conv1D, Input, Dense, Add, Multiply, BatchNormalization, Activation, Dropout\n",
        "import pandas as pd\n",
        "import numpy as np\n",
        "import random\n",
        "from tensorflow.keras.callbacks import Callback, LearningRateScheduler\n",
        "from tensorflow.keras.losses import categorical_crossentropy\n",
        "from tensorflow.keras.optimizers import Adam\n",
        "from tensorflow.keras import backend as K\n",
        "from tensorflow.keras import losses, models, optimizers\n",
        "import tensorflow_addons as tfa\n",
        "import gc\n",
        "from tqdm import tqdm\n",
        "from scipy import signal\n",
        "\n",
        "import lightgbm as lgb\n",
        "\n",
        "from sklearn.model_selection import GroupKFold, StratifiedKFold\n",
        "from sklearn.metrics import f1_score\n",
        "\n",
        "from collections import Counter, defaultdict\n",
        "import random\n",
        "\n",
        "import warnings\n",
        "warnings.simplefilter('ignore')\n",
        "warnings.filterwarnings('ignore')\n",
        "pd.set_option('display.max_columns', 1000)\n",
        "pd.set_option('display.max_rows', 500)\n",
        "\n",
        "import os\n",
        "for dirname, _, filenames in os.walk('/kaggle/input'):\n",
        "    for filename in filenames:\n",
        "        print(os.path.join(dirname, filename))\n",
        "\n",
        "# Any results you write to the current directory are saved as output."
      ],
      "execution_count": 0,
      "outputs": []
    },
    {
      "cell_type": "code",
      "metadata": {
        "id": "UDn2jHk8Svhd",
        "colab_type": "code",
        "colab": {}
      },
      "source": [
        "# configurations and main hyperparammeters\n",
        "EPOCHS = 110\n",
        "NNBATCHSIZE = 16\n",
        "GROUP_BATCH_SIZE = 4000\n",
        "SEED = 321\n",
        "LR = 0.001\n",
        "SPLITS = 5\n",
        "\n",
        "def seed_everything(seed):\n",
        "    random.seed(seed)\n",
        "    np.random.seed(seed)\n",
        "    os.environ['PYTHONHASHSEED'] = str(seed)\n",
        "    tf.random.set_seed(seed)"
      ],
      "execution_count": 0,
      "outputs": []
    },
    {
      "cell_type": "code",
      "metadata": {
        "id": "hd5ZOykHSyC9",
        "colab_type": "code",
        "colab": {}
      },
      "source": [
        "# read data\n",
        "def read_data():\n",
        "\n",
        "    train = pd.read_csv('./train_clean_kalman.csv', dtype={'time': np.float32, 'signal': np.float32, 'open_channels':np.int32})\n",
        "    test  = pd.read_csv('./test_clean_kalman.csv', dtype={'time': np.float32, 'signal': np.float32})\n",
        "    sub  = pd.read_csv('./sample_submission.csv', dtype={'time': np.float32})\n",
        "    \n",
        "    Y_train_proba = np.load(\"./Y_train_proba.npy\")\n",
        "    Y_test_proba = np.load(\"./Y_test_proba.npy\")\n",
        "    \n",
        "    for i in range(11):\n",
        "        train[f\"proba_{i}\"] = Y_train_proba[:, i]\n",
        "        test[f\"proba_{i}\"] = Y_test_proba[:, i]\n",
        "\n",
        "    return train, test, sub"
      ],
      "execution_count": 0,
      "outputs": []
    },
    {
      "cell_type": "code",
      "metadata": {
        "id": "aZTrfQXOLwvM",
        "colab_type": "code",
        "colab": {}
      },
      "source": [
        "def batching_10(train, test):\n",
        "    # concatenate data\n",
        "    # batchを1から10までフル　ややこしい\n",
        "    batch = 50\n",
        "    total_batches = 14\n",
        "    train['set'] = 'train'\n",
        "    test['set'] = 'test'\n",
        "    data = pd.concat([train, test])\n",
        "    for i in range(int(total_batches)):\n",
        "        data.loc[(data['time'] > i * batch) & (data['time'] <= (i + 1) * batch), 'batch'] = i + 1\n",
        "    train = data[data['set'] == 'train']\n",
        "    test = data[data['set'] == 'test']\n",
        "    train.drop(['set'], inplace = True, axis = 1)\n",
        "    test.drop(['set'], inplace = True, axis = 1)\n",
        "    del data\n",
        "    return train, test"
      ],
      "execution_count": 0,
      "outputs": []
    },
    {
      "cell_type": "code",
      "metadata": {
        "id": "e3nWKBrr3LKM",
        "colab_type": "code",
        "colab": {}
      },
      "source": [
        "def create_signal_mod(train):\n",
        "    left = 3641000\n",
        "    right = 3829000\n",
        "    thresh_dict = {\n",
        "        3: [0.1, 2.0],\n",
        "        2: [-1.1, 0.7],\n",
        "        1: [-2.3, -0.6],\n",
        "        0: [-3.8, -2],\n",
        "    }\n",
        "    \n",
        "    # train['signal_mod'] = train['signal'].values\n",
        "    for ch in train[train['batch']==8]['open_channels'].unique():\n",
        "        idxs_noisy = (train['open_channels']==ch) & (left<train.index) & (train.index<right)\n",
        "        idxs_not_noisy = (train['open_channels']==ch) & ~idxs_noisy\n",
        "        mean = train[idxs_not_noisy]['signal'].mean()\n",
        "\n",
        "        idxs_outlier = idxs_noisy & (thresh_dict[ch][1]<train['signal'].values)\n",
        "        train['signal'][idxs_outlier]  = mean\n",
        "        idxs_outlier = idxs_noisy & (train['signal'].values<thresh_dict[ch][0])\n",
        "        train['signal'][idxs_outlier]  = mean\n",
        "    return train"
      ],
      "execution_count": 0,
      "outputs": []
    },
    {
      "cell_type": "code",
      "metadata": {
        "id": "81-K4Yfki71w",
        "colab_type": "code",
        "colab": {}
      },
      "source": [
        "# !pip install pykalman"
      ],
      "execution_count": 0,
      "outputs": []
    },
    {
      "cell_type": "code",
      "metadata": {
        "id": "9QWS9pipiY3y",
        "colab_type": "code",
        "colab": {}
      },
      "source": [
        "# from pykalman import KalmanFilter\n",
        "\n",
        "# def Kalman1D(observations, damping=1):\n",
        "#     # To return the smoothed time series data\n",
        "#     observation_covariance = damping\n",
        "#     initial_value_guess = observations[0]\n",
        "#     transition_matrix = 1\n",
        "#     transition_covariance = 0.1\n",
        "#     initial_value_guess\n",
        "#     kf = KalmanFilter(\n",
        "#             initial_state_mean=initial_value_guess,\n",
        "#             initial_state_covariance=observation_covariance,\n",
        "#             observation_covariance=observation_covariance,\n",
        "#             transition_covariance=transition_covariance,\n",
        "#             transition_matrices=transition_matrix\n",
        "#         )\n",
        "#     pred_state, state_cov = kf.smooth(observations)\n",
        "#     return pred_state"
      ],
      "execution_count": 0,
      "outputs": []
    },
    {
      "cell_type": "code",
      "metadata": {
        "id": "I_pkElMAS8fA",
        "colab_type": "code",
        "colab": {}
      },
      "source": [
        "# create batches of 4000 observations\n",
        "def batching(df, batch_size):\n",
        "    df['group'] = df.groupby(df.index//batch_size, sort=False)['signal'].agg(['ngroup']).values\n",
        "    df['group'] = df['group'].astype(np.uint16)\n",
        "    return df"
      ],
      "execution_count": 0,
      "outputs": []
    },
    {
      "cell_type": "code",
      "metadata": {
        "id": "vzokhYjyS-dU",
        "colab_type": "code",
        "colab": {}
      },
      "source": [
        "# normalize the data (standard scaler). We can also try other scalers for a better score!\n",
        "def normalize(train, test):\n",
        "    train_input_mean = train.signal.mean()\n",
        "    train_input_sigma = train.signal.std()\n",
        "    train['signal'] = (train.signal - train_input_mean) / train_input_sigma\n",
        "    test['signal'] = (test.signal - train_input_mean) / train_input_sigma\n",
        "    \n",
        "    return train, test"
      ],
      "execution_count": 0,
      "outputs": []
    },
    {
      "cell_type": "code",
      "metadata": {
        "id": "Qez_-uQBt-9W",
        "colab_type": "code",
        "colab": {}
      },
      "source": [
        "def add_category(train, test):\n",
        "  train[\"category\"] = 0\n",
        "  test[\"category\"] = 0\n",
        "\n",
        "  # train segments with more then 9 open channels classes\n",
        "  train.loc[2000000:2500000-1, 'category'] = 1\n",
        "  train.loc[4500000:5000000-1, 'category'] = 1\n",
        "\n",
        "  # test segments with more then 9 open channels classes (potentially)\n",
        "  test.loc[500000:600000-1, \"category\"] = 1\n",
        "  test.loc[700000:800000-1, \"category\"] = 1\n",
        "  \n",
        "  return train, test"
      ],
      "execution_count": 0,
      "outputs": []
    },
    {
      "cell_type": "code",
      "metadata": {
        "id": "zi8ajG9drc0f",
        "colab_type": "code",
        "colab": {}
      },
      "source": [
        "# signal processing features\n",
        "def calc_gradients(s, n_grads = 4):\n",
        "    '''\n",
        "    Calculate gradients for a pandas series. Returns the same number of samples\n",
        "    '''\n",
        "    grads = pd.DataFrame()\n",
        "    \n",
        "    g = s.values\n",
        "    for i in range(n_grads):\n",
        "        g = np.gradient(g)\n",
        "        grads['grad_' + str(i+1)] = g\n",
        "        \n",
        "    return grads\n",
        "\n",
        "def calc_low_pass(s, n_filts=10):\n",
        "    '''\n",
        "    Applies low pass filters to the signal. Left delayed and no delayed\n",
        "    '''\n",
        "    wns = np.logspace(-2, -0.3, n_filts)\n",
        "    \n",
        "    low_pass = pd.DataFrame()\n",
        "    x = s.values\n",
        "    for wn in wns:\n",
        "        b, a = signal.butter(1, Wn=wn, btype='low')\n",
        "        zi = signal.lfilter_zi(b, a)\n",
        "        low_pass['lowpass_lf_' + str('%.4f' %wn)] = signal.lfilter(b, a, x, zi=zi*x[0])[0]\n",
        "        low_pass['lowpass_ff_' + str('%.4f' %wn)] = signal.filtfilt(b, a, x)\n",
        "        \n",
        "    return low_pass\n",
        "\n",
        "def calc_high_pass(s, n_filts=10):\n",
        "    '''\n",
        "    Applies high pass filters to the signal. Left delayed and no delayed\n",
        "    '''\n",
        "    wns = np.logspace(-2, -0.1, n_filts)\n",
        "    \n",
        "    high_pass = pd.DataFrame()\n",
        "    x = s.values\n",
        "    for wn in wns:\n",
        "        b, a = signal.butter(1, Wn=wn, btype='high')\n",
        "        zi = signal.lfilter_zi(b, a)\n",
        "        high_pass['highpass_lf_' + str('%.4f' %wn)] = signal.lfilter(b, a, x, zi=zi*x[0])[0]\n",
        "        high_pass['highpass_ff_' + str('%.4f' %wn)] = signal.filtfilt(b, a, x)\n",
        "        \n",
        "    return high_pass\n",
        "\n",
        "def calc_ewm(s, windows=[10, 50, 100, 500, 1000]):\n",
        "    '''\n",
        "    Calculates exponential weighted functions\n",
        "    '''\n",
        "    ewm = pd.DataFrame()\n",
        "    for w in windows:\n",
        "        ewm['ewm_mean_' + str(w)] = s.ewm(span=w, min_periods=1).mean()\n",
        "        ewm['ewm_std_' + str(w)] = s.ewm(span=w, min_periods=1).std()\n",
        "        \n",
        "    # add zeros when na values (std)\n",
        "    ewm = ewm.fillna(value=0)\n",
        "        \n",
        "    return ewm\n",
        "\n",
        "\n",
        "def add_features(s):\n",
        "    '''\n",
        "    All calculations together\n",
        "    '''\n",
        "    \n",
        "    gradients = calc_gradients(s)\n",
        "    low_pass = calc_low_pass(s)\n",
        "    high_pass = calc_high_pass(s)\n",
        "    ewm = calc_ewm(s)\n",
        "    \n",
        "    return pd.concat([s, gradients, low_pass, high_pass, ewm], axis=1)\n",
        "\n",
        "\n",
        "# signal_size を考える\n",
        "# 500000? or 4000?\n",
        "def divide_and_add_features(s, signal_size=500000):\n",
        "    '''\n",
        "    Divide the signal in bags of \"signal_size\".\n",
        "    Normalize the data dividing it by 15.0\n",
        "    '''\n",
        "    # normalize\n",
        "    s = s / 15.0\n",
        "    \n",
        "    ls = []\n",
        "    for i in tqdm(range(int(s.shape[0]/signal_size))):\n",
        "        sig = s[i*signal_size:(i+1)*signal_size].copy().reset_index(drop=True)\n",
        "        sig_featured = add_features(sig)\n",
        "        ls.append(sig_featured)\n",
        "    \n",
        "    return pd.concat(ls, axis=0)"
      ],
      "execution_count": 0,
      "outputs": []
    },
    {
      "cell_type": "code",
      "metadata": {
        "id": "uvqlr0beS_62",
        "colab_type": "code",
        "colab": {}
      },
      "source": [
        "# get lead and lags features\n",
        "def lag_with_pct_change(df, windows, group='group'):\n",
        "    for window in windows:    \n",
        "        df['signal_shift_pos_' + str(window)] = df.groupby(group)['signal'].shift(window).fillna(0)\n",
        "        df['signal_shift_neg_' + str(window)] = df.groupby(group)['signal'].shift(-1 * window).fillna(0)\n",
        "    return df"
      ],
      "execution_count": 0,
      "outputs": []
    },
    {
      "cell_type": "code",
      "metadata": {
        "id": "aWSG9xWHWlhP",
        "colab_type": "code",
        "colab": {}
      },
      "source": [
        "def calc_roll_stats(df, windows, group='group'):\n",
        "    '''\n",
        "    Calculates rolling stats like mean, std, min, max...\n",
        "    '''\n",
        "    for i, window in enumerate(windows):\n",
        "      df[group + 'roll_mean_' + str(window)] = df.groupby(group)['signal'].rolling(window=window, min_periods=window).mean().values\n",
        "      df[group + 'roll_std_' + str(window)] = df.groupby(group)['signal'].rolling(window=window, min_periods=window).std().values\n",
        "      df[group + 'roll_min_' + str(window)] = df.groupby(group)['signal'].rolling(window=window, min_periods=window).min().values\n",
        "      df[group + 'roll_max_' + str(window)] = df.groupby(group)['signal'].rolling(window=window, min_periods=window).max().values\n",
        "      df[group + 'roll_range' + str(window)] = df[group + 'roll_max_' + str(window)] - df[group + 'roll_min_' + str(window)]\n",
        "\n",
        "      df['roll_q10_' + str(window)] = df.groupby(group)['signal'].rolling(window=window, min_periods=window).quantile(0.10).values\n",
        "      df['roll_q25_' + str(window)] = df.groupby(group)['signal'].rolling(window=window, min_periods=window).quantile(0.25).values\n",
        "      df['roll_q50_' + str(window)] = df.groupby(group)['signal'].rolling(window=window, min_periods=window).quantile(0.50).values\n",
        "      df['roll_q75_' + str(window)] = df.groupby(group)['signal'].rolling(window=window, min_periods=window).quantile(0.75).values\n",
        "      df['roll_q90_' + str(window)] = df.groupby(group)['signal'].rolling(window=window, min_periods=window).quantile(0.90).values\n",
        "             \n",
        "    return df"
      ],
      "execution_count": 0,
      "outputs": []
    },
    {
      "cell_type": "code",
      "metadata": {
        "id": "4sJgvILz6ppL",
        "colab_type": "code",
        "colab": {}
      },
      "source": [
        "def calc_expand_stats(df, group='group'):\n",
        "  df['expanding_mean'] = df.groupby(group)['signal'].expanding().mean().fillna(0).values\n",
        "  df['expanding_std'] = df.groupby(group)['signal'].expanding().std().fillna(0).values\n",
        "  df['expanding_max'] = df.groupby(group)['signal'].expanding().max().fillna(0).values\n",
        "  df['expanding_min'] = df.groupby(group)['signal'].expanding().min().fillna(0).values\n",
        "  df['expanding_range'] = df['expanding_max'] - df['expanding_min']\n",
        "  \n",
        "  return df"
      ],
      "execution_count": 0,
      "outputs": []
    },
    {
      "cell_type": "code",
      "metadata": {
        "id": "abANAaO5T4l6",
        "colab_type": "code",
        "colab": {}
      },
      "source": [
        "# main module to run feature engineering. Here you may want to try and add other features and check if your score imporves :).\n",
        "def run_feat_engineering(df, batch_size):\n",
        "    # create batches\n",
        "    df = batching(df, batch_size = batch_size)\n",
        "\n",
        "    # create leads and lags\n",
        "    df = lag_with_pct_change(df, np.asarray(range(1, 3), dtype=np.int32), 'group')\n",
        "    df = lag_with_pct_change(df, np.asarray(range(1, 3), dtype=np.int32), 'batch')\n",
        "\n",
        "    # create rolling stats\n",
        "    # df = calc_roll_stats(df, [3, 10, 50, 100, 500, 1000]) # groupごと(4000)\n",
        "    df = calc_roll_stats(df, [5, 10, 50, 100, 500, 1000], 'group')\n",
        "    df = calc_roll_stats(df, [500, 1000, 5000, 10000, 50000, 100000], 'batch')\n",
        "    # df = calc_roll_stats(df, [50000, 100000], group='batch') # batchごと(500000)\n",
        "\n",
        "    # create expanding stats\n",
        "    # df = calc_expand_stats(df)\n",
        "\n",
        "    # create signal ** 2 (this is the new feature)\n",
        "    df['signal_2'] = df['signal'] ** 2\n",
        "\n",
        "    return df"
      ],
      "execution_count": 0,
      "outputs": []
    },
    {
      "cell_type": "code",
      "metadata": {
        "id": "xkDA5AB3TB13",
        "colab_type": "code",
        "colab": {}
      },
      "source": [
        "# fillna with the mean and select features for training\n",
        "def feature_selection(train, test):\n",
        "    features = [col for col in train.columns if col not in ['index', 'group', 'open_channels', 'time', 'batch', 'train_group', 'test_group']]\n",
        "    train = train.replace([np.inf, -np.inf], np.nan)\n",
        "    test = test.replace([np.inf, -np.inf], np.nan)\n",
        "    for feature in features:\n",
        "        feature_mean = pd.concat([train[feature], test[feature]], axis = 0).mean()\n",
        "        train[feature] = train[feature].fillna(feature_mean)\n",
        "        test[feature] = test[feature].fillna(feature_mean)\n",
        "    return train, test, features"
      ],
      "execution_count": 0,
      "outputs": []
    },
    {
      "cell_type": "code",
      "metadata": {
        "id": "hbv2BOnVMq6v",
        "colab_type": "code",
        "colab": {}
      },
      "source": [
        "def stratified_group_k_fold(X, y, groups, k, seed=None):\n",
        "    labels_num = int(np.max(y) + 1)\n",
        "    y_counts_per_group = defaultdict(lambda: np.zeros(labels_num))\n",
        "    y_distr = Counter()\n",
        "    for label, g in zip(y, groups):\n",
        "        y_counts_per_group[int(g)][int(label)] += 1\n",
        "        y_distr[label] += 1\n",
        "\n",
        "    y_counts_per_fold = defaultdict(lambda: np.zeros(labels_num))\n",
        "    groups_per_fold = defaultdict(set)\n",
        "\n",
        "    def eval_y_counts_per_fold(y_counts, fold):\n",
        "        y_counts_per_fold[fold] += y_counts\n",
        "        std_per_label = []\n",
        "        for label in range(labels_num):\n",
        "            label_std = np.std([y_counts_per_fold[i][label] / y_distr[label] for i in range(k)])\n",
        "            std_per_label.append(label_std)\n",
        "        y_counts_per_fold[fold] -= y_counts\n",
        "        return np.mean(std_per_label)\n",
        "    \n",
        "    groups_and_y_counts = list(y_counts_per_group.items())\n",
        "    random.Random(seed).shuffle(groups_and_y_counts)\n",
        "\n",
        "    for g, y_counts in sorted(groups_and_y_counts, key=lambda x: -np.std(x[1])):\n",
        "        best_fold = None\n",
        "        min_eval = None\n",
        "        for i in range(k):\n",
        "            fold_eval = eval_y_counts_per_fold(y_counts, i)\n",
        "            if min_eval is None or fold_eval < min_eval:\n",
        "                min_eval = fold_eval\n",
        "                best_fold = i\n",
        "        y_counts_per_fold[best_fold] += y_counts\n",
        "        groups_per_fold[best_fold].add(g)\n",
        "\n",
        "    all_groups = set(groups)\n",
        "    for i in range(k):\n",
        "        train_groups = all_groups - groups_per_fold[i]\n",
        "        test_groups = groups_per_fold[i]\n",
        "\n",
        "        train_indices = [i for i, g in enumerate(groups) if g in train_groups]\n",
        "        test_indices = [i for i, g in enumerate(groups) if g in test_groups]\n",
        "\n",
        "        yield train_indices, test_indices"
      ],
      "execution_count": 0,
      "outputs": []
    },
    {
      "cell_type": "code",
      "metadata": {
        "id": "arzvPi4DTJNs",
        "colab_type": "code",
        "colab": {}
      },
      "source": [
        "# main function to perfrom groupkfold cross validation (we have 1000 vectores of 4000 rows and 8 features (columns)). Going to make 5 groups with this subgroups.\n",
        "def run_cv_model_by_batch(train, test, splits, batch_col, feats, sample_submission):\n",
        "    oof_ = np.zeros(len(train))\n",
        "    preds_ = np.zeros(len(test))\n",
        "    target = ['open_channels']\n",
        "    group = train['group']\n",
        "\n",
        "    # kf = GroupKFold(n_splits=5)\n",
        "    kf = StratifiedKFold(n_splits = 5, shuffle = True, random_state = 42)\n",
        "\n",
        "    # for n_fold, (tr_idx, val_idx) in enumerate(kf.split(train, train[target], groups=group)):\n",
        "    for n_fold, (tr_idx, val_idx) in enumerate(kf.split(train, train[target])):\n",
        "    # for n_fold, (tr_idx, val_idx) in enumerate(stratified_group_k_fold(train, train.open_channels, group, k=5, seed=42)):\n",
        "        train_x, train_y = train.iloc[tr_idx], train[target].iloc[tr_idx]\n",
        "        valid_x, valid_y = train.iloc[val_idx], train[target].iloc[val_idx]\n",
        "        print(f'Our training dataset shape is {train_x.shape}')\n",
        "        print(f'Our validation dataset shape is {valid_x.shape}')\n",
        "\n",
        "        gc.collect()\n",
        "\n",
        "        train_set = lgb.Dataset(train_x[feats], train_y)\n",
        "        val_set = lgb.Dataset(valid_x[feats], valid_y)\n",
        "\n",
        "        params = {'boosting_type': 'gbdt',\n",
        "                'metric': 'rmse',\n",
        "                'objective': 'regression',\n",
        "                'n_jobs': -1,\n",
        "                'seed': 236,\n",
        "                'num_leaves': 280,\n",
        "                'learning_rate': 0.026623466966581126,\n",
        "                'max_depth': 73,\n",
        "                'lambda_l1': 2.959759088169741,\n",
        "                'lambda_l2': 1.331172832164913,\n",
        "                'bagging_fraction': 0.9655406551472153,\n",
        "                'bagging_freq': 9,\n",
        "                'colsample_bytree': 0.6867118652742716}\n",
        "        \n",
        "        lgb_model = lgb.train(\n",
        "            params, \n",
        "            train_set, num_boost_round = 10000, \n",
        "            early_stopping_rounds = 50, \n",
        "            valid_sets = [train_set, val_set], \n",
        "            valid_names = ['train', 'eval'],\n",
        "            verbose_eval = 100,)\n",
        "\n",
        "        preds_f = lgb_model.predict(valid_x[feats])\n",
        "        f1_score_ = f1_score(valid_y,  np.round(np.clip(preds_f, 0, 10)).astype(int), average = 'macro')\n",
        "        print(f'Training fold {n_fold + 1} completed. macro f1 score : {f1_score_ :1.5f}')\n",
        "        oof_[val_idx] += preds_f\n",
        "        te_preds = lgb_model.predict(test[feats])\n",
        "        preds_ += te_preds / SPLITS\n",
        "\n",
        "    return preds_, oof_\n",
        "\n",
        "    # f1_score_ = f1_score(train[target],  np.round(np.clip(oof_, 0, 10)).astype(int), average = 'macro')\n",
        "    # print(f'Training completed. oof macro f1 score : {f1_score_:1.5f}')\n",
        "    # sample_submission['open_channels'] = np.round(np.clip(preds_, 0, 10)).astype(int)\n",
        "    # sample_submission.to_csv('lgb_submission.csv', index=False, float_format='%.4f')"
      ],
      "execution_count": 0,
      "outputs": []
    },
    {
      "cell_type": "code",
      "metadata": {
        "id": "hOM_WZ_5ZiYM",
        "colab_type": "code",
        "colab": {}
      },
      "source": [
        "def reduce_mem_usage(df, verbose=True):\n",
        "    numerics = ['int16', 'int32', 'int64', 'float16', 'float32', 'float64']\n",
        "    start_mem = df.memory_usage().sum() / 1024**2    \n",
        "    for col in df.columns:\n",
        "        if col!='open_channels':\n",
        "            col_type = df[col].dtypes\n",
        "            if col_type in numerics:\n",
        "                c_min = df[col].min()\n",
        "                c_max = df[col].max()\n",
        "                if str(col_type)[:3] == 'int':\n",
        "                    if c_min > np.iinfo(np.int8).min and c_max < np.iinfo(np.int8).max:\n",
        "                        df[col] = df[col].astype(np.int8)\n",
        "                    elif c_min > np.iinfo(np.int16).min and c_max < np.iinfo(np.int16).max:\n",
        "                        df[col] = df[col].astype(np.int16)\n",
        "                    elif c_min > np.iinfo(np.int32).min and c_max < np.iinfo(np.int32).max:\n",
        "                        df[col] = df[col].astype(np.int32)\n",
        "                    elif c_min > np.iinfo(np.int64).min and c_max < np.iinfo(np.int64).max:\n",
        "                        df[col] = df[col].astype(np.int64)  \n",
        "                else:\n",
        "                    if c_min > np.finfo(np.float16).min and c_max < np.finfo(np.float16).max:\n",
        "                        df[col] = df[col].astype(np.float16)\n",
        "                    elif c_min > np.finfo(np.float32).min and c_max < np.finfo(np.float32).max:\n",
        "                        df[col] = df[col].astype(np.float32)\n",
        "                    else:\n",
        "                        df[col] = df[col].astype(np.float64)    \n",
        "    end_mem = df.memory_usage().sum() / 1024**2\n",
        "    if verbose: print('Mem. usage decreased to {:5.2f} Mb ({:.1f}% reduction)'.format(end_mem, 100 * (start_mem - end_mem) / start_mem))\n",
        "    return df"
      ],
      "execution_count": 0,
      "outputs": []
    },
    {
      "cell_type": "code",
      "metadata": {
        "id": "esUCbE6mTLxE",
        "colab_type": "code",
        "outputId": "54ee082f-38aa-4cf1-ee95-5c839397c529",
        "colab": {
          "base_uri": "https://localhost:8080/",
          "height": 51
        }
      },
      "source": [
        "print('Reading Data Started...')\n",
        "train, test, sample_submission = read_data()\n",
        "train, test = batching_10(train, test)\n",
        "train = create_signal_mod(train)\n",
        "\n",
        "# # Kalman Filter\n",
        "# observation_covariance = .0015\n",
        "# train['signal'] = Kalman1D(train.signal.values,observation_covariance)\n",
        "# test['signal'] = Kalman1D(test.signal.values,observation_covariance)\n",
        "\n",
        "train, test = normalize(train, test)\n",
        "print('Reading and Normalizing Data Completed')"
      ],
      "execution_count": 63,
      "outputs": [
        {
          "output_type": "stream",
          "text": [
            "Reading Data Started...\n",
            "Reading and Normalizing Data Completed\n"
          ],
          "name": "stdout"
        }
      ]
    },
    {
      "cell_type": "code",
      "metadata": {
        "id": "sYu0glRGTPu2",
        "colab_type": "code",
        "outputId": "b389f8dc-1819-4cd4-904a-49258ea1026c",
        "colab": {
          "base_uri": "https://localhost:8080/",
          "height": 204
        }
      },
      "source": [
        "print('Creating Features')\n",
        "print('Feature Engineering Started...')\n",
        "\n",
        "train, test = add_category(train, test)\n",
        "\n",
        "# train, test = batching_10(train, test)\n",
        "\n",
        "train = run_feat_engineering(train, batch_size = GROUP_BATCH_SIZE)\n",
        "test = run_feat_engineering(test, batch_size = GROUP_BATCH_SIZE)\n",
        "\n",
        "print('Reduce memory usage...')\n",
        "train = reduce_mem_usage(train)\n",
        "test = reduce_mem_usage(test)\n",
        "\n",
        "tr_clean = pd.read_csv('./train_clean.csv', dtype={'time': np.float32, 'signal': np.float32, 'open_channels':np.int32})\n",
        "ts_clean = pd.read_csv('./test_clean.csv', dtype={'time': np.float32, 'signal': np.float32})\n",
        "tr_clean, rs_clean = batching_10(tr_clean, ts_clean)\n",
        "tr_clean = create_signal_mod(tr_clean)\n",
        "pre_train = divide_and_add_features(tr_clean.signal, signal_size=500000)\n",
        "pre_test = divide_and_add_features(ts_clean.signal, signal_size=500000)\n",
        "pre_train.drop('signal', axis=1, inplace=True)\n",
        "pre_test.drop('signal', axis=1, inplace=True)\n",
        "pre_train.reset_index(inplace = True, drop = True)\n",
        "pre_test.reset_index(inplace = True, drop = True)\n",
        "train = pd.concat([train, pre_train], axis=1)\n",
        "test = pd.concat([test, pre_test], axis=1)\n",
        "\n",
        "# del pre_train, pre_test, tr_clean, ts_clean\n",
        "del pre_train, pre_test\n",
        "gc.collect\n",
        "\n",
        "print('Reduce memory usage...')\n",
        "train = reduce_mem_usage(train)\n",
        "test = reduce_mem_usage(test)\n",
        "\n",
        "train, test, features = feature_selection(train, test)\n",
        "print('Feature Engineering Completed...')"
      ],
      "execution_count": 64,
      "outputs": [
        {
          "output_type": "stream",
          "text": [
            "Creating Features\n",
            "Feature Engineering Started...\n",
            "Reduce memory usage...\n",
            "Mem. usage decreased to 1480.84 Mb (71.4% reduction)\n",
            "Mem. usage decreased to 608.34 Mb (70.9% reduction)\n"
          ],
          "name": "stdout"
        },
        {
          "output_type": "stream",
          "text": [
            "100%|██████████| 10/10 [00:09<00:00,  1.07it/s]\n",
            "100%|██████████| 4/4 [00:03<00:00,  1.07it/s]\n"
          ],
          "name": "stderr"
        },
        {
          "output_type": "stream",
          "text": [
            "Reduce memory usage...\n",
            "Mem. usage decreased to 1995.82 Mb (43.6% reduction)\n",
            "Mem. usage decreased to 814.33 Mb (43.1% reduction)\n",
            "Feature Engineering Completed...\n"
          ],
          "name": "stdout"
        }
      ]
    },
    {
      "cell_type": "code",
      "metadata": {
        "id": "h448uvloaCSb",
        "colab_type": "code",
        "outputId": "abfee8fa-2ade-4f9b-af19-cb300809b387",
        "colab": {
          "base_uri": "https://localhost:8080/",
          "height": 68
        }
      },
      "source": [
        "print('Reduce memory usage...')\n",
        "train = reduce_mem_usage(train)\n",
        "test = reduce_mem_usage(test)"
      ],
      "execution_count": 65,
      "outputs": [
        {
          "output_type": "stream",
          "text": [
            "Reduce memory usage...\n",
            "Mem. usage decreased to 1995.82 Mb (0.0% reduction)\n",
            "Mem. usage decreased to 814.33 Mb (0.0% reduction)\n"
          ],
          "name": "stdout"
        }
      ]
    },
    {
      "cell_type": "code",
      "metadata": {
        "id": "MGptgjoR9m_q",
        "colab_type": "code",
        "colab": {}
      },
      "source": [
        "def train_grouping(train, test):\n",
        "  train.loc[0:1000000, 'train_group'] = 0          # batch 0 and 1\n",
        "  train.loc[1000000:1500000, 'train_group'] = 1  # batch 2\n",
        "  train.loc[1500000:2000000, 'train_group'] = 2  # batch 3\n",
        "  train.loc[2000000:2500000, 'train_group'] = 3  # batch 4\n",
        "  train.loc[2500000:3000000, 'train_group'] = 4  # batch 5\n",
        "  train.loc[3000000:3500000, 'train_group'] = 1  # batch 6\n",
        "  train.loc[3500000:4000000, 'train_group'] = 2  # batch 7\n",
        "  train.loc[4000000:4500000, 'train_group'] = 4  # batch 8\n",
        "  train.loc[4500000:5000001, 'train_group'] = 3  # batch 9\n",
        "\n",
        "  test.loc[0:100000, 'test_group'] = 0\n",
        "  test.loc[100000:200000, 'test_group'] = 2\n",
        "  test.loc[200000:300000, 'test_group'] = 4\n",
        "  test.loc[300000:400000, 'test_group'] = 0\n",
        "  test.loc[400000:500000, 'test_group'] = 1\n",
        "  test.loc[500000:600000, 'test_group'] = 3\n",
        "  test.loc[600000:700000, 'test_group'] = 4\n",
        "  test.loc[700000:800000, 'test_group'] = 3\n",
        "  test.loc[800000:900000, 'test_group'] = 0\n",
        "  test.loc[900000:1000000, 'test_group'] = 2\n",
        "  test.loc[1000000:, 'test_group'] = 0\n",
        "\n",
        "  return train, test"
      ],
      "execution_count": 0,
      "outputs": []
    },
    {
      "cell_type": "code",
      "metadata": {
        "id": "PEzL3Kv5Tviy",
        "colab_type": "code",
        "outputId": "d759969b-ede9-4844-df78-c95c0c160e35",
        "colab": {
          "base_uri": "https://localhost:8080/",
          "height": 1000
        }
      },
      "source": [
        "# print(f'Training lgb model with {SPLITS} folds of GroupKFold Started...')\n",
        "# run_cv_model_by_batch(train, test, SPLITS, 'group', features, sample_submission)\n",
        "# print('Training completed...')\n",
        "\n",
        "train. test = train_grouping(train, test)\n",
        "preds = []\n",
        "oofs = []\n",
        "print('Training started')\n",
        "for i in range(5):\n",
        "  print(f'Training train_group {i+1} started...')\n",
        "  group_train = train[train['train_group'] == i]\n",
        "  group_test = test[test['test_group'] == i]\n",
        "  pred, oof = run_cv_model_by_batch(group_train, group_test, SPLITS, 'group', features, sample_submission)\n",
        "  # preds += pred.tolist()\n",
        "  # oofs += oof.tolist()\n",
        "  preds.append(pred)\n",
        "  oofs.append(oof)\n",
        "  print(f'Training train_group {i+1} completed...')\n",
        "print('Training completed...')"
      ],
      "execution_count": 67,
      "outputs": [
        {
          "output_type": "stream",
          "text": [
            "Training started\n",
            "Training train_group 1 started...\n",
            "Our training dataset shape is (800000, 187)\n",
            "Our validation dataset shape is (200000, 187)\n",
            "Training until validation scores don't improve for 50 rounds.\n",
            "[100]\ttrain's rmse: 0.0192331\teval's rmse: 0.0209365\n",
            "[200]\ttrain's rmse: 0.0126654\teval's rmse: 0.0166854\n",
            "[300]\ttrain's rmse: 0.0104602\teval's rmse: 0.0166119\n",
            "Early stopping, best iteration is:\n",
            "[307]\ttrain's rmse: 0.0103396\teval's rmse: 0.0165998\n",
            "Training fold 1 completed. macro f1 score : 0.99724\n",
            "Our training dataset shape is (800000, 187)\n",
            "Our validation dataset shape is (200000, 187)\n",
            "Training until validation scores don't improve for 50 rounds.\n",
            "[100]\ttrain's rmse: 0.0192799\teval's rmse: 0.0205818\n",
            "[200]\ttrain's rmse: 0.0128718\teval's rmse: 0.0163648\n",
            "Early stopping, best iteration is:\n",
            "[212]\ttrain's rmse: 0.0125714\teval's rmse: 0.0163444\n",
            "Training fold 2 completed. macro f1 score : 0.99735\n",
            "Our training dataset shape is (800000, 187)\n",
            "Our validation dataset shape is (200000, 187)\n",
            "Training until validation scores don't improve for 50 rounds.\n",
            "[100]\ttrain's rmse: 0.0192599\teval's rmse: 0.0205026\n",
            "[200]\ttrain's rmse: 0.0126575\teval's rmse: 0.0163281\n",
            "Early stopping, best iteration is:\n",
            "[232]\ttrain's rmse: 0.0119274\teval's rmse: 0.0162933\n",
            "Training fold 3 completed. macro f1 score : 0.99753\n",
            "Our training dataset shape is (800000, 187)\n",
            "Our validation dataset shape is (200000, 187)\n",
            "Training until validation scores don't improve for 50 rounds.\n",
            "[100]\ttrain's rmse: 0.0191079\teval's rmse: 0.021369\n",
            "[200]\ttrain's rmse: 0.0125975\teval's rmse: 0.0173451\n",
            "Early stopping, best iteration is:\n",
            "[247]\ttrain's rmse: 0.0114281\teval's rmse: 0.0172928\n",
            "Training fold 4 completed. macro f1 score : 0.99724\n",
            "Our training dataset shape is (800000, 187)\n",
            "Our validation dataset shape is (200000, 187)\n",
            "Training until validation scores don't improve for 50 rounds.\n",
            "[100]\ttrain's rmse: 0.0192166\teval's rmse: 0.0205737\n",
            "[200]\ttrain's rmse: 0.01272\teval's rmse: 0.0165241\n",
            "Early stopping, best iteration is:\n",
            "[189]\ttrain's rmse: 0.0130401\teval's rmse: 0.016508\n",
            "Training fold 5 completed. macro f1 score : 0.99754\n",
            "Training train_group 1 completed...\n",
            "Training train_group 2 started...\n",
            "Our training dataset shape is (800000, 187)\n",
            "Our validation dataset shape is (200000, 187)\n",
            "Training until validation scores don't improve for 50 rounds.\n",
            "[100]\ttrain's rmse: 0.0476254\teval's rmse: 0.0510295\n",
            "[200]\ttrain's rmse: 0.0330219\teval's rmse: 0.0420221\n",
            "Early stopping, best iteration is:\n",
            "[216]\ttrain's rmse: 0.0318417\teval's rmse: 0.0419856\n",
            "Training fold 1 completed. macro f1 score : 0.99691\n",
            "Our training dataset shape is (800000, 187)\n",
            "Our validation dataset shape is (200000, 187)\n",
            "Training until validation scores don't improve for 50 rounds.\n",
            "[100]\ttrain's rmse: 0.0474332\teval's rmse: 0.0513057\n",
            "[200]\ttrain's rmse: 0.032799\teval's rmse: 0.0423652\n",
            "[300]\ttrain's rmse: 0.0264783\teval's rmse: 0.04236\n",
            "Early stopping, best iteration is:\n",
            "[255]\ttrain's rmse: 0.0290741\teval's rmse: 0.042305\n",
            "Training fold 2 completed. macro f1 score : 0.99703\n",
            "Our training dataset shape is (800000, 187)\n",
            "Our validation dataset shape is (200000, 187)\n",
            "Training until validation scores don't improve for 50 rounds.\n",
            "[100]\ttrain's rmse: 0.0475154\teval's rmse: 0.0503563\n",
            "[200]\ttrain's rmse: 0.033015\teval's rmse: 0.0409592\n",
            "[300]\ttrain's rmse: 0.0267215\teval's rmse: 0.0408656\n",
            "Early stopping, best iteration is:\n",
            "[266]\ttrain's rmse: 0.0286394\teval's rmse: 0.040845\n",
            "Training fold 3 completed. macro f1 score : 0.99709\n",
            "Our training dataset shape is (800000, 187)\n",
            "Our validation dataset shape is (200000, 187)\n",
            "Training until validation scores don't improve for 50 rounds.\n",
            "[100]\ttrain's rmse: 0.0475777\teval's rmse: 0.0499935\n",
            "[200]\ttrain's rmse: 0.0331391\teval's rmse: 0.0407869\n",
            "[300]\ttrain's rmse: 0.0267064\teval's rmse: 0.0407631\n",
            "Early stopping, best iteration is:\n",
            "[262]\ttrain's rmse: 0.0288724\teval's rmse: 0.0407574\n",
            "Training fold 4 completed. macro f1 score : 0.99713\n",
            "Our training dataset shape is (800000, 187)\n",
            "Our validation dataset shape is (200000, 187)\n",
            "Training until validation scores don't improve for 50 rounds.\n",
            "[100]\ttrain's rmse: 0.0472471\teval's rmse: 0.0515243\n",
            "[200]\ttrain's rmse: 0.0328749\teval's rmse: 0.0426178\n",
            "Early stopping, best iteration is:\n",
            "[226]\ttrain's rmse: 0.0310652\teval's rmse: 0.0425824\n",
            "Training fold 5 completed. macro f1 score : 0.99685\n",
            "Training train_group 2 completed...\n",
            "Training train_group 3 started...\n",
            "Our training dataset shape is (800000, 187)\n",
            "Our validation dataset shape is (200000, 187)\n",
            "Training until validation scores don't improve for 50 rounds.\n",
            "[100]\ttrain's rmse: 0.10786\teval's rmse: 0.11544\n",
            "[200]\ttrain's rmse: 0.0868391\teval's rmse: 0.102161\n",
            "[300]\ttrain's rmse: 0.081631\teval's rmse: 0.1019\n",
            "[400]\ttrain's rmse: 0.0776544\teval's rmse: 0.101752\n",
            "[500]\ttrain's rmse: 0.0743042\teval's rmse: 0.101673\n",
            "[600]\ttrain's rmse: 0.0713309\teval's rmse: 0.101615\n",
            "Early stopping, best iteration is:\n",
            "[598]\ttrain's rmse: 0.0713973\teval's rmse: 0.101611\n",
            "Training fold 1 completed. macro f1 score : 0.98349\n",
            "Our training dataset shape is (800000, 187)\n",
            "Our validation dataset shape is (200000, 187)\n",
            "Training until validation scores don't improve for 50 rounds.\n",
            "[100]\ttrain's rmse: 0.107839\teval's rmse: 0.115738\n",
            "[200]\ttrain's rmse: 0.0865983\teval's rmse: 0.102456\n",
            "[300]\ttrain's rmse: 0.0814664\teval's rmse: 0.102189\n",
            "[400]\ttrain's rmse: 0.0775996\teval's rmse: 0.102059\n",
            "[500]\ttrain's rmse: 0.0743044\teval's rmse: 0.102006\n",
            "[600]\ttrain's rmse: 0.0712814\teval's rmse: 0.101979\n",
            "[700]\ttrain's rmse: 0.068591\teval's rmse: 0.101955\n",
            "Early stopping, best iteration is:\n",
            "[705]\ttrain's rmse: 0.068449\teval's rmse: 0.101953\n",
            "Training fold 2 completed. macro f1 score : 0.98342\n",
            "Our training dataset shape is (800000, 187)\n",
            "Our validation dataset shape is (200000, 187)\n",
            "Training until validation scores don't improve for 50 rounds.\n",
            "[100]\ttrain's rmse: 0.107921\teval's rmse: 0.115301\n",
            "[200]\ttrain's rmse: 0.086983\teval's rmse: 0.101965\n",
            "[300]\ttrain's rmse: 0.0817299\teval's rmse: 0.10168\n",
            "[400]\ttrain's rmse: 0.0777646\teval's rmse: 0.101524\n",
            "[500]\ttrain's rmse: 0.0743979\teval's rmse: 0.101444\n",
            "[600]\ttrain's rmse: 0.0714174\teval's rmse: 0.101388\n",
            "Early stopping, best iteration is:\n",
            "[622]\ttrain's rmse: 0.0708231\teval's rmse: 0.101379\n",
            "Training fold 3 completed. macro f1 score : 0.98329\n",
            "Our training dataset shape is (800000, 187)\n",
            "Our validation dataset shape is (200000, 187)\n",
            "Training until validation scores don't improve for 50 rounds.\n",
            "[100]\ttrain's rmse: 0.107736\teval's rmse: 0.116027\n",
            "[200]\ttrain's rmse: 0.0866525\teval's rmse: 0.102878\n",
            "[300]\ttrain's rmse: 0.0815213\teval's rmse: 0.102588\n",
            "[400]\ttrain's rmse: 0.0775576\teval's rmse: 0.102465\n",
            "[500]\ttrain's rmse: 0.0742459\teval's rmse: 0.102403\n",
            "[600]\ttrain's rmse: 0.0712034\teval's rmse: 0.102366\n",
            "[700]\ttrain's rmse: 0.0684784\teval's rmse: 0.102324\n",
            "[800]\ttrain's rmse: 0.065991\teval's rmse: 0.102283\n",
            "Early stopping, best iteration is:\n",
            "[845]\ttrain's rmse: 0.0649432\teval's rmse: 0.10228\n",
            "Training fold 4 completed. macro f1 score : 0.98380\n",
            "Our training dataset shape is (800000, 187)\n",
            "Our validation dataset shape is (200000, 187)\n",
            "Training until validation scores don't improve for 50 rounds.\n",
            "[100]\ttrain's rmse: 0.108001\teval's rmse: 0.115128\n",
            "[200]\ttrain's rmse: 0.0869946\teval's rmse: 0.101839\n",
            "[300]\ttrain's rmse: 0.0817705\teval's rmse: 0.101558\n",
            "[400]\ttrain's rmse: 0.0777735\teval's rmse: 0.101464\n",
            "[500]\ttrain's rmse: 0.0743872\teval's rmse: 0.101374\n",
            "[600]\ttrain's rmse: 0.0713853\teval's rmse: 0.101316\n",
            "Early stopping, best iteration is:\n",
            "[609]\ttrain's rmse: 0.0711218\teval's rmse: 0.101307\n",
            "Training fold 5 completed. macro f1 score : 0.98376\n",
            "Training train_group 3 completed...\n",
            "Training train_group 4 started...\n",
            "Our training dataset shape is (800000, 187)\n",
            "Our validation dataset shape is (200000, 187)\n",
            "Training until validation scores don't improve for 50 rounds.\n",
            "[100]\ttrain's rmse: 0.297417\teval's rmse: 0.301991\n",
            "[200]\ttrain's rmse: 0.276323\teval's rmse: 0.286245\n",
            "[300]\ttrain's rmse: 0.272395\teval's rmse: 0.285742\n",
            "[400]\ttrain's rmse: 0.26929\teval's rmse: 0.285411\n",
            "[500]\ttrain's rmse: 0.266502\teval's rmse: 0.285237\n",
            "[600]\ttrain's rmse: 0.263806\teval's rmse: 0.285076\n",
            "[700]\ttrain's rmse: 0.261194\teval's rmse: 0.284951\n",
            "[800]\ttrain's rmse: 0.258631\teval's rmse: 0.284862\n",
            "[900]\ttrain's rmse: 0.256082\teval's rmse: 0.284769\n",
            "[1000]\ttrain's rmse: 0.253644\teval's rmse: 0.284716\n",
            "[1100]\ttrain's rmse: 0.251239\teval's rmse: 0.284658\n",
            "[1200]\ttrain's rmse: 0.248874\teval's rmse: 0.284615\n",
            "[1300]\ttrain's rmse: 0.246661\teval's rmse: 0.284569\n",
            "[1400]\ttrain's rmse: 0.244446\teval's rmse: 0.284553\n",
            "[1500]\ttrain's rmse: 0.242253\teval's rmse: 0.284533\n",
            "Early stopping, best iteration is:\n",
            "[1536]\ttrain's rmse: 0.241527\teval's rmse: 0.284522\n",
            "Training fold 1 completed. macro f1 score : 0.87752\n",
            "Our training dataset shape is (800000, 187)\n",
            "Our validation dataset shape is (200000, 187)\n",
            "Training until validation scores don't improve for 50 rounds.\n",
            "[100]\ttrain's rmse: 0.297189\teval's rmse: 0.302906\n",
            "[200]\ttrain's rmse: 0.276079\teval's rmse: 0.287243\n",
            "[300]\ttrain's rmse: 0.272104\teval's rmse: 0.286808\n",
            "[400]\ttrain's rmse: 0.269017\teval's rmse: 0.286514\n",
            "[500]\ttrain's rmse: 0.26623\teval's rmse: 0.286322\n",
            "[600]\ttrain's rmse: 0.263519\teval's rmse: 0.286175\n",
            "[700]\ttrain's rmse: 0.26086\teval's rmse: 0.286074\n",
            "[800]\ttrain's rmse: 0.25833\teval's rmse: 0.286017\n",
            "[900]\ttrain's rmse: 0.255998\teval's rmse: 0.285952\n",
            "[1000]\ttrain's rmse: 0.253574\teval's rmse: 0.285889\n",
            "[1100]\ttrain's rmse: 0.251161\teval's rmse: 0.285853\n",
            "[1200]\ttrain's rmse: 0.248822\teval's rmse: 0.285796\n",
            "[1300]\ttrain's rmse: 0.246645\teval's rmse: 0.285778\n",
            "Early stopping, best iteration is:\n",
            "[1264]\ttrain's rmse: 0.247464\teval's rmse: 0.285773\n",
            "Training fold 2 completed. macro f1 score : 0.87139\n",
            "Our training dataset shape is (800000, 187)\n",
            "Our validation dataset shape is (200000, 187)\n",
            "Training until validation scores don't improve for 50 rounds.\n",
            "[100]\ttrain's rmse: 0.296995\teval's rmse: 0.303531\n",
            "[200]\ttrain's rmse: 0.27585\teval's rmse: 0.288052\n",
            "[300]\ttrain's rmse: 0.271873\teval's rmse: 0.287565\n",
            "[400]\ttrain's rmse: 0.268763\teval's rmse: 0.28729\n",
            "[500]\ttrain's rmse: 0.265868\teval's rmse: 0.287038\n",
            "[600]\ttrain's rmse: 0.263106\teval's rmse: 0.286869\n",
            "[700]\ttrain's rmse: 0.260503\teval's rmse: 0.286778\n",
            "[800]\ttrain's rmse: 0.258042\teval's rmse: 0.286689\n",
            "[900]\ttrain's rmse: 0.255512\teval's rmse: 0.286644\n",
            "[1000]\ttrain's rmse: 0.253109\teval's rmse: 0.286597\n",
            "[1100]\ttrain's rmse: 0.250674\teval's rmse: 0.286577\n",
            "[1200]\ttrain's rmse: 0.248306\teval's rmse: 0.286523\n",
            "[1300]\ttrain's rmse: 0.246039\teval's rmse: 0.286515\n",
            "Early stopping, best iteration is:\n",
            "[1270]\ttrain's rmse: 0.246696\teval's rmse: 0.286507\n",
            "Training fold 3 completed. macro f1 score : 0.87780\n",
            "Our training dataset shape is (800000, 187)\n",
            "Our validation dataset shape is (200000, 187)\n",
            "Training until validation scores don't improve for 50 rounds.\n",
            "[100]\ttrain's rmse: 0.297524\teval's rmse: 0.301526\n",
            "[200]\ttrain's rmse: 0.276427\teval's rmse: 0.285973\n",
            "[300]\ttrain's rmse: 0.272508\teval's rmse: 0.28553\n",
            "[400]\ttrain's rmse: 0.269418\teval's rmse: 0.285174\n",
            "[500]\ttrain's rmse: 0.266579\teval's rmse: 0.28499\n",
            "[600]\ttrain's rmse: 0.263821\teval's rmse: 0.284827\n",
            "[700]\ttrain's rmse: 0.2613\teval's rmse: 0.284725\n",
            "[800]\ttrain's rmse: 0.258695\teval's rmse: 0.284634\n",
            "[900]\ttrain's rmse: 0.2563\teval's rmse: 0.284591\n",
            "[1000]\ttrain's rmse: 0.253883\teval's rmse: 0.284523\n",
            "[1100]\ttrain's rmse: 0.251427\teval's rmse: 0.284497\n",
            "Early stopping, best iteration is:\n",
            "[1057]\ttrain's rmse: 0.252514\teval's rmse: 0.284491\n",
            "Training fold 4 completed. macro f1 score : 0.78440\n",
            "Our training dataset shape is (800000, 187)\n",
            "Our validation dataset shape is (200000, 187)\n",
            "Training until validation scores don't improve for 50 rounds.\n",
            "[100]\ttrain's rmse: 0.297504\teval's rmse: 0.301915\n",
            "[200]\ttrain's rmse: 0.276328\teval's rmse: 0.285889\n",
            "[300]\ttrain's rmse: 0.27241\teval's rmse: 0.285398\n",
            "[400]\ttrain's rmse: 0.269341\teval's rmse: 0.285134\n",
            "[500]\ttrain's rmse: 0.266515\teval's rmse: 0.284955\n",
            "[600]\ttrain's rmse: 0.263762\teval's rmse: 0.284835\n",
            "[700]\ttrain's rmse: 0.261191\teval's rmse: 0.284742\n",
            "[800]\ttrain's rmse: 0.258574\teval's rmse: 0.284646\n",
            "[900]\ttrain's rmse: 0.256117\teval's rmse: 0.284602\n",
            "Early stopping, best iteration is:\n",
            "[854]\ttrain's rmse: 0.257191\teval's rmse: 0.28459\n",
            "Training fold 5 completed. macro f1 score : 0.79110\n",
            "Training train_group 4 completed...\n",
            "Training train_group 5 started...\n",
            "Our training dataset shape is (800000, 187)\n",
            "Our validation dataset shape is (200000, 187)\n",
            "Training until validation scores don't improve for 50 rounds.\n",
            "[100]\ttrain's rmse: 0.140203\teval's rmse: 0.145997\n",
            "[200]\ttrain's rmse: 0.115927\teval's rmse: 0.128872\n",
            "[300]\ttrain's rmse: 0.111152\teval's rmse: 0.128621\n",
            "[400]\ttrain's rmse: 0.1074\teval's rmse: 0.128481\n",
            "[500]\ttrain's rmse: 0.104137\teval's rmse: 0.128402\n",
            "[600]\ttrain's rmse: 0.101146\teval's rmse: 0.12837\n",
            "[700]\ttrain's rmse: 0.0985656\teval's rmse: 0.128339\n",
            "Early stopping, best iteration is:\n",
            "[704]\ttrain's rmse: 0.0984674\teval's rmse: 0.128334\n",
            "Training fold 1 completed. macro f1 score : 0.97438\n",
            "Our training dataset shape is (800000, 187)\n",
            "Our validation dataset shape is (200000, 187)\n",
            "Training until validation scores don't improve for 50 rounds.\n",
            "[100]\ttrain's rmse: 0.140268\teval's rmse: 0.145077\n",
            "[200]\ttrain's rmse: 0.115906\teval's rmse: 0.128117\n",
            "[300]\ttrain's rmse: 0.111114\teval's rmse: 0.127903\n",
            "[400]\ttrain's rmse: 0.107372\teval's rmse: 0.127837\n",
            "[500]\ttrain's rmse: 0.104079\teval's rmse: 0.127764\n",
            "[600]\ttrain's rmse: 0.10115\teval's rmse: 0.127738\n",
            "[700]\ttrain's rmse: 0.0984475\teval's rmse: 0.127694\n",
            "[800]\ttrain's rmse: 0.0959488\teval's rmse: 0.127668\n",
            "[900]\ttrain's rmse: 0.0934927\teval's rmse: 0.12765\n",
            "Early stopping, best iteration is:\n",
            "[890]\ttrain's rmse: 0.0937513\teval's rmse: 0.127645\n",
            "Training fold 2 completed. macro f1 score : 0.97344\n",
            "Our training dataset shape is (800000, 187)\n",
            "Our validation dataset shape is (200000, 187)\n",
            "Training until validation scores don't improve for 50 rounds.\n",
            "[100]\ttrain's rmse: 0.139883\teval's rmse: 0.146746\n",
            "[200]\ttrain's rmse: 0.115451\teval's rmse: 0.12983\n",
            "[300]\ttrain's rmse: 0.110569\teval's rmse: 0.129607\n",
            "[400]\ttrain's rmse: 0.106832\teval's rmse: 0.129539\n",
            "[500]\ttrain's rmse: 0.103643\teval's rmse: 0.129501\n",
            "[600]\ttrain's rmse: 0.100763\teval's rmse: 0.129457\n",
            "[700]\ttrain's rmse: 0.0981401\teval's rmse: 0.129419\n",
            "Early stopping, best iteration is:\n",
            "[685]\ttrain's rmse: 0.0985377\teval's rmse: 0.129405\n",
            "Training fold 3 completed. macro f1 score : 0.97039\n",
            "Our training dataset shape is (800000, 187)\n",
            "Our validation dataset shape is (200000, 187)\n",
            "Training until validation scores don't improve for 50 rounds.\n",
            "[100]\ttrain's rmse: 0.140023\teval's rmse: 0.146304\n",
            "[200]\ttrain's rmse: 0.115563\teval's rmse: 0.129597\n",
            "[300]\ttrain's rmse: 0.110777\teval's rmse: 0.129392\n",
            "[400]\ttrain's rmse: 0.107049\teval's rmse: 0.129276\n",
            "[500]\ttrain's rmse: 0.10383\teval's rmse: 0.129162\n",
            "[600]\ttrain's rmse: 0.10089\teval's rmse: 0.129104\n",
            "[700]\ttrain's rmse: 0.0982825\teval's rmse: 0.129089\n",
            "[800]\ttrain's rmse: 0.0957455\teval's rmse: 0.12907\n",
            "[900]\ttrain's rmse: 0.093343\teval's rmse: 0.129051\n",
            "[1000]\ttrain's rmse: 0.0911405\teval's rmse: 0.129037\n",
            "Early stopping, best iteration is:\n",
            "[1012]\ttrain's rmse: 0.0908572\teval's rmse: 0.129033\n",
            "Training fold 4 completed. macro f1 score : 0.97203\n",
            "Our training dataset shape is (800000, 187)\n",
            "Our validation dataset shape is (200000, 187)\n",
            "Training until validation scores don't improve for 50 rounds.\n",
            "[100]\ttrain's rmse: 0.139896\teval's rmse: 0.146673\n",
            "[200]\ttrain's rmse: 0.115543\teval's rmse: 0.129884\n",
            "[300]\ttrain's rmse: 0.11071\teval's rmse: 0.129626\n",
            "[400]\ttrain's rmse: 0.106986\teval's rmse: 0.129548\n",
            "[500]\ttrain's rmse: 0.103763\teval's rmse: 0.129479\n",
            "[600]\ttrain's rmse: 0.100885\teval's rmse: 0.129454\n",
            "[700]\ttrain's rmse: 0.098185\teval's rmse: 0.129425\n",
            "[800]\ttrain's rmse: 0.0957007\teval's rmse: 0.129387\n",
            "[900]\ttrain's rmse: 0.0933298\teval's rmse: 0.129342\n",
            "[1000]\ttrain's rmse: 0.091141\teval's rmse: 0.129318\n",
            "Early stopping, best iteration is:\n",
            "[998]\ttrain's rmse: 0.0911811\teval's rmse: 0.129317\n",
            "Training fold 5 completed. macro f1 score : 0.97261\n",
            "Training train_group 5 completed...\n",
            "Training completed...\n"
          ],
          "name": "stdout"
        }
      ]
    },
    {
      "cell_type": "code",
      "metadata": {
        "id": "wCog4u03y50S",
        "colab_type": "code",
        "colab": {}
      },
      "source": [
        "def sort_oof_data(arr):\n",
        "  arr_ = []\n",
        "  arr_ += arr[0][0:].tolist()\n",
        "  arr_ += arr[1][0:500000].tolist()\n",
        "  arr_ += arr[2][0:500000].tolist()\n",
        "  arr_ += arr[3][0:500000].tolist()\n",
        "  arr_ += arr[4][0:500000].tolist()\n",
        "  arr_ += arr[1][500000:].tolist()\n",
        "  arr_ += arr[2][500000:].tolist()\n",
        "  arr_ += arr[4][500000:].tolist()\n",
        "  arr_ += arr[3][500000:].tolist()\n",
        "  return arr_\n",
        "\n",
        "full_oof = sort_oof_data(oofs)"
      ],
      "execution_count": 0,
      "outputs": []
    },
    {
      "cell_type": "code",
      "metadata": {
        "id": "eg8cGTBpy76J",
        "colab_type": "code",
        "colab": {}
      },
      "source": [
        "def sort_pred_data(arr):\n",
        "  arr_ = []\n",
        "  arr_ += arr[0][0:100000].tolist()\n",
        "  arr_ += arr[2][0:100000].tolist()\n",
        "  arr_ += arr[4][0:100000].tolist()\n",
        "  arr_ += arr[0][100000:200000].tolist()\n",
        "  arr_ += arr[1][0:100000].tolist()\n",
        "  arr_ += arr[3][0:100000].tolist()\n",
        "  arr_ += arr[4][100000:].tolist()\n",
        "  arr_ += arr[3][100000:].tolist()\n",
        "  arr_ += arr[0][200000:300000].tolist()\n",
        "  arr_ += arr[2][100000:].tolist()\n",
        "  arr_ += arr[0][300000:].tolist()\n",
        "  return arr_\n",
        "\n",
        "full_pred = sort_pred_data(preds)"
      ],
      "execution_count": 0,
      "outputs": []
    },
    {
      "cell_type": "code",
      "metadata": {
        "id": "Q8LawFfpy9uw",
        "colab_type": "code",
        "outputId": "0524b200-629a-46b0-a390-9a44cc99a036",
        "colab": {
          "base_uri": "https://localhost:8080/",
          "height": 34
        }
      },
      "source": [
        "f1_score_ = f1_score(train.open_channels,  np.round(np.clip(full_oof, 0, 10)).astype(int), average = 'macro')\n",
        "print(f'Training completed. oof macro f1 score : {f1_score_:1.5f}')\n",
        "sample_submission['open_channels'] = np.round(np.clip(full_pred, 0, 10)).astype(int)\n",
        "sample_submission.to_csv('lgb_submission.csv', index=False, float_format='%.4f')"
      ],
      "execution_count": 70,
      "outputs": [
        {
          "output_type": "stream",
          "text": [
            "Training completed. oof macro f1 score : 0.94031\n"
          ],
          "name": "stdout"
        }
      ]
    },
    {
      "cell_type": "code",
      "metadata": {
        "id": "j8N2QuObT6Rf",
        "colab_type": "code",
        "outputId": "410e4b35-7839-48c0-80c3-8780de8454cf",
        "colab": {
          "base_uri": "https://localhost:8080/",
          "height": 68
        }
      },
      "source": [
        "!kaggle competitions submit -f './lgb_submission.csv' -m 'lgb' liverpool-ion-switching"
      ],
      "execution_count": 71,
      "outputs": [
        {
          "output_type": "stream",
          "text": [
            "Warning: Looks like you're using an outdated API Version, please consider updating (server 1.5.6 / client 1.5.4)\n",
            "100% 21.0M/21.0M [00:00<00:00, 42.7MB/s]\n",
            "Successfully submitted to University of Liverpool - Ion Switching"
          ],
          "name": "stdout"
        }
      ]
    },
    {
      "cell_type": "markdown",
      "metadata": {
        "id": "fwmBMaXEmdGW",
        "colab_type": "text"
      },
      "source": [
        "training with clean_kalman\n",
        "> Training completed. oof macro f1 score : 0.93940  \n",
        "> LB : 0.940  \n",
        "\n",
        "clean_kalman  \n",
        "add category  \n",
        "add 20shifted\n",
        "> Training completed. oof macro f1 score : 0.93941  \n",
        "> LB : 0.940\n",
        "\n",
        "clean_kalman  \n",
        "add category  \n",
        "add 20shifted  \n",
        "add target encoding(group)\n",
        "> Training completed. oof macro f1 score : 0.93880  \n",
        "> LB : 0.653\n",
        "\n",
        "clean_kalman + add category + add 20shifted\n",
        "> Training completed. oof macro f1 score : 0.93953  \n",
        "> LB : 0.942  \n",
        "\n",
        "clean_kalman + add category + add 20shifted + target encording(category)  \n",
        ">　Training completed. oof macro f1 score : 0.93842  \n",
        ">　LB : 0.941"
      ]
    },
    {
      "cell_type": "code",
      "metadata": {
        "id": "caPUEw17moRo",
        "colab_type": "code",
        "colab": {}
      },
      "source": [
        ""
      ],
      "execution_count": 0,
      "outputs": []
    }
  ]
}