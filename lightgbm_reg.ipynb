{
  "nbformat": 4,
  "nbformat_minor": 0,
  "metadata": {
    "colab": {
      "name": "lightgbm-reg",
      "provenance": [],
      "collapsed_sections": [],
      "machine_shape": "hm",
      "authorship_tag": "ABX9TyO1s7esVrXAF6uSCiflLNzz",
      "include_colab_link": true
    },
    "kernelspec": {
      "name": "python3",
      "display_name": "Python 3"
    }
  },
  "cells": [
    {
      "cell_type": "markdown",
      "metadata": {
        "id": "view-in-github",
        "colab_type": "text"
      },
      "source": [
        "<a href=\"https://colab.research.google.com/github/shin04/ion-switching/blob/master/lightgbm_reg.ipynb\" target=\"_parent\"><img src=\"https://colab.research.google.com/assets/colab-badge.svg\" alt=\"Open In Colab\"/></a>"
      ]
    },
    {
      "cell_type": "code",
      "metadata": {
        "id": "YJNHw6jrSCvs",
        "colab_type": "code",
        "outputId": "ebf580c6-1b9e-4690-d128-345e27db9a99",
        "colab": {
          "base_uri": "https://localhost:8080/",
          "height": 204
        }
      },
      "source": [
        "!pip install kaggle"
      ],
      "execution_count": 1,
      "outputs": [
        {
          "output_type": "stream",
          "text": [
            "Requirement already satisfied: kaggle in /usr/local/lib/python3.6/dist-packages (1.5.6)\n",
            "Requirement already satisfied: certifi in /usr/local/lib/python3.6/dist-packages (from kaggle) (2020.4.5.1)\n",
            "Requirement already satisfied: tqdm in /usr/local/lib/python3.6/dist-packages (from kaggle) (4.41.1)\n",
            "Requirement already satisfied: python-slugify in /usr/local/lib/python3.6/dist-packages (from kaggle) (4.0.0)\n",
            "Requirement already satisfied: six>=1.10 in /usr/local/lib/python3.6/dist-packages (from kaggle) (1.12.0)\n",
            "Requirement already satisfied: urllib3<1.25,>=1.21.1 in /usr/local/lib/python3.6/dist-packages (from kaggle) (1.24.3)\n",
            "Requirement already satisfied: python-dateutil in /usr/local/lib/python3.6/dist-packages (from kaggle) (2.8.1)\n",
            "Requirement already satisfied: requests in /usr/local/lib/python3.6/dist-packages (from kaggle) (2.23.0)\n",
            "Requirement already satisfied: text-unidecode>=1.3 in /usr/local/lib/python3.6/dist-packages (from python-slugify->kaggle) (1.3)\n",
            "Requirement already satisfied: chardet<4,>=3.0.2 in /usr/local/lib/python3.6/dist-packages (from requests->kaggle) (3.0.4)\n",
            "Requirement already satisfied: idna<3,>=2.5 in /usr/local/lib/python3.6/dist-packages (from requests->kaggle) (2.9)\n"
          ],
          "name": "stdout"
        }
      ]
    },
    {
      "cell_type": "code",
      "metadata": {
        "id": "VRVk22KlSPu0",
        "colab_type": "code",
        "outputId": "7be6a1ed-efa1-4170-a057-6e141d9f4f1d",
        "colab": {
          "base_uri": "https://localhost:8080/",
          "height": 34
        }
      },
      "source": [
        "from googleapiclient.discovery import build\n",
        "import io, os\n",
        "from googleapiclient.http import MediaIoBaseDownload\n",
        "from google.colab import auth\n",
        "\n",
        "auth.authenticate_user()\n",
        "\n",
        "drive_service = build('drive', 'v3')\n",
        "results = drive_service.files().list(\n",
        "        q=\"name = 'kaggle.json'\", fields=\"files(id)\").execute()\n",
        "kaggle_api_key = results.get('files', [])\n",
        "\n",
        "filename = \"/root/.kaggle/kaggle.json\"\n",
        "os.makedirs(os.path.dirname(filename), exist_ok=True)\n",
        "\n",
        "request = drive_service.files().get_media(fileId=kaggle_api_key[0]['id'])\n",
        "fh = io.FileIO(filename, 'wb')\n",
        "downloader = MediaIoBaseDownload(fh, request)\n",
        "done = False\n",
        "while done is False:\n",
        "    status, done = downloader.next_chunk()\n",
        "    print(\"Download %d%%.\" % int(status.progress() * 100))\n",
        "os.chmod(filename, 600)"
      ],
      "execution_count": 2,
      "outputs": [
        {
          "output_type": "stream",
          "text": [
            "Download 100%.\n"
          ],
          "name": "stdout"
        }
      ]
    },
    {
      "cell_type": "code",
      "metadata": {
        "id": "M7oEMFs7SR7M",
        "colab_type": "code",
        "outputId": "f00b3c01-2bb9-45a3-9a05-dbd1961a6272",
        "colab": {
          "base_uri": "https://localhost:8080/",
          "height": 34
        }
      },
      "source": [
        "!kaggle datasets download -d cdeotte/data-without-drift"
      ],
      "execution_count": 3,
      "outputs": [
        {
          "output_type": "stream",
          "text": [
            "data-without-drift.zip: Skipping, found more recently modified local copy (use --force to force download)\n"
          ],
          "name": "stdout"
        }
      ]
    },
    {
      "cell_type": "code",
      "metadata": {
        "id": "UqLv3DkuSkXf",
        "colab_type": "code",
        "outputId": "204b0421-0d14-422f-fbca-e257536e323b",
        "colab": {
          "base_uri": "https://localhost:8080/",
          "height": 34
        }
      },
      "source": [
        "!kaggle datasets download -d sggpls/ion-shifted-rfc-proba"
      ],
      "execution_count": 4,
      "outputs": [
        {
          "output_type": "stream",
          "text": [
            "ion-shifted-rfc-proba.zip: Skipping, found more recently modified local copy (use --force to force download)\n"
          ],
          "name": "stdout"
        }
      ]
    },
    {
      "cell_type": "code",
      "metadata": {
        "id": "QA9CDVT3tAIm",
        "colab_type": "code",
        "outputId": "0d3d2c47-a38d-4f6b-9e92-dafaaac01578",
        "colab": {
          "base_uri": "https://localhost:8080/",
          "height": 34
        }
      },
      "source": [
        "!kaggle datasets download -d ragnar123/clean-kalman"
      ],
      "execution_count": 5,
      "outputs": [
        {
          "output_type": "stream",
          "text": [
            "clean-kalman.zip: Skipping, found more recently modified local copy (use --force to force download)\n"
          ],
          "name": "stdout"
        }
      ]
    },
    {
      "cell_type": "code",
      "metadata": {
        "id": "SpUupDkYSl3M",
        "colab_type": "code",
        "outputId": "3bc3ed0a-3f9e-4889-8271-e16ec1916b43",
        "colab": {
          "base_uri": "https://localhost:8080/",
          "height": 85
        }
      },
      "source": [
        "!kaggle competitions download -c liverpool-ion-switching"
      ],
      "execution_count": 6,
      "outputs": [
        {
          "output_type": "stream",
          "text": [
            "Warning: Looks like you're using an outdated API Version, please consider updating (server 1.5.6 / client 1.5.4)\n",
            "train.csv.zip: Skipping, found more recently modified local copy (use --force to force download)\n",
            "test.csv.zip: Skipping, found more recently modified local copy (use --force to force download)\n",
            "sample_submission.csv.zip: Skipping, found more recently modified local copy (use --force to force download)\n"
          ],
          "name": "stdout"
        }
      ]
    },
    {
      "cell_type": "code",
      "metadata": {
        "id": "79QyU1isSnZH",
        "colab_type": "code",
        "outputId": "4189eaa7-6f9b-4aa1-b565-abeccdd14ae8",
        "colab": {
          "base_uri": "https://localhost:8080/",
          "height": 391
        }
      },
      "source": [
        "!unzip -o '*.zip'"
      ],
      "execution_count": 7,
      "outputs": [
        {
          "output_type": "stream",
          "text": [
            "Archive:  test.csv.zip\n",
            "  inflating: test.csv                \n",
            "\n",
            "Archive:  ion-shifted-rfc-proba.zip\n",
            "  inflating: Y_test_proba.npy        \n",
            "  inflating: Y_train_proba.npy       \n",
            "\n",
            "Archive:  sample_submission.csv.zip\n",
            "  inflating: sample_submission.csv   \n",
            "\n",
            "Archive:  train.csv.zip\n",
            "  inflating: train.csv               \n",
            "\n",
            "Archive:  clean-kalman.zip\n",
            "  inflating: test_clean_kalman.csv   \n",
            "  inflating: train_clean_kalman.csv  \n",
            "\n",
            "Archive:  data-without-drift.zip\n",
            "  inflating: test_clean.csv          \n",
            "  inflating: train_clean.csv         \n",
            "\n",
            "6 archives were successfully processed.\n"
          ],
          "name": "stdout"
        }
      ]
    },
    {
      "cell_type": "code",
      "metadata": {
        "id": "wveF_VMWw8PG",
        "colab_type": "code",
        "outputId": "803dc22f-8a22-4856-9cfa-6d24c39a2b8a",
        "colab": {
          "base_uri": "https://localhost:8080/",
          "height": 51
        }
      },
      "source": [
        "!pip install tensorflow_addons"
      ],
      "execution_count": 8,
      "outputs": [
        {
          "output_type": "stream",
          "text": [
            "Requirement already satisfied: tensorflow_addons in /usr/local/lib/python3.6/dist-packages (0.8.3)\n",
            "Requirement already satisfied: typeguard in /usr/local/lib/python3.6/dist-packages (from tensorflow_addons) (2.7.1)\n"
          ],
          "name": "stdout"
        }
      ]
    },
    {
      "cell_type": "code",
      "metadata": {
        "id": "NLiQ1cLhSpr6",
        "colab_type": "code",
        "colab": {}
      },
      "source": [
        "import tensorflow as tf\n",
        "from tensorflow.keras.layers import Conv1D, Input, Dense, Add, Multiply, BatchNormalization, Activation, Dropout\n",
        "import pandas as pd\n",
        "import numpy as np\n",
        "import random\n",
        "from tensorflow.keras.callbacks import Callback, LearningRateScheduler\n",
        "from tensorflow.keras.losses import categorical_crossentropy\n",
        "from tensorflow.keras.optimizers import Adam\n",
        "from tensorflow.keras import backend as K\n",
        "from tensorflow.keras import losses, models, optimizers\n",
        "import tensorflow_addons as tfa\n",
        "import gc\n",
        "from tqdm import tqdm\n",
        "from scipy import signal\n",
        "\n",
        "import lightgbm as lgb\n",
        "\n",
        "from sklearn.model_selection import GroupKFold, StratifiedKFold\n",
        "from sklearn.metrics import f1_score\n",
        "\n",
        "from collections import Counter, defaultdict\n",
        "import random\n",
        "\n",
        "import warnings\n",
        "warnings.simplefilter('ignore')\n",
        "warnings.filterwarnings('ignore')\n",
        "pd.set_option('display.max_columns', 1000)\n",
        "pd.set_option('display.max_rows', 500)\n",
        "\n",
        "import os\n",
        "for dirname, _, filenames in os.walk('/kaggle/input'):\n",
        "    for filename in filenames:\n",
        "        print(os.path.join(dirname, filename))\n",
        "\n",
        "# Any results you write to the current directory are saved as output."
      ],
      "execution_count": 0,
      "outputs": []
    },
    {
      "cell_type": "code",
      "metadata": {
        "id": "UDn2jHk8Svhd",
        "colab_type": "code",
        "colab": {}
      },
      "source": [
        "# configurations and main hyperparammeters\n",
        "EPOCHS = 110\n",
        "NNBATCHSIZE = 16\n",
        "GROUP_BATCH_SIZE = 4000\n",
        "SEED = 321\n",
        "LR = 0.001\n",
        "SPLITS = 5\n",
        "\n",
        "def seed_everything(seed):\n",
        "    random.seed(seed)\n",
        "    np.random.seed(seed)\n",
        "    os.environ['PYTHONHASHSEED'] = str(seed)\n",
        "    tf.random.set_seed(seed)"
      ],
      "execution_count": 0,
      "outputs": []
    },
    {
      "cell_type": "code",
      "metadata": {
        "id": "hd5ZOykHSyC9",
        "colab_type": "code",
        "colab": {}
      },
      "source": [
        "# read data\n",
        "def read_data():\n",
        "\n",
        "    train = pd.read_csv('./train_clean_kalman.csv', dtype={'time': np.float32, 'signal': np.float32, 'open_channels':np.int32})\n",
        "    test  = pd.read_csv('./test_clean_kalman.csv', dtype={'time': np.float32, 'signal': np.float32})\n",
        "    sub  = pd.read_csv('./sample_submission.csv', dtype={'time': np.float32})\n",
        "    \n",
        "    Y_train_proba = np.load(\"./Y_train_proba.npy\")\n",
        "    Y_test_proba = np.load(\"./Y_test_proba.npy\")\n",
        "    \n",
        "    for i in range(11):\n",
        "        train[f\"proba_{i}\"] = Y_train_proba[:, i]\n",
        "        test[f\"proba_{i}\"] = Y_test_proba[:, i]\n",
        "\n",
        "    return train, test, sub"
      ],
      "execution_count": 0,
      "outputs": []
    },
    {
      "cell_type": "code",
      "metadata": {
        "id": "aZTrfQXOLwvM",
        "colab_type": "code",
        "colab": {}
      },
      "source": [
        "def batching_10(train, test):\n",
        "    # concatenate data\n",
        "    # batchを1から10までフル　ややこしい\n",
        "    batch = 50\n",
        "    total_batches = 14\n",
        "    train['set'] = 'train'\n",
        "    test['set'] = 'test'\n",
        "    data = pd.concat([train, test])\n",
        "    for i in range(int(total_batches)):\n",
        "        data.loc[(data['time'] > i * batch) & (data['time'] <= (i + 1) * batch), 'batch'] = i + 1\n",
        "    train = data[data['set'] == 'train']\n",
        "    test = data[data['set'] == 'test']\n",
        "    train.drop(['set'], inplace = True, axis = 1)\n",
        "    test.drop(['set'], inplace = True, axis = 1)\n",
        "    del data\n",
        "    return train, test"
      ],
      "execution_count": 0,
      "outputs": []
    },
    {
      "cell_type": "code",
      "metadata": {
        "id": "e3nWKBrr3LKM",
        "colab_type": "code",
        "colab": {}
      },
      "source": [
        "def create_signal_mod(train):\n",
        "    left = 3641000\n",
        "    right = 3829000\n",
        "    thresh_dict = {\n",
        "        3: [0.1, 2.0],\n",
        "        2: [-1.1, 0.7],\n",
        "        1: [-2.3, -0.6],\n",
        "        0: [-3.8, -2],\n",
        "    }\n",
        "    \n",
        "    # train['signal_mod'] = train['signal'].values\n",
        "    for ch in train[train['batch']==8]['open_channels'].unique():\n",
        "        idxs_noisy = (train['open_channels']==ch) & (left<train.index) & (train.index<right)\n",
        "        idxs_not_noisy = (train['open_channels']==ch) & ~idxs_noisy\n",
        "        mean = train[idxs_not_noisy]['signal'].mean()\n",
        "\n",
        "        idxs_outlier = idxs_noisy & (thresh_dict[ch][1]<train['signal'].values)\n",
        "        train['signal'][idxs_outlier]  = mean\n",
        "        idxs_outlier = idxs_noisy & (train['signal'].values<thresh_dict[ch][0])\n",
        "        train['signal'][idxs_outlier]  = mean\n",
        "    return train"
      ],
      "execution_count": 0,
      "outputs": []
    },
    {
      "cell_type": "code",
      "metadata": {
        "id": "81-K4Yfki71w",
        "colab_type": "code",
        "colab": {}
      },
      "source": [
        "# !pip install pykalman"
      ],
      "execution_count": 0,
      "outputs": []
    },
    {
      "cell_type": "code",
      "metadata": {
        "id": "9QWS9pipiY3y",
        "colab_type": "code",
        "colab": {}
      },
      "source": [
        "# from pykalman import KalmanFilter\n",
        "\n",
        "# def Kalman1D(observations, damping=1):\n",
        "#     # To return the smoothed time series data\n",
        "#     observation_covariance = damping\n",
        "#     initial_value_guess = observations[0]\n",
        "#     transition_matrix = 1\n",
        "#     transition_covariance = 0.1\n",
        "#     initial_value_guess\n",
        "#     kf = KalmanFilter(\n",
        "#             initial_state_mean=initial_value_guess,\n",
        "#             initial_state_covariance=observation_covariance,\n",
        "#             observation_covariance=observation_covariance,\n",
        "#             transition_covariance=transition_covariance,\n",
        "#             transition_matrices=transition_matrix\n",
        "#         )\n",
        "#     pred_state, state_cov = kf.smooth(observations)\n",
        "#     return pred_state"
      ],
      "execution_count": 0,
      "outputs": []
    },
    {
      "cell_type": "code",
      "metadata": {
        "id": "I_pkElMAS8fA",
        "colab_type": "code",
        "colab": {}
      },
      "source": [
        "# create batches of 4000 observations\n",
        "def batching(df, batch_size):\n",
        "    df['group'] = df.groupby(df.index//batch_size, sort=False)['signal'].agg(['ngroup']).values\n",
        "    df['group'] = df['group'].astype(np.uint16)\n",
        "    return df"
      ],
      "execution_count": 0,
      "outputs": []
    },
    {
      "cell_type": "code",
      "metadata": {
        "id": "vzokhYjyS-dU",
        "colab_type": "code",
        "colab": {}
      },
      "source": [
        "# normalize the data (standard scaler). We can also try other scalers for a better score!\n",
        "def normalize(train, test):\n",
        "    train_input_mean = train.signal.mean()\n",
        "    train_input_sigma = train.signal.std()\n",
        "    train['signal'] = (train.signal - train_input_mean) / train_input_sigma\n",
        "    test['signal'] = (test.signal - train_input_mean) / train_input_sigma\n",
        "    \n",
        "    return train, test"
      ],
      "execution_count": 0,
      "outputs": []
    },
    {
      "cell_type": "code",
      "metadata": {
        "id": "Qez_-uQBt-9W",
        "colab_type": "code",
        "colab": {}
      },
      "source": [
        "def add_category(train, test):\n",
        "  train[\"category\"] = 0\n",
        "  test[\"category\"] = 0\n",
        "\n",
        "  # train segments with more then 9 open channels classes\n",
        "  train.loc[2000000:2500000-1, 'category'] = 1\n",
        "  train.loc[4500000:5000000-1, 'category'] = 1\n",
        "\n",
        "  # test segments with more then 9 open channels classes (potentially)\n",
        "  test.loc[500000:600000-1, \"category\"] = 1\n",
        "  test.loc[700000:800000-1, \"category\"] = 1\n",
        "  \n",
        "  return train, test"
      ],
      "execution_count": 0,
      "outputs": []
    },
    {
      "cell_type": "code",
      "metadata": {
        "id": "zi8ajG9drc0f",
        "colab_type": "code",
        "colab": {}
      },
      "source": [
        "# signal processing features\n",
        "def calc_gradients(s, n_grads = 4, col='grad_'):\n",
        "    '''\n",
        "    Calculate gradients for a pandas series. Returns the same number of samples\n",
        "    '''\n",
        "    grads = pd.DataFrame()\n",
        "    \n",
        "    g = s.values\n",
        "    for i in range(n_grads):\n",
        "        g = np.gradient(g)\n",
        "        grads[col + str(i+1)] = g\n",
        "        \n",
        "    return grads\n",
        "\n",
        "def calc_low_pass(s, n_filts=10, col='lowpass_'):\n",
        "    '''\n",
        "    Applies low pass filters to the signal. Left delayed and no delayed\n",
        "    '''\n",
        "    wns = np.logspace(-2, -0.3, n_filts)\n",
        "    \n",
        "    low_pass = pd.DataFrame()\n",
        "    x = s.values\n",
        "    for wn in wns:\n",
        "        b, a = signal.butter(1, Wn=wn, btype='low')\n",
        "        zi = signal.lfilter_zi(b, a)\n",
        "        low_pass[col + 'lf_' + str('%.4f' %wn)] = signal.lfilter(b, a, x, zi=zi*x[0])[0]\n",
        "        low_pass[col + 'ff_' + str('%.4f' %wn)] = signal.filtfilt(b, a, x)\n",
        "        \n",
        "    return low_pass\n",
        "\n",
        "def calc_high_pass(s, n_filts=10, col='highpass_'):\n",
        "    '''\n",
        "    Applies high pass filters to the signal. Left delayed and no delayed\n",
        "    '''\n",
        "    wns = np.logspace(-2, -0.1, n_filts)\n",
        "    \n",
        "    high_pass = pd.DataFrame()\n",
        "    x = s.values\n",
        "    for wn in wns:\n",
        "        b, a = signal.butter(1, Wn=wn, btype='high')\n",
        "        zi = signal.lfilter_zi(b, a)\n",
        "        high_pass[col + 'lf_' + str('%.4f' %wn)] = signal.lfilter(b, a, x, zi=zi*x[0])[0]\n",
        "        high_pass[col + 'ff_' + str('%.4f' %wn)] = signal.filtfilt(b, a, x)\n",
        "        \n",
        "    return high_pass\n",
        "\n",
        "def calc_ewm(s, windows=[10, 50, 100, 500, 1000], col='ewm_'):\n",
        "    '''\n",
        "    Calculates exponential weighted functions\n",
        "    '''\n",
        "    ewm = pd.DataFrame()\n",
        "    for w in windows:\n",
        "        ewm[col + 'mean_' + str(w)] = s.ewm(span=w, min_periods=1).mean()\n",
        "        ewm[col + 'std_' + str(w)] = s.ewm(span=w, min_periods=1).std()\n",
        "        \n",
        "    # add zeros when na values (std)\n",
        "    ewm = ewm.fillna(value=0)\n",
        "        \n",
        "    return ewm\n",
        "\n",
        "\n",
        "def add_features(s, is_clean=True):\n",
        "    '''\n",
        "    All calculations together\n",
        "    '''\n",
        "    \n",
        "    if is_clean:\n",
        "      low_pass = calc_low_pass(s, col='lowpass_clean_')\n",
        "      high_pass = calc_high_pass(s, col='highpass_clean_')\n",
        "      return pd.concat([s, low_pass, high_pass], axis=1)\n",
        "    else:\n",
        "      gradients = calc_gradients(s, col='grad_')\n",
        "      ewm = calc_ewm(s, col='ewm_')\n",
        "      return pd.concat([s, gradients, ewm], axis=1)\n",
        "\n",
        "\n",
        "# signal_size を考える\n",
        "# 500000? or 4000?\n",
        "def divide_and_add_features(s, signal_size=500000, is_clean=True):\n",
        "    '''\n",
        "    Divide the signal in bags of \"signal_size\".\n",
        "    Normalize the data dividing it by 15.0\n",
        "    '''\n",
        "    # normalize\n",
        "    s = s / 15.0\n",
        "    \n",
        "    ls = []\n",
        "    for i in tqdm(range(int(s.shape[0]/signal_size))):\n",
        "        sig = s[i*signal_size:(i+1)*signal_size].copy().reset_index(drop=True)\n",
        "        sig_featured = add_features(sig, is_clean=is_clean)\n",
        "        ls.append(sig_featured)\n",
        "    \n",
        "    return pd.concat(ls, axis=0)"
      ],
      "execution_count": 0,
      "outputs": []
    },
    {
      "cell_type": "code",
      "metadata": {
        "id": "uvqlr0beS_62",
        "colab_type": "code",
        "colab": {}
      },
      "source": [
        "# get lead and lags features\n",
        "def lag_with_pct_change(df, windows, group='group'):\n",
        "    for window in windows:    \n",
        "        df['signal_shift_pos_' + str(window)] = df.groupby(group)['signal'].shift(window).fillna(0)\n",
        "        df['signal_shift_neg_' + str(window)] = df.groupby(group)['signal'].shift(-1 * window).fillna(0)\n",
        "    return df"
      ],
      "execution_count": 0,
      "outputs": []
    },
    {
      "cell_type": "code",
      "metadata": {
        "id": "aWSG9xWHWlhP",
        "colab_type": "code",
        "colab": {}
      },
      "source": [
        "def calc_roll_stats(df, windows, group='group'):\n",
        "    '''\n",
        "    Calculates rolling stats like mean, std, min, max...\n",
        "    '''\n",
        "    for i, window in enumerate(windows):\n",
        "      df[group + 'roll_mean_' + str(window)] = df.groupby(group)['signal'].rolling(window=window, min_periods=1).mean().values\n",
        "      df[group + 'roll_std_' + str(window)] = df.groupby(group)['signal'].rolling(window=window, min_periods=1).std().values\n",
        "      df[group + 'roll_min_' + str(window)] = df.groupby(group)['signal'].rolling(window=window, min_periods=1).min().values\n",
        "      df[group + 'roll_max_' + str(window)] = df.groupby(group)['signal'].rolling(window=window, min_periods=1).max().values\n",
        "      df[group + 'roll_range' + str(window)] = df[group + 'roll_max_' + str(window)] - df[group + 'roll_min_' + str(window)]\n",
        "\n",
        "      # df[group + 'roll_mean_' + str(window) + 'sift'] = df.groupby(group)[group + 'roll_mean_' + str(window)].shift(window).fillna(0)\n",
        "      # df[group + 'roll_std_' + str(window) + 'sift'] = df.groupby(group)[group + 'roll_std_' + str(window)].shift(window).fillna(0)\n",
        "      # df[group + 'roll_min_' + str(window) + 'sift'] = df.groupby(group)[group + 'roll_min_' + str(window)].shift(window).fillna(0)\n",
        "      # df[group + 'roll_max_' + str(window) + 'sift'] = df.groupby(group)[group + 'roll_max_' + str(window)].shift(window).fillna(0)\n",
        "      # df[group + 'roll_range' + str(window) + 'sift'] = df.groupby(group)[group + 'roll_range' + str(window)].shift(window).fillna(0)\n",
        "\n",
        "      # df['roll_q10_' + str(window)] = df.groupby(group)['signal'].rolling(window=window, min_periods=1).quantile(0.10).values\n",
        "      # df['roll_q25_' + str(window)] = df.groupby(group)['signal'].rolling(window=window, min_periods=1).quantile(0.25).values\n",
        "      # df['roll_q50_' + str(window)] = df.groupby(group)['signal'].rolling(window=window, min_periods=1).quantile(0.50).values\n",
        "      # df['roll_q75_' + str(window)] = df.groupby(group)['signal'].rolling(window=window, min_periods=1).quantile(0.75).values\n",
        "      # df['roll_q90_' + str(window)] = df.groupby(group)['signal'].rolling(window=window, min_periods=1).quantile(0.90).values\n",
        "             \n",
        "    return df"
      ],
      "execution_count": 0,
      "outputs": []
    },
    {
      "cell_type": "code",
      "metadata": {
        "id": "4sJgvILz6ppL",
        "colab_type": "code",
        "colab": {}
      },
      "source": [
        "def calc_expand_stats(df, group='group'):\n",
        "  df['expanding_mean'] = df.groupby(group)['signal'].expanding().mean().fillna(0).values\n",
        "  df['expanding_std'] = df.groupby(group)['signal'].expanding().std().fillna(0).values\n",
        "  df['expanding_max'] = df.groupby(group)['signal'].expanding().max().fillna(0).values\n",
        "  df['expanding_min'] = df.groupby(group)['signal'].expanding().min().fillna(0).values\n",
        "  df['expanding_range'] = df['expanding_max'] - df['expanding_min']\n",
        "  \n",
        "  return df"
      ],
      "execution_count": 0,
      "outputs": []
    },
    {
      "cell_type": "code",
      "metadata": {
        "id": "abANAaO5T4l6",
        "colab_type": "code",
        "colab": {}
      },
      "source": [
        "# main module to run feature engineering. Here you may want to try and add other features and check if your score imporves :).\n",
        "def run_feat_engineering(df, batch_size):\n",
        "    # create batches\n",
        "    df = batching(df, batch_size = batch_size)\n",
        "\n",
        "    # create leads and lags\n",
        "    df = lag_with_pct_change(df, np.asarray(range(1, 20), dtype=np.int32), 'group')\n",
        "    df = lag_with_pct_change(df, np.asarray(range(1, 20), dtype=np.int32), 'batch')\n",
        "\n",
        "    # create rolling stats\n",
        "    # df = calc_roll_stats(df, [3, 10, 50, 100, 500, 1000]) # groupごと(4000)\n",
        "    df = calc_roll_stats(df, [100], 'group')\n",
        "    # df = calc_roll_stats(df, [500, 1000, 5000, 10000, 50000, 100000], 'batch')\n",
        "    # df = calc_roll_stats(df, [50000, 100000], group='batch') # batchごと(500000)\n",
        "\n",
        "    # create expanding stats\n",
        "    # df = calc_expand_stats(df)\n",
        "\n",
        "    # create signal ** 2 (this is the new feature)\n",
        "    df['signal_2'] = df['signal'] ** 2\n",
        "\n",
        "    return df"
      ],
      "execution_count": 0,
      "outputs": []
    },
    {
      "cell_type": "code",
      "metadata": {
        "id": "xkDA5AB3TB13",
        "colab_type": "code",
        "colab": {}
      },
      "source": [
        "# fillna with the mean and select features for training\n",
        "def feature_selection(train, test):\n",
        "    features = [col for col in train.columns if col not in ['index', 'group', 'open_channels', 'time', 'batch', 'train_group', 'test_group']]\n",
        "    train = train.replace([np.inf, -np.inf], np.nan)\n",
        "    test = test.replace([np.inf, -np.inf], np.nan)\n",
        "    for feature in features:\n",
        "        feature_mean = pd.concat([train[feature], test[feature]], axis = 0).mean()\n",
        "        train[feature] = train[feature].fillna(feature_mean)\n",
        "        test[feature] = test[feature].fillna(feature_mean)\n",
        "    return train, test, features"
      ],
      "execution_count": 0,
      "outputs": []
    },
    {
      "cell_type": "code",
      "metadata": {
        "id": "hbv2BOnVMq6v",
        "colab_type": "code",
        "colab": {}
      },
      "source": [
        "def stratified_group_k_fold(X, y, groups, k, seed=None):\n",
        "    labels_num = int(np.max(y) + 1)\n",
        "    y_counts_per_group = defaultdict(lambda: np.zeros(labels_num))\n",
        "    y_distr = Counter()\n",
        "    for label, g in zip(y, groups):\n",
        "        y_counts_per_group[int(g)][int(label)] += 1\n",
        "        y_distr[label] += 1\n",
        "\n",
        "    y_counts_per_fold = defaultdict(lambda: np.zeros(labels_num))\n",
        "    groups_per_fold = defaultdict(set)\n",
        "\n",
        "    def eval_y_counts_per_fold(y_counts, fold):\n",
        "        y_counts_per_fold[fold] += y_counts\n",
        "        std_per_label = []\n",
        "        for label in range(labels_num):\n",
        "            label_std = np.std([y_counts_per_fold[i][label] / y_distr[label] for i in range(k)])\n",
        "            std_per_label.append(label_std)\n",
        "        y_counts_per_fold[fold] -= y_counts\n",
        "        return np.mean(std_per_label)\n",
        "    \n",
        "    groups_and_y_counts = list(y_counts_per_group.items())\n",
        "    random.Random(seed).shuffle(groups_and_y_counts)\n",
        "\n",
        "    for g, y_counts in sorted(groups_and_y_counts, key=lambda x: -np.std(x[1])):\n",
        "        best_fold = None\n",
        "        min_eval = None\n",
        "        for i in range(k):\n",
        "            fold_eval = eval_y_counts_per_fold(y_counts, i)\n",
        "            if min_eval is None or fold_eval < min_eval:\n",
        "                min_eval = fold_eval\n",
        "                best_fold = i\n",
        "        y_counts_per_fold[best_fold] += y_counts\n",
        "        groups_per_fold[best_fold].add(g)\n",
        "\n",
        "    all_groups = set(groups)\n",
        "    for i in range(k):\n",
        "        train_groups = all_groups - groups_per_fold[i]\n",
        "        test_groups = groups_per_fold[i]\n",
        "\n",
        "        train_indices = [i for i, g in enumerate(groups) if g in train_groups]\n",
        "        test_indices = [i for i, g in enumerate(groups) if g in test_groups]\n",
        "\n",
        "        yield train_indices, test_indices"
      ],
      "execution_count": 0,
      "outputs": []
    },
    {
      "cell_type": "code",
      "metadata": {
        "id": "arzvPi4DTJNs",
        "colab_type": "code",
        "colab": {}
      },
      "source": [
        "# main function to perfrom groupkfold cross validation (we have 1000 vectores of 4000 rows and 8 features (columns)). Going to make 5 groups with this subgroups.\n",
        "def run_cv_model_by_batch(train, test, splits, batch_col, feats, sample_submission, params):\n",
        "    oof_ = np.zeros(len(train))\n",
        "    preds_ = np.zeros(len(test))\n",
        "    feature_importance = np.zeros(len(features))\n",
        "    target = ['open_channels']\n",
        "    group = train['group']\n",
        "\n",
        "    # kf = GroupKFold(n_splits=5)\n",
        "    kf = StratifiedKFold(n_splits = 5, shuffle = True, random_state = 42)\n",
        "\n",
        "    # for n_fold, (tr_idx, val_idx) in enumerate(kf.split(train, train[target], groups=group)):\n",
        "    for n_fold, (tr_idx, val_idx) in enumerate(kf.split(train, train[target])):\n",
        "    # for n_fold, (tr_idx, val_idx) in enumerate(stratified_group_k_fold(train, train.open_channels, group, k=5, seed=42)):\n",
        "        train_x, train_y = train.iloc[tr_idx], train[target].iloc[tr_idx]\n",
        "        valid_x, valid_y = train.iloc[val_idx], train[target].iloc[val_idx]\n",
        "        print(f'Our training dataset shape is {train_x.shape}')\n",
        "        print(f'Our validation dataset shape is {valid_x.shape}')\n",
        "\n",
        "        gc.collect()\n",
        "\n",
        "        train_set = lgb.Dataset(train_x[feats], train_y)\n",
        "        val_set = lgb.Dataset(valid_x[feats], valid_y)\n",
        "\n",
        "        # params = {'boosting_type': 'gbdt',\n",
        "        #         'metric': 'rmse',\n",
        "        #         'objective': 'regression',\n",
        "        #         'n_jobs': -1,\n",
        "        #         'seed': 236,\n",
        "        #         'num_leaves': 280,\n",
        "        #         'learning_rate': 0.026623466966581126,\n",
        "        #         'max_depth': 73,\n",
        "        #         'lambda_l1': 2.959759088169741,\n",
        "        #         'lambda_l2': 1.331172832164913,\n",
        "        #         'bagging_fraction': 0.9655406551472153,\n",
        "        #         'bagging_freq': 9,\n",
        "        #         'colsample_bytree': 0.6867118652742716}\n",
        "        \n",
        "        lgb_model = lgb.train(\n",
        "            params, \n",
        "            train_set, num_boost_round = 10000, \n",
        "            early_stopping_rounds = 50, \n",
        "            valid_sets = [train_set, val_set], \n",
        "            valid_names = ['train', 'eval'],\n",
        "            verbose_eval = 100,)\n",
        "\n",
        "        preds_f = lgb_model.predict(valid_x[feats])\n",
        "        f1_score_ = f1_score(valid_y,  np.round(np.clip(preds_f, 0, 10)).astype(int), average = 'macro')\n",
        "        print(f'Training fold {n_fold + 1} completed. macro f1 score : {f1_score_ :1.5f}')\n",
        "        oof_[val_idx] += preds_f\n",
        "        te_preds = lgb_model.predict(test[feats])\n",
        "        preds_ += te_preds / SPLITS\n",
        "\n",
        "        feature_importance += lgb_model.feature_importance() /SPLITS\n",
        "\n",
        "    return preds_, oof_, feature_importance\n",
        "\n",
        "    # f1_score_ = f1_score(train[target],  np.round(np.clip(oof_, 0, 10)).astype(int), average = 'macro')\n",
        "    # print(f'Training completed. oof macro f1 score : {f1_score_:1.5f}')\n",
        "    # sample_submission['open_channels'] = np.round(np.clip(preds_, 0, 10)).astype(int)\n",
        "    # sample_submission.to_csv('lgb_submission.csv', index=False, float_format='%.4f')"
      ],
      "execution_count": 0,
      "outputs": []
    },
    {
      "cell_type": "code",
      "metadata": {
        "id": "hOM_WZ_5ZiYM",
        "colab_type": "code",
        "colab": {}
      },
      "source": [
        "def reduce_mem_usage(df, verbose=True):\n",
        "    numerics = ['int16', 'int32', 'int64', 'float16', 'float32', 'float64']\n",
        "    start_mem = df.memory_usage().sum() / 1024**2    \n",
        "    for col in df.columns:\n",
        "        if col!='open_channels':\n",
        "            col_type = df[col].dtypes\n",
        "            if col_type in numerics:\n",
        "                c_min = df[col].min()\n",
        "                c_max = df[col].max()\n",
        "                if str(col_type)[:3] == 'int':\n",
        "                    if c_min > np.iinfo(np.int8).min and c_max < np.iinfo(np.int8).max:\n",
        "                        df[col] = df[col].astype(np.int8)\n",
        "                    elif c_min > np.iinfo(np.int16).min and c_max < np.iinfo(np.int16).max:\n",
        "                        df[col] = df[col].astype(np.int16)\n",
        "                    elif c_min > np.iinfo(np.int32).min and c_max < np.iinfo(np.int32).max:\n",
        "                        df[col] = df[col].astype(np.int32)\n",
        "                    elif c_min > np.iinfo(np.int64).min and c_max < np.iinfo(np.int64).max:\n",
        "                        df[col] = df[col].astype(np.int64)  \n",
        "                else:\n",
        "                    if c_min > np.finfo(np.float16).min and c_max < np.finfo(np.float16).max:\n",
        "                        df[col] = df[col].astype(np.float16)\n",
        "                    elif c_min > np.finfo(np.float32).min and c_max < np.finfo(np.float32).max:\n",
        "                        df[col] = df[col].astype(np.float32)\n",
        "                    else:\n",
        "                        df[col] = df[col].astype(np.float64)    \n",
        "    end_mem = df.memory_usage().sum() / 1024**2\n",
        "    if verbose: print('Mem. usage decreased to {:5.2f} Mb ({:.1f}% reduction)'.format(end_mem, 100 * (start_mem - end_mem) / start_mem))\n",
        "    return df"
      ],
      "execution_count": 0,
      "outputs": []
    },
    {
      "cell_type": "code",
      "metadata": {
        "id": "xFqISSZ-Rmpw",
        "colab_type": "code",
        "colab": {}
      },
      "source": [
        "from sklearn.linear_model import LinearRegression\n",
        "\n",
        "def predictGeneralMean(signal_, channels, c):\n",
        "  label = np.arange(len(signal_))\n",
        "\n",
        "  channel_list = np.arange(c)\n",
        "  n_list = np.empty(c)\n",
        "  mean_list = np.empty(c)\n",
        "  std_list = np.empty(c)\n",
        "  stderr_list = np.empty(c)\n",
        "\n",
        "  for i in range(c):\n",
        "      x = label[channels == i]\n",
        "      y = signal_[channels == i]\n",
        "      n_list[i] = np.size(y)\n",
        "      mean_list[i] = np.mean(y)\n",
        "      std_list[i] = np.std(y)\n",
        "      \n",
        "  stderr_list = std_list / np.sqrt(n_list)\n",
        "\n",
        "  w = 1 / stderr_list\n",
        "  channel_list = channel_list.reshape(-1, 1)\n",
        "  linreg_m = LinearRegression()\n",
        "  linreg_m.fit(channel_list, mean_list, sample_weight = w)\n",
        "\n",
        "  mean_predict = linreg_m.predict(channel_list)\n",
        "\n",
        "  # print(\"mean :\", mean_predict)\n",
        "\n",
        "  return mean_predict"
      ],
      "execution_count": 0,
      "outputs": []
    },
    {
      "cell_type": "code",
      "metadata": {
        "id": "neuYhuh2RqET",
        "colab_type": "code",
        "colab": {}
      },
      "source": [
        "def Arrange_mean(signal_, channels, diff, channel_range):\n",
        "    signal_out = signal_.copy()\n",
        "    for i in range(channel_range):\n",
        "        signal_out[channels == i] -= diff[i]\n",
        "    return signal_out\n",
        "\n",
        "def bandstop(x, samplerate = 1000000, fp = np.array([4925, 5075]), fs = np.array([4800, 5200])):\n",
        "    fn = samplerate / 2   # Nyquist frequency\n",
        "    wp = fp / fn\n",
        "    ws = fs / fn\n",
        "    gpass = 1\n",
        "    gstop = 10.0\n",
        "\n",
        "    N, Wn = signal.buttord(wp, ws, gpass, gstop)\n",
        "    b, a = signal.butter(N, Wn, \"bandstop\")\n",
        "    y = signal.filtfilt(b, a, x)\n",
        "    return y"
      ],
      "execution_count": 0,
      "outputs": []
    },
    {
      "cell_type": "code",
      "metadata": {
        "id": "zaLkX8mURqkZ",
        "colab_type": "code",
        "colab": {}
      },
      "source": [
        "def remove_noise_by_bandstop(df):\n",
        "  signalA = df[df['category']==0].signal.values\n",
        "  signalB = df[df['category']==1].signal.values\n",
        "\n",
        "  channelsA = df[df['category']==0].open_channels.values\n",
        "  channelsB = df[df['category']==1].open_channels.values\n",
        "\n",
        "  c_A = np.unique(channelsA).size # channelの種類\n",
        "  c_B = np.unique(channelsB).size # channelの種類\n",
        "\n",
        "  mean_predictA = predictGeneralMean(signalA, channelsA, c_A)\n",
        "  mean_predictB = predictGeneralMean(signalB, channelsB, c_B)\n",
        "\n",
        "  sig_A = Arrange_mean(signalA, channelsA, mean_predictA, c_A)\n",
        "  sig_B = Arrange_mean(signalB, channelsB, mean_predictB, c_B)\n",
        "\n",
        "  signal_flat = np.hstack((sig_A, sig_B))\n",
        "  # sig_list = np.split(signal_flat, 9)\n",
        "  sig_list = np.split(signal_flat, 10)\n",
        "\n",
        "  for i, sig_sample in enumerate(sig_list):\n",
        "      # batch 1, 2, 3, 4, 6, 7, 8, 9, 5, 10 の順番\n",
        "      sig_remove = bandstop(sig_sample)\n",
        "      df[df['batch']==i+1]['signal'] = sig_remove\n",
        "\n",
        "  return df"
      ],
      "execution_count": 0,
      "outputs": []
    },
    {
      "cell_type": "code",
      "metadata": {
        "id": "esUCbE6mTLxE",
        "colab_type": "code",
        "outputId": "c022caa5-565b-4e1f-f8fc-2b65faa21801",
        "colab": {
          "base_uri": "https://localhost:8080/",
          "height": 51
        }
      },
      "source": [
        "print('Reading Data Started...')\n",
        "train, test, sample_submission = read_data()\n",
        "\n",
        "train, test = add_category(train, test)\n",
        "train, test = batching_10(train, test)\n",
        "# train = create_signal_mod(train)\n",
        "train = remove_noise_by_bandstop(train)\n",
        "\n",
        "# # Kalman Filter\n",
        "# observation_covariance = .0015\n",
        "# train['signal'] = Kalman1D(train.signal.values,observation_covariance)\n",
        "# test['signal'] = Kalman1D(test.signal.values,observation_covariance)\n",
        "\n",
        "train, test = normalize(train, test)\n",
        "print('Reading and Normalizing Data Completed')"
      ],
      "execution_count": 31,
      "outputs": [
        {
          "output_type": "stream",
          "text": [
            "Reading Data Started...\n",
            "Reading and Normalizing Data Completed\n"
          ],
          "name": "stdout"
        }
      ]
    },
    {
      "cell_type": "code",
      "metadata": {
        "id": "sYu0glRGTPu2",
        "colab_type": "code",
        "outputId": "cb46db82-2197-4410-cb3f-cc5a7ec0159d",
        "colab": {
          "base_uri": "https://localhost:8080/",
          "height": 238
        }
      },
      "source": [
        "print('Creating Features')\n",
        "print('Feature Engineering Started...')\n",
        "\n",
        "train, test = add_category(train, test)\n",
        "\n",
        "# train, test = batching_10(train, test)\n",
        "\n",
        "train = run_feat_engineering(train, batch_size = GROUP_BATCH_SIZE)\n",
        "test = run_feat_engineering(test, batch_size = GROUP_BATCH_SIZE)\n",
        "\n",
        "print('Reduce memory usage...')\n",
        "train = reduce_mem_usage(train)\n",
        "test = reduce_mem_usage(test)\n",
        "\n",
        "pre_train = divide_and_add_features(train.signal, signal_size=500000, is_clean=False)\n",
        "pre_test = divide_and_add_features(test.signal, signal_size=500000, is_clean=False)\n",
        "pre_train.drop('signal', axis=1, inplace=True)\n",
        "pre_test.drop('signal', axis=1, inplace=True)\n",
        "pre_train.reset_index(inplace = True, drop = True)\n",
        "pre_test.reset_index(inplace = True, drop = True)\n",
        "train = pd.concat([train, pre_train], axis=1)\n",
        "test = pd.concat([test, pre_test], axis=1)\n",
        "\n",
        "tr_clean = pd.read_csv('./train_clean.csv', dtype={'time': np.float32, 'signal': np.float32, 'open_channels':np.int32})\n",
        "ts_clean = pd.read_csv('./test_clean.csv', dtype={'time': np.float32, 'signal': np.float32})\n",
        "tr_clean, ts_clean = batching_10(tr_clean, ts_clean)\n",
        "tr_clean, ts_clean = add_category(tr_clean, ts_clean)\n",
        "# tr_clean = create_signal_mod(tr_clean)\n",
        "tr_clean = remove_noise_by_bandstop(tr_clean)\n",
        "pre_train = divide_and_add_features(tr_clean.signal, signal_size=500000, is_clean=True)\n",
        "pre_test = divide_and_add_features(ts_clean.signal, signal_size=500000, is_clean=True)\n",
        "pre_train.drop('signal', axis=1, inplace=True)\n",
        "pre_test.drop('signal', axis=1, inplace=True)\n",
        "pre_train.reset_index(inplace = True, drop = True)\n",
        "pre_test.reset_index(inplace = True, drop = True)\n",
        "train = pd.concat([train, pre_train], axis=1)\n",
        "test = pd.concat([test, pre_test], axis=1)\n",
        "\n",
        "# del pre_train, pre_test, tr_clean, ts_clean\n",
        "del pre_train, pre_test\n",
        "gc.collect\n",
        "\n",
        "print('Reduce memory usage...')\n",
        "train = reduce_mem_usage(train)\n",
        "test = reduce_mem_usage(test)\n",
        "\n",
        "train, test, features = feature_selection(train, test)\n",
        "print('Feature Engineering Completed...')"
      ],
      "execution_count": 32,
      "outputs": [
        {
          "output_type": "stream",
          "text": [
            "Creating Features\n",
            "Feature Engineering Started...\n",
            "Reduce memory usage...\n",
            "Mem. usage decreased to 803.73 Mb (67.6% reduction)\n"
          ],
          "name": "stdout"
        },
        {
          "output_type": "stream",
          "text": [
            "  0%|          | 5/1250 [00:00<00:28, 43.65it/s]"
          ],
          "name": "stderr"
        },
        {
          "output_type": "stream",
          "text": [
            "Mem. usage decreased to 337.49 Mb (66.5% reduction)\n"
          ],
          "name": "stdout"
        },
        {
          "output_type": "stream",
          "text": [
            "100%|██████████| 1250/1250 [00:27<00:00, 44.65it/s]\n",
            "100%|██████████| 500/500 [00:10<00:00, 49.40it/s]\n",
            "100%|██████████| 1250/1250 [00:49<00:00, 25.27it/s]\n",
            "100%|██████████| 500/500 [00:19<00:00, 25.34it/s]\n"
          ],
          "name": "stderr"
        },
        {
          "output_type": "stream",
          "text": [
            "Reduce memory usage...\n",
            "Mem. usage decreased to 1318.71 Mb (52.0% reduction)\n",
            "Mem. usage decreased to 543.49 Mb (51.3% reduction)\n",
            "Feature Engineering Completed...\n"
          ],
          "name": "stdout"
        }
      ]
    },
    {
      "cell_type": "code",
      "metadata": {
        "id": "h448uvloaCSb",
        "colab_type": "code",
        "outputId": "421157a9-b199-4d49-cb88-e47abcae8ffc",
        "colab": {
          "base_uri": "https://localhost:8080/",
          "height": 68
        }
      },
      "source": [
        "print('Reduce memory usage...')\n",
        "train = reduce_mem_usage(train)\n",
        "test = reduce_mem_usage(test)"
      ],
      "execution_count": 33,
      "outputs": [
        {
          "output_type": "stream",
          "text": [
            "Reduce memory usage...\n",
            "Mem. usage decreased to 1318.71 Mb (0.0% reduction)\n",
            "Mem. usage decreased to 543.49 Mb (0.0% reduction)\n"
          ],
          "name": "stdout"
        }
      ]
    },
    {
      "cell_type": "code",
      "metadata": {
        "id": "MGptgjoR9m_q",
        "colab_type": "code",
        "colab": {}
      },
      "source": [
        "def train_grouping(train, test):\n",
        "  train.loc[0:1000000, 'train_group'] = 0          # batch 0 and 1\n",
        "  train.loc[1000000:1500000, 'train_group'] = 1  # batch 2\n",
        "  train.loc[1500000:2000000, 'train_group'] = 2  # batch 3\n",
        "  train.loc[2000000:2500000, 'train_group'] = 3  # batch 4\n",
        "  train.loc[2500000:3000000, 'train_group'] = 4  # batch 5\n",
        "  train.loc[3000000:3500000, 'train_group'] = 1  # batch 6\n",
        "  train.loc[3500000:4000000, 'train_group'] = 2  # batch 7\n",
        "  train.loc[4000000:4500000, 'train_group'] = 4  # batch 8\n",
        "  train.loc[4500000:5000001, 'train_group'] = 3  # batch 9\n",
        "\n",
        "  test.loc[0:100000, 'test_group'] = 0\n",
        "  test.loc[100000:200000, 'test_group'] = 2\n",
        "  test.loc[200000:300000, 'test_group'] = 4\n",
        "  test.loc[300000:400000, 'test_group'] = 0\n",
        "  test.loc[400000:500000, 'test_group'] = 1\n",
        "  test.loc[500000:600000, 'test_group'] = 3\n",
        "  test.loc[600000:700000, 'test_group'] = 4\n",
        "  test.loc[700000:800000, 'test_group'] = 3\n",
        "  test.loc[800000:900000, 'test_group'] = 0\n",
        "  test.loc[900000:1000000, 'test_group'] = 2\n",
        "  test.loc[1000000:, 'test_group'] = 0\n",
        "\n",
        "  return train, test"
      ],
      "execution_count": 0,
      "outputs": []
    },
    {
      "cell_type": "code",
      "metadata": {
        "id": "IvPbNmVy3Lpu",
        "colab_type": "code",
        "colab": {}
      },
      "source": [
        "params = [\n",
        "          {'bagging_fraction': 0.5649142525049168,\n",
        "           'bagging_freq': 7,\n",
        "           'boosting_type': 'gbdt',\n",
        "           'feature_fraction': 0.44800000000000006,\n",
        "           'lambda_l1': 5.816931890177201,\n",
        "           'lambda_l2': 1.1923179634757165e-05,\n",
        "           'learning_rate': 0.026623466966581126,\n",
        "           'max_depth': 73,\n",
        "           'metric': 'rmse',\n",
        "           'min_child_samples': 25,\n",
        "           'n_jobs': -1,\n",
        "           'num_leaves': 280,\n",
        "           'objective': 'regression',\n",
        "           'seed': 236},\n",
        "          {'bagging_fraction': 0.7573649057562992,\n",
        "           'bagging_freq': 2,\n",
        "            'boosting_type': 'gbdt',\n",
        "            'feature_fraction': 0.5,\n",
        "            'lambda_l1': 2.959759088169741,\n",
        "            'lambda_l2': 1.331172832164913,\n",
        "            'learning_rate': 0.026623466966581126,\n",
        "            'max_depth': 73,\n",
        "            'metric': 'rmse',\n",
        "            'min_child_samples': 100,\n",
        "            'n_jobs': -1,\n",
        "            'num_leaves': 280,\n",
        "            'objective': 'regression',\n",
        "            'seed': 236},\n",
        "          {'bagging_fraction': 0.8459704744771926,\n",
        "            'bagging_freq': 4,\n",
        "            'boosting_type': 'gbdt',\n",
        "            'feature_fraction': 0.4,\n",
        "            'lambda_l1': 2.959759088169741,\n",
        "            'lambda_l2': 1.331172832164913,\n",
        "            'learning_rate': 0.026623466966581126,\n",
        "            'max_depth': 73,\n",
        "            'metric': 'rmse',\n",
        "            'min_child_samples': 20,\n",
        "            'n_jobs': -1,\n",
        "            'num_leaves': 280,\n",
        "            'objective': 'regression',\n",
        "            'seed': 236},\n",
        "          {'bagging_fraction': 0.9655406551472153,\n",
        "            'bagging_freq': 9,\n",
        "            'boosting_type': 'gbdt',\n",
        "            'feature_fraction': 0.5,\n",
        "            'lambda_l1': 2.959759088169741,\n",
        "            'lambda_l2': 1.331172832164913,\n",
        "            'learning_rate': 0.026623466966581126,\n",
        "            'max_depth': 73,\n",
        "            'metric': 'rmse',\n",
        "            'min_child_samples': 20,\n",
        "            'n_jobs': -1,\n",
        "            'num_leaves': 280,\n",
        "            'objective': 'regression',\n",
        "            'seed': 236},\n",
        "          {'bagging_fraction': 0.9540142607778367,\n",
        "            'bagging_freq': 5,\n",
        "            'boosting_type': 'gbdt',\n",
        "            'feature_fraction': 0.4,\n",
        "            'lambda_l1': 2.1528149384141247e-06,\n",
        "            'lambda_l2': 5.432857492151158,\n",
        "            'learning_rate': 0.026623466966581126,\n",
        "            'max_depth': 73,\n",
        "            'metric': 'rmse',\n",
        "            'min_child_samples': 20,\n",
        "            'n_jobs': -1,\n",
        "            'num_leaves': 280,\n",
        "            'objective': 'regression',\n",
        "            'seed': 236}]"
      ],
      "execution_count": 0,
      "outputs": []
    },
    {
      "cell_type": "code",
      "metadata": {
        "id": "PEzL3Kv5Tviy",
        "colab_type": "code",
        "outputId": "dc074734-6d0e-49ec-b0f5-27841c373cda",
        "colab": {
          "base_uri": "https://localhost:8080/",
          "height": 1000
        }
      },
      "source": [
        "# print(f'Training lgb model with {SPLITS} folds of GroupKFold Started...')\n",
        "# run_cv_model_by_batch(train, test, SPLITS, 'group', features, sample_submission)\n",
        "# print('Training completed...')\n",
        "\n",
        "train. test = train_grouping(train, test)\n",
        "preds = []\n",
        "oofs = []\n",
        "feature_importances = []\n",
        "print('Training started')\n",
        "for i in range(5):\n",
        "  print(f'Training train_group {i+1} started...')\n",
        "  group_train = train[train['train_group'] == i]\n",
        "  group_test = test[test['test_group'] == i]\n",
        "  pred, oof, feature_importance = run_cv_model_by_batch(group_train, group_test, SPLITS, 'group', features, sample_submission, params[i])\n",
        "  # preds += pred.tolist()\n",
        "  # oofs += oof.tolist()\n",
        "  preds.append(pred)\n",
        "  oofs.append(oof)\n",
        "  feature_importances.append(feature_importance)\n",
        "  print(f'Training train_group {i+1} completed...')\n",
        "print('Training completed...')"
      ],
      "execution_count": 36,
      "outputs": [
        {
          "output_type": "stream",
          "text": [
            "Training started\n",
            "Training train_group 1 started...\n",
            "Our training dataset shape is (800000, 116)\n",
            "Our validation dataset shape is (200000, 116)\n",
            "Training until validation scores don't improve for 50 rounds.\n",
            "[100]\ttrain's rmse: 0.0202326\teval's rmse: 0.021212\n",
            "[200]\ttrain's rmse: 0.0153743\teval's rmse: 0.0169934\n",
            "[300]\ttrain's rmse: 0.0145566\teval's rmse: 0.0168185\n",
            "[400]\ttrain's rmse: 0.0138283\teval's rmse: 0.0166956\n",
            "[500]\ttrain's rmse: 0.0133003\teval's rmse: 0.0166949\n",
            "Early stopping, best iteration is:\n",
            "[464]\ttrain's rmse: 0.0134706\teval's rmse: 0.0166835\n",
            "Training fold 1 completed. macro f1 score : 0.99724\n",
            "Our training dataset shape is (800000, 116)\n",
            "Our validation dataset shape is (200000, 116)\n",
            "Training until validation scores don't improve for 50 rounds.\n",
            "[100]\ttrain's rmse: 0.0202953\teval's rmse: 0.0207698\n",
            "[200]\ttrain's rmse: 0.0153959\teval's rmse: 0.0164937\n",
            "[300]\ttrain's rmse: 0.014534\teval's rmse: 0.0164245\n",
            "Early stopping, best iteration is:\n",
            "[294]\ttrain's rmse: 0.0145848\teval's rmse: 0.0164109\n",
            "Training fold 2 completed. macro f1 score : 0.99732\n",
            "Our training dataset shape is (800000, 116)\n",
            "Our validation dataset shape is (200000, 116)\n",
            "Training until validation scores don't improve for 50 rounds.\n",
            "[100]\ttrain's rmse: 0.0204352\teval's rmse: 0.0204775\n",
            "[200]\ttrain's rmse: 0.015494\teval's rmse: 0.0161335\n",
            "[300]\ttrain's rmse: 0.0146239\teval's rmse: 0.0160572\n",
            "Early stopping, best iteration is:\n",
            "[341]\ttrain's rmse: 0.0143292\teval's rmse: 0.0160242\n",
            "Training fold 3 completed. macro f1 score : 0.99742\n",
            "Our training dataset shape is (800000, 116)\n",
            "Our validation dataset shape is (200000, 116)\n",
            "Training until validation scores don't improve for 50 rounds.\n",
            "[100]\ttrain's rmse: 0.0201685\teval's rmse: 0.0215287\n",
            "[200]\ttrain's rmse: 0.0152961\teval's rmse: 0.0174654\n",
            "[300]\ttrain's rmse: 0.014438\teval's rmse: 0.0173145\n",
            "Early stopping, best iteration is:\n",
            "[308]\ttrain's rmse: 0.0143776\teval's rmse: 0.0173052\n",
            "Training fold 4 completed. macro f1 score : 0.99720\n",
            "Our training dataset shape is (800000, 116)\n",
            "Our validation dataset shape is (200000, 116)\n",
            "Training until validation scores don't improve for 50 rounds.\n",
            "[100]\ttrain's rmse: 0.020306\teval's rmse: 0.0204818\n",
            "[200]\ttrain's rmse: 0.0154571\teval's rmse: 0.0162532\n",
            "Early stopping, best iteration is:\n",
            "[223]\ttrain's rmse: 0.0152646\teval's rmse: 0.0162219\n",
            "Training fold 5 completed. macro f1 score : 0.99750\n",
            "Training train_group 1 completed...\n",
            "Training train_group 2 started...\n",
            "Our training dataset shape is (800000, 116)\n",
            "Our validation dataset shape is (200000, 116)\n",
            "Training until validation scores don't improve for 50 rounds.\n",
            "[100]\ttrain's rmse: 0.0501412\teval's rmse: 0.0509904\n",
            "[200]\ttrain's rmse: 0.0394368\teval's rmse: 0.0418613\n",
            "[300]\ttrain's rmse: 0.0368989\teval's rmse: 0.0417632\n",
            "Early stopping, best iteration is:\n",
            "[311]\ttrain's rmse: 0.0366213\teval's rmse: 0.0417355\n",
            "Training fold 1 completed. macro f1 score : 0.99697\n",
            "Our training dataset shape is (800000, 116)\n",
            "Our validation dataset shape is (200000, 116)\n",
            "Training until validation scores don't improve for 50 rounds.\n",
            "[100]\ttrain's rmse: 0.0499855\teval's rmse: 0.0512432\n",
            "[200]\ttrain's rmse: 0.0392621\teval's rmse: 0.0421936\n",
            "[300]\ttrain's rmse: 0.0367023\teval's rmse: 0.0421214\n",
            "[400]\ttrain's rmse: 0.0342411\teval's rmse: 0.0421108\n",
            "Early stopping, best iteration is:\n",
            "[379]\ttrain's rmse: 0.0347232\teval's rmse: 0.04209\n",
            "Training fold 2 completed. macro f1 score : 0.99701\n",
            "Our training dataset shape is (800000, 116)\n",
            "Our validation dataset shape is (200000, 116)\n",
            "Training until validation scores don't improve for 50 rounds.\n",
            "[100]\ttrain's rmse: 0.0501522\teval's rmse: 0.0504342\n",
            "[200]\ttrain's rmse: 0.0395539\teval's rmse: 0.0409896\n",
            "[300]\ttrain's rmse: 0.0369198\teval's rmse: 0.0408514\n",
            "Early stopping, best iteration is:\n",
            "[311]\ttrain's rmse: 0.0366346\teval's rmse: 0.0408435\n",
            "Training fold 3 completed. macro f1 score : 0.99703\n",
            "Our training dataset shape is (800000, 116)\n",
            "Our validation dataset shape is (200000, 116)\n",
            "Training until validation scores don't improve for 50 rounds.\n",
            "[100]\ttrain's rmse: 0.0502252\teval's rmse: 0.0498452\n",
            "[200]\ttrain's rmse: 0.0395467\teval's rmse: 0.0404191\n",
            "Early stopping, best iteration is:\n",
            "[244]\ttrain's rmse: 0.0383971\teval's rmse: 0.0403617\n",
            "Training fold 4 completed. macro f1 score : 0.99718\n",
            "Our training dataset shape is (800000, 116)\n",
            "Our validation dataset shape is (200000, 116)\n",
            "Training until validation scores don't improve for 50 rounds.\n",
            "[100]\ttrain's rmse: 0.0498974\teval's rmse: 0.0515377\n",
            "[200]\ttrain's rmse: 0.0392287\teval's rmse: 0.0425732\n",
            "[300]\ttrain's rmse: 0.0366637\teval's rmse: 0.0425805\n",
            "Early stopping, best iteration is:\n",
            "[259]\ttrain's rmse: 0.0377085\teval's rmse: 0.0425452\n",
            "Training fold 5 completed. macro f1 score : 0.99689\n",
            "Training train_group 2 completed...\n",
            "Training train_group 3 started...\n",
            "Our training dataset shape is (800000, 116)\n",
            "Our validation dataset shape is (200000, 116)\n",
            "Training until validation scores don't improve for 50 rounds.\n",
            "[100]\ttrain's rmse: 0.134305\teval's rmse: 0.145411\n",
            "[200]\ttrain's rmse: 0.114095\teval's rmse: 0.134112\n",
            "[300]\ttrain's rmse: 0.108045\teval's rmse: 0.133476\n",
            "[400]\ttrain's rmse: 0.103814\teval's rmse: 0.133156\n",
            "[500]\ttrain's rmse: 0.100216\teval's rmse: 0.133041\n",
            "[600]\ttrain's rmse: 0.0968859\teval's rmse: 0.132928\n",
            "[700]\ttrain's rmse: 0.0937761\teval's rmse: 0.132789\n",
            "[800]\ttrain's rmse: 0.09094\teval's rmse: 0.132738\n",
            "[900]\ttrain's rmse: 0.088296\teval's rmse: 0.132684\n",
            "[1000]\ttrain's rmse: 0.0858891\teval's rmse: 0.13266\n",
            "[1100]\ttrain's rmse: 0.0835541\teval's rmse: 0.132628\n",
            "[1200]\ttrain's rmse: 0.0814392\teval's rmse: 0.132578\n",
            "[1300]\ttrain's rmse: 0.0793492\teval's rmse: 0.132548\n",
            "[1400]\ttrain's rmse: 0.0773851\teval's rmse: 0.132528\n",
            "Early stopping, best iteration is:\n",
            "[1432]\ttrain's rmse: 0.076798\teval's rmse: 0.132517\n",
            "Training fold 1 completed. macro f1 score : 0.97386\n",
            "Our training dataset shape is (800000, 116)\n",
            "Our validation dataset shape is (200000, 116)\n",
            "Training until validation scores don't improve for 50 rounds.\n",
            "[100]\ttrain's rmse: 0.134521\teval's rmse: 0.144431\n",
            "[200]\ttrain's rmse: 0.114298\teval's rmse: 0.132989\n",
            "[300]\ttrain's rmse: 0.1082\teval's rmse: 0.132253\n",
            "[400]\ttrain's rmse: 0.103973\teval's rmse: 0.131974\n",
            "[500]\ttrain's rmse: 0.100319\teval's rmse: 0.131797\n",
            "[600]\ttrain's rmse: 0.0970169\teval's rmse: 0.131657\n",
            "[700]\ttrain's rmse: 0.0938772\teval's rmse: 0.131584\n",
            "[800]\ttrain's rmse: 0.091186\teval's rmse: 0.131507\n",
            "[900]\ttrain's rmse: 0.0885306\teval's rmse: 0.131472\n",
            "[1000]\ttrain's rmse: 0.0861104\teval's rmse: 0.131422\n",
            "Early stopping, best iteration is:\n",
            "[1046]\ttrain's rmse: 0.0850112\teval's rmse: 0.131398\n",
            "Training fold 2 completed. macro f1 score : 0.97497\n",
            "Our training dataset shape is (800000, 116)\n",
            "Our validation dataset shape is (200000, 116)\n",
            "Training until validation scores don't improve for 50 rounds.\n",
            "[100]\ttrain's rmse: 0.134306\teval's rmse: 0.145451\n",
            "[200]\ttrain's rmse: 0.114121\teval's rmse: 0.133957\n",
            "[300]\ttrain's rmse: 0.108165\teval's rmse: 0.133261\n",
            "[400]\ttrain's rmse: 0.103959\teval's rmse: 0.132985\n",
            "[500]\ttrain's rmse: 0.1003\teval's rmse: 0.132812\n",
            "[600]\ttrain's rmse: 0.0970123\teval's rmse: 0.132674\n",
            "[700]\ttrain's rmse: 0.093892\teval's rmse: 0.132557\n",
            "[800]\ttrain's rmse: 0.0911589\teval's rmse: 0.132453\n",
            "[900]\ttrain's rmse: 0.0884945\teval's rmse: 0.132376\n",
            "[1000]\ttrain's rmse: 0.0860389\teval's rmse: 0.132329\n",
            "[1100]\ttrain's rmse: 0.0836947\teval's rmse: 0.132314\n",
            "Early stopping, best iteration is:\n",
            "[1138]\ttrain's rmse: 0.0828468\teval's rmse: 0.132291\n",
            "Training fold 3 completed. macro f1 score : 0.97431\n",
            "Our training dataset shape is (800000, 116)\n",
            "Our validation dataset shape is (200000, 116)\n",
            "Training until validation scores don't improve for 50 rounds.\n",
            "[100]\ttrain's rmse: 0.134292\teval's rmse: 0.145424\n",
            "[200]\ttrain's rmse: 0.114098\teval's rmse: 0.134059\n",
            "[300]\ttrain's rmse: 0.107957\teval's rmse: 0.133348\n",
            "[400]\ttrain's rmse: 0.10365\teval's rmse: 0.133036\n",
            "[500]\ttrain's rmse: 0.100049\teval's rmse: 0.13284\n",
            "[600]\ttrain's rmse: 0.0967675\teval's rmse: 0.132706\n",
            "[700]\ttrain's rmse: 0.0937128\teval's rmse: 0.132599\n",
            "[800]\ttrain's rmse: 0.0908967\teval's rmse: 0.132508\n",
            "[900]\ttrain's rmse: 0.0882951\teval's rmse: 0.132437\n",
            "[1000]\ttrain's rmse: 0.0858097\teval's rmse: 0.132354\n",
            "[1100]\ttrain's rmse: 0.0835234\teval's rmse: 0.132319\n",
            "[1200]\ttrain's rmse: 0.0813515\teval's rmse: 0.13231\n",
            "Early stopping, best iteration is:\n",
            "[1190]\ttrain's rmse: 0.0815709\teval's rmse: 0.132298\n",
            "Training fold 4 completed. macro f1 score : 0.97394\n",
            "Our training dataset shape is (800000, 116)\n",
            "Our validation dataset shape is (200000, 116)\n",
            "Training until validation scores don't improve for 50 rounds.\n",
            "[100]\ttrain's rmse: 0.134515\teval's rmse: 0.145137\n",
            "[200]\ttrain's rmse: 0.114403\teval's rmse: 0.133793\n",
            "[300]\ttrain's rmse: 0.108392\teval's rmse: 0.133116\n",
            "[400]\ttrain's rmse: 0.104168\teval's rmse: 0.132749\n",
            "[500]\ttrain's rmse: 0.100567\teval's rmse: 0.132553\n",
            "[600]\ttrain's rmse: 0.0971794\teval's rmse: 0.132371\n",
            "[700]\ttrain's rmse: 0.0940536\teval's rmse: 0.132274\n",
            "[800]\ttrain's rmse: 0.0911346\teval's rmse: 0.132213\n",
            "[900]\ttrain's rmse: 0.0884631\teval's rmse: 0.132128\n",
            "[1000]\ttrain's rmse: 0.0859898\teval's rmse: 0.132069\n",
            "[1100]\ttrain's rmse: 0.0837175\teval's rmse: 0.132021\n",
            "[1200]\ttrain's rmse: 0.0815158\teval's rmse: 0.131973\n",
            "[1300]\ttrain's rmse: 0.0794813\teval's rmse: 0.131955\n",
            "[1400]\ttrain's rmse: 0.077432\teval's rmse: 0.131927\n",
            "[1500]\ttrain's rmse: 0.075602\teval's rmse: 0.131892\n",
            "[1600]\ttrain's rmse: 0.0738375\teval's rmse: 0.131872\n",
            "Early stopping, best iteration is:\n",
            "[1589]\ttrain's rmse: 0.074041\teval's rmse: 0.131865\n",
            "Training fold 5 completed. macro f1 score : 0.97443\n",
            "Training train_group 3 completed...\n",
            "Training train_group 4 started...\n",
            "Our training dataset shape is (800000, 116)\n",
            "Our validation dataset shape is (200000, 116)\n",
            "Training until validation scores don't improve for 50 rounds.\n",
            "[100]\ttrain's rmse: 0.298016\teval's rmse: 0.30212\n",
            "[200]\ttrain's rmse: 0.277445\teval's rmse: 0.286363\n",
            "[300]\ttrain's rmse: 0.273941\teval's rmse: 0.286184\n",
            "[400]\ttrain's rmse: 0.270874\teval's rmse: 0.286121\n",
            "[500]\ttrain's rmse: 0.268023\teval's rmse: 0.286108\n",
            "Early stopping, best iteration is:\n",
            "[491]\ttrain's rmse: 0.268265\teval's rmse: 0.286103\n",
            "Training fold 1 completed. macro f1 score : 0.87556\n",
            "Our training dataset shape is (800000, 116)\n",
            "Our validation dataset shape is (200000, 116)\n",
            "Training until validation scores don't improve for 50 rounds.\n",
            "[100]\ttrain's rmse: 0.297738\teval's rmse: 0.303076\n",
            "[200]\ttrain's rmse: 0.277084\teval's rmse: 0.287404\n",
            "[300]\ttrain's rmse: 0.273507\teval's rmse: 0.287239\n",
            "Early stopping, best iteration is:\n",
            "[345]\ttrain's rmse: 0.272082\teval's rmse: 0.287194\n",
            "Training fold 2 completed. macro f1 score : 0.86950\n",
            "Our training dataset shape is (800000, 116)\n",
            "Our validation dataset shape is (200000, 116)\n",
            "Training until validation scores don't improve for 50 rounds.\n",
            "[100]\ttrain's rmse: 0.297596\teval's rmse: 0.303599\n",
            "[200]\ttrain's rmse: 0.276939\teval's rmse: 0.288007\n",
            "[300]\ttrain's rmse: 0.273396\teval's rmse: 0.287846\n",
            "[400]\ttrain's rmse: 0.270351\teval's rmse: 0.287792\n",
            "[500]\ttrain's rmse: 0.267588\teval's rmse: 0.287762\n",
            "Early stopping, best iteration is:\n",
            "[478]\ttrain's rmse: 0.268184\teval's rmse: 0.287756\n",
            "Training fold 3 completed. macro f1 score : 0.87398\n",
            "Our training dataset shape is (800000, 116)\n",
            "Our validation dataset shape is (200000, 116)\n",
            "Training until validation scores don't improve for 50 rounds.\n",
            "[100]\ttrain's rmse: 0.298061\teval's rmse: 0.30169\n",
            "[200]\ttrain's rmse: 0.277489\teval's rmse: 0.28619\n",
            "[300]\ttrain's rmse: 0.273971\teval's rmse: 0.285994\n",
            "[400]\ttrain's rmse: 0.27091\teval's rmse: 0.285968\n",
            "Early stopping, best iteration is:\n",
            "[382]\ttrain's rmse: 0.271433\teval's rmse: 0.285959\n",
            "Training fold 4 completed. macro f1 score : 0.78455\n",
            "Our training dataset shape is (800000, 116)\n",
            "Our validation dataset shape is (200000, 116)\n",
            "Training until validation scores don't improve for 50 rounds.\n",
            "[100]\ttrain's rmse: 0.298064\teval's rmse: 0.302052\n",
            "[200]\ttrain's rmse: 0.277445\teval's rmse: 0.286058\n",
            "[300]\ttrain's rmse: 0.27392\teval's rmse: 0.28589\n",
            "[400]\ttrain's rmse: 0.270888\teval's rmse: 0.285835\n",
            "[500]\ttrain's rmse: 0.268056\teval's rmse: 0.285793\n",
            "Early stopping, best iteration is:\n",
            "[498]\ttrain's rmse: 0.268109\teval's rmse: 0.285792\n",
            "Training fold 5 completed. macro f1 score : 0.79042\n",
            "Training train_group 4 completed...\n",
            "Training train_group 5 started...\n",
            "Our training dataset shape is (800000, 116)\n",
            "Our validation dataset shape is (200000, 116)\n",
            "Training until validation scores don't improve for 50 rounds.\n",
            "[100]\ttrain's rmse: 0.138268\teval's rmse: 0.146256\n",
            "[200]\ttrain's rmse: 0.113559\teval's rmse: 0.129128\n",
            "[300]\ttrain's rmse: 0.109211\teval's rmse: 0.12891\n",
            "[400]\ttrain's rmse: 0.105852\teval's rmse: 0.128859\n",
            "[500]\ttrain's rmse: 0.102831\teval's rmse: 0.128831\n",
            "Early stopping, best iteration is:\n",
            "[482]\ttrain's rmse: 0.103388\teval's rmse: 0.128818\n",
            "Training fold 1 completed. macro f1 score : 0.97388\n",
            "Our training dataset shape is (800000, 116)\n",
            "Our validation dataset shape is (200000, 116)\n",
            "Training until validation scores don't improve for 50 rounds.\n",
            "[100]\ttrain's rmse: 0.138442\teval's rmse: 0.145231\n",
            "[200]\ttrain's rmse: 0.11376\teval's rmse: 0.128139\n",
            "[300]\ttrain's rmse: 0.109424\teval's rmse: 0.127994\n",
            "[400]\ttrain's rmse: 0.106169\teval's rmse: 0.127961\n",
            "Early stopping, best iteration is:\n",
            "[351]\ttrain's rmse: 0.107689\teval's rmse: 0.127957\n",
            "Training fold 2 completed. macro f1 score : 0.97352\n",
            "Our training dataset shape is (800000, 116)\n",
            "Our validation dataset shape is (200000, 116)\n",
            "Training until validation scores don't improve for 50 rounds.\n",
            "[100]\ttrain's rmse: 0.138098\teval's rmse: 0.146916\n",
            "[200]\ttrain's rmse: 0.113296\teval's rmse: 0.12995\n",
            "[300]\ttrain's rmse: 0.108943\teval's rmse: 0.129748\n",
            "[400]\ttrain's rmse: 0.105657\teval's rmse: 0.129706\n",
            "[500]\ttrain's rmse: 0.102684\teval's rmse: 0.129684\n",
            "[600]\ttrain's rmse: 0.0999032\teval's rmse: 0.129678\n",
            "Early stopping, best iteration is:\n",
            "[560]\ttrain's rmse: 0.10099\teval's rmse: 0.129672\n",
            "Training fold 3 completed. macro f1 score : 0.96910\n",
            "Our training dataset shape is (800000, 116)\n",
            "Our validation dataset shape is (200000, 116)\n",
            "Training until validation scores don't improve for 50 rounds.\n",
            "[100]\ttrain's rmse: 0.138062\teval's rmse: 0.14666\n",
            "[200]\ttrain's rmse: 0.113348\teval's rmse: 0.129909\n",
            "[300]\ttrain's rmse: 0.109096\teval's rmse: 0.129686\n",
            "[400]\ttrain's rmse: 0.105771\teval's rmse: 0.129658\n",
            "[500]\ttrain's rmse: 0.102861\teval's rmse: 0.129635\n",
            "[600]\ttrain's rmse: 0.100051\teval's rmse: 0.129641\n",
            "Early stopping, best iteration is:\n",
            "[564]\ttrain's rmse: 0.101062\teval's rmse: 0.129627\n",
            "Training fold 4 completed. macro f1 score : 0.97179\n",
            "Our training dataset shape is (800000, 116)\n",
            "Our validation dataset shape is (200000, 116)\n",
            "Training until validation scores don't improve for 50 rounds.\n",
            "[100]\ttrain's rmse: 0.138099\teval's rmse: 0.146914\n",
            "[200]\ttrain's rmse: 0.113303\teval's rmse: 0.130051\n",
            "[300]\ttrain's rmse: 0.10896\teval's rmse: 0.129837\n",
            "[400]\ttrain's rmse: 0.105637\teval's rmse: 0.129783\n",
            "[500]\ttrain's rmse: 0.10274\teval's rmse: 0.129762\n",
            "[600]\ttrain's rmse: 0.0999426\teval's rmse: 0.129729\n",
            "[700]\ttrain's rmse: 0.097391\teval's rmse: 0.1297\n",
            "[800]\ttrain's rmse: 0.0950516\teval's rmse: 0.12968\n",
            "[900]\ttrain's rmse: 0.0927969\teval's rmse: 0.129647\n",
            "[1000]\ttrain's rmse: 0.0906174\teval's rmse: 0.129649\n",
            "Early stopping, best iteration is:\n",
            "[966]\ttrain's rmse: 0.0913591\teval's rmse: 0.12964\n",
            "Training fold 5 completed. macro f1 score : 0.97203\n",
            "Training train_group 5 completed...\n",
            "Training completed...\n"
          ],
          "name": "stdout"
        }
      ]
    },
    {
      "cell_type": "code",
      "metadata": {
        "id": "wCog4u03y50S",
        "colab_type": "code",
        "colab": {}
      },
      "source": [
        "def sort_oof_data(arr):\n",
        "  arr_ = []\n",
        "  arr_ += arr[0][0:].tolist()\n",
        "  arr_ += arr[1][0:500000].tolist()\n",
        "  arr_ += arr[2][0:500000].tolist()\n",
        "  arr_ += arr[3][0:500000].tolist()\n",
        "  arr_ += arr[4][0:500000].tolist()\n",
        "  arr_ += arr[1][500000:].tolist()\n",
        "  arr_ += arr[2][500000:].tolist()\n",
        "  arr_ += arr[4][500000:].tolist()\n",
        "  arr_ += arr[3][500000:].tolist()\n",
        "  return arr_\n",
        "\n",
        "full_oof = sort_oof_data(oofs)"
      ],
      "execution_count": 0,
      "outputs": []
    },
    {
      "cell_type": "code",
      "metadata": {
        "id": "eg8cGTBpy76J",
        "colab_type": "code",
        "colab": {}
      },
      "source": [
        "def sort_pred_data(arr):\n",
        "  arr_ = []\n",
        "  arr_ += arr[0][0:100000].tolist()\n",
        "  arr_ += arr[2][0:100000].tolist()\n",
        "  arr_ += arr[4][0:100000].tolist()\n",
        "  arr_ += arr[0][100000:200000].tolist()\n",
        "  arr_ += arr[1][0:100000].tolist()\n",
        "  arr_ += arr[3][0:100000].tolist()\n",
        "  arr_ += arr[4][100000:].tolist()\n",
        "  arr_ += arr[3][100000:].tolist()\n",
        "  arr_ += arr[0][200000:300000].tolist()\n",
        "  arr_ += arr[2][100000:].tolist()\n",
        "  arr_ += arr[0][300000:].tolist()\n",
        "  return arr_\n",
        "\n",
        "full_pred = sort_pred_data(preds)"
      ],
      "execution_count": 0,
      "outputs": []
    },
    {
      "cell_type": "code",
      "metadata": {
        "id": "Q8LawFfpy9uw",
        "colab_type": "code",
        "outputId": "ed8b5ef9-11f9-4a3f-c8a8-ca7e86c9c4a7",
        "colab": {
          "base_uri": "https://localhost:8080/",
          "height": 34
        }
      },
      "source": [
        "f1_score_ = f1_score(train.open_channels,  np.round(np.clip(full_oof, 0, 10)).astype(int), average = 'macro')\n",
        "print(f'Training completed. oof macro f1 score : {f1_score_:1.5f}')\n",
        "sample_submission['open_channels'] = np.round(np.clip(full_pred, 0, 10)).astype(int)\n",
        "sample_submission.to_csv('lgb_submission.csv', index=False, float_format='%.4f')"
      ],
      "execution_count": 39,
      "outputs": [
        {
          "output_type": "stream",
          "text": [
            "Training completed. oof macro f1 score : 0.93868\n"
          ],
          "name": "stdout"
        }
      ]
    },
    {
      "cell_type": "code",
      "metadata": {
        "id": "j8N2QuObT6Rf",
        "colab_type": "code",
        "outputId": "2e73d0d1-4ee1-4e8f-eb8d-d177dbd61e5f",
        "colab": {
          "base_uri": "https://localhost:8080/",
          "height": 68
        }
      },
      "source": [
        "!kaggle competitions submit -f './lgb_submission.csv' -m 'lgb' liverpool-ion-switching"
      ],
      "execution_count": 37,
      "outputs": [
        {
          "output_type": "stream",
          "text": [
            "Warning: Looks like you're using an outdated API Version, please consider updating (server 1.5.6 / client 1.5.4)\n",
            "100% 21.0M/21.0M [00:03<00:00, 6.07MB/s]\n",
            "Successfully submitted to University of Liverpool - Ion Switching"
          ],
          "name": "stdout"
        }
      ]
    },
    {
      "cell_type": "code",
      "metadata": {
        "id": "vzQ2de2_HR1i",
        "colab_type": "code",
        "colab": {}
      },
      "source": [
        ""
      ],
      "execution_count": 0,
      "outputs": []
    },
    {
      "cell_type": "markdown",
      "metadata": {
        "id": "fwmBMaXEmdGW",
        "colab_type": "text"
      },
      "source": [
        "training with clean_kalman\n",
        "> Training completed. oof macro f1 score : 0.93940  \n",
        "> LB : 0.940  \n",
        "\n",
        "clean_kalman  \n",
        "add category  \n",
        "add 20shifted\n",
        "> Training completed. oof macro f1 score : 0.93941  \n",
        "> LB : 0.940\n",
        "\n",
        "clean_kalman  \n",
        "add category  \n",
        "add 20shifted  \n",
        "add target encoding(group)\n",
        "> Training completed. oof macro f1 score : 0.93880  \n",
        "> LB : 0.653\n",
        "\n",
        "clean_kalman + add category + add 20shifted\n",
        "> Training completed. oof macro f1 score : 0.93953  \n",
        "> LB : 0.942  \n",
        "\n",
        "clean_kalman + add category + add 20shifted + target encording(category)  \n",
        ">　Training completed. oof macro f1 score : 0.93842  \n",
        ">　LB : 0.941"
      ]
    },
    {
      "cell_type": "code",
      "metadata": {
        "id": "caPUEw17moRo",
        "colab_type": "code",
        "colab": {}
      },
      "source": [
        ""
      ],
      "execution_count": 0,
      "outputs": []
    }
  ]
}